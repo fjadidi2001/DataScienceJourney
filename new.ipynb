{
  "nbformat": 4,
  "nbformat_minor": 0,
  "metadata": {
    "colab": {
      "provenance": [],
      "gpuType": "T4",
      "include_colab_link": true
    },
    "kernelspec": {
      "name": "python3",
      "display_name": "Python 3"
    },
    "language_info": {
      "name": "python"
    },
    "accelerator": "GPU"
  },
  "cells": [
    {
      "cell_type": "markdown",
      "metadata": {
        "id": "view-in-github",
        "colab_type": "text"
      },
      "source": [
        "<a href=\"https://colab.research.google.com/github/fjadidi2001/DataScienceJourney/blob/master/new.ipynb\" target=\"_parent\"><img src=\"https://colab.research.google.com/assets/colab-badge.svg\" alt=\"Open In Colab\"/></a>"
      ]
    },
    {
      "cell_type": "code",
      "source": [
        "import pandas as pd\n",
        "\n",
        "# Step 1: Load the dataset\n",
        "dataset = pd.read_csv('telematics_syn.csv')\n",
        "\n",
        "# Display the first few rows of the dataset to understand its structure\n",
        "print(dataset.head())\n",
        "\n",
        "# Step 2: Analyze `NB_Claim` and `AMT_Claim`\n",
        "nb_claim_summary = dataset['NB_Claim'].describe()\n",
        "amt_claim_summary = dataset['AMT_Claim'].describe()\n",
        "\n",
        "print(\"NB_Claim Summary:\")\n",
        "print(nb_claim_summary)\n",
        "\n",
        "print(\"\\nAMT_Claim Summary:\")\n",
        "print(amt_claim_summary)\n"
      ],
      "metadata": {
        "colab": {
          "base_uri": "https://localhost:8080/"
        },
        "id": "5ifOXWv1Y5e-",
        "outputId": "21e3922d-d1cd-485d-c6c0-844e0d07eff8"
      },
      "execution_count": 8,
      "outputs": [
        {
          "output_type": "stream",
          "name": "stdout",
          "text": [
            "   Duration  Insured.age Insured.sex  Car.age  Marital  Car.use  Credit.score  \\\n",
            "0       366           45        Male       -1  Married  Commute         609.0   \n",
            "1       182           44      Female        3  Married  Commute         575.0   \n",
            "2       184           48      Female        6  Married  Commute         847.0   \n",
            "3       183           71        Male        6  Married  Private         842.0   \n",
            "4       183           84        Male       10  Married  Private         856.0   \n",
            "\n",
            "  Region  Annual.miles.drive  Years.noclaims  ...  Left.turn.intensity10  \\\n",
            "0  Urban             6213.71              25  ...                    1.0   \n",
            "1  Urban            12427.42              20  ...                   58.0   \n",
            "2  Urban            12427.42              14  ...                    0.0   \n",
            "3  Urban             6213.71              43  ...                    0.0   \n",
            "4  Urban             6213.71              65  ...                    2.0   \n",
            "\n",
            "   Left.turn.intensity11  Left.turn.intensity12  Right.turn.intensity08  \\\n",
            "0                    0.0                    0.0                     3.0   \n",
            "1                   24.0                   11.0                  1099.0   \n",
            "2                    0.0                    0.0                     0.0   \n",
            "3                    0.0                    0.0                     0.0   \n",
            "4                    0.0                    0.0                   325.0   \n",
            "\n",
            "   Right.turn.intensity09  Right.turn.intensity10  Right.turn.intensity11  \\\n",
            "0                     1.0                     0.0                     0.0   \n",
            "1                   615.0                   219.0                   101.0   \n",
            "2                     0.0                     0.0                     0.0   \n",
            "3                     0.0                     0.0                     0.0   \n",
            "4                   111.0                    18.0                     4.0   \n",
            "\n",
            "   Right.turn.intensity12  NB_Claim    AMT_Claim  \n",
            "0                     0.0         1  5100.171753  \n",
            "1                    40.0         1   883.554840  \n",
            "2                     0.0         0     0.000000  \n",
            "3                     0.0         0     0.000000  \n",
            "4                     2.0         0     0.000000  \n",
            "\n",
            "[5 rows x 52 columns]\n",
            "NB_Claim Summary:\n",
            "count    100000.00000\n",
            "mean          0.04494\n",
            "std           0.21813\n",
            "min           0.00000\n",
            "25%           0.00000\n",
            "50%           0.00000\n",
            "75%           0.00000\n",
            "max           3.00000\n",
            "Name: NB_Claim, dtype: float64\n",
            "\n",
            "AMT_Claim Summary:\n",
            "count    100000.000000\n",
            "mean        137.602253\n",
            "std        1264.320056\n",
            "min           0.000000\n",
            "25%           0.000000\n",
            "50%           0.000000\n",
            "75%           0.000000\n",
            "max      104074.886700\n",
            "Name: AMT_Claim, dtype: float64\n"
          ]
        }
      ]
    },
    {
      "cell_type": "code",
      "source": [
        "import pandas as pd\n",
        "import numpy as np\n",
        "\n",
        "# Step 1: Load the dataset\n",
        "dataset = pd.read_csv('telematics_syn.csv')\n",
        "\n",
        "# Step 2: Create Binary Labels\n",
        "# Label = 1 if NB_Claim >= 1, else 0\n",
        "dataset['Risk_Label'] = np.where(dataset['NB_Claim'] >= 1, 1, 0)\n",
        "\n",
        "# Display the distribution of the new labels\n",
        "label_counts = dataset['Risk_Label'].value_counts()\n",
        "print(\"Distribution of Risk Labels:\")\n",
        "print(label_counts)\n",
        "\n",
        "# Optional: Save the updated dataset with labels\n",
        "dataset.to_csv('telematics_syn_with_labels.csv', index=False)\n"
      ],
      "metadata": {
        "colab": {
          "base_uri": "https://localhost:8080/"
        },
        "id": "1KDc7BWkaIKr",
        "outputId": "22e4ad1d-1c06-4f55-fb83-8aabcde38576"
      },
      "execution_count": 9,
      "outputs": [
        {
          "output_type": "stream",
          "name": "stdout",
          "text": [
            "Distribution of Risk Labels:\n",
            "Risk_Label\n",
            "0    95728\n",
            "1     4272\n",
            "Name: count, dtype: int64\n"
          ]
        }
      ]
    },
    {
      "cell_type": "code",
      "source": [
        "import pandas as pd\n",
        "import numpy as np\n",
        "\n",
        "# Step 1: Load the dataset\n",
        "dataset = pd.read_csv('telematics_syn.csv')\n",
        "\n",
        "# Step 2: Calculate the median of non-zero AMT_Claim\n",
        "non_zero_amt_claims = dataset[dataset['AMT_Claim'] > 0]['AMT_Claim']\n",
        "median_amt_claim = non_zero_amt_claims.median()\n",
        "\n",
        "# Step 3: Define a function to assign risk labels\n",
        "def assign_risk_label(row):\n",
        "    nb_claim = row['NB_Claim']\n",
        "    amt_claim = row['AMT_Claim']\n",
        "\n",
        "    if nb_claim == 0:\n",
        "        return 0  # Low Risk\n",
        "    elif nb_claim == 1:\n",
        "        if amt_claim <= median_amt_claim:\n",
        "            return 1  # Medium Risk\n",
        "        else:\n",
        "            return 2  # High Risk\n",
        "    else:\n",
        "        return 2  # High Risk\n",
        "\n",
        "# Step 4: Apply the labeling function to each row\n",
        "dataset['Risk_Label'] = dataset.apply(assign_risk_label, axis=1)\n",
        "\n",
        "# Step 5: Analyze the distribution of the new labels\n",
        "label_distribution = dataset['Risk_Label'].value_counts().sort_index()\n",
        "label_mapping = {0: 'Low Risk', 1: 'Medium Risk', 2: 'High Risk'}\n",
        "print(\"Distribution of Risk Labels:\")\n",
        "for label, count in label_distribution.items():\n",
        "    print(f\"{label_mapping[label]} ({label}): {count} instances\")\n",
        "\n",
        "# Step 6: Save the updated dataset with the new labels\n",
        "dataset.to_csv('telematics_syn_with_risk_labels.csv', index=False)\n"
      ],
      "metadata": {
        "colab": {
          "base_uri": "https://localhost:8080/"
        },
        "id": "ian4BIzocKqe",
        "outputId": "5d8cfe99-9fb0-4ac0-a92b-28112745f9a8"
      },
      "execution_count": 12,
      "outputs": [
        {
          "output_type": "stream",
          "name": "stdout",
          "text": [
            "Distribution of Risk Labels:\n",
            "Low Risk (0): 95728 instances\n",
            "Medium Risk (1): 2287 instances\n",
            "High Risk (2): 1985 instances\n"
          ]
        }
      ]
    },
    {
      "cell_type": "code",
      "source": [
        "import pandas as pd\n",
        "\n",
        "# Step 1: Load the dataset\n",
        "dataset = pd.read_csv('telematics_syn.csv')\n",
        "\n",
        "# Step 2: Create Multi-Class Labels\n",
        "def assign_risk_label(nb_claims):\n",
        "    if nb_claims == 0:\n",
        "        return 0  # Low Risk\n",
        "    elif nb_claims == 1:\n",
        "        return 1  # Medium Risk\n",
        "    else:\n",
        "        return 2  # High Risk\n",
        "\n",
        "dataset['Risk_Label'] = dataset['NB_Claim'].apply(assign_risk_label)\n",
        "\n",
        "# Display the distribution of the new labels\n",
        "label_counts = dataset['Risk_Label'].value_counts()\n",
        "print(\"Distribution of Risk Labels:\")\n",
        "print(label_counts)\n",
        "\n",
        "# Optional: Save the updated dataset with labels\n",
        "dataset.to_csv('telematics_syn_with_multiclass_labels.csv', index=False)\n"
      ],
      "metadata": {
        "colab": {
          "base_uri": "https://localhost:8080/"
        },
        "id": "fRQKPkcMaVls",
        "outputId": "71ec738b-cf34-4c6b-9888-ce21ed033f04"
      },
      "execution_count": 10,
      "outputs": [
        {
          "output_type": "stream",
          "name": "stdout",
          "text": [
            "Distribution of Risk Labels:\n",
            "Risk_Label\n",
            "0    95728\n",
            "1     4061\n",
            "2      211\n",
            "Name: count, dtype: int64\n"
          ]
        }
      ]
    },
    {
      "cell_type": "code",
      "source": [
        "import pandas as pd\n",
        "import numpy as np\n",
        "\n",
        "# Step 1: Load the dataset\n",
        "dataset = pd.read_csv('telematics_syn.csv')\n",
        "\n",
        "# Step 2: Calculate Percentiles (excluding zeros)\n",
        "amt_claims_non_zero = dataset[dataset['AMT_Claim'] > 0]['AMT_Claim']\n",
        "percentile_25 = np.percentile(amt_claims_non_zero, 25)\n",
        "percentile_75 = np.percentile(amt_claims_non_zero, 75)\n",
        "\n",
        "# Step 3: Create Risk Labels Based on Claim Amount\n",
        "def assign_risk_label(amt_claim):\n",
        "    if amt_claim == 0:\n",
        "        return 0  # Low Risk\n",
        "    elif amt_claim <= percentile_75:\n",
        "        return 1  # Medium Risk\n",
        "    else:\n",
        "        return 2  # High Risk\n",
        "\n",
        "dataset['Risk_Label'] = dataset['AMT_Claim'].apply(assign_risk_label)\n",
        "\n",
        "# Display the distribution of the new labels\n",
        "label_counts = dataset['Risk_Label'].value_counts()\n",
        "print(\"Distribution of Risk Labels:\")\n",
        "print(label_counts)\n",
        "\n",
        "# Optional: Save the updated dataset with labels\n",
        "dataset.to_csv('telematics_syn_with_amt_based_labels.csv', index=False)\n"
      ],
      "metadata": {
        "colab": {
          "base_uri": "https://localhost:8080/"
        },
        "id": "1Ldxd8ljabhJ",
        "outputId": "621034ae-9a55-441d-993e-dbb894d768e1"
      },
      "execution_count": 11,
      "outputs": [
        {
          "output_type": "stream",
          "name": "stdout",
          "text": [
            "Distribution of Risk Labels:\n",
            "Risk_Label\n",
            "0    96136\n",
            "1     2898\n",
            "2      966\n",
            "Name: count, dtype: int64\n"
          ]
        }
      ]
    },
    {
      "cell_type": "code",
      "source": [
        "import pandas as pd\n",
        "\n",
        "# Step 1: Load the dataset\n",
        "dataset = pd.read_csv('telematics_syn.csv')\n",
        "\n",
        "# Step 2: Create the ClaimYN label\n",
        "# ClaimYN = 1 if NB_Claim > 1 and AMT_Claim > 1000, else 0\n",
        "dataset['ClaimYN'] = ((dataset['NB_Claim'] > 1) & (dataset['AMT_Claim'] > 1000)).astype(int)\n",
        "\n",
        "# Step 3: Validate the distribution of NB_Claim and AMT_Claim\n",
        "print(\"NB_Claim Summary:\")\n",
        "print(dataset['NB_Claim'].describe())\n",
        "\n",
        "print(\"AMT_Claim Summary:\")\n",
        "print(dataset['AMT_Claim'].describe())\n",
        "\n",
        "# Step 4: Display the distribution of the new labels\n",
        "label_distribution = dataset['ClaimYN'].value_counts().sort_index()\n",
        "label_mapping = {0: 'Not Risky', 1: 'Risky'}\n",
        "print(\"\\nDistribution of ClaimYN Labels:\")\n",
        "for label, count in label_distribution.items():\n",
        "    print(f\"{label_mapping[label]} ({label}): {count} instances\")\n",
        "\n",
        "# Step 5: Save the updated dataset with the new labels\n",
        "dataset.to_csv('telematics_syn_with_ClaimYN.csv', index=False)\n"
      ],
      "metadata": {
        "colab": {
          "base_uri": "https://localhost:8080/"
        },
        "id": "Q38BQMMVczk3",
        "outputId": "3eb6440f-af95-42d5-f11e-00bac2cc6066"
      },
      "execution_count": 15,
      "outputs": [
        {
          "output_type": "stream",
          "name": "stdout",
          "text": [
            "NB_Claim Summary:\n",
            "count    100000.00000\n",
            "mean          0.04494\n",
            "std           0.21813\n",
            "min           0.00000\n",
            "25%           0.00000\n",
            "50%           0.00000\n",
            "75%           0.00000\n",
            "max           3.00000\n",
            "Name: NB_Claim, dtype: float64\n",
            "AMT_Claim Summary:\n",
            "count    100000.000000\n",
            "mean        137.602253\n",
            "std        1264.320056\n",
            "min           0.000000\n",
            "25%           0.000000\n",
            "50%           0.000000\n",
            "75%           0.000000\n",
            "max      104074.886700\n",
            "Name: AMT_Claim, dtype: float64\n",
            "\n",
            "Distribution of ClaimYN Labels:\n",
            "Not Risky (0): 99822 instances\n",
            "Risky (1): 178 instances\n"
          ]
        }
      ]
    }
  ]
}