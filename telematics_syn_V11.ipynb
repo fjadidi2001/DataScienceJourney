{
  "nbformat": 4,
  "nbformat_minor": 0,
  "metadata": {
    "colab": {
      "provenance": [],
      "gpuType": "T4",
      "authorship_tag": "ABX9TyM8q+n+6xQSkn1hTGL5IYT4",
      "include_colab_link": true
    },
    "kernelspec": {
      "name": "python3",
      "display_name": "Python 3"
    },
    "language_info": {
      "name": "python"
    },
    "accelerator": "GPU"
  },
  "cells": [
    {
      "cell_type": "markdown",
      "metadata": {
        "id": "view-in-github",
        "colab_type": "text"
      },
      "source": [
        "<a href=\"https://colab.research.google.com/github/fjadidi2001/DataScienceJourney/blob/master/telematics_syn_V11.ipynb\" target=\"_parent\"><img src=\"https://colab.research.google.com/assets/colab-badge.svg\" alt=\"Open In Colab\"/></a>"
      ]
    },
    {
      "cell_type": "code",
      "source": [
        "from google.colab import drive\n",
        "drive.mount('/content/drive')"
      ],
      "metadata": {
        "colab": {
          "base_uri": "https://localhost:8080/"
        },
        "id": "SlKvn7dGihG5",
        "outputId": "36e9212e-b34b-4e4e-a2ff-c1a66b7c068b"
      },
      "execution_count": 1,
      "outputs": [
        {
          "output_type": "stream",
          "name": "stdout",
          "text": [
            "Mounted at /content/drive\n"
          ]
        }
      ]
    },
    {
      "cell_type": "code",
      "source": [
        "import pandas as pd\n",
        "# Step 1: Load the dataset\n",
        "dataset = pd.read_csv('/content/drive/My Drive/telematics_syn.csv')"
      ],
      "metadata": {
        "id": "WjZiBMQ_iooq"
      },
      "execution_count": 3,
      "outputs": []
    },
    {
      "cell_type": "code",
      "source": [
        "import warnings\n",
        "warnings.filterwarnings('ignore')"
      ],
      "metadata": {
        "id": "4HYlQKONmiuw"
      },
      "execution_count": 11,
      "outputs": []
    },
    {
      "cell_type": "code",
      "source": [
        "import pandas as pd\n",
        "from sklearn.preprocessing import StandardScaler, LabelEncoder\n",
        "from imblearn.over_sampling import SMOTE\n",
        "\n",
        "# Create the adjusted ClaimYN label\n",
        "dataset['ClaimYN'] = ((dataset['NB_Claim'] >= 1) & (dataset['AMT_Claim'] > 1000)).astype(int)\n",
        "\n",
        "# Preprocess the dataset\n",
        "# 1. Handle missing values\n",
        "dataset.fillna(method='ffill', inplace=True)  # Simple forward fill for missing values\n",
        "\n",
        "# 2. Encode categorical variables (if any exist)\n",
        "categorical_columns = dataset.select_dtypes(include=['object']).columns\n",
        "for col in categorical_columns:\n",
        "    le = LabelEncoder()\n",
        "    dataset[col] = le.fit_transform(dataset[col])\n",
        "\n",
        "# 3. Standardize numerical columns\n",
        "numerical_columns = dataset.drop(columns=['ClaimYN', 'NB_Claim', 'AMT_Claim']).columns\n",
        "scaler = StandardScaler()\n",
        "dataset[numerical_columns] = scaler.fit_transform(dataset[numerical_columns])\n",
        "\n",
        "# Handle the imbalance in the dataset using SMOTE\n",
        "X = dataset.drop(columns=['ClaimYN'])\n",
        "y = dataset['ClaimYN']\n",
        "\n",
        "smote = SMOTE(random_state=42)\n",
        "X_resampled, y_resampled = smote.fit_resample(X, y)\n",
        "\n",
        "# Merging resampled data back into a single DataFrame\n",
        "dataset_resampled = pd.concat([X_resampled, y_resampled], axis=1)\n",
        "\n",
        "# Drop NB_Claim and AMT_Claim columns\n",
        "dataset_resampled = dataset_resampled.drop(columns=['NB_Claim', 'AMT_Claim'])\n",
        "\n",
        "# Split the dataset into train, test, and validation sets\n",
        "from sklearn.model_selection import train_test_split\n",
        "\n",
        "X = dataset_resampled.drop(columns=['ClaimYN'])\n",
        "y = dataset_resampled['ClaimYN']\n",
        "\n",
        "# Split the data (70% train, 15% test, 15% validation)\n",
        "X_train, X_temp, y_train, y_temp = train_test_split(X, y, test_size=0.3, random_state=42)\n",
        "X_test, X_val, y_test, y_val = train_test_split(X_temp, y_temp, test_size=0.5, random_state=42)\n",
        "\n",
        "print(f\"Training set size: {len(X_train)}\")\n",
        "print(f\"Testing set size: {len(X_test)}\")\n",
        "print(f\"Validation set size: {len(X_val)}\")"
      ],
      "metadata": {
        "colab": {
          "base_uri": "https://localhost:8080/"
        },
        "id": "d87ORJ_liX6x",
        "outputId": "70f3a70e-c667-49ec-a1a0-f496d1c9dc01"
      },
      "execution_count": 12,
      "outputs": [
        {
          "output_type": "stream",
          "name": "stdout",
          "text": [
            "Training set size: 136222\n",
            "Testing set size: 29191\n",
            "Validation set size: 29191\n"
          ]
        }
      ]
    },
    {
      "cell_type": "code",
      "source": [
        "from sklearn.linear_model import LogisticRegression\n",
        "from sklearn.metrics import classification_report\n",
        "\n",
        "# Initialize and train the Logistic Regression model\n",
        "log_reg = LogisticRegression(random_state=42, max_iter=200)\n",
        "log_reg.fit(X_train, y_train)\n",
        "\n",
        "# Evaluate the model on the test set\n",
        "y_pred = log_reg.predict(X_test)\n",
        "print(\"Logistic Regression Classification Report:\")\n",
        "print(classification_report(y_test, y_pred))"
      ],
      "metadata": {
        "colab": {
          "base_uri": "https://localhost:8080/"
        },
        "id": "MVjhONWfjrkw",
        "outputId": "4d2b731d-e8e9-4166-870a-740a816ddf89"
      },
      "execution_count": 13,
      "outputs": [
        {
          "output_type": "stream",
          "name": "stdout",
          "text": [
            "Logistic Regression Classification Report:\n",
            "              precision    recall  f1-score   support\n",
            "\n",
            "           0       0.78      0.72      0.75     14593\n",
            "           1       0.74      0.80      0.77     14598\n",
            "\n",
            "    accuracy                           0.76     29191\n",
            "   macro avg       0.76      0.76      0.76     29191\n",
            "weighted avg       0.76      0.76      0.76     29191\n",
            "\n"
          ]
        }
      ]
    },
    {
      "cell_type": "code",
      "source": [
        "from sklearn.ensemble import RandomForestClassifier\n",
        "\n",
        "# Initialize and train the Random Forest model\n",
        "rf = RandomForestClassifier(random_state=42)\n",
        "rf.fit(X_train, y_train)\n",
        "\n",
        "# Evaluate the model on the test set\n",
        "y_pred = rf.predict(X_test)\n",
        "print(\"Random Forest Classification Report:\")\n",
        "print(classification_report(y_test, y_pred))"
      ],
      "metadata": {
        "colab": {
          "base_uri": "https://localhost:8080/"
        },
        "id": "Q6TpqdIflVwd",
        "outputId": "5c587947-d4de-46d6-fe65-17e0408d4cdd"
      },
      "execution_count": 14,
      "outputs": [
        {
          "output_type": "stream",
          "name": "stdout",
          "text": [
            "Random Forest Classification Report:\n",
            "              precision    recall  f1-score   support\n",
            "\n",
            "           0       0.98      1.00      0.99     14593\n",
            "           1       1.00      0.98      0.99     14598\n",
            "\n",
            "    accuracy                           0.99     29191\n",
            "   macro avg       0.99      0.99      0.99     29191\n",
            "weighted avg       0.99      0.99      0.99     29191\n",
            "\n"
          ]
        }
      ]
    }
  ]
}