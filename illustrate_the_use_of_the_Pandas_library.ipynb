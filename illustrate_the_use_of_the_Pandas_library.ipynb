{
  "nbformat": 4,
  "nbformat_minor": 0,
  "metadata": {
    "colab": {
      "provenance": [],
      "authorship_tag": "ABX9TyNYqtnYLIN8d9tKtlIS45V7",
      "include_colab_link": true
    },
    "kernelspec": {
      "name": "python3",
      "display_name": "Python 3"
    },
    "language_info": {
      "name": "python"
    }
  },
  "cells": [
    {
      "cell_type": "markdown",
      "metadata": {
        "id": "view-in-github",
        "colab_type": "text"
      },
      "source": [
        "<a href=\"https://colab.research.google.com/github/fjadidi2001/DataScienceJourney/blob/master/illustrate_the_use_of_the_Pandas_library.ipynb\" target=\"_parent\"><img src=\"https://colab.research.google.com/assets/colab-badge.svg\" alt=\"Open In Colab\"/></a>"
      ]
    },
    {
      "cell_type": "code",
      "execution_count": 7,
      "metadata": {
        "colab": {
          "base_uri": "https://localhost:8080/"
        },
        "id": "8Z7A2XDV30Rw",
        "outputId": "70097682-62af-4d95-92ed-ec568ae8ca9f"
      },
      "outputs": [
        {
          "output_type": "stream",
          "name": "stdout",
          "text": [
            "      Name  Age         City\n",
            "0    Alice   25     New York\n",
            "1      Bob   30  Los Angeles\n",
            "2  Charlie   35      Chicago\n",
            "\n",
            "\n",
            "\n",
            "\n",
            "0      Alice\n",
            "1        Bob\n",
            "2    Charlie\n",
            "Name: Name, dtype: object\n",
            "\n",
            "\n",
            "\n",
            "\n",
            "      Name  Age     City\n",
            "2  Charlie   35  Chicago\n",
            "\n",
            "\n",
            "\n",
            "\n",
            "     Name  City\n",
            "Age            \n",
            "25      1     1\n",
            "30      1     1\n",
            "35      1     1\n"
          ]
        }
      ],
      "source": [
        "import pandas as pd\n",
        "\n",
        "# Creating a DataFrame\n",
        "data = {\n",
        "    'Name': ['Alice', 'Bob', 'Charlie'],\n",
        "    'Age': [25, 30, 35],\n",
        "    'City': ['New York', 'Los Angeles', 'Chicago']\n",
        "}\n",
        "# This is a Pandas class used to represent two-dimensional, tabular data (like a table or spreadsheet).\n",
        "df = pd.DataFrame(data)\n",
        "\n",
        "# Displaying the DataFrame\n",
        "print(df)\n",
        "\n",
        "print('\\n\\n\\n')\n",
        "\n",
        "\n",
        "# Selecting a column\n",
        "print(df['Name'])\n",
        "\n",
        "print('\\n\\n\\n')\n",
        "\n",
        "\n",
        "# Filtering rows\n",
        "print(df[df['Age'] > 30])\n",
        "\n",
        "\n",
        "print('\\n\\n\\n')\n",
        "\n",
        "\n",
        "# Grouping and aggregating\n",
        "age_count = df.groupby('Age').count()\n",
        "print(age_count)\n",
        "\n",
        "# Saving to a CSV file\n",
        "df.to_csv('test.csv', index=False)"
      ]
    }
  ]
}