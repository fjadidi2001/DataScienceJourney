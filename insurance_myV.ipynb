{
  "nbformat": 4,
  "nbformat_minor": 0,
  "metadata": {
    "colab": {
      "provenance": [],
      "authorship_tag": "ABX9TyNHDU/8QwXYjLFGJK9WqCV2",
      "include_colab_link": true
    },
    "kernelspec": {
      "name": "python3",
      "display_name": "Python 3"
    },
    "language_info": {
      "name": "python"
    }
  },
  "cells": [
    {
      "cell_type": "markdown",
      "metadata": {
        "id": "view-in-github",
        "colab_type": "text"
      },
      "source": [
        "<a href=\"https://colab.research.google.com/github/fjadidi2001/DataScienceJourney/blob/master/insurance_myV.ipynb\" target=\"_parent\"><img src=\"https://colab.research.google.com/assets/colab-badge.svg\" alt=\"Open In Colab\"/></a>"
      ]
    },
    {
      "cell_type": "code",
      "source": [
        "import pandas as pd\n",
        "import numpy as np\n",
        "import matplotlib.pyplot as plt\n",
        "import seaborn as sns\n",
        "from sklearn.model_selection import train_test_split\n",
        "from sklearn.preprocessing import StandardScaler\n",
        "from imblearn.over_sampling import SMOTE\n",
        "from collections import Counter\n",
        "\n",
        "# Step 1: Load the dataset\n",
        "# Mount Google Drive\n",
        "from google.colab import drive\n",
        "drive.mount('/content/drive')\n",
        "\n",
        "# Specify file path\n",
        "file_path = '/content/drive/My Drive/telematics_syn.csv'\n",
        "\n",
        "# Import pandas (assuming you want to use it to read the CSV)\n",
        "import pandas as pd\n",
        "\n",
        "# Read the CSV file\n",
        "data = pd.read_csv(file_path)\n",
        "\n",
        "# Step 2: Explore the data\n",
        "print(data.head())\n",
        "print(data.info())\n",
        "\n",
        "# Check for missing values\n",
        "print(data.isnull().sum())\n",
        "\n",
        "# Display basic statistics\n",
        "print(data.describe())\n",
        "\n",
        "# Step 3: Visualize the distribution of the target variable (AMT_claim)\n",
        "plt.figure(figsize=(10, 6))\n",
        "sns.histplot(data['AMT_claim'], bins=50, kde=True)\n",
        "plt.title('Distribution of AMT_claim')\n",
        "plt.xlabel('Claim Amount')\n",
        "plt.ylabel('Frequency')\n",
        "plt.show()\n",
        "\n",
        "# Step 4: Prepare the data for SMOTE\n",
        "# Assuming we want to balance based on NB_claim (0 for no claim, 1 for claim)\n",
        "X = data.drop(['NB_claim', 'AMT_claim'], axis=1)\n",
        "y = data['NB_claim']\n",
        "\n",
        "# Encode categorical variables (if any)\n",
        "X = pd.get_dummies(X, drop_first=True)\n",
        "\n",
        "# Split the data\n",
        "X_train, X_test, y_train, y_test = train_test_split(X, y, test_size=0.2, random_state=42)\n",
        "\n",
        "# Scale the features\n",
        "scaler = StandardScaler()\n",
        "X_train_scaled = scaler.fit_transform(X_train)\n",
        "X_test_scaled = scaler.transform(X_test)\n",
        "\n",
        "# Step 5: Apply SMOTE\n",
        "print(\"Class distribution before SMOTE:\")\n",
        "print(Counter(y_train))\n",
        "\n",
        "smote = SMOTE(random_state=42)\n",
        "X_train_resampled, y_train_resampled = smote.fit_resample(X_train_scaled, y_train)\n",
        "\n",
        "print(\"Class distribution after SMOTE:\")\n",
        "print(Counter(y_train_resampled))\n",
        "\n",
        "# Visualize the effect of SMOTE\n",
        "plt.figure(figsize=(12, 5))\n",
        "plt.subplot(1, 2, 1)\n",
        "sns.countplot(x=y_train)\n",
        "plt.title('Class Distribution Before SMOTE')\n",
        "plt.subplot(1, 2, 2)\n",
        "sns.countplot(x=y_train_resampled)\n",
        "plt.title('Class Distribution After SMOTE')\n",
        "plt.tight_layout()\n",
        "plt.show()"
      ],
      "metadata": {
        "id": "cm9t1Bq5jkVH"
      },
      "execution_count": null,
      "outputs": []
    }
  ]
}