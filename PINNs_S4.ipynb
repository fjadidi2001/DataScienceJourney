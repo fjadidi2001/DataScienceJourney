{
  "nbformat": 4,
  "nbformat_minor": 0,
  "metadata": {
    "colab": {
      "provenance": [],
      "authorship_tag": "ABX9TyPYj2YfvReGem+sbgLYjRS/",
      "include_colab_link": true
    },
    "kernelspec": {
      "name": "python3",
      "display_name": "Python 3"
    },
    "language_info": {
      "name": "python"
    }
  },
  "cells": [
    {
      "cell_type": "markdown",
      "metadata": {
        "id": "view-in-github",
        "colab_type": "text"
      },
      "source": [
        "<a href=\"https://colab.research.google.com/github/fjadidi2001/DataScienceJourney/blob/master/PINNs_S4.ipynb\" target=\"_parent\"><img src=\"https://colab.research.google.com/assets/colab-badge.svg\" alt=\"Open In Colab\"/></a>"
      ]
    },
    {
      "cell_type": "markdown",
      "source": [
        "# Import necessary libraries\n"
      ],
      "metadata": {
        "id": "j2tu9eib4DrQ"
      }
    },
    {
      "cell_type": "code",
      "execution_count": 1,
      "metadata": {
        "id": "i5z_5_Emeoej"
      },
      "outputs": [],
      "source": [
        "import numpy as np\n",
        "import tensorflow as tf\n",
        "import matplotlib.pyplot as plt\n",
        "\n",
        "# For handling differential equations\n",
        "from scipy.integrate import odeint\n"
      ]
    },
    {
      "cell_type": "markdown",
      "source": [
        "# Generate the dataset\n"
      ],
      "metadata": {
        "id": "c3O1IvjM5beo"
      }
    },
    {
      "cell_type": "code",
      "source": [
        "# Generate synthetic data for the heat equation u_t = alpha * u_xx\n",
        "alpha = 0.01  # Thermal diffusivity\n",
        "\n",
        "# Define the domain\n",
        "x = np.linspace(0, 1, 100)\n",
        "t = np.linspace(0, 1, 100)\n",
        "X, T = np.meshgrid(x, t)\n",
        "\n",
        "# Define the initial condition u(x, 0) = sin(pi * x)\n",
        "U0 = np.sin(np.pi * x)\n",
        "\n",
        "# Define a function that represents the solution u(x, t)\n",
        "def heat_eqn(U0, t, alpha):\n",
        "    def model(U, t):\n",
        "        Ux = np.gradient(U, x)\n",
        "        Uxx = np.gradient(Ux, x)\n",
        "        return alpha * Uxx\n",
        "    return odeint(model, U0, t)\n",
        "\n",
        "# Generate data\n",
        "U = heat_eqn(U0, t, alpha)\n",
        "\n",
        "# Flatten the meshgrid arrays for the PINN input\n",
        "X_train = np.vstack([X.ravel(), T.ravel()]).T\n",
        "U_train = U.ravel()\n"
      ],
      "metadata": {
        "id": "7gZbc0KH5duz"
      },
      "execution_count": 2,
      "outputs": []
    }
  ]
}