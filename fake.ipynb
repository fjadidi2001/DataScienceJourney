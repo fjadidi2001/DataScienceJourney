{
  "nbformat": 4,
  "nbformat_minor": 0,
  "metadata": {
    "colab": {
      "provenance": [],
      "gpuType": "T4",
      "authorship_tag": "ABX9TyMMrMLETHv2S5LXCyTxw/rO",
      "include_colab_link": true
    },
    "kernelspec": {
      "name": "python3",
      "display_name": "Python 3"
    },
    "language_info": {
      "name": "python"
    },
    "accelerator": "GPU"
  },
  "cells": [
    {
      "cell_type": "markdown",
      "metadata": {
        "id": "view-in-github",
        "colab_type": "text"
      },
      "source": [
        "<a href=\"https://colab.research.google.com/github/fjadidi2001/DataScienceJourney/blob/master/fake.ipynb\" target=\"_parent\"><img src=\"https://colab.research.google.com/assets/colab-badge.svg\" alt=\"Open In Colab\"/></a>"
      ]
    },
    {
      "cell_type": "code",
      "source": [
        "import pandas as pd\n",
        "import pandas as pd\n",
        "import numpy as np\n",
        "import re\n",
        "import nltk\n",
        "from nltk.corpus import stopwords\n",
        "from nltk.stem import PorterStemmer\n",
        "from sklearn.model_selection import train_test_split\n",
        "from sklearn.feature_extraction.text import TfidfVectorizer, CountVectorizer\n",
        "from sklearn.ensemble import RandomForestClassifier\n",
        "from sklearn.tree import DecisionTreeClassifier\n",
        "from sklearn.svm import SVC\n",
        "from sklearn.metrics import accuracy_score, classification_report, confusion_matrix\n",
        "import matplotlib.pyplot as plt\n",
        "import seaborn as sns"
      ],
      "metadata": {
        "id": "vhvjgzKKJ1yi"
      },
      "execution_count": 5,
      "outputs": []
    },
    {
      "cell_type": "code",
      "source": [
        "nltk.download('stopwords')\n",
        "nltk.download('punkt')"
      ],
      "metadata": {
        "colab": {
          "base_uri": "https://localhost:8080/"
        },
        "id": "emgQ8n1tK4pP",
        "outputId": "7d2f46b8-bf13-4b67-af42-57f65093a714"
      },
      "execution_count": 6,
      "outputs": [
        {
          "output_type": "stream",
          "name": "stderr",
          "text": [
            "[nltk_data] Downloading package stopwords to /root/nltk_data...\n",
            "[nltk_data]   Unzipping corpora/stopwords.zip.\n",
            "[nltk_data] Downloading package punkt to /root/nltk_data...\n",
            "[nltk_data]   Unzipping tokenizers/punkt.zip.\n"
          ]
        },
        {
          "output_type": "execute_result",
          "data": {
            "text/plain": [
              "True"
            ]
          },
          "metadata": {},
          "execution_count": 6
        }
      ]
    },
    {
      "cell_type": "markdown",
      "source": [
        "# Step 1: Dataset Loading"
      ],
      "metadata": {
        "id": "ENVWefBqLK8w"
      }
    },
    {
      "cell_type": "code",
      "source": [
        "def load_dataset():\n",
        "    \"\"\"\n",
        "    Load the news dataset. Using a well-known fake news dataset from Kaggle.\n",
        "    \"\"\"\n",
        "    print(\"Step 1: Loading Dataset...\")\n",
        "\n",
        "    # Load the data\n",
        "    true_news = pd.read_csv('True.csv')\n",
        "    fake_news = pd.read_csv('Fake.csv')\n",
        "\n",
        "    # Add labels to the datasets\n",
        "    true_news['label'] = 1  # 1 for true news\n",
        "    fake_news['label'] = 0  # 0 for fake news\n",
        "\n",
        "    # Combine the datasets\n",
        "    df = pd.concat([true_news, fake_news], ignore_index=True)\n",
        "\n",
        "    # Shuffle the dataset\n",
        "    df = df.sample(frac=1).reset_index(drop=True)\n",
        "\n",
        "    print(f\"Dataset loaded successfully with {len(df)} entries.\")\n",
        "    return df\n"
      ],
      "metadata": {
        "id": "_9yYOZnOKvWK"
      },
      "execution_count": 7,
      "outputs": []
    }
  ]
}