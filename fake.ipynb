{
  "nbformat": 4,
  "nbformat_minor": 0,
  "metadata": {
    "colab": {
      "provenance": [],
      "gpuType": "T4",
      "authorship_tag": "ABX9TyOXddBEa/F+8iEhpkRt29AR",
      "include_colab_link": true
    },
    "kernelspec": {
      "name": "python3",
      "display_name": "Python 3"
    },
    "language_info": {
      "name": "python"
    },
    "accelerator": "GPU"
  },
  "cells": [
    {
      "cell_type": "markdown",
      "metadata": {
        "id": "view-in-github",
        "colab_type": "text"
      },
      "source": [
        "<a href=\"https://colab.research.google.com/github/fjadidi2001/DataScienceJourney/blob/master/fake.ipynb\" target=\"_parent\"><img src=\"https://colab.research.google.com/assets/colab-badge.svg\" alt=\"Open In Colab\"/></a>"
      ]
    },
    {
      "cell_type": "code",
      "source": [
        "import pandas as pd\n",
        "import pandas as pd\n",
        "import numpy as np\n",
        "import re\n",
        "import nltk\n",
        "from nltk.corpus import stopwords\n",
        "from nltk.stem import PorterStemmer\n",
        "from sklearn.model_selection import train_test_split\n",
        "from sklearn.feature_extraction.text import TfidfVectorizer, CountVectorizer\n",
        "from sklearn.ensemble import RandomForestClassifier\n",
        "from sklearn.tree import DecisionTreeClassifier\n",
        "from sklearn.svm import SVC\n",
        "from sklearn.metrics import accuracy_score, classification_report, confusion_matrix\n",
        "import matplotlib.pyplot as plt\n",
        "import seaborn as sns"
      ],
      "metadata": {
        "id": "vhvjgzKKJ1yi"
      },
      "execution_count": 5,
      "outputs": []
    },
    {
      "cell_type": "code",
      "source": [
        "nltk.download('stopwords')\n",
        "nltk.download('punkt')"
      ],
      "metadata": {
        "colab": {
          "base_uri": "https://localhost:8080/"
        },
        "id": "emgQ8n1tK4pP",
        "outputId": "7d2f46b8-bf13-4b67-af42-57f65093a714"
      },
      "execution_count": 6,
      "outputs": [
        {
          "output_type": "stream",
          "name": "stderr",
          "text": [
            "[nltk_data] Downloading package stopwords to /root/nltk_data...\n",
            "[nltk_data]   Unzipping corpora/stopwords.zip.\n",
            "[nltk_data] Downloading package punkt to /root/nltk_data...\n",
            "[nltk_data]   Unzipping tokenizers/punkt.zip.\n"
          ]
        },
        {
          "output_type": "execute_result",
          "data": {
            "text/plain": [
              "True"
            ]
          },
          "metadata": {},
          "execution_count": 6
        }
      ]
    },
    {
      "cell_type": "markdown",
      "source": [
        "# Step 1: Dataset Loading"
      ],
      "metadata": {
        "id": "ENVWefBqLK8w"
      }
    },
    {
      "cell_type": "code",
      "source": [
        "def load_dataset():\n",
        "    \"\"\"\n",
        "    Load the news dataset. Using a well-known fake news dataset from Kaggle.\n",
        "    \"\"\"\n",
        "    print(\"Step 1: Loading Dataset...\")\n",
        "\n",
        "    # Load the data\n",
        "    true_news = pd.read_csv('True.csv')\n",
        "    fake_news = pd.read_csv('Fake.csv')\n",
        "\n",
        "    # Add labels to the datasets\n",
        "    true_news['label'] = 1  # 1 for true news\n",
        "    fake_news['label'] = 0  # 0 for fake news\n",
        "\n",
        "    # Combine the datasets\n",
        "    df = pd.concat([true_news, fake_news], ignore_index=True)\n",
        "\n",
        "    # Shuffle the dataset\n",
        "    df = df.sample(frac=1).reset_index(drop=True)\n",
        "\n",
        "    print(f\"Dataset loaded successfully with {len(df)} entries.\")\n",
        "    return df\n"
      ],
      "metadata": {
        "id": "_9yYOZnOKvWK"
      },
      "execution_count": 7,
      "outputs": []
    },
    {
      "cell_type": "markdown",
      "source": [
        "# Step 2: Data Cleaning\n"
      ],
      "metadata": {
        "id": "hMnVcZe4LvAP"
      }
    },
    {
      "cell_type": "code",
      "source": [
        "def clean_data(df):\n",
        "    \"\"\"\n",
        "    Clean the dataset by removing null values and unnecessary columns.\n",
        "    \"\"\"\n",
        "    print(\"Step 2: Cleaning Data...\")\n",
        "\n",
        "    # Check for null values\n",
        "    print(f\"Null values before cleaning: {df.isnull().sum().sum()}\")\n",
        "\n",
        "    # Drop rows with null values\n",
        "    df = df.dropna()\n",
        "\n",
        "    # Keep only relevant columns (title, text, and label)\n",
        "    if 'title' in df.columns and 'text' in df.columns:\n",
        "        df = df[['title', 'text', 'label']]\n",
        "    elif 'text' in df.columns:\n",
        "        df = df[['text', 'label']]\n",
        "\n",
        "    print(f\"Null values after cleaning: {df.isnull().sum().sum()}\")\n",
        "    print(f\"Dataset shape after cleaning: {df.shape}\")\n",
        "\n",
        "    return df\n"
      ],
      "metadata": {
        "id": "zzAsjIEbLtWu"
      },
      "execution_count": 9,
      "outputs": []
    },
    {
      "cell_type": "markdown",
      "source": [
        " # Step 3: Text Processing (NLP)\n"
      ],
      "metadata": {
        "id": "w-pOK1-ANL5X"
      }
    },
    {
      "cell_type": "code",
      "source": [
        "def preprocess_text(df):\n",
        "    \"\"\"\n",
        "    Perform text preprocessing using NLP techniques:\n",
        "    - Tokenization\n",
        "    - Stop words removal\n",
        "    - Punctuation removal\n",
        "    - Stemming\n",
        "    \"\"\"\n",
        "    print(\"Step 3: Preprocessing Text...\")\n",
        "\n",
        "    # Initialize stemmer\n",
        "    stemmer = PorterStemmer()\n",
        "\n",
        "    # Get English stopwords\n",
        "    stop_words = set(stopwords.words('english'))\n",
        "\n",
        "    def clean_text(text):\n",
        "        # Convert to lowercase\n",
        "        text = text.lower()\n",
        "\n",
        "        # Remove URLs\n",
        "        text = re.sub(r'http\\S+|www\\S+|https\\S+', '', text)\n",
        "\n",
        "        # Remove HTML tags\n",
        "        text = re.sub(r'<.*?>', '', text)\n",
        "\n",
        "        # Remove punctuation and special characters\n",
        "        text = re.sub(r'[^\\w\\s]', '', text)\n",
        "\n",
        "        # Remove numbers\n",
        "        text = re.sub(r'\\d+', '', text)\n",
        "\n",
        "        # Tokenize\n",
        "        tokens = nltk.word_tokenize(text)\n",
        "\n",
        "        # Remove stopwords and apply stemming\n",
        "        cleaned_tokens = [stemmer.stem(word) for word in tokens if word not in stop_words and len(word) > 2]\n",
        "\n",
        "        return ' '.join(cleaned_tokens)\n",
        "\n",
        "    # Apply text cleaning to the 'text' column\n",
        "    df['processed_text'] = df['text'].apply(clean_text)\n",
        "\n",
        "    # If title column exists, process it too and combine with text\n",
        "    if 'title' in df.columns:\n",
        "        df['processed_title'] = df['title'].apply(clean_text)\n",
        "        df['processed_content'] = df['processed_title'] + ' ' + df['processed_text']\n",
        "    else:\n",
        "        df['processed_content'] = df['processed_text']\n",
        "\n",
        "    print(\"Text preprocessing completed.\")\n",
        "    return df\n"
      ],
      "metadata": {
        "id": "R5G69F2pL3VV"
      },
      "execution_count": 10,
      "outputs": []
    },
    {
      "cell_type": "code",
      "source": [
        "def vectorize_text(df_train, df_test, method='tfidf'):\n",
        "    \"\"\"\n",
        "    Convert text to numerical vectors using either TF-IDF or Bag of Words\n",
        "    \"\"\"\n",
        "    print(f\"Step 4: Vectorizing Text using {method}...\")\n",
        "\n",
        "    if method == 'tfidf':\n",
        "        # TF-IDF Vectorization\n",
        "        vectorizer = TfidfVectorizer(max_features=5000, ngram_range=(1, 2))\n",
        "    else:\n",
        "        # Bag of Words Vectorization\n",
        "        vectorizer = CountVectorizer(max_features=5000, ngram_range=(1, 2))\n",
        "\n",
        "    # Fit and transform the training data\n",
        "    X_train = vectorizer.fit_transform(df_train['processed_content'])\n",
        "\n",
        "    # Transform the test data\n",
        "    X_test = vectorizer.transform(df_test['processed_content'])\n",
        "\n",
        "    print(f\"Vectorization completed. Training set shape: {X_train.shape}, Test set shape: {X_test.shape}\")\n",
        "    return X_train, X_test, vectorizer"
      ],
      "metadata": {
        "id": "sKGTkZVYMcmX"
      },
      "execution_count": 11,
      "outputs": []
    },
    {
      "cell_type": "markdown",
      "source": [
        "# Step 5: Machine Learning Models\n"
      ],
      "metadata": {
        "id": "HKw_I5BeNBBS"
      }
    },
    {
      "cell_type": "code",
      "source": [
        "def train_and_evaluate_models(X_train, X_test, y_train, y_test):\n",
        "    \"\"\"\n",
        "    Train and evaluate multiple machine learning models:\n",
        "    - Random Forest\n",
        "    - Decision Tree\n",
        "    - Support Vector Machine\n",
        "    \"\"\"\n",
        "    print(\"Step 5: Training and Evaluating Machine Learning Models...\")\n",
        "\n",
        "    # Define models\n",
        "    models = {\n",
        "        'Random Forest': RandomForestClassifier(n_estimators=100, random_state=42),\n",
        "        'Decision Tree': DecisionTreeClassifier(random_state=42),\n",
        "        'SVM': SVC(kernel='linear', random_state=42, probability=True)\n",
        "    }\n",
        "\n",
        "    results = {}\n",
        "\n",
        "    for name, model in models.items():\n",
        "        print(f\"\\nTraining {name}...\")\n",
        "\n",
        "        # Train the model\n",
        "        model.fit(X_train, y_train)\n",
        "\n",
        "        # Make predictions\n",
        "        y_pred = model.predict(X_test)\n",
        "\n",
        "        # Calculate accuracy\n",
        "        accuracy = accuracy_score(y_test, y_pred)\n",
        "\n",
        "        # Generate classification report\n",
        "        report = classification_report(y_test, y_pred, output_dict=True)\n",
        "\n",
        "        # Generate confusion matrix\n",
        "        cm = confusion_matrix(y_test, y_pred)\n",
        "\n",
        "        results[name] = {\n",
        "            'model': model,\n",
        "            'accuracy': accuracy,\n",
        "            'report': report,\n",
        "            'confusion_matrix': cm\n",
        "        }\n",
        "\n",
        "        print(f\"{name} Accuracy: {accuracy:.4f}\")\n",
        "\n",
        "    return results\n"
      ],
      "metadata": {
        "id": "b9w5xyB7M8oQ"
      },
      "execution_count": 12,
      "outputs": []
    },
    {
      "cell_type": "code",
      "source": [
        "\n",
        "\n",
        "# Step 6: Visualize Results\n",
        "def visualize_results(results):\n",
        "    \"\"\"\n",
        "    Visualize the performance of different models\n",
        "    \"\"\"\n",
        "    print(\"Step 6: Visualizing Results...\")\n",
        "\n",
        "    # Plot accuracy comparison\n",
        "    plt.figure(figsize=(10, 6))\n",
        "    accuracies = [results[model]['accuracy'] for model in results.keys()]\n",
        "    plt.bar(results.keys(), accuracies, color=['blue', 'green', 'red'])\n",
        "    plt.title('Model Accuracy Comparison')\n",
        "    plt.xlabel('Models')\n",
        "    plt.ylabel('Accuracy')\n",
        "    plt.ylim(0, 1)\n",
        "    for i, v in enumerate(accuracies):\n",
        "        plt.text(i, v + 0.01, f\"{v:.4f}\", ha='center')\n",
        "    plt.savefig('model_accuracy_comparison.png')\n",
        "\n",
        "    # Plot confusion matrices\n",
        "    for name, result in results.items():\n",
        "        plt.figure(figsize=(8, 6))\n",
        "        cm = result['confusion_matrix']\n",
        "        sns.heatmap(cm, annot=True, fmt='d', cmap='Blues',\n",
        "                   xticklabels=['Fake', 'True'],\n",
        "                   yticklabels=['Fake', 'True'])\n",
        "        plt.title(f'Confusion Matrix - {name}')\n",
        "        plt.ylabel('True Label')\n",
        "        plt.xlabel('Predicted Label')\n",
        "        plt.savefig(f'confusion_matrix_{name.replace(\" \", \"_\").lower()}.png')\n",
        "\n",
        "    print(\"Visualization completed. Results saved as images.\")\n",
        "\n",
        "# Main function to run the entire pipeline\n",
        "def main():\n",
        "    \"\"\"\n",
        "    Main function to execute the complete fake news detection pipeline\n",
        "    \"\"\"\n",
        "    print(\"Starting Fake News Detection System...\")\n",
        "\n",
        "    # Step 1: Load dataset\n",
        "    df = load_dataset()\n",
        "\n",
        "    # Step 2: Clean data\n",
        "    df = clean_data(df)\n",
        "\n",
        "    # Step 3: Preprocess text\n",
        "    df = preprocess_text(df)\n",
        "\n",
        "    # Split data into training and testing sets (80:20 ratio)\n",
        "    df_train, df_test = train_test_split(df, test_size=0.2, random_state=42, stratify=df['label'])\n",
        "\n",
        "    # Extract labels\n",
        "    y_train = df_train['label']\n",
        "    y_test = df_test['label']\n",
        "\n",
        "    # Step 4: Vectorize text\n",
        "    X_train, X_test, vectorizer = vectorize_text(df_train, df_test, method='tfidf')\n",
        "\n",
        "    # Step 5: Train and evaluate models\n",
        "    results = train_and_evaluate_models(X_train, X_test, y_train, y_test)\n",
        "\n",
        "    # Step 6: Visualize results\n",
        "    visualize_results(results)\n",
        "\n",
        "    # Find the best model\n",
        "    best_model_name = max(results, key=lambda x: results[x]['accuracy'])\n",
        "    best_accuracy = results[best_model_name]['accuracy']\n",
        "\n",
        "    print(f\"\\nBest performing model: {best_model_name} with accuracy {best_accuracy:.4f}\")\n",
        "    print(\"\\nFake News Detection System completed successfully!\")\n",
        "\n",
        "    # Save the best model and vectorizer for future use\n",
        "    import joblib\n",
        "    joblib.dump(results[best_model_name]['model'], f'best_model_{best_model_name.lower().replace(\" \", \"_\")}.pkl')\n",
        "    joblib.dump(vectorizer, 'vectorizer.pkl')\n",
        "    print(f\"Best model and vectorizer saved for future use.\")\n",
        "\n",
        "    return results\n",
        "\n",
        "# Function to make predictions on new data\n",
        "def predict_news(text, model, vectorizer):\n",
        "    \"\"\"\n",
        "    Make predictions on new news articles\n",
        "    \"\"\"\n",
        "    # Preprocess the text\n",
        "    stemmer = PorterStemmer()\n",
        "    stop_words = set(stopwords.words('english'))\n",
        "\n",
        "    text = text.lower()\n",
        "    text = re.sub(r'http\\S+|www\\S+|https\\S+', '', text)\n",
        "    text = re.sub(r'<.*?>', '', text)\n",
        "    text = re.sub(r'[^\\w\\s]', '', text)\n",
        "    text = re.sub(r'\\d+', '', text)\n",
        "\n",
        "    tokens = nltk.word_tokenize(text)\n",
        "    cleaned_tokens = [stemmer.stem(word) for word in tokens if word not in stop_words and len(word) > 2]\n",
        "    processed_text = ' '.join(cleaned_tokens)\n",
        "\n",
        "    # Vectorize the text\n",
        "    text_vector = vectorizer.transform([processed_text])\n",
        "\n",
        "    # Make prediction\n",
        "    prediction = model.predict(text_vector)[0]\n",
        "    prediction_proba = model.predict_proba(text_vector)[0]\n",
        "\n",
        "    # Return result\n",
        "    if prediction == 1:\n",
        "        return \"True News\", prediction_proba[1]\n",
        "    else:\n",
        "        return \"Fake News\", prediction_proba[0]\n",
        "\n",
        "# Example usage of the system\n",
        "if __name__ == \"__main__\":\n",
        "    # Run the main pipeline\n",
        "    results = main()\n",
        "\n",
        "    # Load the best model and vectorizer for making predictions\n",
        "    import joblib\n",
        "    best_model_name = max(results, key=lambda x: results[x]['accuracy'])\n",
        "    model = results[best_model_name]['model']\n",
        "    vectorizer = joblib.load('vectorizer.pkl')\n",
        "\n",
        "    # Example news article for prediction\n",
        "    sample_news = \"\"\"\n",
        "    Scientists discover new treatment for cancer that shows promising results in early trials.\n",
        "    The research team at University Medical Center has developed a novel approach that targets specific cancer cells\n",
        "    without damaging healthy tissue. The treatment has been tested on a small group of patients with advanced forms of\n",
        "    cancer, and initial results show significant tumor reduction in 85% of participants. The team plans to expand the\n",
        "    clinical trials next year after receiving additional funding from the National Health Institute.\n",
        "    \"\"\"\n",
        "\n",
        "    # Make prediction\n",
        "    result, confidence = predict_news(sample_news, model, vectorizer)\n",
        "    print(f\"\\nPrediction for sample news: {result} (Confidence: {confidence:.4f})\")"
      ],
      "metadata": {
        "colab": {
          "base_uri": "https://localhost:8080/",
          "height": 596
        },
        "id": "38bpTXjALqjX",
        "outputId": "b072866b-9208-425e-eb95-37cf66c86787"
      },
      "execution_count": 8,
      "outputs": [
        {
          "output_type": "stream",
          "name": "stdout",
          "text": [
            "Starting Fake News Detection System...\n",
            "Step 1: Loading Dataset...\n"
          ]
        },
        {
          "output_type": "error",
          "ename": "ParserError",
          "evalue": "Error tokenizing data. C error: EOF inside string starting at row 9384",
          "traceback": [
            "\u001b[0;31m---------------------------------------------------------------------------\u001b[0m",
            "\u001b[0;31mParserError\u001b[0m                               Traceback (most recent call last)",
            "\u001b[0;32m<ipython-input-8-9dd6ed901ca0>\u001b[0m in \u001b[0;36m<cell line: 0>\u001b[0;34m()\u001b[0m\n\u001b[1;32m    263\u001b[0m \u001b[0;32mif\u001b[0m \u001b[0m__name__\u001b[0m \u001b[0;34m==\u001b[0m \u001b[0;34m\"__main__\"\u001b[0m\u001b[0;34m:\u001b[0m\u001b[0;34m\u001b[0m\u001b[0;34m\u001b[0m\u001b[0m\n\u001b[1;32m    264\u001b[0m     \u001b[0;31m# Run the main pipeline\u001b[0m\u001b[0;34m\u001b[0m\u001b[0;34m\u001b[0m\u001b[0m\n\u001b[0;32m--> 265\u001b[0;31m     \u001b[0mresults\u001b[0m \u001b[0;34m=\u001b[0m \u001b[0mmain\u001b[0m\u001b[0;34m(\u001b[0m\u001b[0;34m)\u001b[0m\u001b[0;34m\u001b[0m\u001b[0;34m\u001b[0m\u001b[0m\n\u001b[0m\u001b[1;32m    266\u001b[0m \u001b[0;34m\u001b[0m\u001b[0m\n\u001b[1;32m    267\u001b[0m     \u001b[0;31m# Load the best model and vectorizer for making predictions\u001b[0m\u001b[0;34m\u001b[0m\u001b[0;34m\u001b[0m\u001b[0m\n",
            "\u001b[0;32m<ipython-input-8-9dd6ed901ca0>\u001b[0m in \u001b[0;36mmain\u001b[0;34m()\u001b[0m\n\u001b[1;32m    189\u001b[0m \u001b[0;34m\u001b[0m\u001b[0m\n\u001b[1;32m    190\u001b[0m     \u001b[0;31m# Step 1: Load dataset\u001b[0m\u001b[0;34m\u001b[0m\u001b[0;34m\u001b[0m\u001b[0m\n\u001b[0;32m--> 191\u001b[0;31m     \u001b[0mdf\u001b[0m \u001b[0;34m=\u001b[0m \u001b[0mload_dataset\u001b[0m\u001b[0;34m(\u001b[0m\u001b[0;34m)\u001b[0m\u001b[0;34m\u001b[0m\u001b[0;34m\u001b[0m\u001b[0m\n\u001b[0m\u001b[1;32m    192\u001b[0m \u001b[0;34m\u001b[0m\u001b[0m\n\u001b[1;32m    193\u001b[0m     \u001b[0;31m# Step 2: Clean data\u001b[0m\u001b[0;34m\u001b[0m\u001b[0;34m\u001b[0m\u001b[0m\n",
            "\u001b[0;32m<ipython-input-7-bb52f16d08b0>\u001b[0m in \u001b[0;36mload_dataset\u001b[0;34m()\u001b[0m\n\u001b[1;32m      6\u001b[0m \u001b[0;34m\u001b[0m\u001b[0m\n\u001b[1;32m      7\u001b[0m     \u001b[0;31m# Load the data\u001b[0m\u001b[0;34m\u001b[0m\u001b[0;34m\u001b[0m\u001b[0m\n\u001b[0;32m----> 8\u001b[0;31m     \u001b[0mtrue_news\u001b[0m \u001b[0;34m=\u001b[0m \u001b[0mpd\u001b[0m\u001b[0;34m.\u001b[0m\u001b[0mread_csv\u001b[0m\u001b[0;34m(\u001b[0m\u001b[0;34m'True.csv'\u001b[0m\u001b[0;34m)\u001b[0m\u001b[0;34m\u001b[0m\u001b[0;34m\u001b[0m\u001b[0m\n\u001b[0m\u001b[1;32m      9\u001b[0m     \u001b[0mfake_news\u001b[0m \u001b[0;34m=\u001b[0m \u001b[0mpd\u001b[0m\u001b[0;34m.\u001b[0m\u001b[0mread_csv\u001b[0m\u001b[0;34m(\u001b[0m\u001b[0;34m'Fake.csv'\u001b[0m\u001b[0;34m)\u001b[0m\u001b[0;34m\u001b[0m\u001b[0;34m\u001b[0m\u001b[0m\n\u001b[1;32m     10\u001b[0m \u001b[0;34m\u001b[0m\u001b[0m\n",
            "\u001b[0;32m/usr/local/lib/python3.11/dist-packages/pandas/io/parsers/readers.py\u001b[0m in \u001b[0;36mread_csv\u001b[0;34m(filepath_or_buffer, sep, delimiter, header, names, index_col, usecols, dtype, engine, converters, true_values, false_values, skipinitialspace, skiprows, skipfooter, nrows, na_values, keep_default_na, na_filter, verbose, skip_blank_lines, parse_dates, infer_datetime_format, keep_date_col, date_parser, date_format, dayfirst, cache_dates, iterator, chunksize, compression, thousands, decimal, lineterminator, quotechar, quoting, doublequote, escapechar, comment, encoding, encoding_errors, dialect, on_bad_lines, delim_whitespace, low_memory, memory_map, float_precision, storage_options, dtype_backend)\u001b[0m\n\u001b[1;32m   1024\u001b[0m     \u001b[0mkwds\u001b[0m\u001b[0;34m.\u001b[0m\u001b[0mupdate\u001b[0m\u001b[0;34m(\u001b[0m\u001b[0mkwds_defaults\u001b[0m\u001b[0;34m)\u001b[0m\u001b[0;34m\u001b[0m\u001b[0;34m\u001b[0m\u001b[0m\n\u001b[1;32m   1025\u001b[0m \u001b[0;34m\u001b[0m\u001b[0m\n\u001b[0;32m-> 1026\u001b[0;31m     \u001b[0;32mreturn\u001b[0m \u001b[0m_read\u001b[0m\u001b[0;34m(\u001b[0m\u001b[0mfilepath_or_buffer\u001b[0m\u001b[0;34m,\u001b[0m \u001b[0mkwds\u001b[0m\u001b[0;34m)\u001b[0m\u001b[0;34m\u001b[0m\u001b[0;34m\u001b[0m\u001b[0m\n\u001b[0m\u001b[1;32m   1027\u001b[0m \u001b[0;34m\u001b[0m\u001b[0m\n\u001b[1;32m   1028\u001b[0m \u001b[0;34m\u001b[0m\u001b[0m\n",
            "\u001b[0;32m/usr/local/lib/python3.11/dist-packages/pandas/io/parsers/readers.py\u001b[0m in \u001b[0;36m_read\u001b[0;34m(filepath_or_buffer, kwds)\u001b[0m\n\u001b[1;32m    624\u001b[0m \u001b[0;34m\u001b[0m\u001b[0m\n\u001b[1;32m    625\u001b[0m     \u001b[0;32mwith\u001b[0m \u001b[0mparser\u001b[0m\u001b[0;34m:\u001b[0m\u001b[0;34m\u001b[0m\u001b[0;34m\u001b[0m\u001b[0m\n\u001b[0;32m--> 626\u001b[0;31m         \u001b[0;32mreturn\u001b[0m \u001b[0mparser\u001b[0m\u001b[0;34m.\u001b[0m\u001b[0mread\u001b[0m\u001b[0;34m(\u001b[0m\u001b[0mnrows\u001b[0m\u001b[0;34m)\u001b[0m\u001b[0;34m\u001b[0m\u001b[0;34m\u001b[0m\u001b[0m\n\u001b[0m\u001b[1;32m    627\u001b[0m \u001b[0;34m\u001b[0m\u001b[0m\n\u001b[1;32m    628\u001b[0m \u001b[0;34m\u001b[0m\u001b[0m\n",
            "\u001b[0;32m/usr/local/lib/python3.11/dist-packages/pandas/io/parsers/readers.py\u001b[0m in \u001b[0;36mread\u001b[0;34m(self, nrows)\u001b[0m\n\u001b[1;32m   1921\u001b[0m                     \u001b[0mcolumns\u001b[0m\u001b[0;34m,\u001b[0m\u001b[0;34m\u001b[0m\u001b[0;34m\u001b[0m\u001b[0m\n\u001b[1;32m   1922\u001b[0m                     \u001b[0mcol_dict\u001b[0m\u001b[0;34m,\u001b[0m\u001b[0;34m\u001b[0m\u001b[0;34m\u001b[0m\u001b[0m\n\u001b[0;32m-> 1923\u001b[0;31m                 \u001b[0;34m)\u001b[0m \u001b[0;34m=\u001b[0m \u001b[0mself\u001b[0m\u001b[0;34m.\u001b[0m\u001b[0m_engine\u001b[0m\u001b[0;34m.\u001b[0m\u001b[0mread\u001b[0m\u001b[0;34m(\u001b[0m  \u001b[0;31m# type: ignore[attr-defined]\u001b[0m\u001b[0;34m\u001b[0m\u001b[0;34m\u001b[0m\u001b[0m\n\u001b[0m\u001b[1;32m   1924\u001b[0m                     \u001b[0mnrows\u001b[0m\u001b[0;34m\u001b[0m\u001b[0;34m\u001b[0m\u001b[0m\n\u001b[1;32m   1925\u001b[0m                 )\n",
            "\u001b[0;32m/usr/local/lib/python3.11/dist-packages/pandas/io/parsers/c_parser_wrapper.py\u001b[0m in \u001b[0;36mread\u001b[0;34m(self, nrows)\u001b[0m\n\u001b[1;32m    232\u001b[0m         \u001b[0;32mtry\u001b[0m\u001b[0;34m:\u001b[0m\u001b[0;34m\u001b[0m\u001b[0;34m\u001b[0m\u001b[0m\n\u001b[1;32m    233\u001b[0m             \u001b[0;32mif\u001b[0m \u001b[0mself\u001b[0m\u001b[0;34m.\u001b[0m\u001b[0mlow_memory\u001b[0m\u001b[0;34m:\u001b[0m\u001b[0;34m\u001b[0m\u001b[0;34m\u001b[0m\u001b[0m\n\u001b[0;32m--> 234\u001b[0;31m                 \u001b[0mchunks\u001b[0m \u001b[0;34m=\u001b[0m \u001b[0mself\u001b[0m\u001b[0;34m.\u001b[0m\u001b[0m_reader\u001b[0m\u001b[0;34m.\u001b[0m\u001b[0mread_low_memory\u001b[0m\u001b[0;34m(\u001b[0m\u001b[0mnrows\u001b[0m\u001b[0;34m)\u001b[0m\u001b[0;34m\u001b[0m\u001b[0;34m\u001b[0m\u001b[0m\n\u001b[0m\u001b[1;32m    235\u001b[0m                 \u001b[0;31m# destructive to chunks\u001b[0m\u001b[0;34m\u001b[0m\u001b[0;34m\u001b[0m\u001b[0m\n\u001b[1;32m    236\u001b[0m                 \u001b[0mdata\u001b[0m \u001b[0;34m=\u001b[0m \u001b[0m_concatenate_chunks\u001b[0m\u001b[0;34m(\u001b[0m\u001b[0mchunks\u001b[0m\u001b[0;34m)\u001b[0m\u001b[0;34m\u001b[0m\u001b[0;34m\u001b[0m\u001b[0m\n",
            "\u001b[0;32mparsers.pyx\u001b[0m in \u001b[0;36mpandas._libs.parsers.TextReader.read_low_memory\u001b[0;34m()\u001b[0m\n",
            "\u001b[0;32mparsers.pyx\u001b[0m in \u001b[0;36mpandas._libs.parsers.TextReader._read_rows\u001b[0;34m()\u001b[0m\n",
            "\u001b[0;32mparsers.pyx\u001b[0m in \u001b[0;36mpandas._libs.parsers.TextReader._tokenize_rows\u001b[0;34m()\u001b[0m\n",
            "\u001b[0;32mparsers.pyx\u001b[0m in \u001b[0;36mpandas._libs.parsers.TextReader._check_tokenize_status\u001b[0;34m()\u001b[0m\n",
            "\u001b[0;32mparsers.pyx\u001b[0m in \u001b[0;36mpandas._libs.parsers.raise_parser_error\u001b[0;34m()\u001b[0m\n",
            "\u001b[0;31mParserError\u001b[0m: Error tokenizing data. C error: EOF inside string starting at row 9384"
          ]
        }
      ]
    }
  ]
}