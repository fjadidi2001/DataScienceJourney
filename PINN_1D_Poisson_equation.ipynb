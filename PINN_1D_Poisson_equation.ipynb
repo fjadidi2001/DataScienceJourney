{
  "nbformat": 4,
  "nbformat_minor": 0,
  "metadata": {
    "colab": {
      "provenance": [],
      "authorship_tag": "ABX9TyPPoEGVzQzqN50PPurTP0+U",
      "include_colab_link": true
    },
    "kernelspec": {
      "name": "python3",
      "display_name": "Python 3"
    },
    "language_info": {
      "name": "python"
    }
  },
  "cells": [
    {
      "cell_type": "markdown",
      "metadata": {
        "id": "view-in-github",
        "colab_type": "text"
      },
      "source": [
        "<a href=\"https://colab.research.google.com/github/fjadidi2001/DataScienceJourney/blob/master/PINN_1D_Poisson_equation.ipynb\" target=\"_parent\"><img src=\"https://colab.research.google.com/assets/colab-badge.svg\" alt=\"Open In Colab\"/></a>"
      ]
    },
    {
      "cell_type": "markdown",
      "source": [
        "Physics-Informed Neural Networks (PINNs) are a type of neural network that leverages both data and physical laws (represented by differential equations) to model complex systems. They are particularly useful for solving partial differential equations (PDEs), where traditional numerical methods may be computationally expensive or infeasible. PINNs incorporate these physical laws as part of the loss function, allowing the network to not only fit data but also adhere to the governing physics."
      ],
      "metadata": {
        "id": "fdYY_WJ4AU7m"
      }
    },
    {
      "cell_type": "markdown",
      "source": [
        "### 1D Poisson equation\n",
        "\n",
        "\n",
        "Physics-Informed Neural Networks (PINNs) are a type of neural network that leverages both data and physical laws (represented by differential equations) to model complex systems. They are particularly useful for solving partial differential equations (PDEs), where traditional numerical methods may be computationally expensive or infeasible. PINNs incorporate these physical laws as part of the loss function, allowing the network to not only fit data but also adhere to the governing physics.\n",
        "\n",
        "<br>\n",
        "\n",
        " **Set Up the Neural Network**\n",
        "   - **Input:** The network takes the position \\( x \\) as input.\n",
        "   - **Output:** The network outputs the value \\( u(x) \\).\n",
        "   - The neural network will approximate the solution \\( u(x) \\).\n",
        "\n",
        "\n"
      ],
      "metadata": {
        "id": "9fAowdNdAd1F"
      }
    },
    {
      "cell_type": "code",
      "execution_count": 2,
      "metadata": {
        "id": "X607zB_TANLQ"
      },
      "outputs": [],
      "source": [
        "import tensorflow as tf\n",
        "import numpy as np\n",
        "\n",
        "# Define the neural network\n",
        "class PINN(tf.keras.Model):\n",
        "    def __init__(self):\n",
        "        super(PINN, self).__init__()\n",
        "        self.hidden1 = tf.keras.layers.Dense(20, activation='tanh')\n",
        "        self.hidden2 = tf.keras.layers.Dense(20, activation='tanh')\n",
        "        self.output_layer = tf.keras.layers.Dense(1, activation=None)\n",
        "\n",
        "    def call(self, x):\n",
        "        x = self.hidden1(x)\n",
        "        x = self.hidden2(x)\n",
        "        return self.output_layer(x)\n"
      ]
    },
    {
      "cell_type": "code",
      "source": [
        "def f(x):\n",
        "    return tf.sin(np.pi * x)\n",
        "\n",
        "def compute_loss(model, x):\n",
        "    with tf.GradientTape(persistent=True) as tape:\n",
        "        tape.watch(x)\n",
        "        u = model(x)\n",
        "        u_x = tape.gradient(u, x)\n",
        "        u_xx = tape.gradient(u_x, x)\n",
        "        physics_loss = u_xx + f(x)\n",
        "\n",
        "    boundary_loss = tf.square(model(tf.constant([[0.0]]))) + tf.square(model(tf.constant([[1.0]])))\n",
        "\n",
        "    total_loss = tf.reduce_mean(tf.square(physics_loss)) + boundary_loss\n",
        "    return total_loss\n"
      ],
      "metadata": {
        "id": "aT4Jx98YCKOH"
      },
      "execution_count": 3,
      "outputs": []
    },
    {
      "cell_type": "code",
      "source": [
        "# Instantiate the model and optimizer\n",
        "model = PINN()\n",
        "optimizer = tf.keras.optimizers.Adam(learning_rate=0.001)\n",
        "\n",
        "# Training loop\n",
        "epochs = 1000\n",
        "for epoch in range(epochs):\n",
        "    with tf.GradientTape() as tape:\n",
        "        x_train = tf.random.uniform([100, 1], 0, 1)  # Sample points\n",
        "        loss = compute_loss(model, x_train)\n",
        "\n",
        "    gradients = tape.gradient(loss, model.trainable_variables)\n",
        "    optimizer.apply_gradients(zip(gradients, model.trainable_variables))\n",
        "\n",
        "    if epoch % 100 == 0:\n",
        "        print(f'Epoch {epoch}, Loss: {loss.numpy()}')\n"
      ],
      "metadata": {
        "colab": {
          "base_uri": "https://localhost:8080/"
        },
        "id": "EQYzCzaHCTa_",
        "outputId": "b4d53a3a-1138-48b3-9397-5f3bb8b5eabf"
      },
      "execution_count": 4,
      "outputs": [
        {
          "output_type": "stream",
          "name": "stderr",
          "text": [
            "WARNING:tensorflow:Calling GradientTape.gradient on a persistent tape inside its context is significantly less efficient than calling it outside the context (it causes the gradient ops to be recorded on the tape, leading to increased CPU and memory usage). Only call GradientTape.gradient inside the context if you actually want to trace the gradient in order to compute higher order derivatives.\n",
            "WARNING:tensorflow:Calling GradientTape.gradient on a persistent tape inside its context is significantly less efficient than calling it outside the context (it causes the gradient ops to be recorded on the tape, leading to increased CPU and memory usage). Only call GradientTape.gradient inside the context if you actually want to trace the gradient in order to compute higher order derivatives.\n"
          ]
        },
        {
          "output_type": "stream",
          "name": "stdout",
          "text": [
            "Epoch 0, Loss: [[0.6603313]]\n",
            "Epoch 100, Loss: [[0.03489092]]\n",
            "Epoch 200, Loss: [[0.00812184]]\n",
            "Epoch 300, Loss: [[0.00761518]]\n",
            "Epoch 400, Loss: [[0.00734448]]\n",
            "Epoch 500, Loss: [[0.00742355]]\n",
            "Epoch 600, Loss: [[0.00624045]]\n",
            "Epoch 700, Loss: [[0.00427627]]\n",
            "Epoch 800, Loss: [[0.00262166]]\n",
            "Epoch 900, Loss: [[0.00237889]]\n"
          ]
        }
      ]
    },
    {
      "cell_type": "code",
      "source": [
        "import matplotlib.pyplot as plt\n",
        "\n",
        "x_test = np.linspace(0, 1, 100).reshape(-1, 1)\n",
        "u_pred = model(x_test)\n",
        "\n",
        "plt.plot(x_test, u_pred, label='PINN solution')\n",
        "plt.xlabel('x')\n",
        "plt.ylabel('u(x)')\n",
        "plt.title('PINN solution to 1D Poisson Equation')\n",
        "plt.legend()\n",
        "plt.show()"
      ],
      "metadata": {
        "colab": {
          "base_uri": "https://localhost:8080/",
          "height": 472
        },
        "id": "-w1985ebCq3k",
        "outputId": "966ef3ac-e8eb-4439-e0fe-b5daf51eab71"
      },
      "execution_count": 5,
      "outputs": [
        {
          "output_type": "display_data",
          "data": {
            "text/plain": [
              "<Figure size 640x480 with 1 Axes>"
            ],
            "image/png": "[encoded data removed]"
          },
          "metadata": {}
        }
      ]
    },
    {
      "cell_type": "markdown",
      "source": [
        "## second one"
      ],
      "metadata": {
        "id": "GRbDQIhaDfsG"
      }
    },
    {
      "cell_type": "code",
      "source": [
        "import tensorflow as tf\n",
        "import numpy as np\n",
        "\n",
        "# Define the neural network\n",
        "class SimplePINN(tf.keras.Model):\n",
        "    def __init__(self):\n",
        "        super(SimplePINN, self).__init__()\n",
        "        self.hidden = tf.keras.layers.Dense(20, activation='tanh')\n",
        "        self.output_layer = tf.keras.layers.Dense(1, activation=None)\n",
        "\n",
        "    def call(self, x):\n",
        "        x = self.hidden(x)\n",
        "        return self.output_layer(x)"
      ],
      "metadata": {
        "id": "Nbo9k8EbDhW-"
      },
      "execution_count": 6,
      "outputs": []
    },
    {
      "cell_type": "code",
      "source": [
        "def compute_loss(model, x):\n",
        "    with tf.GradientTape() as tape:\n",
        "        tape.watch(x)\n",
        "        u = model(x)\n",
        "        u_x = tape.gradient(u, x)\n",
        "        physics_loss = u_x + u  # u'(x) + u(x) = 0\n",
        "\n",
        "    initial_condition_loss = tf.square(model(tf.constant([[0.0]])) - 1)  # u(0) = 1\n",
        "\n",
        "    total_loss = tf.reduce_mean(tf.square(physics_loss)) + initial_condition_loss\n",
        "    return total_loss"
      ],
      "metadata": {
        "id": "B6vXRSyqDodR"
      },
      "execution_count": 7,
      "outputs": []
    },
    {
      "cell_type": "code",
      "source": [
        "# Instantiate the model and optimizer\n",
        "model = SimplePINN()\n",
        "optimizer = tf.keras.optimizers.Adam(learning_rate=0.001)\n",
        "\n",
        "# Training loop\n",
        "epochs = 1000\n",
        "for epoch in range(epochs):\n",
        "    with tf.GradientTape() as tape:\n",
        "        x_train = tf.random.uniform([100, 1], 0, 1)  # Sample points in the domain [0, 1]\n",
        "        loss = compute_loss(model, x_train)\n",
        "\n",
        "    gradients = tape.gradient(loss, model.trainable_variables)\n",
        "    optimizer.apply_gradients(zip(gradients, model.trainable_variables))\n",
        "\n",
        "    if epoch % 100 == 0:\n",
        "        print(f'Epoch {epoch}, Loss: {loss.numpy()}')\n"
      ],
      "metadata": {
        "colab": {
          "base_uri": "https://localhost:8080/"
        },
        "id": "MxItF18pDs4J",
        "outputId": "8094f725-4029-48e1-d809-ddb965e1cd76"
      },
      "execution_count": null,
      "outputs": [
        {
          "output_type": "stream",
          "name": "stdout",
          "text": [
            "Epoch 0, Loss: [[1.1985657]]\n",
            "Epoch 100, Loss: [[0.24388744]]\n",
            "Epoch 200, Loss: [[0.03256152]]\n",
            "Epoch 300, Loss: [[0.03677073]]\n",
            "Epoch 400, Loss: [[0.02684105]]\n"
          ]
        }
      ]
    }
  ]
}