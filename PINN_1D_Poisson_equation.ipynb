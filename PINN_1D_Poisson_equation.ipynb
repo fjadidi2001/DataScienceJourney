{
  "nbformat": 4,
  "nbformat_minor": 0,
  "metadata": {
    "colab": {
      "provenance": [],
      "authorship_tag": "ABX9TyNbDqz/HC4DP6Slecj6a96U",
      "include_colab_link": true
    },
    "kernelspec": {
      "name": "python3",
      "display_name": "Python 3"
    },
    "language_info": {
      "name": "python"
    }
  },
  "cells": [
    {
      "cell_type": "markdown",
      "metadata": {
        "id": "view-in-github",
        "colab_type": "text"
      },
      "source": [
        "<a href=\"https://colab.research.google.com/github/fjadidi2001/DataScienceJourney/blob/master/PINN_1D_Poisson_equation.ipynb\" target=\"_parent\"><img src=\"https://colab.research.google.com/assets/colab-badge.svg\" alt=\"Open In Colab\"/></a>"
      ]
    },
    {
      "cell_type": "markdown",
      "source": [
        "Physics-Informed Neural Networks (PINNs) are a type of neural network that leverages both data and physical laws (represented by differential equations) to model complex systems. They are particularly useful for solving partial differential equations (PDEs), where traditional numerical methods may be computationally expensive or infeasible. PINNs incorporate these physical laws as part of the loss function, allowing the network to not only fit data but also adhere to the governing physics."
      ],
      "metadata": {
        "id": "fdYY_WJ4AU7m"
      }
    },
    {
      "cell_type": "markdown",
      "source": [
        "### 1D Poisson equation\n",
        "\n",
        "\n",
        "Physics-Informed Neural Networks (PINNs) are a type of neural network that leverages both data and physical laws (represented by differential equations) to model complex systems. They are particularly useful for solving partial differential equations (PDEs), where traditional numerical methods may be computationally expensive or infeasible. PINNs incorporate these physical laws as part of the loss function, allowing the network to not only fit data but also adhere to the governing physics.\n",
        "\n",
        "<br>\n",
        "\n",
        " **Set Up the Neural Network**\n",
        "   - **Input:** The network takes the position \\( x \\) as input.\n",
        "   - **Output:** The network outputs the value \\( u(x) \\).\n",
        "   - The neural network will approximate the solution \\( u(x) \\).\n",
        "\n",
        "\n"
      ],
      "metadata": {
        "id": "9fAowdNdAd1F"
      }
    },
    {
      "cell_type": "code",
      "execution_count": 2,
      "metadata": {
        "id": "X607zB_TANLQ"
      },
      "outputs": [],
      "source": [
        "import tensorflow as tf\n",
        "import numpy as np\n",
        "\n",
        "# Define the neural network\n",
        "class PINN(tf.keras.Model):\n",
        "    def __init__(self):\n",
        "        super(PINN, self).__init__()\n",
        "        self.hidden1 = tf.keras.layers.Dense(20, activation='tanh')\n",
        "        self.hidden2 = tf.keras.layers.Dense(20, activation='tanh')\n",
        "        self.output_layer = tf.keras.layers.Dense(1, activation=None)\n",
        "\n",
        "    def call(self, x):\n",
        "        x = self.hidden1(x)\n",
        "        x = self.hidden2(x)\n",
        "        return self.output_layer(x)\n"
      ]
    },
    {
      "cell_type": "code",
      "source": [
        "def f(x):\n",
        "    return tf.sin(np.pi * x)\n",
        "\n",
        "def compute_loss(model, x):\n",
        "    with tf.GradientTape(persistent=True) as tape:\n",
        "        tape.watch(x)\n",
        "        u = model(x)\n",
        "        u_x = tape.gradient(u, x)\n",
        "        u_xx = tape.gradient(u_x, x)\n",
        "        physics_loss = u_xx + f(x)\n",
        "\n",
        "    boundary_loss = tf.square(model(tf.constant([[0.0]]))) + tf.square(model(tf.constant([[1.0]])))\n",
        "\n",
        "    total_loss = tf.reduce_mean(tf.square(physics_loss)) + boundary_loss\n",
        "    return total_loss\n"
      ],
      "metadata": {
        "id": "aT4Jx98YCKOH"
      },
      "execution_count": 3,
      "outputs": []
    }
  ]
}