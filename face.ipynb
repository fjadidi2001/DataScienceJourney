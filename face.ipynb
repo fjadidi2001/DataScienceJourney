{
  "nbformat": 4,
  "nbformat_minor": 0,
  "metadata": {
    "colab": {
      "provenance": [],
      "include_colab_link": true
    },
    "kernelspec": {
      "name": "python3",
      "display_name": "Python 3"
    },
    "language_info": {
      "name": "python"
    }
  },
  "cells": [
    {
      "cell_type": "markdown",
      "metadata": {
        "id": "view-in-github",
        "colab_type": "text"
      },
      "source": [
        "<a href=\"https://colab.research.google.com/github/fjadidi2001/DataScienceJourney/blob/master/face.ipynb\" target=\"_parent\"><img src=\"https://colab.research.google.com/assets/colab-badge.svg\" alt=\"Open In Colab\"/></a>"
      ]
    },
    {
      "cell_type": "code",
      "execution_count": 1,
      "metadata": {
        "id": "Dmdoc26QZBdI"
      },
      "outputs": [],
      "source": [
        "import cv2\n",
        "import tensorflow as tf\n",
        "from tensorflow.keras.preprocessing.image import ImageDataGenerator\n",
        "from tensorflow.keras.optimizers import Adam\n",
        "from tensorflow.keras.models import Model\n",
        "#Keras provides the img_to_array() function for converting a loaded image in PIL format\n",
        "#into a NumPy array for use with deep learning models\n",
        "from tensorflow.keras.preprocessing.image import img_to_array\n",
        "#array_to_img() function that can be used for converting a NumPy array of pixel data into a PIL\n",
        "#Converts a class vector (integers) to binary class matrix.\n",
        "from tensorflow.keras.utils import to_categorical\n",
        "#To arrange the Keras layers in a sequential order\n",
        "from tensorflow.keras.models import Sequential\n",
        "#Flatten layer is used to make the multidimensional input one-dimensional,\n",
        "#commonly used in the transition from the convolution layer to the full connected layer.\n",
        "#defines the size of the output from the dense layer\n",
        "from tensorflow.keras.layers import Flatten, Dense\n",
        "from keras.applications.vgg16 import VGG16\n",
        "from sklearn.model_selection import train_test_split\n",
        "import numpy as np\n",
        "import matplotlib.pyplot as plt\n",
        "import os\n",
        "import glob\n",
        "import random"
      ]
    },
    {
      "cell_type": "code",
      "source": [
        "from google.colab import drive"
      ],
      "metadata": {
        "id": "pDqsuiS4ajQG"
      },
      "execution_count": 2,
      "outputs": []
    },
    {
      "cell_type": "code",
      "source": [],
      "metadata": {
        "id": "NVBPgUgTa8S5"
      },
      "execution_count": null,
      "outputs": []
    }
  ]
}