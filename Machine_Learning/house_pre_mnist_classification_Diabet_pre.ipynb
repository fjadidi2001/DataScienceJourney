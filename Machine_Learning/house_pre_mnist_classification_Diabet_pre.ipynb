{
  "nbformat": 4,
  "nbformat_minor": 0,
  "metadata": {
    "colab": {
      "provenance": [],
      "authorship_tag": "ABX9TyMb0VWpZA+ines7dwXdgUnu",
      "include_colab_link": true
    },
    "kernelspec": {
      "name": "python3",
      "display_name": "Python 3"
    },
    "language_info": {
      "name": "python"
    }
  },
  "cells": [
    {
      "cell_type": "markdown",
      "metadata": {
        "id": "view-in-github",
        "colab_type": "text"
      },
      "source": [
        "<a href=\"https://colab.research.google.com/github/fjadidi2001/DataScienceJourney/blob/master/house_pre_mnist_classification_Diabet_pre.ipynb\" target=\"_parent\"><img src=\"https://colab.research.google.com/assets/colab-badge.svg\" alt=\"Open In Colab\"/></a>"
      ]
    },
    {
      "cell_type": "code",
      "execution_count": null,
      "metadata": {
        "colab": {
          "base_uri": "https://localhost:8080/"
        },
        "id": "m3ZOeuXmN9_s",
        "outputId": "c8428e3a-051e-4c25-fdf5-47886785c510"
      },
      "outputs": [
        {
          "output_type": "stream",
          "name": "stdout",
          "text": [
            "Downloading...\n",
            "From: https://drive.google.com/uc?id=1oiJH4EkMvOk4c6ZVs5NCTzrmZZuFA8hN\n",
            "To: /content/USA_Housing.csv\n",
            "\r  0% 0.00/726k [00:00<?, ?B/s]\r100% 726k/726k [00:00<00:00, 85.2MB/s]\n"
          ]
        }
      ],
      "source": [
        "!gdown 1oiJH4EkMvOk4c6ZVs5NCTzrmZZuFA8hN"
      ]
    },
    {
      "cell_type": "code",
      "source": [
        "import pandas as pd\n",
        "import numpy as np\n",
        "import matplotlib.pyplot as plt\n",
        "import seaborn as sns\n",
        "\n",
        "# Load the dataset\n",
        "USAhousing = pd.read_csv('/content/USA_Housing.csv')\n",
        "\n",
        "X = USAhousing[['Avg. Area Income', 'Avg. Area House Age', 'Avg. Area Number of Rooms',\n",
        "               'Avg. Area Number of Bedrooms', 'Area Population']]\n",
        "y = USAhousing['Price']\n",
        "\n",
        "USAhousing.head(3)"
      ],
      "metadata": {
        "colab": {
          "base_uri": "https://localhost:8080/",
          "height": 143
        },
        "id": "W6gMYHq3OdKU",
        "outputId": "04d2f73a-2832-40f6-ac65-3426190b3a8f"
      },
      "execution_count": null,
      "outputs": [
        {
          "output_type": "execute_result",
          "data": {
            "text/plain": [
              "   Avg. Area Income  Avg. Area House Age  Avg. Area Number of Rooms  \\\n",
              "0      79545.458574             5.682861                   7.009188   \n",
              "1      79248.642455             6.002900                   6.730821   \n",
              "2      61287.067179             5.865890                   8.512727   \n",
              "\n",
              "   Avg. Area Number of Bedrooms  Area Population         Price  \\\n",
              "0                          4.09     23086.800503  1.059034e+06   \n",
              "1                          3.09     40173.072174  1.505891e+06   \n",
              "2                          5.13     36882.159400  1.058988e+06   \n",
              "\n",
              "                                             Address  \n",
              "0  208 Michael Ferry Apt. 674\\nLaurabury, NE 3701...  \n",
              "1  188 Johnson Views Suite 079\\nLake Kathleen, CA...  \n",
              "2  9127 Elizabeth Stravenue\\nDanieltown, WI 06482...  "
            ],
            "text/html": [
              "\n",
              "  <div id=\"df-d85c8a69-f802-4d02-9f80-205d505c5425\" class=\"colab-df-container\">\n",
              "    <div>\n",
              "<style scoped>\n",
              "    .dataframe tbody tr th:only-of-type {\n",
              "        vertical-align: middle;\n",
              "    }\n",
              "\n",
              "    .dataframe tbody tr th {\n",
              "        vertical-align: top;\n",
              "    }\n",
              "\n",
              "    .dataframe thead th {\n",
              "        text-align: right;\n",
              "    }\n",
              "</style>\n",
              "<table border=\"1\" class=\"dataframe\">\n",
              "  <thead>\n",
              "    <tr style=\"text-align: right;\">\n",
              "      <th></th>\n",
              "      <th>Avg. Area Income</th>\n",
              "      <th>Avg. Area House Age</th>\n",
              "      <th>Avg. Area Number of Rooms</th>\n",
              "      <th>Avg. Area Number of Bedrooms</th>\n",
              "      <th>Area Population</th>\n",
              "      <th>Price</th>\n",
              "      <th>Address</th>\n",
              "    </tr>\n",
              "  </thead>\n",
              "  <tbody>\n",
              "    <tr>\n",
              "      <th>0</th>\n",
              "      <td>79545.458574</td>\n",
              "      <td>5.682861</td>\n",
              "      <td>7.009188</td>\n",
              "      <td>4.09</td>\n",
              "      <td>23086.800503</td>\n",
              "      <td>1.059034e+06</td>\n",
              "      <td>208 Michael Ferry Apt. 674\\nLaurabury, NE 3701...</td>\n",
              "    </tr>\n",
              "    <tr>\n",
              "      <th>1</th>\n",
              "      <td>79248.642455</td>\n",
              "      <td>6.002900</td>\n",
              "      <td>6.730821</td>\n",
              "      <td>3.09</td>\n",
              "      <td>40173.072174</td>\n",
              "      <td>1.505891e+06</td>\n",
              "      <td>188 Johnson Views Suite 079\\nLake Kathleen, CA...</td>\n",
              "    </tr>\n",
              "    <tr>\n",
              "      <th>2</th>\n",
              "      <td>61287.067179</td>\n",
              "      <td>5.865890</td>\n",
              "      <td>8.512727</td>\n",
              "      <td>5.13</td>\n",
              "      <td>36882.159400</td>\n",
              "      <td>1.058988e+06</td>\n",
              "      <td>9127 Elizabeth Stravenue\\nDanieltown, WI 06482...</td>\n",
              "    </tr>\n",
              "  </tbody>\n",
              "</table>\n",
              "</div>\n",
              "    <div class=\"colab-df-buttons\">\n",
              "\n",
              "  <div class=\"colab-df-container\">\n",
              "    <button class=\"colab-df-convert\" onclick=\"convertToInteractive('df-d85c8a69-f802-4d02-9f80-205d505c5425')\"\n",
              "            title=\"Convert this dataframe to an interactive table.\"\n",
              "            style=\"display:none;\">\n",
              "\n",
              "  <svg xmlns=\"http://www.w3.org/2000/svg\" height=\"24px\" viewBox=\"0 -960 960 960\">\n",
              "    <path d=\"M120-120v-720h720v720H120Zm60-500h600v-160H180v160Zm220 220h160v-160H400v160Zm0 220h160v-160H400v160ZM180-400h160v-160H180v160Zm440 0h160v-160H620v160ZM180-180h160v-160H180v160Zm440 0h160v-160H620v160Z\"/>\n",
              "  </svg>\n",
              "    </button>\n",
              "\n",
              "  <style>\n",
              "    .colab-df-container {\n",
              "      display:flex;\n",
              "      gap: 12px;\n",
              "    }\n",
              "\n",
              "    .colab-df-convert {\n",
              "      background-color: #E8F0FE;\n",
              "      border: none;\n",
              "      border-radius: 50%;\n",
              "      cursor: pointer;\n",
              "      display: none;\n",
              "      fill: #1967D2;\n",
              "      height: 32px;\n",
              "      padding: 0 0 0 0;\n",
              "      width: 32px;\n",
              "    }\n",
              "\n",
              "    .colab-df-convert:hover {\n",
              "      background-color: #E2EBFA;\n",
              "      box-shadow: 0px 1px 2px rgba(60, 64, 67, 0.3), 0px 1px 3px 1px rgba(60, 64, 67, 0.15);\n",
              "      fill: #174EA6;\n",
              "    }\n",
              "\n",
              "    .colab-df-buttons div {\n",
              "      margin-bottom: 4px;\n",
              "    }\n",
              "\n",
              "    [theme=dark] .colab-df-convert {\n",
              "      background-color: #3B4455;\n",
              "      fill: #D2E3FC;\n",
              "    }\n",
              "\n",
              "    [theme=dark] .colab-df-convert:hover {\n",
              "      background-color: #434B5C;\n",
              "      box-shadow: 0px 1px 3px 1px rgba(0, 0, 0, 0.15);\n",
              "      filter: drop-shadow(0px 1px 2px rgba(0, 0, 0, 0.3));\n",
              "      fill: #FFFFFF;\n",
              "    }\n",
              "  </style>\n",
              "\n",
              "    <script>\n",
              "      const buttonEl =\n",
              "        document.querySelector('#df-d85c8a69-f802-4d02-9f80-205d505c5425 button.colab-df-convert');\n",
              "      buttonEl.style.display =\n",
              "        google.colab.kernel.accessAllowed ? 'block' : 'none';\n",
              "\n",
              "      async function convertToInteractive(key) {\n",
              "        const element = document.querySelector('#df-d85c8a69-f802-4d02-9f80-205d505c5425');\n",
              "        const dataTable =\n",
              "          await google.colab.kernel.invokeFunction('convertToInteractive',\n",
              "                                                    [key], {});\n",
              "        if (!dataTable) return;\n",
              "\n",
              "        const docLinkHtml = 'Like what you see? Visit the ' +\n",
              "          '<a target=\"_blank\" href=https://colab.research.google.com/notebooks/data_table.ipynb>data table notebook</a>'\n",
              "          + ' to learn more about interactive tables.';\n",
              "        element.innerHTML = '';\n",
              "        dataTable['output_type'] = 'display_data';\n",
              "        await google.colab.output.renderOutput(dataTable, element);\n",
              "        const docLink = document.createElement('div');\n",
              "        docLink.innerHTML = docLinkHtml;\n",
              "        element.appendChild(docLink);\n",
              "      }\n",
              "    </script>\n",
              "  </div>\n",
              "\n",
              "\n",
              "<div id=\"df-6d53ca18-2146-4111-82e8-05b8c75cdfa3\">\n",
              "  <button class=\"colab-df-quickchart\" onclick=\"quickchart('df-6d53ca18-2146-4111-82e8-05b8c75cdfa3')\"\n",
              "            title=\"Suggest charts\"\n",
              "            style=\"display:none;\">\n",
              "\n",
              "<svg xmlns=\"http://www.w3.org/2000/svg\" height=\"24px\"viewBox=\"0 0 24 24\"\n",
              "     width=\"24px\">\n",
              "    <g>\n",
              "        <path d=\"M19 3H5c-1.1 0-2 .9-2 2v14c0 1.1.9 2 2 2h14c1.1 0 2-.9 2-2V5c0-1.1-.9-2-2-2zM9 17H7v-7h2v7zm4 0h-2V7h2v10zm4 0h-2v-4h2v4z\"/>\n",
              "    </g>\n",
              "</svg>\n",
              "  </button>\n",
              "\n",
              "<style>\n",
              "  .colab-df-quickchart {\n",
              "      --bg-color: #E8F0FE;\n",
              "      --fill-color: #1967D2;\n",
              "      --hover-bg-color: #E2EBFA;\n",
              "      --hover-fill-color: #174EA6;\n",
              "      --disabled-fill-color: #AAA;\n",
              "      --disabled-bg-color: #DDD;\n",
              "  }\n",
              "\n",
              "  [theme=dark] .colab-df-quickchart {\n",
              "      --bg-color: #3B4455;\n",
              "      --fill-color: #D2E3FC;\n",
              "      --hover-bg-color: #434B5C;\n",
              "      --hover-fill-color: #FFFFFF;\n",
              "      --disabled-bg-color: #3B4455;\n",
              "      --disabled-fill-color: #666;\n",
              "  }\n",
              "\n",
              "  .colab-df-quickchart {\n",
              "    background-color: var(--bg-color);\n",
              "    border: none;\n",
              "    border-radius: 50%;\n",
              "    cursor: pointer;\n",
              "    display: none;\n",
              "    fill: var(--fill-color);\n",
              "    height: 32px;\n",
              "    padding: 0;\n",
              "    width: 32px;\n",
              "  }\n",
              "\n",
              "  .colab-df-quickchart:hover {\n",
              "    background-color: var(--hover-bg-color);\n",
              "    box-shadow: 0 1px 2px rgba(60, 64, 67, 0.3), 0 1px 3px 1px rgba(60, 64, 67, 0.15);\n",
              "    fill: var(--button-hover-fill-color);\n",
              "  }\n",
              "\n",
              "  .colab-df-quickchart-complete:disabled,\n",
              "  .colab-df-quickchart-complete:disabled:hover {\n",
              "    background-color: var(--disabled-bg-color);\n",
              "    fill: var(--disabled-fill-color);\n",
              "    box-shadow: none;\n",
              "  }\n",
              "\n",
              "  .colab-df-spinner {\n",
              "    border: 2px solid var(--fill-color);\n",
              "    border-color: transparent;\n",
              "    border-bottom-color: var(--fill-color);\n",
              "    animation:\n",
              "      spin 1s steps(1) infinite;\n",
              "  }\n",
              "\n",
              "  @keyframes spin {\n",
              "    0% {\n",
              "      border-color: transparent;\n",
              "      border-bottom-color: var(--fill-color);\n",
              "      border-left-color: var(--fill-color);\n",
              "    }\n",
              "    20% {\n",
              "      border-color: transparent;\n",
              "      border-left-color: var(--fill-color);\n",
              "      border-top-color: var(--fill-color);\n",
              "    }\n",
              "    30% {\n",
              "      border-color: transparent;\n",
              "      border-left-color: var(--fill-color);\n",
              "      border-top-color: var(--fill-color);\n",
              "      border-right-color: var(--fill-color);\n",
              "    }\n",
              "    40% {\n",
              "      border-color: transparent;\n",
              "      border-right-color: var(--fill-color);\n",
              "      border-top-color: var(--fill-color);\n",
              "    }\n",
              "    60% {\n",
              "      border-color: transparent;\n",
              "      border-right-color: var(--fill-color);\n",
              "    }\n",
              "    80% {\n",
              "      border-color: transparent;\n",
              "      border-right-color: var(--fill-color);\n",
              "      border-bottom-color: var(--fill-color);\n",
              "    }\n",
              "    90% {\n",
              "      border-color: transparent;\n",
              "      border-bottom-color: var(--fill-color);\n",
              "    }\n",
              "  }\n",
              "</style>\n",
              "\n",
              "  <script>\n",
              "    async function quickchart(key) {\n",
              "      const quickchartButtonEl =\n",
              "        document.querySelector('#' + key + ' button');\n",
              "      quickchartButtonEl.disabled = true;  // To prevent multiple clicks.\n",
              "      quickchartButtonEl.classList.add('colab-df-spinner');\n",
              "      try {\n",
              "        const charts = await google.colab.kernel.invokeFunction(\n",
              "            'suggestCharts', [key], {});\n",
              "      } catch (error) {\n",
              "        console.error('Error during call to suggestCharts:', error);\n",
              "      }\n",
              "      quickchartButtonEl.classList.remove('colab-df-spinner');\n",
              "      quickchartButtonEl.classList.add('colab-df-quickchart-complete');\n",
              "    }\n",
              "    (() => {\n",
              "      let quickchartButtonEl =\n",
              "        document.querySelector('#df-6d53ca18-2146-4111-82e8-05b8c75cdfa3 button');\n",
              "      quickchartButtonEl.style.display =\n",
              "        google.colab.kernel.accessAllowed ? 'block' : 'none';\n",
              "    })();\n",
              "  </script>\n",
              "</div>\n",
              "    </div>\n",
              "  </div>\n"
            ],
            "application/vnd.google.colaboratory.intrinsic+json": {
              "type": "dataframe",
              "variable_name": "USAhousing",
              "summary": "{\n  \"name\": \"USAhousing\",\n  \"rows\": 5000,\n  \"fields\": [\n    {\n      \"column\": \"Avg. Area Income\",\n      \"properties\": {\n        \"dtype\": \"number\",\n        \"std\": 10657.99121383037,\n        \"min\": 17796.631189543397,\n        \"max\": 107701.74837763936,\n        \"num_unique_values\": 5000,\n        \"samples\": [\n          61907.59334528668,\n          57160.20224330715,\n          70190.79644494488\n        ],\n        \"semantic_type\": \"\",\n        \"description\": \"\"\n      }\n    },\n    {\n      \"column\": \"Avg. Area House Age\",\n      \"properties\": {\n        \"dtype\": \"number\",\n        \"std\": 0.9914561798281721,\n        \"min\": 2.644304186036705,\n        \"max\": 9.51908806613594,\n        \"num_unique_values\": 5000,\n        \"samples\": [\n          7.017837824742983,\n          6.893260095195835,\n          6.745053761849909\n        ],\n        \"semantic_type\": \"\",\n        \"description\": \"\"\n      }\n    },\n    {\n      \"column\": \"Avg. Area Number of Rooms\",\n      \"properties\": {\n        \"dtype\": \"number\",\n        \"std\": 1.0058332312773866,\n        \"min\": 3.2361940234262048,\n        \"max\": 10.759588335938624,\n        \"num_unique_values\": 5000,\n        \"samples\": [\n          6.440255754985625,\n          6.921532164642504,\n          6.6625667327280365\n        ],\n        \"semantic_type\": \"\",\n        \"description\": \"\"\n      }\n    },\n    {\n      \"column\": \"Avg. Area Number of Bedrooms\",\n      \"properties\": {\n        \"dtype\": \"number\",\n        \"std\": 1.2341372654846832,\n        \"min\": 2.0,\n        \"max\": 6.5,\n        \"num_unique_values\": 255,\n        \"samples\": [\n          3.5,\n          3.41,\n          3.33\n        ],\n        \"semantic_type\": \"\",\n        \"description\": \"\"\n      }\n    },\n    {\n      \"column\": \"Area Population\",\n      \"properties\": {\n        \"dtype\": \"number\",\n        \"std\": 9925.650113501235,\n        \"min\": 172.61068627290044,\n        \"max\": 69621.7133777904,\n        \"num_unique_values\": 5000,\n        \"samples\": [\n          43828.947207425765,\n          43467.14703549413,\n          29215.13611183857\n        ],\n        \"semantic_type\": \"\",\n        \"description\": \"\"\n      }\n    },\n    {\n      \"column\": \"Price\",\n      \"properties\": {\n        \"dtype\": \"number\",\n        \"std\": 353117.62658106093,\n        \"min\": 15938.657923287848,\n        \"max\": 2469065.5941747027,\n        \"num_unique_values\": 5000,\n        \"samples\": [\n          1339096.0772451318,\n          1251794.178836864,\n          1340094.9662054193\n        ],\n        \"semantic_type\": \"\",\n        \"description\": \"\"\n      }\n    },\n    {\n      \"column\": \"Address\",\n      \"properties\": {\n        \"dtype\": \"string\",\n        \"num_unique_values\": 5000,\n        \"samples\": [\n          \"7521 Gregory Meadows\\nEast Johntown, CO 93230-5255\",\n          \"15828 Marshall Stravenue Suite 199\\nEast Matthewmouth, TN 71861-6319\",\n          \"USNS Brandt\\nFPO AE 72594\"\n        ],\n        \"semantic_type\": \"\",\n        \"description\": \"\"\n      }\n    }\n  ]\n}"
            }
          },
          "metadata": {},
          "execution_count": 6
        }
      ]
    },
    {
      "cell_type": "code",
      "source": [
        "print(USAhousing.shape)"
      ],
      "metadata": {
        "colab": {
          "base_uri": "https://localhost:8080/"
        },
        "id": "iruFoYS5POHR",
        "outputId": "36c00ff6-8492-4d90-c252-7bdfa6cc3c94"
      },
      "execution_count": null,
      "outputs": [
        {
          "output_type": "stream",
          "name": "stdout",
          "text": [
            "(5000, 7)\n"
          ]
        }
      ]
    },
    {
      "cell_type": "code",
      "source": [
        "import numpy as np\n",
        "from sklearn.model_selection import train_test_split\n",
        "\n",
        "# Split the dataset into training and testing sets\n",
        "X_train, X_test, y_train, y_test = train_test_split(X, y, test_size=0.4, random_state=101)\n",
        "\n",
        "X_train.shape, y_train.shape, X_test.shape, y_test.shape"
      ],
      "metadata": {
        "colab": {
          "base_uri": "https://localhost:8080/"
        },
        "id": "aO-dWMStPYQk",
        "outputId": "5ab77c65-7e07-4591-d1f1-a1da1e2279a6"
      },
      "execution_count": null,
      "outputs": [
        {
          "output_type": "execute_result",
          "data": {
            "text/plain": [
              "((3000, 5), (3000,), (2000, 5), (2000,))"
            ]
          },
          "metadata": {},
          "execution_count": 8
        }
      ]
    },
    {
      "cell_type": "markdown",
      "source": [
        "# linear regressoin"
      ],
      "metadata": {
        "id": "AMONyU7HTjyV"
      }
    },
    {
      "cell_type": "code",
      "source": [
        "# Create and train the Linear Regression model\n",
        "from sklearn.linear_model import LinearRegression\n",
        "lm = LinearRegression()\n",
        "lm.fit(X_train, y_train)\n",
        "\n",
        "# Make predictions on the test set\n",
        "y_pred = lm.predict(X_test)\n",
        "print(\"y_pred.shape:\", y_pred.shape)\n",
        "\n",
        "for i in zip(y_test[:5], y_pred[:5]):\n",
        "    print(f\"real price: {round(i[0], 1)}, predicted price: {round(i[1], 1)}\")\n"
      ],
      "metadata": {
        "colab": {
          "base_uri": "https://localhost:8080/"
        },
        "id": "CsSU0UThPio1",
        "outputId": "75b3cfd3-c395-4c07-f73d-91b7ef4e8ab3"
      },
      "execution_count": null,
      "outputs": [
        {
          "output_type": "stream",
          "name": "stdout",
          "text": [
            "y_pred.shape: (2000,)\n",
            "real price: 1251688.6, predicted price: 1260960.7\n",
            "real price: 873048.3, predicted price: 827588.8\n",
            "real price: 1696977.7, predicted price: 1742421.2\n",
            "real price: 1063964.3, predicted price: 974625.4\n",
            "real price: 948788.3, predicted price: 998717.8\n"
          ]
        }
      ]
    },
    {
      "cell_type": "code",
      "source": [
        "# Evaluate the model\n",
        "from sklearn import metrics\n",
        "print('MAE:', metrics.mean_absolute_error(y_test, y_pred))\n",
        "print('MSE:', metrics.mean_squared_error(y_test, y_pred))\n",
        "print('RMSE:', np.sqrt(metrics.mean_squared_error(y_test, y_pred)))"
      ],
      "metadata": {
        "colab": {
          "base_uri": "https://localhost:8080/"
        },
        "id": "Mka1ZgFuR672",
        "outputId": "8f103169-d2ad-4aff-d62b-2ba9ef2e6cea"
      },
      "execution_count": null,
      "outputs": [
        {
          "output_type": "stream",
          "name": "stdout",
          "text": [
            "MAE: 82288.22251914942\n",
            "MSE: 10460958907.208977\n",
            "RMSE: 102278.82922290897\n"
          ]
        }
      ]
    },
    {
      "cell_type": "markdown",
      "source": [
        "![image.png](data:image/png;base64,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)"
      ],
      "metadata": {
        "id": "5LLq8-09Sowe"
      }
    },
    {
      "cell_type": "code",
      "source": [
        "# Plot the results\n",
        "plt.scatter(y_test, y_pred)\n",
        "plt.xlabel('True Values')\n",
        "plt.ylabel('Predictions')\n",
        "plt.title('Linear Regression')\n",
        "plt.show()"
      ],
      "metadata": {
        "colab": {
          "base_uri": "https://localhost:8080/",
          "height": 472
        },
        "id": "Zdvyt6faSraw",
        "outputId": "02468856-0f17-4c56-ff4b-eb47d66f3059"
      },
      "execution_count": null,
      "outputs": [
        {
          "output_type": "display_data",
          "data": {
            "text/plain": [
              "<Figure size 640x480 with 1 Axes>"
            ],
            "image/png": "[encoded data removed]"
          },
          "metadata": {}
        }
      ]
    },
    {
      "cell_type": "markdown",
      "source": [
        "# unsupervised"
      ],
      "metadata": {
        "id": "M1XACMaVTfY7"
      }
    },
    {
      "cell_type": "markdown",
      "source": [
        "## mnist"
      ],
      "metadata": {
        "id": "-SXdoe49Tw-e"
      }
    },
    {
      "cell_type": "code",
      "source": [
        "# Import necessary libraries\n",
        "import numpy as np\n",
        "import matplotlib.pyplot as plt\n",
        "from sklearn.datasets import fetch_openml\n",
        "\n",
        "# Load the MNIST dataset\n",
        "mnist = fetch_openml('mnist_784')\n",
        "\n",
        "# Preprocess the data\n",
        "X = mnist.data.astype(np.float32)\n",
        "y = mnist.target.astype(int)\n",
        "\n",
        "# Normalize the data\n",
        "X /= 255.0\n",
        "\n",
        "X.shape, y.shape"
      ],
      "metadata": {
        "colab": {
          "base_uri": "https://localhost:8080/"
        },
        "id": "vwdwj6siTeVu",
        "outputId": "e5ea38a2-f570-4884-8d82-36707e6eec99"
      },
      "execution_count": null,
      "outputs": [
        {
          "output_type": "stream",
          "name": "stderr",
          "text": [
            "/usr/local/lib/python3.10/dist-packages/sklearn/datasets/_openml.py:1022: FutureWarning: The default value of `parser` will change from `'liac-arff'` to `'auto'` in 1.4. You can set `parser='auto'` to silence this warning. Therefore, an `ImportError` will be raised from 1.4 if the dataset is dense and pandas is not installed. Note that the pandas parser may return different data types. See the Notes Section in fetch_openml's API doc for details.\n",
            "  warn(\n"
          ]
        },
        {
          "output_type": "execute_result",
          "data": {
            "text/plain": [
              "((70000, 784), (70000,))"
            ]
          },
          "metadata": {},
          "execution_count": 14
        }
      ]
    },
    {
      "cell_type": "code",
      "source": [
        "# Initialize a dictionary to hold one example of each class\n",
        "examples = {}\n",
        "\n",
        "# Find one example of each class\n",
        "for i in range(10):\n",
        "    examples[i] = X[y == i].to_numpy()[0].reshape(28, 28)\n",
        "\n",
        "# Plot one example of each class\n",
        "plt.figure(figsize=(10, 4))\n",
        "for i in range(10):\n",
        "    plt.subplot(2, 5, i + 1)\n",
        "    plt.imshow(examples[i], cmap='gray')\n",
        "    plt.title(f'Class {i}')\n",
        "    plt.axis('off')\n",
        "\n",
        "plt.tight_layout()\n",
        "plt.show()"
      ],
      "metadata": {
        "colab": {
          "base_uri": "https://localhost:8080/",
          "height": 410
        },
        "id": "DWc9B-DCUVob",
        "outputId": "6bb07aa0-4ae8-4159-9835-51ed6f64ca8c"
      },
      "execution_count": null,
      "outputs": [
        {
          "output_type": "display_data",
          "data": {
            "text/plain": [
              "<Figure size 1000x400 with 10 Axes>"
            ],
            "image/png": "[encoded data removed]"
          },
          "metadata": {}
        }
      ]
    },
    {
      "cell_type": "markdown",
      "source": [
        "## PCA"
      ],
      "metadata": {
        "id": "HKcMntM5UoWN"
      }
    },
    {
      "cell_type": "code",
      "source": [
        "from sklearn.decomposition import PCA\n",
        "\n",
        "# Apply PCA to reduce dimensions for visualization\n",
        "pca = PCA(2)\n",
        "X_pca = pca.fit_transform(X)\n",
        "\n",
        "print(\"Before PCA\", X.shape)\n",
        "print(\"After PCA\", X_pca.shape)"
      ],
      "metadata": {
        "colab": {
          "base_uri": "https://localhost:8080/"
        },
        "id": "lsIR16ChUnRB",
        "outputId": "9f6c6ff7-225d-49b2-c1db-e97a3e5ef29c"
      },
      "execution_count": null,
      "outputs": [
        {
          "output_type": "stream",
          "name": "stdout",
          "text": [
            "Before PCA (70000, 784)\n",
            "After PCA (70000, 2)\n"
          ]
        }
      ]
    },
    {
      "cell_type": "markdown",
      "source": [
        "## K-means"
      ],
      "metadata": {
        "id": "AqQ7mSgzUznN"
      }
    },
    {
      "cell_type": "code",
      "source": [
        "from sklearn.cluster import KMeans\n",
        "\n",
        "# Apply K-Means clustering\n",
        "kmeans = KMeans(n_clusters=10, random_state=42)\n",
        "kmeans.fit(X_pca)\n",
        "\n",
        "# Predict the cluster for each data point\n",
        "clusters = kmeans.predict(X_pca)\n",
        "\n",
        "centers = kmeans.cluster_centers_\n",
        "# Plot the clusters\n",
        "plt.figure(figsize=(7, 5))\n",
        "scatter = plt.scatter(X_pca[:, 0], X_pca[:, 1], c=clusters, cmap='viridis', marker='.')\n",
        "scatter = plt.scatter(centers[:, 0], centers[:, 1], c='red', s=200, alpha=0.75, marker='x')\n",
        "plt.title('K-Means Clustering on MNIST (PCA Reduced)')\n",
        "plt.xlabel('Principal Component 1')\n",
        "plt.ylabel('Principal Component 2')\n",
        "plt.colorbar(scatter, label='Cluster')\n",
        "plt.show()"
      ],
      "metadata": {
        "id": "-Nmrn2_EUyM8",
        "outputId": "f152abd9-75e0-4c79-a577-e8301739f929",
        "colab": {
          "base_uri": "https://localhost:8080/",
          "height": 524
        }
      },
      "execution_count": null,
      "outputs": [
        {
          "output_type": "stream",
          "name": "stderr",
          "text": [
            "/usr/local/lib/python3.10/dist-packages/sklearn/cluster/_kmeans.py:1416: FutureWarning: The default value of `n_init` will change from 10 to 'auto' in 1.4. Set the value of `n_init` explicitly to suppress the warning\n",
            "  super()._check_params_vs_input(X, default_n_init=10)\n"
          ]
        },
        {
          "output_type": "display_data",
          "data": {
            "text/plain": [
              "<Figure size 700x500 with 2 Axes>"
            ],
            "image/png": "[encoded data removed]"
          },
          "metadata": {}
        }
      ]
    },
    {
      "cell_type": "markdown",
      "source": [
        "# Logistic Regression"
      ],
      "metadata": {
        "id": "5TX3AsHcfjRO"
      }
    },
    {
      "cell_type": "markdown",
      "source": [
        "## Diabetes Patient Classification:"
      ],
      "metadata": {
        "id": "bN2qz97Tf3AO"
      }
    },
    {
      "cell_type": "code",
      "source": [
        "!gdown 1TAPAqHCgjVt-yI9I46Lu5KWdPve32iI9"
      ],
      "metadata": {
        "colab": {
          "base_uri": "https://localhost:8080/"
        },
        "id": "uUAv0QUgf1mE",
        "outputId": "cb22679b-a72f-46f4-e508-153ec4905a7d"
      },
      "execution_count": 1,
      "outputs": [
        {
          "output_type": "stream",
          "name": "stdout",
          "text": [
            "Downloading...\n",
            "From: https://drive.google.com/uc?id=1TAPAqHCgjVt-yI9I46Lu5KWdPve32iI9\n",
            "To: /content/diabetes.csv\n",
            "\r  0% 0.00/23.9k [00:00<?, ?B/s]\r100% 23.9k/23.9k [00:00<00:00, 38.6MB/s]\n"
          ]
        }
      ]
    },
    {
      "cell_type": "code",
      "source": [
        "# import pandas\n",
        "import pandas as pd\n",
        "col_names = ['pregnant', 'glucose', 'bp', 'skin', 'insulin', 'bmi', 'pedigree', 'age', 'label']\n",
        "# load dataset\n",
        "df = pd.read_csv(\"diabetes.csv\", header=None, skiprows=1, names=col_names)\n",
        "print(len(df))"
      ],
      "metadata": {
        "colab": {
          "base_uri": "https://localhost:8080/"
        },
        "id": "4DaTKx8phyIV",
        "outputId": "f8890dc1-a4a1-4357-baaa-c204fb276497"
      },
      "execution_count": 2,
      "outputs": [
        {
          "output_type": "stream",
          "name": "stdout",
          "text": [
            "768\n"
          ]
        }
      ]
    },
    {
      "cell_type": "code",
      "source": [
        "df.head()"
      ],
      "metadata": {
        "colab": {
          "base_uri": "https://localhost:8080/",
          "height": 206
        },
        "id": "nd9380MPiG7r",
        "outputId": "1f556782-8526-4514-d120-9071fcb23c68"
      },
      "execution_count": 3,
      "outputs": [
        {
          "output_type": "execute_result",
          "data": {
            "text/plain": [
              "   pregnant  glucose  bp  skin  insulin   bmi  pedigree  age  label\n",
              "0         6      148  72    35        0  33.6     0.627   50      1\n",
              "1         1       85  66    29        0  26.6     0.351   31      0\n",
              "2         8      183  64     0        0  23.3     0.672   32      1\n",
              "3         1       89  66    23       94  28.1     0.167   21      0\n",
              "4         0      137  40    35      168  43.1     2.288   33      1"
            ],
            "text/html": [
              "\n",
              "  <div id=\"df-11ac2d6b-9cb1-4dc5-b876-917bcca1da5e\" class=\"colab-df-container\">\n",
              "    <div>\n",
              "<style scoped>\n",
              "    .dataframe tbody tr th:only-of-type {\n",
              "        vertical-align: middle;\n",
              "    }\n",
              "\n",
              "    .dataframe tbody tr th {\n",
              "        vertical-align: top;\n",
              "    }\n",
              "\n",
              "    .dataframe thead th {\n",
              "        text-align: right;\n",
              "    }\n",
              "</style>\n",
              "<table border=\"1\" class=\"dataframe\">\n",
              "  <thead>\n",
              "    <tr style=\"text-align: right;\">\n",
              "      <th></th>\n",
              "      <th>pregnant</th>\n",
              "      <th>glucose</th>\n",
              "      <th>bp</th>\n",
              "      <th>skin</th>\n",
              "      <th>insulin</th>\n",
              "      <th>bmi</th>\n",
              "      <th>pedigree</th>\n",
              "      <th>age</th>\n",
              "      <th>label</th>\n",
              "    </tr>\n",
              "  </thead>\n",
              "  <tbody>\n",
              "    <tr>\n",
              "      <th>0</th>\n",
              "      <td>6</td>\n",
              "      <td>148</td>\n",
              "      <td>72</td>\n",
              "      <td>35</td>\n",
              "      <td>0</td>\n",
              "      <td>33.6</td>\n",
              "      <td>0.627</td>\n",
              "      <td>50</td>\n",
              "      <td>1</td>\n",
              "    </tr>\n",
              "    <tr>\n",
              "      <th>1</th>\n",
              "      <td>1</td>\n",
              "      <td>85</td>\n",
              "      <td>66</td>\n",
              "      <td>29</td>\n",
              "      <td>0</td>\n",
              "      <td>26.6</td>\n",
              "      <td>0.351</td>\n",
              "      <td>31</td>\n",
              "      <td>0</td>\n",
              "    </tr>\n",
              "    <tr>\n",
              "      <th>2</th>\n",
              "      <td>8</td>\n",
              "      <td>183</td>\n",
              "      <td>64</td>\n",
              "      <td>0</td>\n",
              "      <td>0</td>\n",
              "      <td>23.3</td>\n",
              "      <td>0.672</td>\n",
              "      <td>32</td>\n",
              "      <td>1</td>\n",
              "    </tr>\n",
              "    <tr>\n",
              "      <th>3</th>\n",
              "      <td>1</td>\n",
              "      <td>89</td>\n",
              "      <td>66</td>\n",
              "      <td>23</td>\n",
              "      <td>94</td>\n",
              "      <td>28.1</td>\n",
              "      <td>0.167</td>\n",
              "      <td>21</td>\n",
              "      <td>0</td>\n",
              "    </tr>\n",
              "    <tr>\n",
              "      <th>4</th>\n",
              "      <td>0</td>\n",
              "      <td>137</td>\n",
              "      <td>40</td>\n",
              "      <td>35</td>\n",
              "      <td>168</td>\n",
              "      <td>43.1</td>\n",
              "      <td>2.288</td>\n",
              "      <td>33</td>\n",
              "      <td>1</td>\n",
              "    </tr>\n",
              "  </tbody>\n",
              "</table>\n",
              "</div>\n",
              "    <div class=\"colab-df-buttons\">\n",
              "\n",
              "  <div class=\"colab-df-container\">\n",
              "    <button class=\"colab-df-convert\" onclick=\"convertToInteractive('df-11ac2d6b-9cb1-4dc5-b876-917bcca1da5e')\"\n",
              "            title=\"Convert this dataframe to an interactive table.\"\n",
              "            style=\"display:none;\">\n",
              "\n",
              "  <svg xmlns=\"http://www.w3.org/2000/svg\" height=\"24px\" viewBox=\"0 -960 960 960\">\n",
              "    <path d=\"M120-120v-720h720v720H120Zm60-500h600v-160H180v160Zm220 220h160v-160H400v160Zm0 220h160v-160H400v160ZM180-400h160v-160H180v160Zm440 0h160v-160H620v160ZM180-180h160v-160H180v160Zm440 0h160v-160H620v160Z\"/>\n",
              "  </svg>\n",
              "    </button>\n",
              "\n",
              "  <style>\n",
              "    .colab-df-container {\n",
              "      display:flex;\n",
              "      gap: 12px;\n",
              "    }\n",
              "\n",
              "    .colab-df-convert {\n",
              "      background-color: #E8F0FE;\n",
              "      border: none;\n",
              "      border-radius: 50%;\n",
              "      cursor: pointer;\n",
              "      display: none;\n",
              "      fill: #1967D2;\n",
              "      height: 32px;\n",
              "      padding: 0 0 0 0;\n",
              "      width: 32px;\n",
              "    }\n",
              "\n",
              "    .colab-df-convert:hover {\n",
              "      background-color: #E2EBFA;\n",
              "      box-shadow: 0px 1px 2px rgba(60, 64, 67, 0.3), 0px 1px 3px 1px rgba(60, 64, 67, 0.15);\n",
              "      fill: #174EA6;\n",
              "    }\n",
              "\n",
              "    .colab-df-buttons div {\n",
              "      margin-bottom: 4px;\n",
              "    }\n",
              "\n",
              "    [theme=dark] .colab-df-convert {\n",
              "      background-color: #3B4455;\n",
              "      fill: #D2E3FC;\n",
              "    }\n",
              "\n",
              "    [theme=dark] .colab-df-convert:hover {\n",
              "      background-color: #434B5C;\n",
              "      box-shadow: 0px 1px 3px 1px rgba(0, 0, 0, 0.15);\n",
              "      filter: drop-shadow(0px 1px 2px rgba(0, 0, 0, 0.3));\n",
              "      fill: #FFFFFF;\n",
              "    }\n",
              "  </style>\n",
              "\n",
              "    <script>\n",
              "      const buttonEl =\n",
              "        document.querySelector('#df-11ac2d6b-9cb1-4dc5-b876-917bcca1da5e button.colab-df-convert');\n",
              "      buttonEl.style.display =\n",
              "        google.colab.kernel.accessAllowed ? 'block' : 'none';\n",
              "\n",
              "      async function convertToInteractive(key) {\n",
              "        const element = document.querySelector('#df-11ac2d6b-9cb1-4dc5-b876-917bcca1da5e');\n",
              "        const dataTable =\n",
              "          await google.colab.kernel.invokeFunction('convertToInteractive',\n",
              "                                                    [key], {});\n",
              "        if (!dataTable) return;\n",
              "\n",
              "        const docLinkHtml = 'Like what you see? Visit the ' +\n",
              "          '<a target=\"_blank\" href=https://colab.research.google.com/notebooks/data_table.ipynb>data table notebook</a>'\n",
              "          + ' to learn more about interactive tables.';\n",
              "        element.innerHTML = '';\n",
              "        dataTable['output_type'] = 'display_data';\n",
              "        await google.colab.output.renderOutput(dataTable, element);\n",
              "        const docLink = document.createElement('div');\n",
              "        docLink.innerHTML = docLinkHtml;\n",
              "        element.appendChild(docLink);\n",
              "      }\n",
              "    </script>\n",
              "  </div>\n",
              "\n",
              "\n",
              "<div id=\"df-ff5599fc-d6b0-4d06-8fa6-87072c7aeb00\">\n",
              "  <button class=\"colab-df-quickchart\" onclick=\"quickchart('df-ff5599fc-d6b0-4d06-8fa6-87072c7aeb00')\"\n",
              "            title=\"Suggest charts\"\n",
              "            style=\"display:none;\">\n",
              "\n",
              "<svg xmlns=\"http://www.w3.org/2000/svg\" height=\"24px\"viewBox=\"0 0 24 24\"\n",
              "     width=\"24px\">\n",
              "    <g>\n",
              "        <path d=\"M19 3H5c-1.1 0-2 .9-2 2v14c0 1.1.9 2 2 2h14c1.1 0 2-.9 2-2V5c0-1.1-.9-2-2-2zM9 17H7v-7h2v7zm4 0h-2V7h2v10zm4 0h-2v-4h2v4z\"/>\n",
              "    </g>\n",
              "</svg>\n",
              "  </button>\n",
              "\n",
              "<style>\n",
              "  .colab-df-quickchart {\n",
              "      --bg-color: #E8F0FE;\n",
              "      --fill-color: #1967D2;\n",
              "      --hover-bg-color: #E2EBFA;\n",
              "      --hover-fill-color: #174EA6;\n",
              "      --disabled-fill-color: #AAA;\n",
              "      --disabled-bg-color: #DDD;\n",
              "  }\n",
              "\n",
              "  [theme=dark] .colab-df-quickchart {\n",
              "      --bg-color: #3B4455;\n",
              "      --fill-color: #D2E3FC;\n",
              "      --hover-bg-color: #434B5C;\n",
              "      --hover-fill-color: #FFFFFF;\n",
              "      --disabled-bg-color: #3B4455;\n",
              "      --disabled-fill-color: #666;\n",
              "  }\n",
              "\n",
              "  .colab-df-quickchart {\n",
              "    background-color: var(--bg-color);\n",
              "    border: none;\n",
              "    border-radius: 50%;\n",
              "    cursor: pointer;\n",
              "    display: none;\n",
              "    fill: var(--fill-color);\n",
              "    height: 32px;\n",
              "    padding: 0;\n",
              "    width: 32px;\n",
              "  }\n",
              "\n",
              "  .colab-df-quickchart:hover {\n",
              "    background-color: var(--hover-bg-color);\n",
              "    box-shadow: 0 1px 2px rgba(60, 64, 67, 0.3), 0 1px 3px 1px rgba(60, 64, 67, 0.15);\n",
              "    fill: var(--button-hover-fill-color);\n",
              "  }\n",
              "\n",
              "  .colab-df-quickchart-complete:disabled,\n",
              "  .colab-df-quickchart-complete:disabled:hover {\n",
              "    background-color: var(--disabled-bg-color);\n",
              "    fill: var(--disabled-fill-color);\n",
              "    box-shadow: none;\n",
              "  }\n",
              "\n",
              "  .colab-df-spinner {\n",
              "    border: 2px solid var(--fill-color);\n",
              "    border-color: transparent;\n",
              "    border-bottom-color: var(--fill-color);\n",
              "    animation:\n",
              "      spin 1s steps(1) infinite;\n",
              "  }\n",
              "\n",
              "  @keyframes spin {\n",
              "    0% {\n",
              "      border-color: transparent;\n",
              "      border-bottom-color: var(--fill-color);\n",
              "      border-left-color: var(--fill-color);\n",
              "    }\n",
              "    20% {\n",
              "      border-color: transparent;\n",
              "      border-left-color: var(--fill-color);\n",
              "      border-top-color: var(--fill-color);\n",
              "    }\n",
              "    30% {\n",
              "      border-color: transparent;\n",
              "      border-left-color: var(--fill-color);\n",
              "      border-top-color: var(--fill-color);\n",
              "      border-right-color: var(--fill-color);\n",
              "    }\n",
              "    40% {\n",
              "      border-color: transparent;\n",
              "      border-right-color: var(--fill-color);\n",
              "      border-top-color: var(--fill-color);\n",
              "    }\n",
              "    60% {\n",
              "      border-color: transparent;\n",
              "      border-right-color: var(--fill-color);\n",
              "    }\n",
              "    80% {\n",
              "      border-color: transparent;\n",
              "      border-right-color: var(--fill-color);\n",
              "      border-bottom-color: var(--fill-color);\n",
              "    }\n",
              "    90% {\n",
              "      border-color: transparent;\n",
              "      border-bottom-color: var(--fill-color);\n",
              "    }\n",
              "  }\n",
              "</style>\n",
              "\n",
              "  <script>\n",
              "    async function quickchart(key) {\n",
              "      const quickchartButtonEl =\n",
              "        document.querySelector('#' + key + ' button');\n",
              "      quickchartButtonEl.disabled = true;  // To prevent multiple clicks.\n",
              "      quickchartButtonEl.classList.add('colab-df-spinner');\n",
              "      try {\n",
              "        const charts = await google.colab.kernel.invokeFunction(\n",
              "            'suggestCharts', [key], {});\n",
              "      } catch (error) {\n",
              "        console.error('Error during call to suggestCharts:', error);\n",
              "      }\n",
              "      quickchartButtonEl.classList.remove('colab-df-spinner');\n",
              "      quickchartButtonEl.classList.add('colab-df-quickchart-complete');\n",
              "    }\n",
              "    (() => {\n",
              "      let quickchartButtonEl =\n",
              "        document.querySelector('#df-ff5599fc-d6b0-4d06-8fa6-87072c7aeb00 button');\n",
              "      quickchartButtonEl.style.display =\n",
              "        google.colab.kernel.accessAllowed ? 'block' : 'none';\n",
              "    })();\n",
              "  </script>\n",
              "</div>\n",
              "    </div>\n",
              "  </div>\n"
            ],
            "application/vnd.google.colaboratory.intrinsic+json": {
              "type": "dataframe",
              "variable_name": "df",
              "summary": "{\n  \"name\": \"df\",\n  \"rows\": 768,\n  \"fields\": [\n    {\n      \"column\": \"pregnant\",\n      \"properties\": {\n        \"dtype\": \"number\",\n        \"std\": 3,\n        \"min\": 0,\n        \"max\": 17,\n        \"num_unique_values\": 17,\n        \"samples\": [\n          6,\n          1,\n          3\n        ],\n        \"semantic_type\": \"\",\n        \"description\": \"\"\n      }\n    },\n    {\n      \"column\": \"glucose\",\n      \"properties\": {\n        \"dtype\": \"number\",\n        \"std\": 31,\n        \"min\": 0,\n        \"max\": 199,\n        \"num_unique_values\": 136,\n        \"samples\": [\n          151,\n          101,\n          112\n        ],\n        \"semantic_type\": \"\",\n        \"description\": \"\"\n      }\n    },\n    {\n      \"column\": \"bp\",\n      \"properties\": {\n        \"dtype\": \"number\",\n        \"std\": 19,\n        \"min\": 0,\n        \"max\": 122,\n        \"num_unique_values\": 47,\n        \"samples\": [\n          86,\n          46,\n          85\n        ],\n        \"semantic_type\": \"\",\n        \"description\": \"\"\n      }\n    },\n    {\n      \"column\": \"skin\",\n      \"properties\": {\n        \"dtype\": \"number\",\n        \"std\": 15,\n        \"min\": 0,\n        \"max\": 99,\n        \"num_unique_values\": 51,\n        \"samples\": [\n          7,\n          12,\n          48\n        ],\n        \"semantic_type\": \"\",\n        \"description\": \"\"\n      }\n    },\n    {\n      \"column\": \"insulin\",\n      \"properties\": {\n        \"dtype\": \"number\",\n        \"std\": 115,\n        \"min\": 0,\n        \"max\": 846,\n        \"num_unique_values\": 186,\n        \"samples\": [\n          52,\n          41,\n          183\n        ],\n        \"semantic_type\": \"\",\n        \"description\": \"\"\n      }\n    },\n    {\n      \"column\": \"bmi\",\n      \"properties\": {\n        \"dtype\": \"number\",\n        \"std\": 7.884160320375446,\n        \"min\": 0.0,\n        \"max\": 67.1,\n        \"num_unique_values\": 248,\n        \"samples\": [\n          19.9,\n          31.0,\n          38.1\n        ],\n        \"semantic_type\": \"\",\n        \"description\": \"\"\n      }\n    },\n    {\n      \"column\": \"pedigree\",\n      \"properties\": {\n        \"dtype\": \"number\",\n        \"std\": 0.3313285950127749,\n        \"min\": 0.078,\n        \"max\": 2.42,\n        \"num_unique_values\": 517,\n        \"samples\": [\n          1.731,\n          0.426,\n          0.138\n        ],\n        \"semantic_type\": \"\",\n        \"description\": \"\"\n      }\n    },\n    {\n      \"column\": \"age\",\n      \"properties\": {\n        \"dtype\": \"number\",\n        \"std\": 11,\n        \"min\": 21,\n        \"max\": 81,\n        \"num_unique_values\": 52,\n        \"samples\": [\n          60,\n          47,\n          72\n        ],\n        \"semantic_type\": \"\",\n        \"description\": \"\"\n      }\n    },\n    {\n      \"column\": \"label\",\n      \"properties\": {\n        \"dtype\": \"number\",\n        \"std\": 0,\n        \"min\": 0,\n        \"max\": 1,\n        \"num_unique_values\": 2,\n        \"samples\": [\n          0,\n          1\n        ],\n        \"semantic_type\": \"\",\n        \"description\": \"\"\n      }\n    }\n  ]\n}"
            }
          },
          "metadata": {},
          "execution_count": 3
        }
      ]
    },
    {
      "cell_type": "code",
      "source": [
        "df.describe()"
      ],
      "metadata": {
        "colab": {
          "base_uri": "https://localhost:8080/",
          "height": 300
        },
        "id": "5U0Snu61iJtH",
        "outputId": "75bbccb1-2473-4cf0-e74c-372c806b5a41"
      },
      "execution_count": 4,
      "outputs": [
        {
          "output_type": "execute_result",
          "data": {
            "text/plain": [
              "         pregnant     glucose          bp        skin     insulin         bmi  \\\n",
              "count  768.000000  768.000000  768.000000  768.000000  768.000000  768.000000   \n",
              "mean     3.845052  120.894531   69.105469   20.536458   79.799479   31.992578   \n",
              "std      3.369578   31.972618   19.355807   15.952218  115.244002    7.884160   \n",
              "min      0.000000    0.000000    0.000000    0.000000    0.000000    0.000000   \n",
              "25%      1.000000   99.000000   62.000000    0.000000    0.000000   27.300000   \n",
              "50%      3.000000  117.000000   72.000000   23.000000   30.500000   32.000000   \n",
              "75%      6.000000  140.250000   80.000000   32.000000  127.250000   36.600000   \n",
              "max     17.000000  199.000000  122.000000   99.000000  846.000000   67.100000   \n",
              "\n",
              "         pedigree         age       label  \n",
              "count  768.000000  768.000000  768.000000  \n",
              "mean     0.471876   33.240885    0.348958  \n",
              "std      0.331329   11.760232    0.476951  \n",
              "min      0.078000   21.000000    0.000000  \n",
              "25%      0.243750   24.000000    0.000000  \n",
              "50%      0.372500   29.000000    0.000000  \n",
              "75%      0.626250   41.000000    1.000000  \n",
              "max      2.420000   81.000000    1.000000  "
            ],
            "text/html": [
              "\n",
              "  <div id=\"df-533a2eb2-cb0b-4e7a-8b1a-05aa691d6f0f\" class=\"colab-df-container\">\n",
              "    <div>\n",
              "<style scoped>\n",
              "    .dataframe tbody tr th:only-of-type {\n",
              "        vertical-align: middle;\n",
              "    }\n",
              "\n",
              "    .dataframe tbody tr th {\n",
              "        vertical-align: top;\n",
              "    }\n",
              "\n",
              "    .dataframe thead th {\n",
              "        text-align: right;\n",
              "    }\n",
              "</style>\n",
              "<table border=\"1\" class=\"dataframe\">\n",
              "  <thead>\n",
              "    <tr style=\"text-align: right;\">\n",
              "      <th></th>\n",
              "      <th>pregnant</th>\n",
              "      <th>glucose</th>\n",
              "      <th>bp</th>\n",
              "      <th>skin</th>\n",
              "      <th>insulin</th>\n",
              "      <th>bmi</th>\n",
              "      <th>pedigree</th>\n",
              "      <th>age</th>\n",
              "      <th>label</th>\n",
              "    </tr>\n",
              "  </thead>\n",
              "  <tbody>\n",
              "    <tr>\n",
              "      <th>count</th>\n",
              "      <td>768.000000</td>\n",
              "      <td>768.000000</td>\n",
              "      <td>768.000000</td>\n",
              "      <td>768.000000</td>\n",
              "      <td>768.000000</td>\n",
              "      <td>768.000000</td>\n",
              "      <td>768.000000</td>\n",
              "      <td>768.000000</td>\n",
              "      <td>768.000000</td>\n",
              "    </tr>\n",
              "    <tr>\n",
              "      <th>mean</th>\n",
              "      <td>3.845052</td>\n",
              "      <td>120.894531</td>\n",
              "      <td>69.105469</td>\n",
              "      <td>20.536458</td>\n",
              "      <td>79.799479</td>\n",
              "      <td>31.992578</td>\n",
              "      <td>0.471876</td>\n",
              "      <td>33.240885</td>\n",
              "      <td>0.348958</td>\n",
              "    </tr>\n",
              "    <tr>\n",
              "      <th>std</th>\n",
              "      <td>3.369578</td>\n",
              "      <td>31.972618</td>\n",
              "      <td>19.355807</td>\n",
              "      <td>15.952218</td>\n",
              "      <td>115.244002</td>\n",
              "      <td>7.884160</td>\n",
              "      <td>0.331329</td>\n",
              "      <td>11.760232</td>\n",
              "      <td>0.476951</td>\n",
              "    </tr>\n",
              "    <tr>\n",
              "      <th>min</th>\n",
              "      <td>0.000000</td>\n",
              "      <td>0.000000</td>\n",
              "      <td>0.000000</td>\n",
              "      <td>0.000000</td>\n",
              "      <td>0.000000</td>\n",
              "      <td>0.000000</td>\n",
              "      <td>0.078000</td>\n",
              "      <td>21.000000</td>\n",
              "      <td>0.000000</td>\n",
              "    </tr>\n",
              "    <tr>\n",
              "      <th>25%</th>\n",
              "      <td>1.000000</td>\n",
              "      <td>99.000000</td>\n",
              "      <td>62.000000</td>\n",
              "      <td>0.000000</td>\n",
              "      <td>0.000000</td>\n",
              "      <td>27.300000</td>\n",
              "      <td>0.243750</td>\n",
              "      <td>24.000000</td>\n",
              "      <td>0.000000</td>\n",
              "    </tr>\n",
              "    <tr>\n",
              "      <th>50%</th>\n",
              "      <td>3.000000</td>\n",
              "      <td>117.000000</td>\n",
              "      <td>72.000000</td>\n",
              "      <td>23.000000</td>\n",
              "      <td>30.500000</td>\n",
              "      <td>32.000000</td>\n",
              "      <td>0.372500</td>\n",
              "      <td>29.000000</td>\n",
              "      <td>0.000000</td>\n",
              "    </tr>\n",
              "    <tr>\n",
              "      <th>75%</th>\n",
              "      <td>6.000000</td>\n",
              "      <td>140.250000</td>\n",
              "      <td>80.000000</td>\n",
              "      <td>32.000000</td>\n",
              "      <td>127.250000</td>\n",
              "      <td>36.600000</td>\n",
              "      <td>0.626250</td>\n",
              "      <td>41.000000</td>\n",
              "      <td>1.000000</td>\n",
              "    </tr>\n",
              "    <tr>\n",
              "      <th>max</th>\n",
              "      <td>17.000000</td>\n",
              "      <td>199.000000</td>\n",
              "      <td>122.000000</td>\n",
              "      <td>99.000000</td>\n",
              "      <td>846.000000</td>\n",
              "      <td>67.100000</td>\n",
              "      <td>2.420000</td>\n",
              "      <td>81.000000</td>\n",
              "      <td>1.000000</td>\n",
              "    </tr>\n",
              "  </tbody>\n",
              "</table>\n",
              "</div>\n",
              "    <div class=\"colab-df-buttons\">\n",
              "\n",
              "  <div class=\"colab-df-container\">\n",
              "    <button class=\"colab-df-convert\" onclick=\"convertToInteractive('df-533a2eb2-cb0b-4e7a-8b1a-05aa691d6f0f')\"\n",
              "            title=\"Convert this dataframe to an interactive table.\"\n",
              "            style=\"display:none;\">\n",
              "\n",
              "  <svg xmlns=\"http://www.w3.org/2000/svg\" height=\"24px\" viewBox=\"0 -960 960 960\">\n",
              "    <path d=\"M120-120v-720h720v720H120Zm60-500h600v-160H180v160Zm220 220h160v-160H400v160Zm0 220h160v-160H400v160ZM180-400h160v-160H180v160Zm440 0h160v-160H620v160ZM180-180h160v-160H180v160Zm440 0h160v-160H620v160Z\"/>\n",
              "  </svg>\n",
              "    </button>\n",
              "\n",
              "  <style>\n",
              "    .colab-df-container {\n",
              "      display:flex;\n",
              "      gap: 12px;\n",
              "    }\n",
              "\n",
              "    .colab-df-convert {\n",
              "      background-color: #E8F0FE;\n",
              "      border: none;\n",
              "      border-radius: 50%;\n",
              "      cursor: pointer;\n",
              "      display: none;\n",
              "      fill: #1967D2;\n",
              "      height: 32px;\n",
              "      padding: 0 0 0 0;\n",
              "      width: 32px;\n",
              "    }\n",
              "\n",
              "    .colab-df-convert:hover {\n",
              "      background-color: #E2EBFA;\n",
              "      box-shadow: 0px 1px 2px rgba(60, 64, 67, 0.3), 0px 1px 3px 1px rgba(60, 64, 67, 0.15);\n",
              "      fill: #174EA6;\n",
              "    }\n",
              "\n",
              "    .colab-df-buttons div {\n",
              "      margin-bottom: 4px;\n",
              "    }\n",
              "\n",
              "    [theme=dark] .colab-df-convert {\n",
              "      background-color: #3B4455;\n",
              "      fill: #D2E3FC;\n",
              "    }\n",
              "\n",
              "    [theme=dark] .colab-df-convert:hover {\n",
              "      background-color: #434B5C;\n",
              "      box-shadow: 0px 1px 3px 1px rgba(0, 0, 0, 0.15);\n",
              "      filter: drop-shadow(0px 1px 2px rgba(0, 0, 0, 0.3));\n",
              "      fill: #FFFFFF;\n",
              "    }\n",
              "  </style>\n",
              "\n",
              "    <script>\n",
              "      const buttonEl =\n",
              "        document.querySelector('#df-533a2eb2-cb0b-4e7a-8b1a-05aa691d6f0f button.colab-df-convert');\n",
              "      buttonEl.style.display =\n",
              "        google.colab.kernel.accessAllowed ? 'block' : 'none';\n",
              "\n",
              "      async function convertToInteractive(key) {\n",
              "        const element = document.querySelector('#df-533a2eb2-cb0b-4e7a-8b1a-05aa691d6f0f');\n",
              "        const dataTable =\n",
              "          await google.colab.kernel.invokeFunction('convertToInteractive',\n",
              "                                                    [key], {});\n",
              "        if (!dataTable) return;\n",
              "\n",
              "        const docLinkHtml = 'Like what you see? Visit the ' +\n",
              "          '<a target=\"_blank\" href=https://colab.research.google.com/notebooks/data_table.ipynb>data table notebook</a>'\n",
              "          + ' to learn more about interactive tables.';\n",
              "        element.innerHTML = '';\n",
              "        dataTable['output_type'] = 'display_data';\n",
              "        await google.colab.output.renderOutput(dataTable, element);\n",
              "        const docLink = document.createElement('div');\n",
              "        docLink.innerHTML = docLinkHtml;\n",
              "        element.appendChild(docLink);\n",
              "      }\n",
              "    </script>\n",
              "  </div>\n",
              "\n",
              "\n",
              "<div id=\"df-57190b12-8e1e-40ae-967e-7f87ba1b606e\">\n",
              "  <button class=\"colab-df-quickchart\" onclick=\"quickchart('df-57190b12-8e1e-40ae-967e-7f87ba1b606e')\"\n",
              "            title=\"Suggest charts\"\n",
              "            style=\"display:none;\">\n",
              "\n",
              "<svg xmlns=\"http://www.w3.org/2000/svg\" height=\"24px\"viewBox=\"0 0 24 24\"\n",
              "     width=\"24px\">\n",
              "    <g>\n",
              "        <path d=\"M19 3H5c-1.1 0-2 .9-2 2v14c0 1.1.9 2 2 2h14c1.1 0 2-.9 2-2V5c0-1.1-.9-2-2-2zM9 17H7v-7h2v7zm4 0h-2V7h2v10zm4 0h-2v-4h2v4z\"/>\n",
              "    </g>\n",
              "</svg>\n",
              "  </button>\n",
              "\n",
              "<style>\n",
              "  .colab-df-quickchart {\n",
              "      --bg-color: #E8F0FE;\n",
              "      --fill-color: #1967D2;\n",
              "      --hover-bg-color: #E2EBFA;\n",
              "      --hover-fill-color: #174EA6;\n",
              "      --disabled-fill-color: #AAA;\n",
              "      --disabled-bg-color: #DDD;\n",
              "  }\n",
              "\n",
              "  [theme=dark] .colab-df-quickchart {\n",
              "      --bg-color: #3B4455;\n",
              "      --fill-color: #D2E3FC;\n",
              "      --hover-bg-color: #434B5C;\n",
              "      --hover-fill-color: #FFFFFF;\n",
              "      --disabled-bg-color: #3B4455;\n",
              "      --disabled-fill-color: #666;\n",
              "  }\n",
              "\n",
              "  .colab-df-quickchart {\n",
              "    background-color: var(--bg-color);\n",
              "    border: none;\n",
              "    border-radius: 50%;\n",
              "    cursor: pointer;\n",
              "    display: none;\n",
              "    fill: var(--fill-color);\n",
              "    height: 32px;\n",
              "    padding: 0;\n",
              "    width: 32px;\n",
              "  }\n",
              "\n",
              "  .colab-df-quickchart:hover {\n",
              "    background-color: var(--hover-bg-color);\n",
              "    box-shadow: 0 1px 2px rgba(60, 64, 67, 0.3), 0 1px 3px 1px rgba(60, 64, 67, 0.15);\n",
              "    fill: var(--button-hover-fill-color);\n",
              "  }\n",
              "\n",
              "  .colab-df-quickchart-complete:disabled,\n",
              "  .colab-df-quickchart-complete:disabled:hover {\n",
              "    background-color: var(--disabled-bg-color);\n",
              "    fill: var(--disabled-fill-color);\n",
              "    box-shadow: none;\n",
              "  }\n",
              "\n",
              "  .colab-df-spinner {\n",
              "    border: 2px solid var(--fill-color);\n",
              "    border-color: transparent;\n",
              "    border-bottom-color: var(--fill-color);\n",
              "    animation:\n",
              "      spin 1s steps(1) infinite;\n",
              "  }\n",
              "\n",
              "  @keyframes spin {\n",
              "    0% {\n",
              "      border-color: transparent;\n",
              "      border-bottom-color: var(--fill-color);\n",
              "      border-left-color: var(--fill-color);\n",
              "    }\n",
              "    20% {\n",
              "      border-color: transparent;\n",
              "      border-left-color: var(--fill-color);\n",
              "      border-top-color: var(--fill-color);\n",
              "    }\n",
              "    30% {\n",
              "      border-color: transparent;\n",
              "      border-left-color: var(--fill-color);\n",
              "      border-top-color: var(--fill-color);\n",
              "      border-right-color: var(--fill-color);\n",
              "    }\n",
              "    40% {\n",
              "      border-color: transparent;\n",
              "      border-right-color: var(--fill-color);\n",
              "      border-top-color: var(--fill-color);\n",
              "    }\n",
              "    60% {\n",
              "      border-color: transparent;\n",
              "      border-right-color: var(--fill-color);\n",
              "    }\n",
              "    80% {\n",
              "      border-color: transparent;\n",
              "      border-right-color: var(--fill-color);\n",
              "      border-bottom-color: var(--fill-color);\n",
              "    }\n",
              "    90% {\n",
              "      border-color: transparent;\n",
              "      border-bottom-color: var(--fill-color);\n",
              "    }\n",
              "  }\n",
              "</style>\n",
              "\n",
              "  <script>\n",
              "    async function quickchart(key) {\n",
              "      const quickchartButtonEl =\n",
              "        document.querySelector('#' + key + ' button');\n",
              "      quickchartButtonEl.disabled = true;  // To prevent multiple clicks.\n",
              "      quickchartButtonEl.classList.add('colab-df-spinner');\n",
              "      try {\n",
              "        const charts = await google.colab.kernel.invokeFunction(\n",
              "            'suggestCharts', [key], {});\n",
              "      } catch (error) {\n",
              "        console.error('Error during call to suggestCharts:', error);\n",
              "      }\n",
              "      quickchartButtonEl.classList.remove('colab-df-spinner');\n",
              "      quickchartButtonEl.classList.add('colab-df-quickchart-complete');\n",
              "    }\n",
              "    (() => {\n",
              "      let quickchartButtonEl =\n",
              "        document.querySelector('#df-57190b12-8e1e-40ae-967e-7f87ba1b606e button');\n",
              "      quickchartButtonEl.style.display =\n",
              "        google.colab.kernel.accessAllowed ? 'block' : 'none';\n",
              "    })();\n",
              "  </script>\n",
              "</div>\n",
              "    </div>\n",
              "  </div>\n"
            ],
            "application/vnd.google.colaboratory.intrinsic+json": {
              "type": "dataframe",
              "summary": "{\n  \"name\": \"df\",\n  \"rows\": 8,\n  \"fields\": [\n    {\n      \"column\": \"pregnant\",\n      \"properties\": {\n        \"dtype\": \"number\",\n        \"std\": 269.85223453356366,\n        \"min\": 0.0,\n        \"max\": 768.0,\n        \"num_unique_values\": 8,\n        \"samples\": [\n          3.8450520833333335,\n          3.0,\n          768.0\n        ],\n        \"semantic_type\": \"\",\n        \"description\": \"\"\n      }\n    },\n    {\n      \"column\": \"glucose\",\n      \"properties\": {\n        \"dtype\": \"number\",\n        \"std\": 243.73802348295857,\n        \"min\": 0.0,\n        \"max\": 768.0,\n        \"num_unique_values\": 8,\n        \"samples\": [\n          120.89453125,\n          117.0,\n          768.0\n        ],\n        \"semantic_type\": \"\",\n        \"description\": \"\"\n      }\n    },\n    {\n      \"column\": \"bp\",\n      \"properties\": {\n        \"dtype\": \"number\",\n        \"std\": 252.8525053581062,\n        \"min\": 0.0,\n        \"max\": 768.0,\n        \"num_unique_values\": 8,\n        \"samples\": [\n          69.10546875,\n          72.0,\n          768.0\n        ],\n        \"semantic_type\": \"\",\n        \"description\": \"\"\n      }\n    },\n    {\n      \"column\": \"skin\",\n      \"properties\": {\n        \"dtype\": \"number\",\n        \"std\": 263.7684730531098,\n        \"min\": 0.0,\n        \"max\": 768.0,\n        \"num_unique_values\": 7,\n        \"samples\": [\n          768.0,\n          20.536458333333332,\n          32.0\n        ],\n        \"semantic_type\": \"\",\n        \"description\": \"\"\n      }\n    },\n    {\n      \"column\": \"insulin\",\n      \"properties\": {\n        \"dtype\": \"number\",\n        \"std\": 350.26059167945886,\n        \"min\": 0.0,\n        \"max\": 846.0,\n        \"num_unique_values\": 7,\n        \"samples\": [\n          768.0,\n          79.79947916666667,\n          127.25\n        ],\n        \"semantic_type\": \"\",\n        \"description\": \"\"\n      }\n    },\n    {\n      \"column\": \"bmi\",\n      \"properties\": {\n        \"dtype\": \"number\",\n        \"std\": 262.05117817552093,\n        \"min\": 0.0,\n        \"max\": 768.0,\n        \"num_unique_values\": 8,\n        \"samples\": [\n          31.992578124999998,\n          32.0,\n          768.0\n        ],\n        \"semantic_type\": \"\",\n        \"description\": \"\"\n      }\n    },\n    {\n      \"column\": \"pedigree\",\n      \"properties\": {\n        \"dtype\": \"number\",\n        \"std\": 271.3005221658502,\n        \"min\": 0.078,\n        \"max\": 768.0,\n        \"num_unique_values\": 8,\n        \"samples\": [\n          0.47187630208333325,\n          0.3725,\n          768.0\n        ],\n        \"semantic_type\": \"\",\n        \"description\": \"\"\n      }\n    },\n    {\n      \"column\": \"age\",\n      \"properties\": {\n        \"dtype\": \"number\",\n        \"std\": 260.1941178528413,\n        \"min\": 11.760231540678685,\n        \"max\": 768.0,\n        \"num_unique_values\": 8,\n        \"samples\": [\n          33.240885416666664,\n          29.0,\n          768.0\n        ],\n        \"semantic_type\": \"\",\n        \"description\": \"\"\n      }\n    },\n    {\n      \"column\": \"label\",\n      \"properties\": {\n        \"dtype\": \"number\",\n        \"std\": 271.3865920388932,\n        \"min\": 0.0,\n        \"max\": 768.0,\n        \"num_unique_values\": 5,\n        \"samples\": [\n          0.3489583333333333,\n          1.0,\n          0.47695137724279896\n        ],\n        \"semantic_type\": \"\",\n        \"description\": \"\"\n      }\n    }\n  ]\n}"
            }
          },
          "metadata": {},
          "execution_count": 4
        }
      ]
    },
    {
      "cell_type": "code",
      "source": [
        "# Correlation Matrix (For Feature Engineering)\n",
        "corr_matrix = df.corr()\n",
        "corr_matrix"
      ],
      "metadata": {
        "colab": {
          "base_uri": "https://localhost:8080/",
          "height": 331
        },
        "id": "7jRTJwYWiZDI",
        "outputId": "1d958492-ea36-4b4f-8819-b3f243526e33"
      },
      "execution_count": 5,
      "outputs": [
        {
          "output_type": "execute_result",
          "data": {
            "text/plain": [
              "          pregnant   glucose        bp      skin   insulin       bmi  \\\n",
              "pregnant  1.000000  0.129459  0.141282 -0.081672 -0.073535  0.017683   \n",
              "glucose   0.129459  1.000000  0.152590  0.057328  0.331357  0.221071   \n",
              "bp        0.141282  0.152590  1.000000  0.207371  0.088933  0.281805   \n",
              "skin     -0.081672  0.057328  0.207371  1.000000  0.436783  0.392573   \n",
              "insulin  -0.073535  0.331357  0.088933  0.436783  1.000000  0.197859   \n",
              "bmi       0.017683  0.221071  0.281805  0.392573  0.197859  1.000000   \n",
              "pedigree -0.033523  0.137337  0.041265  0.183928  0.185071  0.140647   \n",
              "age       0.544341  0.263514  0.239528 -0.113970 -0.042163  0.036242   \n",
              "label     0.221898  0.466581  0.065068  0.074752  0.130548  0.292695   \n",
              "\n",
              "          pedigree       age     label  \n",
              "pregnant -0.033523  0.544341  0.221898  \n",
              "glucose   0.137337  0.263514  0.466581  \n",
              "bp        0.041265  0.239528  0.065068  \n",
              "skin      0.183928 -0.113970  0.074752  \n",
              "insulin   0.185071 -0.042163  0.130548  \n",
              "bmi       0.140647  0.036242  0.292695  \n",
              "pedigree  1.000000  0.033561  0.173844  \n",
              "age       0.033561  1.000000  0.238356  \n",
              "label     0.173844  0.238356  1.000000  "
            ],
            "text/html": [
              "\n",
              "  <div id=\"df-741e4f0a-b0d4-4456-a4b3-89b36f9d3bbd\" class=\"colab-df-container\">\n",
              "    <div>\n",
              "<style scoped>\n",
              "    .dataframe tbody tr th:only-of-type {\n",
              "        vertical-align: middle;\n",
              "    }\n",
              "\n",
              "    .dataframe tbody tr th {\n",
              "        vertical-align: top;\n",
              "    }\n",
              "\n",
              "    .dataframe thead th {\n",
              "        text-align: right;\n",
              "    }\n",
              "</style>\n",
              "<table border=\"1\" class=\"dataframe\">\n",
              "  <thead>\n",
              "    <tr style=\"text-align: right;\">\n",
              "      <th></th>\n",
              "      <th>pregnant</th>\n",
              "      <th>glucose</th>\n",
              "      <th>bp</th>\n",
              "      <th>skin</th>\n",
              "      <th>insulin</th>\n",
              "      <th>bmi</th>\n",
              "      <th>pedigree</th>\n",
              "      <th>age</th>\n",
              "      <th>label</th>\n",
              "    </tr>\n",
              "  </thead>\n",
              "  <tbody>\n",
              "    <tr>\n",
              "      <th>pregnant</th>\n",
              "      <td>1.000000</td>\n",
              "      <td>0.129459</td>\n",
              "      <td>0.141282</td>\n",
              "      <td>-0.081672</td>\n",
              "      <td>-0.073535</td>\n",
              "      <td>0.017683</td>\n",
              "      <td>-0.033523</td>\n",
              "      <td>0.544341</td>\n",
              "      <td>0.221898</td>\n",
              "    </tr>\n",
              "    <tr>\n",
              "      <th>glucose</th>\n",
              "      <td>0.129459</td>\n",
              "      <td>1.000000</td>\n",
              "      <td>0.152590</td>\n",
              "      <td>0.057328</td>\n",
              "      <td>0.331357</td>\n",
              "      <td>0.221071</td>\n",
              "      <td>0.137337</td>\n",
              "      <td>0.263514</td>\n",
              "      <td>0.466581</td>\n",
              "    </tr>\n",
              "    <tr>\n",
              "      <th>bp</th>\n",
              "      <td>0.141282</td>\n",
              "      <td>0.152590</td>\n",
              "      <td>1.000000</td>\n",
              "      <td>0.207371</td>\n",
              "      <td>0.088933</td>\n",
              "      <td>0.281805</td>\n",
              "      <td>0.041265</td>\n",
              "      <td>0.239528</td>\n",
              "      <td>0.065068</td>\n",
              "    </tr>\n",
              "    <tr>\n",
              "      <th>skin</th>\n",
              "      <td>-0.081672</td>\n",
              "      <td>0.057328</td>\n",
              "      <td>0.207371</td>\n",
              "      <td>1.000000</td>\n",
              "      <td>0.436783</td>\n",
              "      <td>0.392573</td>\n",
              "      <td>0.183928</td>\n",
              "      <td>-0.113970</td>\n",
              "      <td>0.074752</td>\n",
              "    </tr>\n",
              "    <tr>\n",
              "      <th>insulin</th>\n",
              "      <td>-0.073535</td>\n",
              "      <td>0.331357</td>\n",
              "      <td>0.088933</td>\n",
              "      <td>0.436783</td>\n",
              "      <td>1.000000</td>\n",
              "      <td>0.197859</td>\n",
              "      <td>0.185071</td>\n",
              "      <td>-0.042163</td>\n",
              "      <td>0.130548</td>\n",
              "    </tr>\n",
              "    <tr>\n",
              "      <th>bmi</th>\n",
              "      <td>0.017683</td>\n",
              "      <td>0.221071</td>\n",
              "      <td>0.281805</td>\n",
              "      <td>0.392573</td>\n",
              "      <td>0.197859</td>\n",
              "      <td>1.000000</td>\n",
              "      <td>0.140647</td>\n",
              "      <td>0.036242</td>\n",
              "      <td>0.292695</td>\n",
              "    </tr>\n",
              "    <tr>\n",
              "      <th>pedigree</th>\n",
              "      <td>-0.033523</td>\n",
              "      <td>0.137337</td>\n",
              "      <td>0.041265</td>\n",
              "      <td>0.183928</td>\n",
              "      <td>0.185071</td>\n",
              "      <td>0.140647</td>\n",
              "      <td>1.000000</td>\n",
              "      <td>0.033561</td>\n",
              "      <td>0.173844</td>\n",
              "    </tr>\n",
              "    <tr>\n",
              "      <th>age</th>\n",
              "      <td>0.544341</td>\n",
              "      <td>0.263514</td>\n",
              "      <td>0.239528</td>\n",
              "      <td>-0.113970</td>\n",
              "      <td>-0.042163</td>\n",
              "      <td>0.036242</td>\n",
              "      <td>0.033561</td>\n",
              "      <td>1.000000</td>\n",
              "      <td>0.238356</td>\n",
              "    </tr>\n",
              "    <tr>\n",
              "      <th>label</th>\n",
              "      <td>0.221898</td>\n",
              "      <td>0.466581</td>\n",
              "      <td>0.065068</td>\n",
              "      <td>0.074752</td>\n",
              "      <td>0.130548</td>\n",
              "      <td>0.292695</td>\n",
              "      <td>0.173844</td>\n",
              "      <td>0.238356</td>\n",
              "      <td>1.000000</td>\n",
              "    </tr>\n",
              "  </tbody>\n",
              "</table>\n",
              "</div>\n",
              "    <div class=\"colab-df-buttons\">\n",
              "\n",
              "  <div class=\"colab-df-container\">\n",
              "    <button class=\"colab-df-convert\" onclick=\"convertToInteractive('df-741e4f0a-b0d4-4456-a4b3-89b36f9d3bbd')\"\n",
              "            title=\"Convert this dataframe to an interactive table.\"\n",
              "            style=\"display:none;\">\n",
              "\n",
              "  <svg xmlns=\"http://www.w3.org/2000/svg\" height=\"24px\" viewBox=\"0 -960 960 960\">\n",
              "    <path d=\"M120-120v-720h720v720H120Zm60-500h600v-160H180v160Zm220 220h160v-160H400v160Zm0 220h160v-160H400v160ZM180-400h160v-160H180v160Zm440 0h160v-160H620v160ZM180-180h160v-160H180v160Zm440 0h160v-160H620v160Z\"/>\n",
              "  </svg>\n",
              "    </button>\n",
              "\n",
              "  <style>\n",
              "    .colab-df-container {\n",
              "      display:flex;\n",
              "      gap: 12px;\n",
              "    }\n",
              "\n",
              "    .colab-df-convert {\n",
              "      background-color: #E8F0FE;\n",
              "      border: none;\n",
              "      border-radius: 50%;\n",
              "      cursor: pointer;\n",
              "      display: none;\n",
              "      fill: #1967D2;\n",
              "      height: 32px;\n",
              "      padding: 0 0 0 0;\n",
              "      width: 32px;\n",
              "    }\n",
              "\n",
              "    .colab-df-convert:hover {\n",
              "      background-color: #E2EBFA;\n",
              "      box-shadow: 0px 1px 2px rgba(60, 64, 67, 0.3), 0px 1px 3px 1px rgba(60, 64, 67, 0.15);\n",
              "      fill: #174EA6;\n",
              "    }\n",
              "\n",
              "    .colab-df-buttons div {\n",
              "      margin-bottom: 4px;\n",
              "    }\n",
              "\n",
              "    [theme=dark] .colab-df-convert {\n",
              "      background-color: #3B4455;\n",
              "      fill: #D2E3FC;\n",
              "    }\n",
              "\n",
              "    [theme=dark] .colab-df-convert:hover {\n",
              "      background-color: #434B5C;\n",
              "      box-shadow: 0px 1px 3px 1px rgba(0, 0, 0, 0.15);\n",
              "      filter: drop-shadow(0px 1px 2px rgba(0, 0, 0, 0.3));\n",
              "      fill: #FFFFFF;\n",
              "    }\n",
              "  </style>\n",
              "\n",
              "    <script>\n",
              "      const buttonEl =\n",
              "        document.querySelector('#df-741e4f0a-b0d4-4456-a4b3-89b36f9d3bbd button.colab-df-convert');\n",
              "      buttonEl.style.display =\n",
              "        google.colab.kernel.accessAllowed ? 'block' : 'none';\n",
              "\n",
              "      async function convertToInteractive(key) {\n",
              "        const element = document.querySelector('#df-741e4f0a-b0d4-4456-a4b3-89b36f9d3bbd');\n",
              "        const dataTable =\n",
              "          await google.colab.kernel.invokeFunction('convertToInteractive',\n",
              "                                                    [key], {});\n",
              "        if (!dataTable) return;\n",
              "\n",
              "        const docLinkHtml = 'Like what you see? Visit the ' +\n",
              "          '<a target=\"_blank\" href=https://colab.research.google.com/notebooks/data_table.ipynb>data table notebook</a>'\n",
              "          + ' to learn more about interactive tables.';\n",
              "        element.innerHTML = '';\n",
              "        dataTable['output_type'] = 'display_data';\n",
              "        await google.colab.output.renderOutput(dataTable, element);\n",
              "        const docLink = document.createElement('div');\n",
              "        docLink.innerHTML = docLinkHtml;\n",
              "        element.appendChild(docLink);\n",
              "      }\n",
              "    </script>\n",
              "  </div>\n",
              "\n",
              "\n",
              "<div id=\"df-fa879b94-f951-4f3a-b207-4119cc220a17\">\n",
              "  <button class=\"colab-df-quickchart\" onclick=\"quickchart('df-fa879b94-f951-4f3a-b207-4119cc220a17')\"\n",
              "            title=\"Suggest charts\"\n",
              "            style=\"display:none;\">\n",
              "\n",
              "<svg xmlns=\"http://www.w3.org/2000/svg\" height=\"24px\"viewBox=\"0 0 24 24\"\n",
              "     width=\"24px\">\n",
              "    <g>\n",
              "        <path d=\"M19 3H5c-1.1 0-2 .9-2 2v14c0 1.1.9 2 2 2h14c1.1 0 2-.9 2-2V5c0-1.1-.9-2-2-2zM9 17H7v-7h2v7zm4 0h-2V7h2v10zm4 0h-2v-4h2v4z\"/>\n",
              "    </g>\n",
              "</svg>\n",
              "  </button>\n",
              "\n",
              "<style>\n",
              "  .colab-df-quickchart {\n",
              "      --bg-color: #E8F0FE;\n",
              "      --fill-color: #1967D2;\n",
              "      --hover-bg-color: #E2EBFA;\n",
              "      --hover-fill-color: #174EA6;\n",
              "      --disabled-fill-color: #AAA;\n",
              "      --disabled-bg-color: #DDD;\n",
              "  }\n",
              "\n",
              "  [theme=dark] .colab-df-quickchart {\n",
              "      --bg-color: #3B4455;\n",
              "      --fill-color: #D2E3FC;\n",
              "      --hover-bg-color: #434B5C;\n",
              "      --hover-fill-color: #FFFFFF;\n",
              "      --disabled-bg-color: #3B4455;\n",
              "      --disabled-fill-color: #666;\n",
              "  }\n",
              "\n",
              "  .colab-df-quickchart {\n",
              "    background-color: var(--bg-color);\n",
              "    border: none;\n",
              "    border-radius: 50%;\n",
              "    cursor: pointer;\n",
              "    display: none;\n",
              "    fill: var(--fill-color);\n",
              "    height: 32px;\n",
              "    padding: 0;\n",
              "    width: 32px;\n",
              "  }\n",
              "\n",
              "  .colab-df-quickchart:hover {\n",
              "    background-color: var(--hover-bg-color);\n",
              "    box-shadow: 0 1px 2px rgba(60, 64, 67, 0.3), 0 1px 3px 1px rgba(60, 64, 67, 0.15);\n",
              "    fill: var(--button-hover-fill-color);\n",
              "  }\n",
              "\n",
              "  .colab-df-quickchart-complete:disabled,\n",
              "  .colab-df-quickchart-complete:disabled:hover {\n",
              "    background-color: var(--disabled-bg-color);\n",
              "    fill: var(--disabled-fill-color);\n",
              "    box-shadow: none;\n",
              "  }\n",
              "\n",
              "  .colab-df-spinner {\n",
              "    border: 2px solid var(--fill-color);\n",
              "    border-color: transparent;\n",
              "    border-bottom-color: var(--fill-color);\n",
              "    animation:\n",
              "      spin 1s steps(1) infinite;\n",
              "  }\n",
              "\n",
              "  @keyframes spin {\n",
              "    0% {\n",
              "      border-color: transparent;\n",
              "      border-bottom-color: var(--fill-color);\n",
              "      border-left-color: var(--fill-color);\n",
              "    }\n",
              "    20% {\n",
              "      border-color: transparent;\n",
              "      border-left-color: var(--fill-color);\n",
              "      border-top-color: var(--fill-color);\n",
              "    }\n",
              "    30% {\n",
              "      border-color: transparent;\n",
              "      border-left-color: var(--fill-color);\n",
              "      border-top-color: var(--fill-color);\n",
              "      border-right-color: var(--fill-color);\n",
              "    }\n",
              "    40% {\n",
              "      border-color: transparent;\n",
              "      border-right-color: var(--fill-color);\n",
              "      border-top-color: var(--fill-color);\n",
              "    }\n",
              "    60% {\n",
              "      border-color: transparent;\n",
              "      border-right-color: var(--fill-color);\n",
              "    }\n",
              "    80% {\n",
              "      border-color: transparent;\n",
              "      border-right-color: var(--fill-color);\n",
              "      border-bottom-color: var(--fill-color);\n",
              "    }\n",
              "    90% {\n",
              "      border-color: transparent;\n",
              "      border-bottom-color: var(--fill-color);\n",
              "    }\n",
              "  }\n",
              "</style>\n",
              "\n",
              "  <script>\n",
              "    async function quickchart(key) {\n",
              "      const quickchartButtonEl =\n",
              "        document.querySelector('#' + key + ' button');\n",
              "      quickchartButtonEl.disabled = true;  // To prevent multiple clicks.\n",
              "      quickchartButtonEl.classList.add('colab-df-spinner');\n",
              "      try {\n",
              "        const charts = await google.colab.kernel.invokeFunction(\n",
              "            'suggestCharts', [key], {});\n",
              "      } catch (error) {\n",
              "        console.error('Error during call to suggestCharts:', error);\n",
              "      }\n",
              "      quickchartButtonEl.classList.remove('colab-df-spinner');\n",
              "      quickchartButtonEl.classList.add('colab-df-quickchart-complete');\n",
              "    }\n",
              "    (() => {\n",
              "      let quickchartButtonEl =\n",
              "        document.querySelector('#df-fa879b94-f951-4f3a-b207-4119cc220a17 button');\n",
              "      quickchartButtonEl.style.display =\n",
              "        google.colab.kernel.accessAllowed ? 'block' : 'none';\n",
              "    })();\n",
              "  </script>\n",
              "</div>\n",
              "    </div>\n",
              "  </div>\n"
            ],
            "application/vnd.google.colaboratory.intrinsic+json": {
              "type": "dataframe",
              "variable_name": "corr_matrix",
              "summary": "{\n  \"name\": \"corr_matrix\",\n  \"rows\": 9,\n  \"fields\": [\n    {\n      \"column\": \"pregnant\",\n      \"properties\": {\n        \"dtype\": \"number\",\n        \"std\": 0.3551273944830802,\n        \"min\": -0.08167177444900726,\n        \"max\": 1.0,\n        \"num_unique_values\": 9,\n        \"samples\": [\n          0.5443412284023392,\n          0.12945867149927248,\n          0.017683090727830565\n        ],\n        \"semantic_type\": \"\",\n        \"description\": \"\"\n      }\n    },\n    {\n      \"column\": \"glucose\",\n      \"properties\": {\n        \"dtype\": \"number\",\n        \"std\": 0.28767750976254863,\n        \"min\": 0.05732789073817692,\n        \"max\": 1.0,\n        \"num_unique_values\": 9,\n        \"samples\": [\n          0.26351431982433343,\n          1.0,\n          0.2210710694589828\n        ],\n        \"semantic_type\": \"\",\n        \"description\": \"\"\n      }\n    },\n    {\n      \"column\": \"bp\",\n      \"properties\": {\n        \"dtype\": \"number\",\n        \"std\": 0.2937568072929426,\n        \"min\": 0.04126494793009856,\n        \"max\": 1.0,\n        \"num_unique_values\": 9,\n        \"samples\": [\n          0.23952794642136344,\n          0.1525895865686646,\n          0.2818052888499109\n        ],\n        \"semantic_type\": \"\",\n        \"description\": \"\"\n      }\n    },\n    {\n      \"column\": \"skin\",\n      \"properties\": {\n        \"dtype\": \"number\",\n        \"std\": 0.3415504031654345,\n        \"min\": -0.11397026236774152,\n        \"max\": 1.0,\n        \"num_unique_values\": 9,\n        \"samples\": [\n          -0.11397026236774152,\n          0.05732789073817692,\n          0.39257320415903835\n        ],\n        \"semantic_type\": \"\",\n        \"description\": \"\"\n      }\n    },\n    {\n      \"column\": \"insulin\",\n      \"properties\": {\n        \"dtype\": \"number\",\n        \"std\": 0.3242652539286031,\n        \"min\": -0.07353461435162822,\n        \"max\": 1.0,\n        \"num_unique_values\": 9,\n        \"samples\": [\n          -0.04216295473537695,\n          0.3313571099202092,\n          0.19785905649310145\n        ],\n        \"semantic_type\": \"\",\n        \"description\": \"\"\n      }\n    },\n    {\n      \"column\": \"bmi\",\n      \"properties\": {\n        \"dtype\": \"number\",\n        \"std\": 0.29340599982594495,\n        \"min\": 0.017683090727830565,\n        \"max\": 1.0,\n        \"num_unique_values\": 9,\n        \"samples\": [\n          0.03624187009229395,\n          0.2210710694589828,\n          1.0\n        ],\n        \"semantic_type\": \"\",\n        \"description\": \"\"\n      }\n    },\n    {\n      \"column\": \"pedigree\",\n      \"properties\": {\n        \"dtype\": \"number\",\n        \"std\": 0.3073307082237146,\n        \"min\": -0.03352267296261304,\n        \"max\": 1.0,\n        \"num_unique_values\": 9,\n        \"samples\": [\n          0.03356131243480539,\n          0.13733729982837092,\n          0.14064695254510523\n        ],\n        \"semantic_type\": \"\",\n        \"description\": \"\"\n      }\n    },\n    {\n      \"column\": \"age\",\n      \"properties\": {\n        \"dtype\": \"number\",\n        \"std\": 0.3463473783514741,\n        \"min\": -0.11397026236774152,\n        \"max\": 1.0,\n        \"num_unique_values\": 9,\n        \"samples\": [\n          1.0,\n          0.26351431982433343,\n          0.03624187009229395\n        ],\n        \"semantic_type\": \"\",\n        \"description\": \"\"\n      }\n    },\n    {\n      \"column\": \"label\",\n      \"properties\": {\n        \"dtype\": \"number\",\n        \"std\": 0.2911432844711856,\n        \"min\": 0.06506835955033277,\n        \"max\": 1.0,\n        \"num_unique_values\": 9,\n        \"samples\": [\n          0.23835598302719757,\n          0.46658139830687373,\n          0.2926946626444454\n        ],\n        \"semantic_type\": \"\",\n        \"description\": \"\"\n      }\n    }\n  ]\n}"
            }
          },
          "metadata": {},
          "execution_count": 5
        }
      ]
    },
    {
      "cell_type": "code",
      "source": [
        "# Check balancement of dataset\n",
        "df.label.value_counts()"
      ],
      "metadata": {
        "colab": {
          "base_uri": "https://localhost:8080/",
          "height": 178
        },
        "id": "qNcFN7B4idKp",
        "outputId": "cb88cd99-1f39-4323-d3cc-349c4a48dce0"
      },
      "execution_count": 6,
      "outputs": [
        {
          "output_type": "execute_result",
          "data": {
            "text/plain": [
              "label\n",
              "0    500\n",
              "1    268\n",
              "Name: count, dtype: int64"
            ],
            "text/html": [
              "<table border=\"1\" class=\"dataframe\">\n",
              "  <thead>\n",
              "    <tr style=\"text-align: right;\">\n",
              "      <th></th>\n",
              "      <th>count</th>\n",
              "    </tr>\n",
              "    <tr>\n",
              "      <th>label</th>\n",
              "      <th></th>\n",
              "    </tr>\n",
              "  </thead>\n",
              "  <tbody>\n",
              "    <tr>\n",
              "      <th>0</th>\n",
              "      <td>500</td>\n",
              "    </tr>\n",
              "    <tr>\n",
              "      <th>1</th>\n",
              "      <td>268</td>\n",
              "    </tr>\n",
              "  </tbody>\n",
              "</table><br><label><b>dtype:</b> int64</label>"
            ]
          },
          "metadata": {},
          "execution_count": 6
        }
      ]
    },
    {
      "cell_type": "code",
      "source": [
        "# Split dataset in features and target variable\n",
        "X = df[['pregnant', 'insulin', 'bmi', 'age','glucose','bp','pedigree']] # Features\n",
        "y = df.label # Target variable\n",
        "\n",
        "print(\"Features Shape:\", X.shape)\n",
        "print(\"Labels Shape:\", y.shape)"
      ],
      "metadata": {
        "colab": {
          "base_uri": "https://localhost:8080/"
        },
        "id": "d2gcK7DWiilQ",
        "outputId": "3b7492b9-0d0b-4ae0-ea02-343f49f45129"
      },
      "execution_count": 7,
      "outputs": [
        {
          "output_type": "stream",
          "name": "stdout",
          "text": [
            "Features Shape: (768, 7)\n",
            "Labels Shape: (768,)\n"
          ]
        }
      ]
    },
    {
      "cell_type": "code",
      "source": [
        "from sklearn.model_selection import train_test_split\n",
        "\n",
        "# Split the dataset into training, validation, and test sets (75% train, 0.145% validation, 0.145% test)\n",
        "X_train, X_temp, y_train, y_temp = train_test_split(X, y, test_size=0.25, random_state=16)\n",
        "X_val, X_test, y_val, y_test = train_test_split(X_temp, y_temp, test_size=0.5, random_state=16)"
      ],
      "metadata": {
        "id": "oURfUl9Lislm"
      },
      "execution_count": 8,
      "outputs": []
    },
    {
      "cell_type": "code",
      "source": [
        "print(f\"Training set: {X_train.shape}, {y_train.shape}\")\n",
        "print(f\"Validation set: {X_val.shape}, {y_val.shape}\")\n",
        "print(f\"Test set: {X_test.shape}, {y_test.shape}\")"
      ],
      "metadata": {
        "colab": {
          "base_uri": "https://localhost:8080/"
        },
        "id": "An1c7DJ6i6lM",
        "outputId": "848829f2-bac3-4c58-cdc4-c98502209ca3"
      },
      "execution_count": 9,
      "outputs": [
        {
          "output_type": "stream",
          "name": "stdout",
          "text": [
            "Training set: (576, 7), (576,)\n",
            "Validation set: (96, 7), (96,)\n",
            "Test set: (96, 7), (96,)\n"
          ]
        }
      ]
    },
    {
      "cell_type": "markdown",
      "source": [
        "## Training the Logistic Regression Model\n"
      ],
      "metadata": {
        "id": "lKNrti-1jUUY"
      }
    },
    {
      "cell_type": "code",
      "source": [
        "from sklearn.linear_model import LogisticRegression\n",
        "# Train the model\n",
        "model = LogisticRegression(max_iter=10000)\n",
        "model.fit(X_train, y_train)\n"
      ],
      "metadata": {
        "colab": {
          "base_uri": "https://localhost:8080/",
          "height": 75
        },
        "id": "kJSy9owljMn8",
        "outputId": "d4b805db-893e-4220-d2cc-fd47ca7c407a"
      },
      "execution_count": 10,
      "outputs": [
        {
          "output_type": "execute_result",
          "data": {
            "text/plain": [
              "LogisticRegression(max_iter=10000)"
            ],
            "text/html": [
              "<style>#sk-container-id-1 {color: black;}#sk-container-id-1 pre{padding: 0;}#sk-container-id-1 div.sk-toggleable {background-color: white;}#sk-container-id-1 label.sk-toggleable__label {cursor: pointer;display: block;width: 100%;margin-bottom: 0;padding: 0.3em;box-sizing: border-box;text-align: center;}#sk-container-id-1 label.sk-toggleable__label-arrow:before {content: \"▸\";float: left;margin-right: 0.25em;color: #696969;}#sk-container-id-1 label.sk-toggleable__label-arrow:hover:before {color: black;}#sk-container-id-1 div.sk-estimator:hover label.sk-toggleable__label-arrow:before {color: black;}#sk-container-id-1 div.sk-toggleable__content {max-height: 0;max-width: 0;overflow: hidden;text-align: left;background-color: #f0f8ff;}#sk-container-id-1 div.sk-toggleable__content pre {margin: 0.2em;color: black;border-radius: 0.25em;background-color: #f0f8ff;}#sk-container-id-1 input.sk-toggleable__control:checked~div.sk-toggleable__content {max-height: 200px;max-width: 100%;overflow: auto;}#sk-container-id-1 input.sk-toggleable__control:checked~label.sk-toggleable__label-arrow:before {content: \"▾\";}#sk-container-id-1 div.sk-estimator input.sk-toggleable__control:checked~label.sk-toggleable__label {background-color: #d4ebff;}#sk-container-id-1 div.sk-label input.sk-toggleable__control:checked~label.sk-toggleable__label {background-color: #d4ebff;}#sk-container-id-1 input.sk-hidden--visually {border: 0;clip: rect(1px 1px 1px 1px);clip: rect(1px, 1px, 1px, 1px);height: 1px;margin: -1px;overflow: hidden;padding: 0;position: absolute;width: 1px;}#sk-container-id-1 div.sk-estimator {font-family: monospace;background-color: #f0f8ff;border: 1px dotted black;border-radius: 0.25em;box-sizing: border-box;margin-bottom: 0.5em;}#sk-container-id-1 div.sk-estimator:hover {background-color: #d4ebff;}#sk-container-id-1 div.sk-parallel-item::after {content: \"\";width: 100%;border-bottom: 1px solid gray;flex-grow: 1;}#sk-container-id-1 div.sk-label:hover label.sk-toggleable__label {background-color: #d4ebff;}#sk-container-id-1 div.sk-serial::before {content: \"\";position: absolute;border-left: 1px solid gray;box-sizing: border-box;top: 0;bottom: 0;left: 50%;z-index: 0;}#sk-container-id-1 div.sk-serial {display: flex;flex-direction: column;align-items: center;background-color: white;padding-right: 0.2em;padding-left: 0.2em;position: relative;}#sk-container-id-1 div.sk-item {position: relative;z-index: 1;}#sk-container-id-1 div.sk-parallel {display: flex;align-items: stretch;justify-content: center;background-color: white;position: relative;}#sk-container-id-1 div.sk-item::before, #sk-container-id-1 div.sk-parallel-item::before {content: \"\";position: absolute;border-left: 1px solid gray;box-sizing: border-box;top: 0;bottom: 0;left: 50%;z-index: -1;}#sk-container-id-1 div.sk-parallel-item {display: flex;flex-direction: column;z-index: 1;position: relative;background-color: white;}#sk-container-id-1 div.sk-parallel-item:first-child::after {align-self: flex-end;width: 50%;}#sk-container-id-1 div.sk-parallel-item:last-child::after {align-self: flex-start;width: 50%;}#sk-container-id-1 div.sk-parallel-item:only-child::after {width: 0;}#sk-container-id-1 div.sk-dashed-wrapped {border: 1px dashed gray;margin: 0 0.4em 0.5em 0.4em;box-sizing: border-box;padding-bottom: 0.4em;background-color: white;}#sk-container-id-1 div.sk-label label {font-family: monospace;font-weight: bold;display: inline-block;line-height: 1.2em;}#sk-container-id-1 div.sk-label-container {text-align: center;}#sk-container-id-1 div.sk-container {/* jupyter's `normalize.less` sets `[hidden] { display: none; }` but bootstrap.min.css set `[hidden] { display: none !important; }` so we also need the `!important` here to be able to override the default hidden behavior on the sphinx rendered scikit-learn.org. See: https://github.com/scikit-learn/scikit-learn/issues/21755 */display: inline-block !important;position: relative;}#sk-container-id-1 div.sk-text-repr-fallback {display: none;}</style><div id=\"sk-container-id-1\" class=\"sk-top-container\"><div class=\"sk-text-repr-fallback\"><pre>LogisticRegression(max_iter=10000)</pre><b>In a Jupyter environment, please rerun this cell to show the HTML representation or trust the notebook. <br />On GitHub, the HTML representation is unable to render, please try loading this page with nbviewer.org.</b></div><div class=\"sk-container\" hidden><div class=\"sk-item\"><div class=\"sk-estimator sk-toggleable\"><input class=\"sk-toggleable__control sk-hidden--visually\" id=\"sk-estimator-id-1\" type=\"checkbox\" checked><label for=\"sk-estimator-id-1\" class=\"sk-toggleable__label sk-toggleable__label-arrow\">LogisticRegression</label><div class=\"sk-toggleable__content\"><pre>LogisticRegression(max_iter=10000)</pre></div></div></div></div></div>"
            ]
          },
          "metadata": {},
          "execution_count": 10
        }
      ]
    },
    {
      "cell_type": "code",
      "source": [
        "# Predict on the validation set\n",
        "y_val_pred = model.predict(X_val)\n",
        "y_val_pred.shape, y_val_pred"
      ],
      "metadata": {
        "colab": {
          "base_uri": "https://localhost:8080/"
        },
        "id": "TpTFcNc9jQye",
        "outputId": "4b6ccf6a-f0c7-4cd3-a658-457c98341bc0"
      },
      "execution_count": 11,
      "outputs": [
        {
          "output_type": "execute_result",
          "data": {
            "text/plain": [
              "((96,),\n",
              " array([1, 0, 0, 1, 0, 0, 0, 0, 0, 0, 0, 0, 0, 0, 1, 0, 0, 1, 1, 1, 0, 0,\n",
              "        0, 0, 1, 0, 1, 1, 0, 0, 0, 0, 0, 0, 0, 0, 0, 0, 1, 0, 1, 0, 0, 1,\n",
              "        1, 0, 1, 1, 0, 0, 0, 0, 0, 0, 0, 0, 1, 1, 1, 0, 0, 1, 0, 0, 0, 0,\n",
              "        0, 0, 0, 0, 1, 0, 1, 0, 0, 1, 0, 0, 0, 0, 1, 0, 0, 1, 1, 1, 0, 1,\n",
              "        0, 0, 1, 0, 1, 0, 0, 0]))"
            ]
          },
          "metadata": {},
          "execution_count": 11
        }
      ]
    },
    {
      "cell_type": "code",
      "source": [
        "from sklearn.metrics import accuracy_score, precision_score, recall_score\n",
        "\n",
        "# Calculate accuracy, precision, and recall\n",
        "accuracy = accuracy_score(y_val, y_val_pred)\n",
        "precision = precision_score(y_val, y_val_pred)\n",
        "recall = recall_score(y_val, y_val_pred)\n",
        "\n",
        "print(f\"Accuracy: {accuracy:.4f}\")\n",
        "print(f\"Precision: {precision:.4f}\")\n",
        "print(f\"Recall: {recall:.4f}\")"
      ],
      "metadata": {
        "colab": {
          "base_uri": "https://localhost:8080/"
        },
        "id": "GEkypdtNkISb",
        "outputId": "ea05ee84-20af-4d48-ddfe-5f68de45a947"
      },
      "execution_count": 12,
      "outputs": [
        {
          "output_type": "stream",
          "name": "stdout",
          "text": [
            "Accuracy: 0.8229\n",
            "Precision: 0.7241\n",
            "Recall: 0.7000\n"
          ]
        }
      ]
    },
    {
      "cell_type": "code",
      "source": [
        "import scikitplot as skplt\n",
        "\n",
        "skplt.metrics.plot_confusion_matrix(y_val, y_val_pred, figsize=(3, 3))"
      ],
      "metadata": {
        "colab": {
          "base_uri": "https://localhost:8080/",
          "height": 557
        },
        "id": "WJZOvl72JFiz",
        "outputId": "23e0662b-b8a1-4f0f-f2a7-139ce201b701"
      },
      "execution_count": 23,
      "outputs": [
        {
          "output_type": "error",
          "ename": "ImportError",
          "evalue": "cannot import name 'interp' from 'scipy' (/usr/local/lib/python3.10/dist-packages/scipy/__init__.py)",
          "traceback": [
            "\u001b[0;31m---------------------------------------------------------------------------\u001b[0m",
            "\u001b[0;31mImportError\u001b[0m                               Traceback (most recent call last)",
            "\u001b[0;32m<ipython-input-23-68ded2a6a0f4>\u001b[0m in \u001b[0;36m<cell line: 2>\u001b[0;34m()\u001b[0m\n\u001b[1;32m      1\u001b[0m \u001b[0;32mfrom\u001b[0m \u001b[0mscipy\u001b[0m\u001b[0;34m.\u001b[0m\u001b[0minterpolate\u001b[0m \u001b[0;32mimport\u001b[0m \u001b[0minterp1d\u001b[0m  \u001b[0;31m# or other relevant functions\u001b[0m\u001b[0;34m\u001b[0m\u001b[0;34m\u001b[0m\u001b[0m\n\u001b[0;32m----> 2\u001b[0;31m \u001b[0;32mimport\u001b[0m \u001b[0mscikitplot\u001b[0m \u001b[0;32mas\u001b[0m \u001b[0mskplt\u001b[0m\u001b[0;34m\u001b[0m\u001b[0;34m\u001b[0m\u001b[0m\n\u001b[0m\u001b[1;32m      3\u001b[0m \u001b[0;34m\u001b[0m\u001b[0m\n\u001b[1;32m      4\u001b[0m \u001b[0mskplt\u001b[0m\u001b[0;34m.\u001b[0m\u001b[0mmetrics\u001b[0m\u001b[0;34m.\u001b[0m\u001b[0mplot_confusion_matrix\u001b[0m\u001b[0;34m(\u001b[0m\u001b[0my_val\u001b[0m\u001b[0;34m,\u001b[0m \u001b[0my_val_pred\u001b[0m\u001b[0;34m,\u001b[0m \u001b[0mfigsize\u001b[0m\u001b[0;34m=\u001b[0m\u001b[0;34m(\u001b[0m\u001b[0;36m3\u001b[0m\u001b[0;34m,\u001b[0m \u001b[0;36m3\u001b[0m\u001b[0;34m)\u001b[0m\u001b[0;34m)\u001b[0m\u001b[0;34m\u001b[0m\u001b[0;34m\u001b[0m\u001b[0m\n\u001b[1;32m      5\u001b[0m \u001b[0;34m\u001b[0m\u001b[0m\n",
            "\u001b[0;32m/usr/local/lib/python3.10/dist-packages/scikitplot/__init__.py\u001b[0m in \u001b[0;36m<module>\u001b[0;34m\u001b[0m\n\u001b[1;32m      1\u001b[0m \u001b[0;32mfrom\u001b[0m \u001b[0m__future__\u001b[0m \u001b[0;32mimport\u001b[0m \u001b[0mabsolute_import\u001b[0m\u001b[0;34m,\u001b[0m \u001b[0mdivision\u001b[0m\u001b[0;34m,\u001b[0m \u001b[0mprint_function\u001b[0m\u001b[0;34m,\u001b[0m \u001b[0municode_literals\u001b[0m\u001b[0;34m\u001b[0m\u001b[0;34m\u001b[0m\u001b[0m\n\u001b[0;32m----> 2\u001b[0;31m \u001b[0;32mfrom\u001b[0m \u001b[0;34m.\u001b[0m \u001b[0;32mimport\u001b[0m \u001b[0mmetrics\u001b[0m\u001b[0;34m,\u001b[0m \u001b[0mcluster\u001b[0m\u001b[0;34m,\u001b[0m \u001b[0mdecomposition\u001b[0m\u001b[0;34m,\u001b[0m \u001b[0mestimators\u001b[0m\u001b[0;34m\u001b[0m\u001b[0;34m\u001b[0m\u001b[0m\n\u001b[0m\u001b[1;32m      3\u001b[0m \u001b[0m__version__\u001b[0m \u001b[0;34m=\u001b[0m \u001b[0;34m'0.3.7'\u001b[0m\u001b[0;34m\u001b[0m\u001b[0;34m\u001b[0m\u001b[0m\n\u001b[1;32m      4\u001b[0m \u001b[0;34m\u001b[0m\u001b[0m\n\u001b[1;32m      5\u001b[0m \u001b[0;34m\u001b[0m\u001b[0m\n",
            "\u001b[0;32m/usr/local/lib/python3.10/dist-packages/scikitplot/metrics.py\u001b[0m in \u001b[0;36m<module>\u001b[0;34m\u001b[0m\n\u001b[1;32m     25\u001b[0m \u001b[0;32mfrom\u001b[0m \u001b[0msklearn\u001b[0m\u001b[0;34m.\u001b[0m\u001b[0mutils\u001b[0m \u001b[0;32mimport\u001b[0m \u001b[0mdeprecated\u001b[0m\u001b[0;34m\u001b[0m\u001b[0;34m\u001b[0m\u001b[0m\n\u001b[1;32m     26\u001b[0m \u001b[0;34m\u001b[0m\u001b[0m\n\u001b[0;32m---> 27\u001b[0;31m \u001b[0;32mfrom\u001b[0m \u001b[0mscipy\u001b[0m \u001b[0;32mimport\u001b[0m \u001b[0minterp\u001b[0m\u001b[0;34m\u001b[0m\u001b[0;34m\u001b[0m\u001b[0m\n\u001b[0m\u001b[1;32m     28\u001b[0m \u001b[0;34m\u001b[0m\u001b[0m\n\u001b[1;32m     29\u001b[0m \u001b[0;32mfrom\u001b[0m \u001b[0mscikitplot\u001b[0m\u001b[0;34m.\u001b[0m\u001b[0mhelpers\u001b[0m \u001b[0;32mimport\u001b[0m \u001b[0mbinary_ks_curve\u001b[0m\u001b[0;34m,\u001b[0m \u001b[0mvalidate_labels\u001b[0m\u001b[0;34m\u001b[0m\u001b[0;34m\u001b[0m\u001b[0m\n",
            "\u001b[0;31mImportError\u001b[0m: cannot import name 'interp' from 'scipy' (/usr/local/lib/python3.10/dist-packages/scipy/__init__.py)",
            "",
            "\u001b[0;31m---------------------------------------------------------------------------\u001b[0;32m\nNOTE: If your import is failing due to a missing package, you can\nmanually install dependencies using either !pip or !apt.\n\nTo view examples of installing some common dependencies, click the\n\"Open Examples\" button below.\n\u001b[0;31m---------------------------------------------------------------------------\u001b[0m\n"
          ],
          "errorDetails": {
            "actions": [
              {
                "action": "open_url",
                "actionText": "Open Examples",
                "url": "/notebooks/snippets/importing_libraries.ipynb"
              }
            ]
          }
        }
      ]
    },
    {
      "cell_type": "code",
      "source": [
        "from sklearn.metrics import classification_report\n",
        "target_names = ['without diabetes', 'with diabetes']\n",
        "print(classification_report(y_val, y_val_pred, target_names=target_names))"
      ],
      "metadata": {
        "id": "_nf_2ZFFKCt5"
      },
      "execution_count": null,
      "outputs": []
    },
    {
      "cell_type": "code",
      "source": [
        "X_train_reduced = X_train[['glucose', 'bmi']]\n",
        "X_val_reduced = X_val[['glucose', 'bmi']]"
      ],
      "metadata": {
        "id": "osCyC5IAKE1o"
      },
      "execution_count": null,
      "outputs": []
    },
    {
      "cell_type": "code",
      "source": [
        "from mlxtend.plotting import plot_decision_regions\n",
        "\n",
        "model = LogisticRegression(solver='lbfgs', max_iter=1000)\n",
        "model.fit(X_train_reduced, y_train)\n",
        "\n",
        "# Predict on the validation set\n",
        "y_val_pred = model.predict(X_val_reduced)\n",
        "print(classification_report(y_val, y_val_pred, target_names=target_names))\n",
        "\n",
        "# Plotting decision regions\n",
        "plot_decision_regions(X_train_reduced.values, y_train.values, clf=model, legend=2)\n",
        "plt.xlabel('glucose')\n",
        "plt.ylabel('bmi')\n",
        "plt.title('Decision Boundary of Logistic Regression')\n",
        "plt.show()\n"
      ],
      "metadata": {
        "id": "5n1HCgupKRYm"
      },
      "execution_count": null,
      "outputs": []
    },
    {
      "cell_type": "code",
      "source": [
        "from sklearn.preprocessing import PolynomialFeatures\n",
        "from sklearn.linear_model import LogisticRegression\n",
        "from sklearn.pipeline import Pipeline\n",
        "model = Pipeline([\n",
        "    ('poly', PolynomialFeatures(degree=7)),  # Transform features into polynomial features\n",
        "    ('logreg', LogisticRegression(solver='lbfgs', max_iter=1000))\n",
        "])\n",
        "model.fit(X_train_reduced, y_train)\n",
        "\n",
        "# Predict on the validation set\n",
        "y_val_pred = model.predict(X_val_reduced)\n",
        "print(classification_report(y_val, y_val_pred, target_names=target_names))\n",
        "\n",
        "# Plotting decision regions\n",
        "plot_decision_regions(X_train_reduced.values, y_train.values, clf=model, legend=2)\n",
        "plt.xlabel('glucose')\n",
        "plt.ylabel('bmi')\n",
        "plt.title('Decision Boundary of Logistic Regression')\n",
        "plt.show()\n"
      ],
      "metadata": {
        "id": "B_ix5Fo1KgVq"
      },
      "execution_count": null,
      "outputs": []
    },
    {
      "cell_type": "code",
      "source": [
        "from sklearn.kernel_approximation import RBFSampler\n",
        "from sklearn.preprocessing import StandardScaler\n",
        "from sklearn.pipeline import Pipeline\n",
        "\n",
        "model = Pipeline([\n",
        "    ('scaler', StandardScaler()),\n",
        "    ('rbf_sampler', RBFSampler(gamma=1, random_state=42)),\n",
        "    ('logistic_regression', LogisticRegression())\n",
        "])\n",
        "\n",
        "model.fit(X_train_reduced, y_train)\n",
        "\n",
        "# Predict on the validation set\n",
        "y_val_pred = model.predict(X_val_reduced)\n",
        "print(classification_report(y_val, y_val_pred, target_names=target_names))\n",
        "\n",
        "# Plotting decision regions\n",
        "plot_decision_regions(X_train_reduced.values, y_train.values, clf=model, legend=2)\n",
        "plt.xlabel('glucose')\n",
        "plt.ylabel('bmi')\n",
        "plt.title('Decision Boundary of Logistic Regression')\n",
        "plt.show()"
      ],
      "metadata": {
        "id": "cwA3UO_IKjXU"
      },
      "execution_count": null,
      "outputs": []
    },
    {
      "cell_type": "code",
      "source": [
        "# Train the model\n",
        "model = LogisticRegression(max_iter=10000)\n",
        "model.fit(X_train, y_train)\n",
        "\n",
        "# Predict on the training and validation sets\n",
        "y_train_pred = model.predict(X_train)\n",
        "y_val_pred = model.predict(X_val)\n",
        "y_val_test = model.predict(X_test)\n",
        "\n",
        "# Calculate accuracy for both sets\n",
        "train_accuracy = accuracy_score(y_train, y_train_pred)\n",
        "val_accuracy = accuracy_score(y_val, y_val_pred)\n",
        "test_accuracy = accuracy_score(y_test, y_val_test)\n",
        "\n",
        "print(f\"------------------------number data training = {len(X_train)}------------------------\")\n",
        "print(f\"Training accuracy: {train_accuracy:.4f}\")\n",
        "print(f\"Validation accuracy: {val_accuracy:.4f}\")\n",
        "print(f\"Test accuracy: {test_accuracy:.4f}\")"
      ],
      "metadata": {
        "id": "WKPYNsXKKmhj"
      },
      "execution_count": null,
      "outputs": []
    },
    {
      "cell_type": "code",
      "source": [
        "# Train on a smaller subset\n",
        "X_train_small, _, y_train_small, _ = train_test_split(X_train, y_train,\n",
        "                                                      test_size=0.98, random_state=13)#13\n",
        "model_small = LogisticRegression(max_iter=10000)\n",
        "model_small.fit(X_train_small, y_train_small)\n",
        "\n",
        "# Predict on the training and validation sets\n",
        "y_train_small_pred = model_small.predict(X_train_small)\n",
        "y_val_small_pred = model_small.predict(X_val)\n",
        "y_test_small_pred = model_small.predict(X_test)\n",
        "\n",
        "# Calculate accuracy for both sets\n",
        "train_accuracy_small = accuracy_score(y_train_small, y_train_small_pred)\n",
        "val_accuracy_small = accuracy_score(y_val, y_val_small_pred)\n",
        "test_accuracy_small = accuracy_score(y_test, y_test_small_pred)\n",
        "\n",
        "print(f\"------------------------number data in smaller subset of training = {len(X_train_small)}------------------------\")\n",
        "print(f\"Training accuracy (small subset): {train_accuracy_small:.4f}\")\n",
        "print(f\"Validation accuracy (small subset): {val_accuracy_small:.4f}\")\n",
        "print(f\"Test accuracy (small subset): {test_accuracy_small:.4f}\")"
      ],
      "metadata": {
        "id": "1ZF7HC3jKwWY"
      },
      "execution_count": null,
      "outputs": []
    },
    {
      "cell_type": "code",
      "source": [
        "# Implement k-fold cross-validation\n",
        "kf = KFold(n_splits=5)\n",
        "\n",
        "# Calculate cross-validation scores for accuracy\n",
        "cv_accuracy = cross_val_score(model, X, y, cv=kf, scoring='accuracy')\n",
        "cv_precision = cross_val_score(model, X, y, cv=kf, scoring='precision')\n",
        "cv_recall = cross_val_score(model, X, y, cv=kf, scoring='recall')\n",
        "\n",
        "print(f\"Cross-validated accuracy: {cv_accuracy.mean():.4f} ± {cv_accuracy.std():.4f}\")\n",
        "print(f\"Cross-validated precision: {cv_precision.mean():.4f} ± {cv_precision.std():.4f}\")\n",
        "print(f\"Cross-validated recall: {cv_recall.mean():.4f} ± {cv_recall.std():.4f}\")"
      ],
      "metadata": {
        "id": "B06fF_U0Kw4a"
      },
      "execution_count": null,
      "outputs": []
    },
    {
      "cell_type": "code",
      "source": [
        "# Assuming cv_accuracy, cv_precision, and cv_recall are lists containing the respective metrics for each fold\n",
        "\n",
        "# Print the metrics for each fold\n",
        "print(\"Accuracy for each fold:\")\n",
        "for i, acc in enumerate(cv_accuracy, 1):\n",
        "    print(f\"Fold {i}: {acc:.4f}\")\n",
        "\n",
        "print(\"\\nPrecision for each fold:\")\n",
        "for i, prec in enumerate(cv_precision, 1):\n",
        "    print(f\"Fold {i}: {prec:.4f}\")\n",
        "\n",
        "print(\"\\nRecall for each fold:\")\n",
        "for i, rec in enumerate(cv_recall, 1):\n",
        "    print(f\"Fold {i}: {rec:.4f}\")\n"
      ],
      "metadata": {
        "id": "EBH5P22AKzm3"
      },
      "execution_count": null,
      "outputs": []
    },
    {
      "cell_type": "code",
      "source": [],
      "metadata": {
        "id": "-_0IbMuCK5RK"
      },
      "execution_count": null,
      "outputs": []
    }
  ]
}