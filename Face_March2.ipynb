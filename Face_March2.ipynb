{
  "nbformat": 4,
  "nbformat_minor": 0,
  "metadata": {
    "colab": {
      "provenance": [],
      "gpuType": "T4",
      "authorship_tag": "ABX9TyPTX6U1dlgBMDr1NlxNwq3L",
      "include_colab_link": true
    },
    "kernelspec": {
      "name": "python3",
      "display_name": "Python 3"
    },
    "language_info": {
      "name": "python"
    },
    "accelerator": "GPU"
  },
  "cells": [
    {
      "cell_type": "markdown",
      "metadata": {
        "id": "view-in-github",
        "colab_type": "text"
      },
      "source": [
        "<a href=\"https://colab.research.google.com/github/fjadidi2001/DataScienceJourney/blob/master/Face_March2.ipynb\" target=\"_parent\"><img src=\"https://colab.research.google.com/assets/colab-badge.svg\" alt=\"Open In Colab\"/></a>"
      ]
    },
    {
      "cell_type": "code",
      "source": [
        "!pip install ultralytics roboflow opencv-python pillow numpy"
      ],
      "metadata": {
        "colab": {
          "base_uri": "https://localhost:8080/"
        },
        "id": "tzhGBudt56sj",
        "outputId": "87bc7908-a9c0-423b-f949-5322ef56da0f"
      },
      "execution_count": null,
      "outputs": [
        {
          "output_type": "stream",
          "name": "stdout",
          "text": [
            "Requirement already satisfied: ultralytics in /usr/local/lib/python3.11/dist-packages (8.3.81)\n",
            "Requirement already satisfied: roboflow in /usr/local/lib/python3.11/dist-packages (1.1.54)\n",
            "Requirement already satisfied: opencv-python in /usr/local/lib/python3.11/dist-packages (4.11.0.86)\n",
            "Requirement already satisfied: pillow in /usr/local/lib/python3.11/dist-packages (11.1.0)\n",
            "Requirement already satisfied: numpy in /usr/local/lib/python3.11/dist-packages (1.26.4)\n",
            "Requirement already satisfied: matplotlib>=3.3.0 in /usr/local/lib/python3.11/dist-packages (from ultralytics) (3.10.0)\n",
            "Requirement already satisfied: pyyaml>=5.3.1 in /usr/local/lib/python3.11/dist-packages (from ultralytics) (6.0.2)\n",
            "Requirement already satisfied: requests>=2.23.0 in /usr/local/lib/python3.11/dist-packages (from ultralytics) (2.32.3)\n",
            "Requirement already satisfied: scipy>=1.4.1 in /usr/local/lib/python3.11/dist-packages (from ultralytics) (1.13.1)\n",
            "Requirement already satisfied: torch>=1.8.0 in /usr/local/lib/python3.11/dist-packages (from ultralytics) (2.5.1+cu124)\n",
            "Requirement already satisfied: torchvision>=0.9.0 in /usr/local/lib/python3.11/dist-packages (from ultralytics) (0.20.1+cu124)\n",
            "Requirement already satisfied: tqdm>=4.64.0 in /usr/local/lib/python3.11/dist-packages (from ultralytics) (4.67.1)\n",
            "Requirement already satisfied: psutil in /usr/local/lib/python3.11/dist-packages (from ultralytics) (5.9.5)\n",
            "Requirement already satisfied: py-cpuinfo in /usr/local/lib/python3.11/dist-packages (from ultralytics) (9.0.0)\n",
            "Requirement already satisfied: pandas>=1.1.4 in /usr/local/lib/python3.11/dist-packages (from ultralytics) (2.2.2)\n",
            "Requirement already satisfied: seaborn>=0.11.0 in /usr/local/lib/python3.11/dist-packages (from ultralytics) (0.13.2)\n",
            "Requirement already satisfied: ultralytics-thop>=2.0.0 in /usr/local/lib/python3.11/dist-packages (from ultralytics) (2.0.14)\n",
            "Requirement already satisfied: certifi in /usr/local/lib/python3.11/dist-packages (from roboflow) (2025.1.31)\n",
            "Requirement already satisfied: idna==3.7 in /usr/local/lib/python3.11/dist-packages (from roboflow) (3.7)\n",
            "Requirement already satisfied: cycler in /usr/local/lib/python3.11/dist-packages (from roboflow) (0.12.1)\n",
            "Requirement already satisfied: kiwisolver>=1.3.1 in /usr/local/lib/python3.11/dist-packages (from roboflow) (1.4.8)\n",
            "Requirement already satisfied: opencv-python-headless==4.10.0.84 in /usr/local/lib/python3.11/dist-packages (from roboflow) (4.10.0.84)\n",
            "Requirement already satisfied: python-dateutil in /usr/local/lib/python3.11/dist-packages (from roboflow) (2.8.2)\n",
            "Requirement already satisfied: python-dotenv in /usr/local/lib/python3.11/dist-packages (from roboflow) (1.0.1)\n",
            "Requirement already satisfied: six in /usr/local/lib/python3.11/dist-packages (from roboflow) (1.17.0)\n",
            "Requirement already satisfied: urllib3>=1.26.6 in /usr/local/lib/python3.11/dist-packages (from roboflow) (2.3.0)\n",
            "Requirement already satisfied: requests-toolbelt in /usr/local/lib/python3.11/dist-packages (from roboflow) (1.0.0)\n",
            "Requirement already satisfied: filetype in /usr/local/lib/python3.11/dist-packages (from roboflow) (1.2.0)\n",
            "Requirement already satisfied: contourpy>=1.0.1 in /usr/local/lib/python3.11/dist-packages (from matplotlib>=3.3.0->ultralytics) (1.3.1)\n",
            "Requirement already satisfied: fonttools>=4.22.0 in /usr/local/lib/python3.11/dist-packages (from matplotlib>=3.3.0->ultralytics) (4.56.0)\n",
            "Requirement already satisfied: packaging>=20.0 in /usr/local/lib/python3.11/dist-packages (from matplotlib>=3.3.0->ultralytics) (24.2)\n",
            "Requirement already satisfied: pyparsing>=2.3.1 in /usr/local/lib/python3.11/dist-packages (from matplotlib>=3.3.0->ultralytics) (3.2.1)\n",
            "Requirement already satisfied: pytz>=2020.1 in /usr/local/lib/python3.11/dist-packages (from pandas>=1.1.4->ultralytics) (2025.1)\n",
            "Requirement already satisfied: tzdata>=2022.7 in /usr/local/lib/python3.11/dist-packages (from pandas>=1.1.4->ultralytics) (2025.1)\n",
            "Requirement already satisfied: charset-normalizer<4,>=2 in /usr/local/lib/python3.11/dist-packages (from requests>=2.23.0->ultralytics) (3.4.1)\n",
            "Requirement already satisfied: filelock in /usr/local/lib/python3.11/dist-packages (from torch>=1.8.0->ultralytics) (3.17.0)\n",
            "Requirement already satisfied: typing-extensions>=4.8.0 in /usr/local/lib/python3.11/dist-packages (from torch>=1.8.0->ultralytics) (4.12.2)\n",
            "Requirement already satisfied: networkx in /usr/local/lib/python3.11/dist-packages (from torch>=1.8.0->ultralytics) (3.4.2)\n",
            "Requirement already satisfied: jinja2 in /usr/local/lib/python3.11/dist-packages (from torch>=1.8.0->ultralytics) (3.1.5)\n",
            "Requirement already satisfied: fsspec in /usr/local/lib/python3.11/dist-packages (from torch>=1.8.0->ultralytics) (2024.10.0)\n",
            "Requirement already satisfied: nvidia-cuda-nvrtc-cu12==12.4.127 in /usr/local/lib/python3.11/dist-packages (from torch>=1.8.0->ultralytics) (12.4.127)\n",
            "Requirement already satisfied: nvidia-cuda-runtime-cu12==12.4.127 in /usr/local/lib/python3.11/dist-packages (from torch>=1.8.0->ultralytics) (12.4.127)\n",
            "Requirement already satisfied: nvidia-cuda-cupti-cu12==12.4.127 in /usr/local/lib/python3.11/dist-packages (from torch>=1.8.0->ultralytics) (12.4.127)\n",
            "Requirement already satisfied: nvidia-cudnn-cu12==9.1.0.70 in /usr/local/lib/python3.11/dist-packages (from torch>=1.8.0->ultralytics) (9.1.0.70)\n",
            "Requirement already satisfied: nvidia-cublas-cu12==12.4.5.8 in /usr/local/lib/python3.11/dist-packages (from torch>=1.8.0->ultralytics) (12.4.5.8)\n",
            "Requirement already satisfied: nvidia-cufft-cu12==11.2.1.3 in /usr/local/lib/python3.11/dist-packages (from torch>=1.8.0->ultralytics) (11.2.1.3)\n",
            "Requirement already satisfied: nvidia-curand-cu12==10.3.5.147 in /usr/local/lib/python3.11/dist-packages (from torch>=1.8.0->ultralytics) (10.3.5.147)\n",
            "Requirement already satisfied: nvidia-cusolver-cu12==11.6.1.9 in /usr/local/lib/python3.11/dist-packages (from torch>=1.8.0->ultralytics) (11.6.1.9)\n",
            "Requirement already satisfied: nvidia-cusparse-cu12==12.3.1.170 in /usr/local/lib/python3.11/dist-packages (from torch>=1.8.0->ultralytics) (12.3.1.170)\n",
            "Requirement already satisfied: nvidia-nccl-cu12==2.21.5 in /usr/local/lib/python3.11/dist-packages (from torch>=1.8.0->ultralytics) (2.21.5)\n",
            "Requirement already satisfied: nvidia-nvtx-cu12==12.4.127 in /usr/local/lib/python3.11/dist-packages (from torch>=1.8.0->ultralytics) (12.4.127)\n",
            "Requirement already satisfied: nvidia-nvjitlink-cu12==12.4.127 in /usr/local/lib/python3.11/dist-packages (from torch>=1.8.0->ultralytics) (12.4.127)\n",
            "Requirement already satisfied: triton==3.1.0 in /usr/local/lib/python3.11/dist-packages (from torch>=1.8.0->ultralytics) (3.1.0)\n",
            "Requirement already satisfied: sympy==1.13.1 in /usr/local/lib/python3.11/dist-packages (from torch>=1.8.0->ultralytics) (1.13.1)\n",
            "Requirement already satisfied: mpmath<1.4,>=1.1.0 in /usr/local/lib/python3.11/dist-packages (from sympy==1.13.1->torch>=1.8.0->ultralytics) (1.3.0)\n",
            "Requirement already satisfied: MarkupSafe>=2.0 in /usr/local/lib/python3.11/dist-packages (from jinja2->torch>=1.8.0->ultralytics) (3.0.2)\n"
          ]
        }
      ]
    },
    {
      "cell_type": "code",
      "source": [
        "import os\n",
        "import cv2\n",
        "import numpy as np\n",
        "import matplotlib.pyplot as plt\n",
        "from roboflow import Roboflow\n",
        "from ultralytics import YOLO\n",
        "import torch\n",
        "import shutil\n",
        "import yaml"
      ],
      "metadata": {
        "colab": {
          "base_uri": "https://localhost:8080/"
        },
        "id": "bgNA8WiF5xj7",
        "outputId": "2e5a44f7-7e66-4a88-90a0-6ca2f9a1937b"
      },
      "execution_count": null,
      "outputs": [
        {
          "output_type": "stream",
          "name": "stdout",
          "text": [
            "Creating new Ultralytics Settings v0.0.6 file ✅ \n",
            "View Ultralytics Settings with 'yolo settings' or at '/root/.config/Ultralytics/settings.json'\n",
            "Update Settings with 'yolo settings key=value', i.e. 'yolo settings runs_dir=path/to/dir'. For help see https://docs.ultralytics.com/quickstart/#ultralytics-settings.\n"
          ]
        }
      ]
    },
    {
      "cell_type": "code",
      "source": [
        "# Connect to Roboflow and download dataset\n",
        "rf = Roboflow(api_key=\"2IGtFaicFMGaMwb2mX8A\")\n",
        "project = rf.workspace(\"mohamed-traore-2ekkp\").project(\"face-detection-mik1i\")\n",
        "version = project.version(25)"
      ],
      "metadata": {
        "colab": {
          "base_uri": "https://localhost:8080/"
        },
        "id": "9tcTSRF26fs1",
        "outputId": "4b96be72-d288-47e4-fb7f-ed4feafc6eb0"
      },
      "execution_count": null,
      "outputs": [
        {
          "output_type": "stream",
          "name": "stdout",
          "text": [
            "loading Roboflow workspace...\n",
            "loading Roboflow project...\n"
          ]
        }
      ]
    },
    {
      "cell_type": "code",
      "source": [
        "# Download the dataset in YOLOv8 format\n",
        "dataset = version.download(\"yolov8\")\n",
        "print(\"\\nDataset downloaded successfully\")"
      ],
      "metadata": {
        "colab": {
          "base_uri": "https://localhost:8080/"
        },
        "id": "bg0ePUjy6l6v",
        "outputId": "009955ae-2890-45e5-ab97-2e99fa0a7be5"
      },
      "execution_count": null,
      "outputs": [
        {
          "output_type": "stream",
          "name": "stdout",
          "text": [
            "\n",
            "Dataset downloaded successfully\n"
          ]
        }
      ]
    },
    {
      "cell_type": "code",
      "source": [
        "# Set up the dataset properly for YOLOv8\n",
        "def setup_dataset():\n",
        "    # Based on the error message, we know where the actual data.yaml is\n",
        "    yaml_path = \"./Face-Detection-25/data.yaml\"\n",
        "\n",
        "    if not os.path.exists(yaml_path):\n",
        "        print(f\"Error: {yaml_path} not found\")\n",
        "        # Search for it\n",
        "        for root, _, files in os.walk('.'):\n",
        "            for file in files:\n",
        "                if file == \"data.yaml\":\n",
        "                    yaml_path = os.path.join(root, file)\n",
        "                    print(f\"Found data.yaml at: {yaml_path}\")\n",
        "                    break\n",
        "            if yaml_path:\n",
        "                break\n",
        "\n",
        "    if not os.path.exists(yaml_path):\n",
        "        print(\"Could not find data.yaml file\")\n",
        "        return None\n",
        "\n",
        "    # Load the yaml file to see what's inside\n",
        "    with open(yaml_path, 'r') as f:\n",
        "        data_config = yaml.safe_load(f)\n",
        "\n",
        "    print(\"Dataset configuration:\")\n",
        "    for key, value in data_config.items():\n",
        "        print(f\"  {key}: {value}\")\n",
        "\n",
        "    # Fix the paths in the data.yaml file\n",
        "    base_dir = os.path.dirname(yaml_path)\n",
        "\n",
        "    # Check if the specified directories exist\n",
        "    train_dir = os.path.join(base_dir, 'train')\n",
        "    valid_dir = os.path.join(base_dir, 'valid')\n",
        "    test_dir = os.path.join(base_dir, 'test')\n",
        "\n",
        "    print(f\"Checking directories:\")\n",
        "    print(f\"  Train: {os.path.exists(train_dir)}\")\n",
        "    print(f\"  Valid: {os.path.exists(valid_dir)}\")\n",
        "    print(f\"  Test: {os.path.exists(test_dir)}\")\n",
        "\n",
        "    # Create necessary directories if they don't exist\n",
        "    if 'train' in data_config and not os.path.exists(os.path.join(base_dir, 'train', 'images')):\n",
        "        os.makedirs(os.path.join(base_dir, 'train', 'images'), exist_ok=True)\n",
        "        os.makedirs(os.path.join(base_dir, 'train', 'labels'), exist_ok=True)\n",
        "\n",
        "    if 'val' in data_config and not os.path.exists(os.path.join(base_dir, 'valid', 'images')):\n",
        "        os.makedirs(os.path.join(base_dir, 'valid', 'images'), exist_ok=True)\n",
        "        os.makedirs(os.path.join(base_dir, 'valid', 'labels'), exist_ok=True)\n",
        "\n",
        "    # Find and move images if they're not in the expected structure\n",
        "    for root, _, files in os.walk(base_dir):\n",
        "        image_files = [f for f in files if f.endswith(('.jpg', '.jpeg', '.png'))]\n",
        "        txt_files = [f for f in files if f.endswith('.txt') and f != 'data.yaml']\n",
        "\n",
        "        if image_files:\n",
        "            print(f\"Found {len(image_files)} images in: {root}\")\n",
        "\n",
        "            # Determine if this is a train, valid, or test directory\n",
        "            if 'train' in root.lower():\n",
        "                target_dir = os.path.join(base_dir, 'train', 'images')\n",
        "                label_dir = os.path.join(base_dir, 'train', 'labels')\n",
        "            elif 'valid' in root.lower() or 'val' in root.lower():\n",
        "                target_dir = os.path.join(base_dir, 'valid', 'images')\n",
        "                label_dir = os.path.join(base_dir, 'valid', 'labels')\n",
        "            elif 'test' in root.lower():\n",
        "                target_dir = os.path.join(base_dir, 'test', 'images')\n",
        "                label_dir = os.path.join(base_dir, 'test', 'labels')\n",
        "            else:\n",
        "                # If we can't determine, use 'train' as default\n",
        "                target_dir = os.path.join(base_dir, 'train', 'images')\n",
        "                label_dir = os.path.join(base_dir, 'train', 'labels')\n",
        "\n",
        "            # Create directories if they don't exist\n",
        "            os.makedirs(target_dir, exist_ok=True)\n",
        "            os.makedirs(label_dir, exist_ok=True)\n",
        "\n",
        "            # Move or copy images to the correct location\n",
        "            for img_file in image_files:\n",
        "                src_path = os.path.join(root, img_file)\n",
        "                dst_path = os.path.join(target_dir, img_file)\n",
        "                if not os.path.exists(dst_path):\n",
        "                    print(f\"  Copying {img_file} to {target_dir}\")\n",
        "                    shutil.copy2(src_path, dst_path)\n",
        "\n",
        "        if txt_files:\n",
        "            print(f\"Found {len(txt_files)} label files in: {root}\")\n",
        "\n",
        "            # Determine if this is a train, valid, or test directory\n",
        "            if 'train' in root.lower():\n",
        "                label_dir = os.path.join(base_dir, 'train', 'labels')\n",
        "            elif 'valid' in root.lower() or 'val' in root.lower():\n",
        "                label_dir = os.path.join(base_dir, 'valid', 'labels')\n",
        "            elif 'test' in root.lower():\n",
        "                label_dir = os.path.join(base_dir, 'test', 'labels')\n",
        "            else:\n",
        "                # If we can't determine, use 'train' as default\n",
        "                label_dir = os.path.join(base_dir, 'train', 'labels')\n",
        "\n",
        "            # Create directory if it doesn't exist\n",
        "            os.makedirs(label_dir, exist_ok=True)\n",
        "\n",
        "            # Move or copy label files to the correct location\n",
        "            for txt_file in txt_files:\n",
        "                src_path = os.path.join(root, txt_file)\n",
        "                dst_path = os.path.join(label_dir, txt_file)\n",
        "                if not os.path.exists(dst_path) and txt_file != 'data.yaml':\n",
        "                    print(f\"  Copying {txt_file} to {label_dir}\")\n",
        "                    shutil.copy2(src_path, dst_path)\n",
        "\n",
        "    # Update data.yaml with correct paths\n",
        "    data_config['path'] = base_dir\n",
        "\n",
        "    # Make sure train and val paths are correctly set\n",
        "    if 'train' in data_config:\n",
        "        data_config['train'] = os.path.join('train', 'images')\n",
        "    if 'val' in data_config:\n",
        "        data_config['val'] = os.path.join('valid', 'images')\n",
        "\n",
        "    # Write updated yaml\n",
        "    with open(yaml_path, 'w') as f:\n",
        "        yaml.dump(data_config, f)\n",
        "\n",
        "    print(f\"Updated dataset configuration file at {yaml_path}\")\n",
        "    return yaml_path"
      ],
      "metadata": {
        "id": "RxepvaXS8b44"
      },
      "execution_count": 8,
      "outputs": []
    },
    {
      "cell_type": "code",
      "source": [
        "# Train YOLOv8 model\n",
        "def train_yolo_model(yaml_path, epochs=30, imgsz=640):\n",
        "    # Initialize YOLOv8 model\n",
        "    model = YOLO('yolov8n.pt')  # Start with a pre-trained model\n",
        "\n",
        "    # Train the model\n",
        "    try:\n",
        "        results = model.train(\n",
        "            data=yaml_path,\n",
        "            epochs=epochs,\n",
        "            imgsz=imgsz,\n",
        "            patience=10,  # Early stopping patience\n",
        "            batch=16,\n",
        "            device=0 if torch.cuda.is_available() else 'cpu',\n",
        "            name=\"face_detection_model\"\n",
        "        )\n",
        "        return model\n",
        "    except Exception as e:\n",
        "        print(f\"Training error: {e}\")\n",
        "        return None"
      ],
      "metadata": {
        "id": "kipSsjwl93JV"
      },
      "execution_count": null,
      "outputs": []
    }
  ]
}