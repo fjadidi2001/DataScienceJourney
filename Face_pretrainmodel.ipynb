{
  "nbformat": 4,
  "nbformat_minor": 0,
  "metadata": {
    "colab": {
      "provenance": [],
      "gpuType": "T4",
      "authorship_tag": "ABX9TyNslOlUcZWGJvlw63YTM5Oi",
      "include_colab_link": true
    },
    "kernelspec": {
      "name": "python3",
      "display_name": "Python 3"
    },
    "language_info": {
      "name": "python"
    },
    "accelerator": "GPU"
  },
  "cells": [
    {
      "cell_type": "markdown",
      "metadata": {
        "id": "view-in-github",
        "colab_type": "text"
      },
      "source": [
        "<a href=\"https://colab.research.google.com/github/fjadidi2001/DataScienceJourney/blob/master/Face_pretrainmodel.ipynb\" target=\"_parent\"><img src=\"https://colab.research.google.com/assets/colab-badge.svg\" alt=\"Open In Colab\"/></a>"
      ]
    },
    {
      "cell_type": "code",
      "source": [
        "!pip install inference-cli && inference server start"
      ],
      "metadata": {
        "colab": {
          "base_uri": "https://localhost:8080/"
        },
        "id": "u_m0keiAD3_t",
        "outputId": "00995749-1439-476b-ec9a-ff2b971a15ee"
      },
      "execution_count": 1,
      "outputs": [
        {
          "output_type": "stream",
          "name": "stdout",
          "text": [
            "Requirement already satisfied: inference-cli in /usr/local/lib/python3.11/dist-packages (0.40.0)\n",
            "Requirement already satisfied: requests<3.0.0,>=2.32.0 in /usr/local/lib/python3.11/dist-packages (from inference-cli) (2.32.3)\n",
            "Requirement already satisfied: docker<8.0.0,>=7.0.0 in /usr/local/lib/python3.11/dist-packages (from inference-cli) (7.1.0)\n",
            "Requirement already satisfied: typer<=0.12.5,>=0.9.0 in /usr/local/lib/python3.11/dist-packages (from inference-cli) (0.12.5)\n",
            "Requirement already satisfied: rich<13.10.0,>=13.0.0 in /usr/local/lib/python3.11/dist-packages (from inference-cli) (13.0.1)\n",
            "Requirement already satisfied: PyYAML~=6.0.0 in /usr/local/lib/python3.11/dist-packages (from inference-cli) (6.0.2)\n",
            "Requirement already satisfied: supervision<=0.30.0,>=0.25.1 in /usr/local/lib/python3.11/dist-packages (from inference-cli) (0.25.1)\n",
            "Requirement already satisfied: opencv-python<=4.10.0.84,>=4.8.1.78 in /usr/local/lib/python3.11/dist-packages (from inference-cli) (4.10.0.84)\n",
            "Requirement already satisfied: tqdm<5.0.0,>=4.0.0 in /usr/local/lib/python3.11/dist-packages (from inference-cli) (4.67.1)\n",
            "Requirement already satisfied: nvidia-ml-py<13.0.0 in /usr/local/lib/python3.11/dist-packages (from inference-cli) (12.570.86)\n",
            "Requirement already satisfied: py-cpuinfo~=9.0.0 in /usr/local/lib/python3.11/dist-packages (from inference-cli) (9.0.0)\n",
            "Requirement already satisfied: aiohttp<=3.10.11,>=3.9.0 in /usr/local/lib/python3.11/dist-packages (from inference-cli) (3.10.11)\n",
            "Requirement already satisfied: backoff~=2.2.0 in /usr/local/lib/python3.11/dist-packages (from inference-cli) (2.2.1)\n",
            "Requirement already satisfied: pandas<2.3.0,>=2.0.0 in /usr/local/lib/python3.11/dist-packages (from inference-cli) (2.2.2)\n",
            "Requirement already satisfied: pybase64~=1.0.0 in /usr/local/lib/python3.11/dist-packages (from inference-cli) (1.0.2)\n",
            "Requirement already satisfied: pydantic~=2.6 in /usr/local/lib/python3.11/dist-packages (from inference-cli) (2.10.6)\n",
            "Requirement already satisfied: dataclasses-json~=0.6.0 in /usr/local/lib/python3.11/dist-packages (from inference-cli) (0.6.7)\n",
            "Requirement already satisfied: pillow<11.0,>=9.0.0 in /usr/local/lib/python3.11/dist-packages (from inference-cli) (10.4.0)\n",
            "Requirement already satisfied: numpy<=1.26.4 in /usr/local/lib/python3.11/dist-packages (from inference-cli) (1.26.4)\n",
            "Requirement already satisfied: aiohappyeyeballs>=2.3.0 in /usr/local/lib/python3.11/dist-packages (from aiohttp<=3.10.11,>=3.9.0->inference-cli) (2.4.6)\n",
            "Requirement already satisfied: aiosignal>=1.1.2 in /usr/local/lib/python3.11/dist-packages (from aiohttp<=3.10.11,>=3.9.0->inference-cli) (1.3.2)\n",
            "Requirement already satisfied: attrs>=17.3.0 in /usr/local/lib/python3.11/dist-packages (from aiohttp<=3.10.11,>=3.9.0->inference-cli) (25.1.0)\n",
            "Requirement already satisfied: frozenlist>=1.1.1 in /usr/local/lib/python3.11/dist-packages (from aiohttp<=3.10.11,>=3.9.0->inference-cli) (1.5.0)\n",
            "Requirement already satisfied: multidict<7.0,>=4.5 in /usr/local/lib/python3.11/dist-packages (from aiohttp<=3.10.11,>=3.9.0->inference-cli) (6.1.0)\n",
            "Requirement already satisfied: yarl<2.0,>=1.12.0 in /usr/local/lib/python3.11/dist-packages (from aiohttp<=3.10.11,>=3.9.0->inference-cli) (1.18.3)\n",
            "Requirement already satisfied: marshmallow<4.0.0,>=3.18.0 in /usr/local/lib/python3.11/dist-packages (from dataclasses-json~=0.6.0->inference-cli) (3.26.1)\n",
            "Requirement already satisfied: typing-inspect<1,>=0.4.0 in /usr/local/lib/python3.11/dist-packages (from dataclasses-json~=0.6.0->inference-cli) (0.9.0)\n",
            "Requirement already satisfied: urllib3>=1.26.0 in /usr/local/lib/python3.11/dist-packages (from docker<8.0.0,>=7.0.0->inference-cli) (2.3.0)\n",
            "Requirement already satisfied: python-dateutil>=2.8.2 in /usr/local/lib/python3.11/dist-packages (from pandas<2.3.0,>=2.0.0->inference-cli) (2.8.2)\n",
            "Requirement already satisfied: pytz>=2020.1 in /usr/local/lib/python3.11/dist-packages (from pandas<2.3.0,>=2.0.0->inference-cli) (2025.1)\n",
            "Requirement already satisfied: tzdata>=2022.7 in /usr/local/lib/python3.11/dist-packages (from pandas<2.3.0,>=2.0.0->inference-cli) (2025.1)\n",
            "Requirement already satisfied: annotated-types>=0.6.0 in /usr/local/lib/python3.11/dist-packages (from pydantic~=2.6->inference-cli) (0.7.0)\n",
            "Requirement already satisfied: pydantic-core==2.27.2 in /usr/local/lib/python3.11/dist-packages (from pydantic~=2.6->inference-cli) (2.27.2)\n",
            "Requirement already satisfied: typing-extensions>=4.12.2 in /usr/local/lib/python3.11/dist-packages (from pydantic~=2.6->inference-cli) (4.12.2)\n",
            "Requirement already satisfied: charset-normalizer<4,>=2 in /usr/local/lib/python3.11/dist-packages (from requests<3.0.0,>=2.32.0->inference-cli) (3.4.1)\n",
            "Requirement already satisfied: idna<4,>=2.5 in /usr/local/lib/python3.11/dist-packages (from requests<3.0.0,>=2.32.0->inference-cli) (3.10)\n",
            "Requirement already satisfied: certifi>=2017.4.17 in /usr/local/lib/python3.11/dist-packages (from requests<3.0.0,>=2.32.0->inference-cli) (2025.1.31)\n",
            "Requirement already satisfied: commonmark<0.10.0,>=0.9.0 in /usr/local/lib/python3.11/dist-packages (from rich<13.10.0,>=13.0.0->inference-cli) (0.9.1)\n",
            "Requirement already satisfied: pygments<3.0.0,>=2.6.0 in /usr/local/lib/python3.11/dist-packages (from rich<13.10.0,>=13.0.0->inference-cli) (2.18.0)\n",
            "Requirement already satisfied: contourpy>=1.0.7 in /usr/local/lib/python3.11/dist-packages (from supervision<=0.30.0,>=0.25.1->inference-cli) (1.3.1)\n",
            "Requirement already satisfied: defusedxml<0.8.0,>=0.7.1 in /usr/local/lib/python3.11/dist-packages (from supervision<=0.30.0,>=0.25.1->inference-cli) (0.7.1)\n",
            "Requirement already satisfied: matplotlib>=3.6.0 in /usr/local/lib/python3.11/dist-packages (from supervision<=0.30.0,>=0.25.1->inference-cli) (3.10.0)\n",
            "Requirement already satisfied: scipy<2.0.0,>=1.10.0 in /usr/local/lib/python3.11/dist-packages (from supervision<=0.30.0,>=0.25.1->inference-cli) (1.13.1)\n",
            "Requirement already satisfied: click>=8.0.0 in /usr/local/lib/python3.11/dist-packages (from typer<=0.12.5,>=0.9.0->inference-cli) (8.1.8)\n",
            "Requirement already satisfied: shellingham>=1.3.0 in /usr/local/lib/python3.11/dist-packages (from typer<=0.12.5,>=0.9.0->inference-cli) (1.5.4)\n",
            "Requirement already satisfied: packaging>=17.0 in /usr/local/lib/python3.11/dist-packages (from marshmallow<4.0.0,>=3.18.0->dataclasses-json~=0.6.0->inference-cli) (24.2)\n",
            "Requirement already satisfied: cycler>=0.10 in /usr/local/lib/python3.11/dist-packages (from matplotlib>=3.6.0->supervision<=0.30.0,>=0.25.1->inference-cli) (0.12.1)\n",
            "Requirement already satisfied: fonttools>=4.22.0 in /usr/local/lib/python3.11/dist-packages (from matplotlib>=3.6.0->supervision<=0.30.0,>=0.25.1->inference-cli) (4.56.0)\n",
            "Requirement already satisfied: kiwisolver>=1.3.1 in /usr/local/lib/python3.11/dist-packages (from matplotlib>=3.6.0->supervision<=0.30.0,>=0.25.1->inference-cli) (1.4.8)\n",
            "Requirement already satisfied: pyparsing>=2.3.1 in /usr/local/lib/python3.11/dist-packages (from matplotlib>=3.6.0->supervision<=0.30.0,>=0.25.1->inference-cli) (3.2.1)\n",
            "Requirement already satisfied: six>=1.5 in /usr/local/lib/python3.11/dist-packages (from python-dateutil>=2.8.2->pandas<2.3.0,>=2.0.0->inference-cli) (1.17.0)\n",
            "Requirement already satisfied: mypy-extensions>=0.3.0 in /usr/local/lib/python3.11/dist-packages (from typing-inspect<1,>=0.4.0->dataclasses-json~=0.6.0->inference-cli) (1.0.0)\n",
            "Requirement already satisfied: propcache>=0.2.0 in /usr/local/lib/python3.11/dist-packages (from yarl<2.0,>=1.12.0->aiohttp<=3.10.11,>=3.9.0->inference-cli) (0.3.0)\n",
            "Error connecting to Docker daemon. Is docker installed and running? See https://www.docker.com/get-started/ for installation instructions.\n"
          ]
        }
      ]
    },
    {
      "cell_type": "code",
      "execution_count": 3,
      "metadata": {
        "id": "hCRbrewNDCGm",
        "colab": {
          "base_uri": "https://localhost:8080/"
        },
        "outputId": "f288a8eb-c32b-4c22-b33a-8218a486b85c"
      },
      "outputs": [
        {
          "output_type": "stream",
          "name": "stdout",
          "text": [
            "Image 1 detection results:\n",
            "Found 3 faces\n",
            "  Face 1: Confidence 0.93, Position: x=None, y=None, w=None, h=None\n",
            "  Face 2: Confidence 0.91, Position: x=None, y=None, w=None, h=None\n",
            "  Face 3: Confidence 0.91, Position: x=None, y=None, w=None, h=None\n",
            "\n",
            "Image 2 detection results:\n",
            "Found 2 faces\n",
            "  Face 1: Confidence 0.92, Position: x=None, y=None, w=None, h=None\n",
            "  Face 2: Confidence 0.91, Position: x=None, y=None, w=None, h=None\n",
            "\n",
            "Image 3 detection results:\n",
            "Found 2 faces\n",
            "  Face 1: Confidence 0.92, Position: x=None, y=None, w=None, h=None\n",
            "  Face 2: Confidence 0.48, Position: x=None, y=None, w=None, h=None\n",
            "\n",
            "Image 4 detection results:\n",
            "Found 1 faces\n",
            "  Face 1: Confidence 0.90, Position: x=None, y=None, w=None, h=None\n",
            "\n",
            "Image 5 detection results:\n",
            "Found 1 faces\n",
            "  Face 1: Confidence 0.90, Position: x=None, y=None, w=None, h=None\n",
            "\n"
          ]
        }
      ],
      "source": [
        "from inference_sdk import InferenceHTTPClient\n",
        "\n",
        "CLIENT = InferenceHTTPClient(\n",
        "    api_url=\"https://detect.roboflow.com\",\n",
        "    api_key=\"2IGtFaicFMGaMwb2mX8A\"\n",
        ")\n",
        "\n",
        "# Function to process multiple images\n",
        "def detect_faces(image_paths):\n",
        "    results = []\n",
        "    for image_path in image_paths:\n",
        "        result = CLIENT.infer(image_path, model_id=\"face-detection-mik1i/21\")\n",
        "        results.append(result)\n",
        "    return results\n",
        "\n",
        "# Example usage with 5 images\n",
        "image_paths = [\n",
        "    \"/content/imgs/MultipleFaces.jpg\",\n",
        "    \"/content/imgs/MultipleFaces2.jpg\",\n",
        "    \"/content/imgs/SingleFace.jpg\",\n",
        "    \"/content/imgs/SingleFace2.jpg\",\n",
        "    \"/content/imgs/SingleFace3.jpg\"\n",
        "]\n",
        "\n",
        "# Get detection results\n",
        "detection_results = detect_faces(image_paths)\n",
        "\n",
        "# Process and display results\n",
        "for i, result in enumerate(detection_results):\n",
        "    print(f\"Image {i+1} detection results:\")\n",
        "\n",
        "    # If you want to extract face detection information\n",
        "    if \"predictions\" in result:\n",
        "        faces = result[\"predictions\"]\n",
        "        print(f\"Found {len(faces)} faces\")\n",
        "\n",
        "        for j, face in enumerate(faces):\n",
        "            confidence = face.get(\"confidence\", 0)\n",
        "            bbox = face.get(\"bbox\", {})\n",
        "            print(f\"  Face {j+1}: Confidence {confidence:.2f}, Position: x={bbox.get('x')}, y={bbox.get('y')}, w={bbox.get('width')}, h={bbox.get('height')}\")\n",
        "    else:\n",
        "        print(\"  No faces detected or error in detection\")\n",
        "    print()"
      ]
    }
  ]
}