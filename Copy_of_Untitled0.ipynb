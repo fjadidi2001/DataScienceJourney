{
  "nbformat": 4,
  "nbformat_minor": 0,
  "metadata": {
    "colab": {
      "provenance": [],
      "gpuType": "T4",
      "authorship_tag": "ABX9TyNLM4ux3MgHBZtt0ooA/uus",
      "include_colab_link": true
    },
    "kernelspec": {
      "name": "python3",
      "display_name": "Python 3"
    },
    "language_info": {
      "name": "python"
    },
    "accelerator": "GPU"
  },
  "cells": [
    {
      "cell_type": "markdown",
      "metadata": {
        "id": "view-in-github",
        "colab_type": "text"
      },
      "source": [
        "<a href=\"https://colab.research.google.com/github/fjadidi2001/DataScienceJourney/blob/master/Copy_of_Untitled0.ipynb\" target=\"_parent\"><img src=\"https://colab.research.google.com/assets/colab-badge.svg\" alt=\"Open In Colab\"/></a>"
      ]
    },
    {
      "cell_type": "code",
      "source": [
        "from google.colab import drive\n",
        "drive.mount('/content/drive')"
      ],
      "metadata": {
        "colab": {
          "base_uri": "https://localhost:8080/"
        },
        "id": "rgyu-LS17anp",
        "outputId": "d346fe5e-df87-4fa3-af5a-719226abbf55"
      },
      "execution_count": 2,
      "outputs": [
        {
          "output_type": "stream",
          "name": "stdout",
          "text": [
            "Mounted at /content/drive\n"
          ]
        }
      ]
    },
    {
      "cell_type": "code",
      "execution_count": 3,
      "metadata": {
        "id": "hH6RmnpVVw_v",
        "colab": {
          "base_uri": "https://localhost:8080/"
        },
        "outputId": "7421a0f5-3f3c-4ca6-e8ac-ff18b039929b"
      },
      "outputs": [
        {
          "output_type": "stream",
          "name": "stdout",
          "text": [
            "\n",
            "Adjusted Distribution of ClaimYN Labels:\n",
            "Not Risky (0): 97302 instances\n",
            "Risky (1): 2698 instances\n"
          ]
        }
      ],
      "source": [
        "import pandas as pd\n",
        "\n",
        "# Step 1: Load the dataset\n",
        "dataset = pd.read_csv('/content/drive/My Drive/telematics_syn.csv')\n",
        "\n",
        "# Step 2: Create the adjusted ClaimYN label\n",
        "# ClaimYN = 1 if NB_Claim >= 1 and AMT_Claim > 1000, else 0\n",
        "dataset['ClaimYN'] = ((dataset['NB_Claim'] >= 1) & (dataset['AMT_Claim'] > 1000)).astype(int)\n",
        "\n",
        "# Step 3: Display the distribution of the new labels\n",
        "label_distribution = dataset['ClaimYN'].value_counts().sort_index()\n",
        "label_mapping = {0: 'Not Risky', 1: 'Risky'}\n",
        "print(\"\\nAdjusted Distribution of ClaimYN Labels:\")\n",
        "for label, count in label_distribution.items():\n",
        "    print(f\"{label_mapping[label]} ({label}): {count} instances\")\n",
        "\n",
        "# Step 4: Save the updated dataset with the new labels\n",
        "dataset.to_csv('telematics_syn_with_Adjusted_ClaimYN.csv', index=False)"
      ]
    },
    {
      "cell_type": "code",
      "source": [
        "df = pd.read_csv('telematics_syn_with_Adjusted_ClaimYN.csv')\n",
        "df.head()"
      ],
      "metadata": {
        "colab": {
          "base_uri": "https://localhost:8080/",
          "height": 256
        },
        "id": "au5JQWtdrG8x",
        "outputId": "f2f1d348-14dd-4af6-a344-ef19fbba0009"
      },
      "execution_count": 4,
      "outputs": [
        {
          "output_type": "execute_result",
          "data": {
            "text/plain": [
              "   Duration  Insured.age Insured.sex  Car.age  Marital  Car.use  Credit.score  \\\n",
              "0       366           45        Male       -1  Married  Commute         609.0   \n",
              "1       182           44      Female        3  Married  Commute         575.0   \n",
              "2       184           48      Female        6  Married  Commute         847.0   \n",
              "3       183           71        Male        6  Married  Private         842.0   \n",
              "4       183           84        Male       10  Married  Private         856.0   \n",
              "\n",
              "  Region  Annual.miles.drive  Years.noclaims  ...  Left.turn.intensity11  \\\n",
              "0  Urban             6213.71              25  ...                    0.0   \n",
              "1  Urban            12427.42              20  ...                   24.0   \n",
              "2  Urban            12427.42              14  ...                    0.0   \n",
              "3  Urban             6213.71              43  ...                    0.0   \n",
              "4  Urban             6213.71              65  ...                    0.0   \n",
              "\n",
              "   Left.turn.intensity12  Right.turn.intensity08  Right.turn.intensity09  \\\n",
              "0                    0.0                     3.0                     1.0   \n",
              "1                   11.0                  1099.0                   615.0   \n",
              "2                    0.0                     0.0                     0.0   \n",
              "3                    0.0                     0.0                     0.0   \n",
              "4                    0.0                   325.0                   111.0   \n",
              "\n",
              "   Right.turn.intensity10  Right.turn.intensity11  Right.turn.intensity12  \\\n",
              "0                     0.0                     0.0                     0.0   \n",
              "1                   219.0                   101.0                    40.0   \n",
              "2                     0.0                     0.0                     0.0   \n",
              "3                     0.0                     0.0                     0.0   \n",
              "4                    18.0                     4.0                     2.0   \n",
              "\n",
              "   NB_Claim    AMT_Claim  ClaimYN  \n",
              "0         1  5100.171753        1  \n",
              "1         1   883.554840        0  \n",
              "2         0     0.000000        0  \n",
              "3         0     0.000000        0  \n",
              "4         0     0.000000        0  \n",
              "\n",
              "[5 rows x 53 columns]"
            ],
            "text/html": [
              "\n",
              "  <div id=\"df-d4fd3950-5a9f-4460-9a50-179cebbf7331\" class=\"colab-df-container\">\n",
              "    <div>\n",
              "<style scoped>\n",
              "    .dataframe tbody tr th:only-of-type {\n",
              "        vertical-align: middle;\n",
              "    }\n",
              "\n",
              "    .dataframe tbody tr th {\n",
              "        vertical-align: top;\n",
              "    }\n",
              "\n",
              "    .dataframe thead th {\n",
              "        text-align: right;\n",
              "    }\n",
              "</style>\n",
              "<table border=\"1\" class=\"dataframe\">\n",
              "  <thead>\n",
              "    <tr style=\"text-align: right;\">\n",
              "      <th></th>\n",
              "      <th>Duration</th>\n",
              "      <th>Insured.age</th>\n",
              "      <th>Insured.sex</th>\n",
              "      <th>Car.age</th>\n",
              "      <th>Marital</th>\n",
              "      <th>Car.use</th>\n",
              "      <th>Credit.score</th>\n",
              "      <th>Region</th>\n",
              "      <th>Annual.miles.drive</th>\n",
              "      <th>Years.noclaims</th>\n",
              "      <th>...</th>\n",
              "      <th>Left.turn.intensity11</th>\n",
              "      <th>Left.turn.intensity12</th>\n",
              "      <th>Right.turn.intensity08</th>\n",
              "      <th>Right.turn.intensity09</th>\n",
              "      <th>Right.turn.intensity10</th>\n",
              "      <th>Right.turn.intensity11</th>\n",
              "      <th>Right.turn.intensity12</th>\n",
              "      <th>NB_Claim</th>\n",
              "      <th>AMT_Claim</th>\n",
              "      <th>ClaimYN</th>\n",
              "    </tr>\n",
              "  </thead>\n",
              "  <tbody>\n",
              "    <tr>\n",
              "      <th>0</th>\n",
              "      <td>366</td>\n",
              "      <td>45</td>\n",
              "      <td>Male</td>\n",
              "      <td>-1</td>\n",
              "      <td>Married</td>\n",
              "      <td>Commute</td>\n",
              "      <td>609.0</td>\n",
              "      <td>Urban</td>\n",
              "      <td>6213.71</td>\n",
              "      <td>25</td>\n",
              "      <td>...</td>\n",
              "      <td>0.0</td>\n",
              "      <td>0.0</td>\n",
              "      <td>3.0</td>\n",
              "      <td>1.0</td>\n",
              "      <td>0.0</td>\n",
              "      <td>0.0</td>\n",
              "      <td>0.0</td>\n",
              "      <td>1</td>\n",
              "      <td>5100.171753</td>\n",
              "      <td>1</td>\n",
              "    </tr>\n",
              "    <tr>\n",
              "      <th>1</th>\n",
              "      <td>182</td>\n",
              "      <td>44</td>\n",
              "      <td>Female</td>\n",
              "      <td>3</td>\n",
              "      <td>Married</td>\n",
              "      <td>Commute</td>\n",
              "      <td>575.0</td>\n",
              "      <td>Urban</td>\n",
              "      <td>12427.42</td>\n",
              "      <td>20</td>\n",
              "      <td>...</td>\n",
              "      <td>24.0</td>\n",
              "      <td>11.0</td>\n",
              "      <td>1099.0</td>\n",
              "      <td>615.0</td>\n",
              "      <td>219.0</td>\n",
              "      <td>101.0</td>\n",
              "      <td>40.0</td>\n",
              "      <td>1</td>\n",
              "      <td>883.554840</td>\n",
              "      <td>0</td>\n",
              "    </tr>\n",
              "    <tr>\n",
              "      <th>2</th>\n",
              "      <td>184</td>\n",
              "      <td>48</td>\n",
              "      <td>Female</td>\n",
              "      <td>6</td>\n",
              "      <td>Married</td>\n",
              "      <td>Commute</td>\n",
              "      <td>847.0</td>\n",
              "      <td>Urban</td>\n",
              "      <td>12427.42</td>\n",
              "      <td>14</td>\n",
              "      <td>...</td>\n",
              "      <td>0.0</td>\n",
              "      <td>0.0</td>\n",
              "      <td>0.0</td>\n",
              "      <td>0.0</td>\n",
              "      <td>0.0</td>\n",
              "      <td>0.0</td>\n",
              "      <td>0.0</td>\n",
              "      <td>0</td>\n",
              "      <td>0.000000</td>\n",
              "      <td>0</td>\n",
              "    </tr>\n",
              "    <tr>\n",
              "      <th>3</th>\n",
              "      <td>183</td>\n",
              "      <td>71</td>\n",
              "      <td>Male</td>\n",
              "      <td>6</td>\n",
              "      <td>Married</td>\n",
              "      <td>Private</td>\n",
              "      <td>842.0</td>\n",
              "      <td>Urban</td>\n",
              "      <td>6213.71</td>\n",
              "      <td>43</td>\n",
              "      <td>...</td>\n",
              "      <td>0.0</td>\n",
              "      <td>0.0</td>\n",
              "      <td>0.0</td>\n",
              "      <td>0.0</td>\n",
              "      <td>0.0</td>\n",
              "      <td>0.0</td>\n",
              "      <td>0.0</td>\n",
              "      <td>0</td>\n",
              "      <td>0.000000</td>\n",
              "      <td>0</td>\n",
              "    </tr>\n",
              "    <tr>\n",
              "      <th>4</th>\n",
              "      <td>183</td>\n",
              "      <td>84</td>\n",
              "      <td>Male</td>\n",
              "      <td>10</td>\n",
              "      <td>Married</td>\n",
              "      <td>Private</td>\n",
              "      <td>856.0</td>\n",
              "      <td>Urban</td>\n",
              "      <td>6213.71</td>\n",
              "      <td>65</td>\n",
              "      <td>...</td>\n",
              "      <td>0.0</td>\n",
              "      <td>0.0</td>\n",
              "      <td>325.0</td>\n",
              "      <td>111.0</td>\n",
              "      <td>18.0</td>\n",
              "      <td>4.0</td>\n",
              "      <td>2.0</td>\n",
              "      <td>0</td>\n",
              "      <td>0.000000</td>\n",
              "      <td>0</td>\n",
              "    </tr>\n",
              "  </tbody>\n",
              "</table>\n",
              "<p>5 rows × 53 columns</p>\n",
              "</div>\n",
              "    <div class=\"colab-df-buttons\">\n",
              "\n",
              "  <div class=\"colab-df-container\">\n",
              "    <button class=\"colab-df-convert\" onclick=\"convertToInteractive('df-d4fd3950-5a9f-4460-9a50-179cebbf7331')\"\n",
              "            title=\"Convert this dataframe to an interactive table.\"\n",
              "            style=\"display:none;\">\n",
              "\n",
              "  <svg xmlns=\"http://www.w3.org/2000/svg\" height=\"24px\" viewBox=\"0 -960 960 960\">\n",
              "    <path d=\"M120-120v-720h720v720H120Zm60-500h600v-160H180v160Zm220 220h160v-160H400v160Zm0 220h160v-160H400v160ZM180-400h160v-160H180v160Zm440 0h160v-160H620v160ZM180-180h160v-160H180v160Zm440 0h160v-160H620v160Z\"/>\n",
              "  </svg>\n",
              "    </button>\n",
              "\n",
              "  <style>\n",
              "    .colab-df-container {\n",
              "      display:flex;\n",
              "      gap: 12px;\n",
              "    }\n",
              "\n",
              "    .colab-df-convert {\n",
              "      background-color: #E8F0FE;\n",
              "      border: none;\n",
              "      border-radius: 50%;\n",
              "      cursor: pointer;\n",
              "      display: none;\n",
              "      fill: #1967D2;\n",
              "      height: 32px;\n",
              "      padding: 0 0 0 0;\n",
              "      width: 32px;\n",
              "    }\n",
              "\n",
              "    .colab-df-convert:hover {\n",
              "      background-color: #E2EBFA;\n",
              "      box-shadow: 0px 1px 2px rgba(60, 64, 67, 0.3), 0px 1px 3px 1px rgba(60, 64, 67, 0.15);\n",
              "      fill: #174EA6;\n",
              "    }\n",
              "\n",
              "    .colab-df-buttons div {\n",
              "      margin-bottom: 4px;\n",
              "    }\n",
              "\n",
              "    [theme=dark] .colab-df-convert {\n",
              "      background-color: #3B4455;\n",
              "      fill: #D2E3FC;\n",
              "    }\n",
              "\n",
              "    [theme=dark] .colab-df-convert:hover {\n",
              "      background-color: #434B5C;\n",
              "      box-shadow: 0px 1px 3px 1px rgba(0, 0, 0, 0.15);\n",
              "      filter: drop-shadow(0px 1px 2px rgba(0, 0, 0, 0.3));\n",
              "      fill: #FFFFFF;\n",
              "    }\n",
              "  </style>\n",
              "\n",
              "    <script>\n",
              "      const buttonEl =\n",
              "        document.querySelector('#df-d4fd3950-5a9f-4460-9a50-179cebbf7331 button.colab-df-convert');\n",
              "      buttonEl.style.display =\n",
              "        google.colab.kernel.accessAllowed ? 'block' : 'none';\n",
              "\n",
              "      async function convertToInteractive(key) {\n",
              "        const element = document.querySelector('#df-d4fd3950-5a9f-4460-9a50-179cebbf7331');\n",
              "        const dataTable =\n",
              "          await google.colab.kernel.invokeFunction('convertToInteractive',\n",
              "                                                    [key], {});\n",
              "        if (!dataTable) return;\n",
              "\n",
              "        const docLinkHtml = 'Like what you see? Visit the ' +\n",
              "          '<a target=\"_blank\" href=https://colab.research.google.com/notebooks/data_table.ipynb>data table notebook</a>'\n",
              "          + ' to learn more about interactive tables.';\n",
              "        element.innerHTML = '';\n",
              "        dataTable['output_type'] = 'display_data';\n",
              "        await google.colab.output.renderOutput(dataTable, element);\n",
              "        const docLink = document.createElement('div');\n",
              "        docLink.innerHTML = docLinkHtml;\n",
              "        element.appendChild(docLink);\n",
              "      }\n",
              "    </script>\n",
              "  </div>\n",
              "\n",
              "\n",
              "<div id=\"df-97a4749f-0f19-4c7a-804a-eb280bd642f2\">\n",
              "  <button class=\"colab-df-quickchart\" onclick=\"quickchart('df-97a4749f-0f19-4c7a-804a-eb280bd642f2')\"\n",
              "            title=\"Suggest charts\"\n",
              "            style=\"display:none;\">\n",
              "\n",
              "<svg xmlns=\"http://www.w3.org/2000/svg\" height=\"24px\"viewBox=\"0 0 24 24\"\n",
              "     width=\"24px\">\n",
              "    <g>\n",
              "        <path d=\"M19 3H5c-1.1 0-2 .9-2 2v14c0 1.1.9 2 2 2h14c1.1 0 2-.9 2-2V5c0-1.1-.9-2-2-2zM9 17H7v-7h2v7zm4 0h-2V7h2v10zm4 0h-2v-4h2v4z\"/>\n",
              "    </g>\n",
              "</svg>\n",
              "  </button>\n",
              "\n",
              "<style>\n",
              "  .colab-df-quickchart {\n",
              "      --bg-color: #E8F0FE;\n",
              "      --fill-color: #1967D2;\n",
              "      --hover-bg-color: #E2EBFA;\n",
              "      --hover-fill-color: #174EA6;\n",
              "      --disabled-fill-color: #AAA;\n",
              "      --disabled-bg-color: #DDD;\n",
              "  }\n",
              "\n",
              "  [theme=dark] .colab-df-quickchart {\n",
              "      --bg-color: #3B4455;\n",
              "      --fill-color: #D2E3FC;\n",
              "      --hover-bg-color: #434B5C;\n",
              "      --hover-fill-color: #FFFFFF;\n",
              "      --disabled-bg-color: #3B4455;\n",
              "      --disabled-fill-color: #666;\n",
              "  }\n",
              "\n",
              "  .colab-df-quickchart {\n",
              "    background-color: var(--bg-color);\n",
              "    border: none;\n",
              "    border-radius: 50%;\n",
              "    cursor: pointer;\n",
              "    display: none;\n",
              "    fill: var(--fill-color);\n",
              "    height: 32px;\n",
              "    padding: 0;\n",
              "    width: 32px;\n",
              "  }\n",
              "\n",
              "  .colab-df-quickchart:hover {\n",
              "    background-color: var(--hover-bg-color);\n",
              "    box-shadow: 0 1px 2px rgba(60, 64, 67, 0.3), 0 1px 3px 1px rgba(60, 64, 67, 0.15);\n",
              "    fill: var(--button-hover-fill-color);\n",
              "  }\n",
              "\n",
              "  .colab-df-quickchart-complete:disabled,\n",
              "  .colab-df-quickchart-complete:disabled:hover {\n",
              "    background-color: var(--disabled-bg-color);\n",
              "    fill: var(--disabled-fill-color);\n",
              "    box-shadow: none;\n",
              "  }\n",
              "\n",
              "  .colab-df-spinner {\n",
              "    border: 2px solid var(--fill-color);\n",
              "    border-color: transparent;\n",
              "    border-bottom-color: var(--fill-color);\n",
              "    animation:\n",
              "      spin 1s steps(1) infinite;\n",
              "  }\n",
              "\n",
              "  @keyframes spin {\n",
              "    0% {\n",
              "      border-color: transparent;\n",
              "      border-bottom-color: var(--fill-color);\n",
              "      border-left-color: var(--fill-color);\n",
              "    }\n",
              "    20% {\n",
              "      border-color: transparent;\n",
              "      border-left-color: var(--fill-color);\n",
              "      border-top-color: var(--fill-color);\n",
              "    }\n",
              "    30% {\n",
              "      border-color: transparent;\n",
              "      border-left-color: var(--fill-color);\n",
              "      border-top-color: var(--fill-color);\n",
              "      border-right-color: var(--fill-color);\n",
              "    }\n",
              "    40% {\n",
              "      border-color: transparent;\n",
              "      border-right-color: var(--fill-color);\n",
              "      border-top-color: var(--fill-color);\n",
              "    }\n",
              "    60% {\n",
              "      border-color: transparent;\n",
              "      border-right-color: var(--fill-color);\n",
              "    }\n",
              "    80% {\n",
              "      border-color: transparent;\n",
              "      border-right-color: var(--fill-color);\n",
              "      border-bottom-color: var(--fill-color);\n",
              "    }\n",
              "    90% {\n",
              "      border-color: transparent;\n",
              "      border-bottom-color: var(--fill-color);\n",
              "    }\n",
              "  }\n",
              "</style>\n",
              "\n",
              "  <script>\n",
              "    async function quickchart(key) {\n",
              "      const quickchartButtonEl =\n",
              "        document.querySelector('#' + key + ' button');\n",
              "      quickchartButtonEl.disabled = true;  // To prevent multiple clicks.\n",
              "      quickchartButtonEl.classList.add('colab-df-spinner');\n",
              "      try {\n",
              "        const charts = await google.colab.kernel.invokeFunction(\n",
              "            'suggestCharts', [key], {});\n",
              "      } catch (error) {\n",
              "        console.error('Error during call to suggestCharts:', error);\n",
              "      }\n",
              "      quickchartButtonEl.classList.remove('colab-df-spinner');\n",
              "      quickchartButtonEl.classList.add('colab-df-quickchart-complete');\n",
              "    }\n",
              "    (() => {\n",
              "      let quickchartButtonEl =\n",
              "        document.querySelector('#df-97a4749f-0f19-4c7a-804a-eb280bd642f2 button');\n",
              "      quickchartButtonEl.style.display =\n",
              "        google.colab.kernel.accessAllowed ? 'block' : 'none';\n",
              "    })();\n",
              "  </script>\n",
              "</div>\n",
              "\n",
              "    </div>\n",
              "  </div>\n"
            ],
            "application/vnd.google.colaboratory.intrinsic+json": {
              "type": "dataframe",
              "variable_name": "df"
            }
          },
          "metadata": {},
          "execution_count": 4
        }
      ]
    },
    {
      "cell_type": "code",
      "source": [
        "from sklearn.preprocessing import StandardScaler, LabelEncoder\n",
        "\n",
        "# Step 4: Preprocess the dataset\n",
        "# 1. Handle missing values (if any)\n",
        "dataset.fillna(method='ffill', inplace=True)  # Simple forward fill for missing values\n",
        "\n",
        "# 2. Encode categorical variables (if any exist)\n",
        "# Assuming 'CategoryColumn' is a placeholder for actual categorical columns in your dataset\n",
        "categorical_columns = dataset.select_dtypes(include=['object']).columns\n",
        "for col in categorical_columns:\n",
        "    le = LabelEncoder()\n",
        "    dataset[col] = le.fit_transform(dataset[col])\n",
        "\n",
        "# 3. Standardize numerical columns\n",
        "# Assuming all columns except 'ClaimYN' and the original claims columns are numerical\n",
        "numerical_columns = dataset.drop(columns=['ClaimYN', 'NB_Claim', 'AMT_Claim']).columns\n",
        "scaler = StandardScaler()\n",
        "dataset[numerical_columns] = scaler.fit_transform(dataset[numerical_columns])"
      ],
      "metadata": {
        "colab": {
          "base_uri": "https://localhost:8080/"
        },
        "id": "bKFXPpaevo1W",
        "outputId": "ef391c4b-e49d-4330-92d9-fc944ec485fd"
      },
      "execution_count": 5,
      "outputs": [
        {
          "output_type": "stream",
          "name": "stderr",
          "text": [
            "<ipython-input-5-510080e7c0ff>:5: FutureWarning: DataFrame.fillna with 'method' is deprecated and will raise in a future version. Use obj.ffill() or obj.bfill() instead.\n",
            "  dataset.fillna(method='ffill', inplace=True)  # Simple forward fill for missing values\n"
          ]
        }
      ]
    },
    {
      "cell_type": "code",
      "source": [
        "print(numerical_columns)"
      ],
      "metadata": {
        "colab": {
          "base_uri": "https://localhost:8080/"
        },
        "id": "w6YNZHPfvyiP",
        "outputId": "7987193e-a1c0-47ea-b9c3-876d39cb04d6"
      },
      "execution_count": 6,
      "outputs": [
        {
          "output_type": "stream",
          "name": "stdout",
          "text": [
            "Index(['Duration', 'Insured.age', 'Insured.sex', 'Car.age', 'Marital',\n",
            "       'Car.use', 'Credit.score', 'Region', 'Annual.miles.drive',\n",
            "       'Years.noclaims', 'Territory', 'Annual.pct.driven',\n",
            "       'Total.miles.driven', 'Pct.drive.mon', 'Pct.drive.tue', 'Pct.drive.wed',\n",
            "       'Pct.drive.thr', 'Pct.drive.fri', 'Pct.drive.sat', 'Pct.drive.sun',\n",
            "       'Pct.drive.2hrs', 'Pct.drive.3hrs', 'Pct.drive.4hrs', 'Pct.drive.wkday',\n",
            "       'Pct.drive.wkend', 'Pct.drive.rush am', 'Pct.drive.rush pm',\n",
            "       'Avgdays.week', 'Accel.06miles', 'Accel.08miles', 'Accel.09miles',\n",
            "       'Accel.11miles', 'Accel.12miles', 'Accel.14miles', 'Brake.06miles',\n",
            "       'Brake.08miles', 'Brake.09miles', 'Brake.11miles', 'Brake.12miles',\n",
            "       'Brake.14miles', 'Left.turn.intensity08', 'Left.turn.intensity09',\n",
            "       'Left.turn.intensity10', 'Left.turn.intensity11',\n",
            "       'Left.turn.intensity12', 'Right.turn.intensity08',\n",
            "       'Right.turn.intensity09', 'Right.turn.intensity10',\n",
            "       'Right.turn.intensity11', 'Right.turn.intensity12'],\n",
            "      dtype='object')\n"
          ]
        }
      ]
    },
    {
      "cell_type": "code",
      "source": [
        "print(categorical_columns)"
      ],
      "metadata": {
        "colab": {
          "base_uri": "https://localhost:8080/"
        },
        "id": "JppBhkgev6Nl",
        "outputId": "509ea528-1917-40d2-fdc7-61f95429331d"
      },
      "execution_count": 7,
      "outputs": [
        {
          "output_type": "stream",
          "name": "stdout",
          "text": [
            "Index(['Insured.sex', 'Marital', 'Car.use', 'Region'], dtype='object')\n"
          ]
        }
      ]
    },
    {
      "cell_type": "code",
      "source": [
        "from imblearn.over_sampling import SMOTE\n",
        "\n",
        "# Step 5: Handle the imbalance in the dataset\n",
        "X = dataset.drop(columns=['ClaimYN'])\n",
        "y = dataset['ClaimYN']\n",
        "\n",
        "smote = SMOTE(random_state=42)\n",
        "X_resampled, y_resampled = smote.fit_resample(X, y)\n",
        "\n",
        "# Merging resampled data back into a single DataFrame\n",
        "dataset_resampled = pd.concat([X_resampled, y_resampled], axis=1)\n",
        "\n",
        "# Display the new distribution of ClaimYN after resampling\n",
        "label_distribution_resampled = dataset_resampled['ClaimYN'].value_counts().sort_index()\n",
        "print(\"\\nResampled Distribution of ClaimYN Labels:\")\n",
        "for label, count in label_distribution_resampled.items():\n",
        "    print(f\"{label_mapping[label]} ({label}): {count} instances\")"
      ],
      "metadata": {
        "colab": {
          "base_uri": "https://localhost:8080/"
        },
        "id": "y2Gz5aQ3wgl8",
        "outputId": "47d89e1a-866b-49a6-ae17-51be6fca4405"
      },
      "execution_count": 8,
      "outputs": [
        {
          "output_type": "stream",
          "name": "stdout",
          "text": [
            "\n",
            "Resampled Distribution of ClaimYN Labels:\n",
            "Not Risky (0): 97302 instances\n",
            "Risky (1): 97302 instances\n"
          ]
        }
      ]
    },
    {
      "cell_type": "code",
      "source": [
        "# Step 6: Drop NB_Claim and AMT_Claim columns\n",
        "dataset_resampled = dataset_resampled.drop(columns=['NB_Claim', 'AMT_Claim'])"
      ],
      "metadata": {
        "id": "tHwhMlzrwtRV"
      },
      "execution_count": 9,
      "outputs": []
    },
    {
      "cell_type": "code",
      "source": [
        "from sklearn.model_selection import train_test_split\n",
        "\n",
        "# Step 7: Split the dataset into train, test, and validation sets\n",
        "X = dataset_resampled.drop(columns=['ClaimYN'])\n",
        "y = dataset_resampled['ClaimYN']\n",
        "\n",
        "# Split the data (70% train, 15% test, 15% validation)\n",
        "X_train, X_temp, y_train, y_temp = train_test_split(X, y, test_size=0.3, random_state=42)\n",
        "X_test, X_val, y_test, y_val = train_test_split(X_temp, y_temp, test_size=0.5, random_state=42)\n",
        "\n",
        "print(f\"Training set size: {len(X_train)}\")\n",
        "print(f\"Testing set size: {len(X_test)}\")\n",
        "print(f\"Validation set size: {len(X_val)}\")"
      ],
      "metadata": {
        "colab": {
          "base_uri": "https://localhost:8080/"
        },
        "id": "egQxt0syw7hQ",
        "outputId": "d549a615-46cd-4d5f-8a34-0ce43e5b6ea9"
      },
      "execution_count": 10,
      "outputs": [
        {
          "output_type": "stream",
          "name": "stdout",
          "text": [
            "Training set size: 136222\n",
            "Testing set size: 29191\n",
            "Validation set size: 29191\n"
          ]
        }
      ]
    },
    {
      "cell_type": "code",
      "source": [
        "import matplotlib.pyplot as plt\n",
        "import seaborn as sns\n",
        "\n",
        "# Visualize the original distribution of ClaimYN\n",
        "plt.figure(figsize=(6, 4))\n",
        "sns.countplot(x=dataset['ClaimYN'])\n",
        "plt.title('Original Distribution of ClaimYN')\n",
        "plt.xlabel('ClaimYN')\n",
        "plt.ylabel('Count')\n",
        "plt.xticks(ticks=[0, 1], labels=['Not Risky', 'Risky'])\n",
        "plt.show()"
      ],
      "metadata": {
        "colab": {
          "base_uri": "https://localhost:8080/",
          "height": 410
        },
        "id": "BQd5txRm87oz",
        "outputId": "49db3f4a-de76-456f-beae-5d432b3e6595"
      },
      "execution_count": 11,
      "outputs": [
        {
          "output_type": "display_data",
          "data": {
            "text/plain": [
              "<Figure size 600x400 with 1 Axes>"
            ],
            "image/png": "[encoded data removed]"
          },
          "metadata": {}
        }
      ]
    },
    {
      "cell_type": "code",
      "source": [
        "# Visualize the new distribution of ClaimYN after SMOTE\n",
        "plt.figure(figsize=(6, 4))\n",
        "sns.countplot(x=y_resampled)\n",
        "plt.title('Resampled Distribution of ClaimYN')\n",
        "plt.xlabel('ClaimYN')\n",
        "plt.ylabel('Count')\n",
        "plt.xticks(ticks=[0, 1], labels=['Not Risky', 'Risky'])\n",
        "plt.show()"
      ],
      "metadata": {
        "colab": {
          "base_uri": "https://localhost:8080/",
          "height": 410
        },
        "id": "GH8BIJhvAj2G",
        "outputId": "4fd70a7e-a229-4f26-fdcb-aaff2813b012"
      },
      "execution_count": 12,
      "outputs": [
        {
          "output_type": "display_data",
          "data": {
            "text/plain": [
              "<Figure size 600x400 with 1 Axes>"
            ],
            "image/png": "[encoded data removed]"
          },
          "metadata": {}
        }
      ]
    },
    {
      "cell_type": "code",
      "source": [
        "# Visualize pairwise relationships\n",
        "sns.pairplot(dataset_resampled.sample(500), hue='ClaimYN', diag_kind='kde')\n",
        "plt.suptitle('Pairwise Relationships in Resampled Data', y=1.02)\n",
        "plt.show()"
      ],
      "metadata": {
        "id": "WGBISqxYAmPk"
      },
      "execution_count": null,
      "outputs": []
    },
    {
      "cell_type": "code",
      "source": [],
      "metadata": {
        "id": "thrFMGnSA7f7"
      },
      "execution_count": null,
      "outputs": []
    }
  ]
}