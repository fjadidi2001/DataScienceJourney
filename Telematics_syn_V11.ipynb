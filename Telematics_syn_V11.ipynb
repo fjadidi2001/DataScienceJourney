{
  "nbformat": 4,
  "nbformat_minor": 0,
  "metadata": {
    "colab": {
      "provenance": [],
      "gpuType": "T4",
      "include_colab_link": true
    },
    "kernelspec": {
      "name": "python3",
      "display_name": "Python 3"
    },
    "language_info": {
      "name": "python"
    },
    "accelerator": "GPU"
  },
  "cells": [
    {
      "cell_type": "markdown",
      "metadata": {
        "id": "view-in-github",
        "colab_type": "text"
      },
      "source": [
        "<a href=\"https://colab.research.google.com/github/fjadidi2001/DataScienceJourney/blob/master/Telematics_syn_V11.ipynb\" target=\"_parent\"><img src=\"https://colab.research.google.com/assets/colab-badge.svg\" alt=\"Open In Colab\"/></a>"
      ]
    },
    {
      "cell_type": "code",
      "source": [
        "# Mount Google Drive\n",
        "from google.colab import drive\n",
        "drive.mount('/content/drive')"
      ],
      "metadata": {
        "colab": {
          "base_uri": "https://localhost:8080/"
        },
        "id": "ncAvdtmtao7d",
        "outputId": "86518ba7-c91d-4089-bc1b-92db0bd49afd"
      },
      "execution_count": 1,
      "outputs": [
        {
          "output_type": "stream",
          "name": "stdout",
          "text": [
            "Mounted at /content/drive\n"
          ]
        }
      ]
    },
    {
      "cell_type": "code",
      "source": [
        "# Load the dataset from Google Drive\n",
        "file_path = '/content/drive/My Drive/telematics_syn.csv'\n",
        "df = pd.read_csv(file_path)"
      ],
      "metadata": {
        "id": "WqHaAV2_QtLO"
      },
      "execution_count": 3,
      "outputs": []
    },
    {
      "cell_type": "code",
      "source": [
        "pd.set_option('display.max_columns', None)\n",
        "\n",
        "print(df.head(5))"
      ],
      "metadata": {
        "colab": {
          "base_uri": "https://localhost:8080/"
        },
        "id": "lvvCXmmpR6Be",
        "outputId": "e29f40f3-4d7e-45dc-b994-ebc268977da1"
      },
      "execution_count": 6,
      "outputs": [
        {
          "output_type": "stream",
          "name": "stdout",
          "text": [
            "   Duration  Insured.age Insured.sex  Car.age  Marital  Car.use  Credit.score  \\\n",
            "0       366           45        Male       -1  Married  Commute         609.0   \n",
            "1       182           44      Female        3  Married  Commute         575.0   \n",
            "2       184           48      Female        6  Married  Commute         847.0   \n",
            "3       183           71        Male        6  Married  Private         842.0   \n",
            "4       183           84        Male       10  Married  Private         856.0   \n",
            "\n",
            "  Region  Annual.miles.drive  Years.noclaims  Territory  Annual.pct.driven  \\\n",
            "0  Urban             6213.71              25         70           0.849315   \n",
            "1  Urban            12427.42              20         26           0.465753   \n",
            "2  Urban            12427.42              14         84           0.520548   \n",
            "3  Urban             6213.71              43         30           0.065753   \n",
            "4  Urban             6213.71              65         70           0.441096   \n",
            "\n",
            "   Total.miles.driven  Pct.drive.mon  Pct.drive.tue  Pct.drive.wed  \\\n",
            "0         8864.376247       0.148070       0.152466       0.143494   \n",
            "1         8092.308208       0.147686       0.136917       0.135046   \n",
            "2         3225.832512       0.153735       0.097124       0.129706   \n",
            "3          253.024528       0.106702       0.056437       0.134039   \n",
            "4         4374.379634       0.123807       0.169661       0.157235   \n",
            "\n",
            "   Pct.drive.thr  Pct.drive.fri  Pct.drive.sat  Pct.drive.sun  Pct.drive.2hrs  \\\n",
            "0       0.132412       0.169418       0.131632       0.122508        0.002607   \n",
            "1       0.188125       0.159724       0.148017       0.084485        0.000377   \n",
            "2       0.182424       0.168658       0.157462       0.110891        0.013296   \n",
            "3       0.185479       0.253381       0.235744       0.028218        0.000000   \n",
            "4       0.165071       0.182776       0.105034       0.096416        0.002335   \n",
            "\n",
            "   Pct.drive.3hrs  Pct.drive.4hrs  Pct.drive.wkday  Pct.drive.wkend  \\\n",
            "0        0.000711        0.000000         0.744740         0.255260   \n",
            "1        0.000377        0.000188         0.766234         0.233766   \n",
            "2        0.000059        0.000000         0.730592         0.269408   \n",
            "3        0.000000        0.000000         0.732963         0.267037   \n",
            "4        0.000833        0.000000         0.794932         0.205068   \n",
            "\n",
            "   Pct.drive.rush am  Pct.drive.rush pm  Avgdays.week  Accel.06miles  \\\n",
            "0           0.199708           0.233929      6.528897           41.0   \n",
            "1           0.150000           0.161883      6.500000           65.0   \n",
            "2           0.040592           0.131185      5.388865           70.0   \n",
            "3           0.079259           0.141112      5.148138            9.0   \n",
            "4           0.111583           0.058326      6.482803           73.0   \n",
            "\n",
            "   Accel.08miles  Accel.09miles  Accel.11miles  Accel.12miles  Accel.14miles  \\\n",
            "0            3.0            1.0            1.0            0.0            0.0   \n",
            "1            5.0            2.0            1.0            1.0            1.0   \n",
            "2           15.0           11.0            9.0            7.0            6.0   \n",
            "3            3.0            0.0            0.0            0.0            0.0   \n",
            "4            3.0            0.0            0.0            0.0            0.0   \n",
            "\n",
            "   Brake.06miles  Brake.08miles  Brake.09miles  Brake.11miles  Brake.12miles  \\\n",
            "0           78.0           10.0            2.0            1.0            0.0   \n",
            "1           83.0           10.0            4.0            1.0            1.0   \n",
            "2          152.0           14.0           10.0            9.0            7.0   \n",
            "3           93.0            4.0            1.0            0.0            0.0   \n",
            "4           27.0            2.0            1.0            0.0            0.0   \n",
            "\n",
            "   Brake.14miles  Left.turn.intensity08  Left.turn.intensity09  \\\n",
            "0            0.0                    7.0                    3.0   \n",
            "1            0.0                  469.0                  225.0   \n",
            "2            6.0                    0.0                    0.0   \n",
            "3            0.0                    0.0                    0.0   \n",
            "4            0.0                   80.0                   22.0   \n",
            "\n",
            "   Left.turn.intensity10  Left.turn.intensity11  Left.turn.intensity12  \\\n",
            "0                    1.0                    0.0                    0.0   \n",
            "1                   58.0                   24.0                   11.0   \n",
            "2                    0.0                    0.0                    0.0   \n",
            "3                    0.0                    0.0                    0.0   \n",
            "4                    2.0                    0.0                    0.0   \n",
            "\n",
            "   Right.turn.intensity08  Right.turn.intensity09  Right.turn.intensity10  \\\n",
            "0                     3.0                     1.0                     0.0   \n",
            "1                  1099.0                   615.0                   219.0   \n",
            "2                     0.0                     0.0                     0.0   \n",
            "3                     0.0                     0.0                     0.0   \n",
            "4                   325.0                   111.0                    18.0   \n",
            "\n",
            "   Right.turn.intensity11  Right.turn.intensity12  NB_Claim    AMT_Claim  \n",
            "0                     0.0                     0.0         1  5100.171753  \n",
            "1                   101.0                    40.0         1   883.554840  \n",
            "2                     0.0                     0.0         0     0.000000  \n",
            "3                     0.0                     0.0         0     0.000000  \n",
            "4                     4.0                     2.0         0     0.000000  \n"
          ]
        }
      ]
    },
    {
      "cell_type": "code",
      "source": [
        "import warnings\n",
        "warnings.filterwarnings('ignore')"
      ],
      "metadata": {
        "id": "xqwgnT0oRpxV"
      },
      "execution_count": 4,
      "outputs": []
    }
  ]
}