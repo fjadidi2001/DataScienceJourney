{
  "cells": [
    {
      "cell_type": "markdown",
      "metadata": {
        "id": "view-in-github",
        "colab_type": "text"
      },
      "source": [
        "<a href=\"https://colab.research.google.com/github/fjadidi2001/DataScienceJourney/blob/master/drugs_analysis.ipynb\" target=\"_parent\"><img src=\"https://colab.research.google.com/assets/colab-badge.svg\" alt=\"Open In Colab\"/></a>"
      ]
    },
    {
      "cell_type": "markdown",
      "id": "a27ec145",
      "metadata": {
        "papermill": {
          "duration": 0.010942,
          "end_time": "2022-12-21T10:48:53.646968",
          "exception": false,
          "start_time": "2022-12-21T10:48:53.636026",
          "status": "completed"
        },
        "tags": [],
        "id": "a27ec145"
      },
      "source": [
        "# 1. Observe the dataset\n",
        "   1.1 Import necessary modules"
      ]
    },
    {
      "cell_type": "code",
      "execution_count": 1,
      "id": "83fbddeb",
      "metadata": {
        "execution": {
          "iopub.execute_input": "2022-12-21T10:48:53.667319Z",
          "iopub.status.busy": "2022-12-21T10:48:53.666588Z",
          "iopub.status.idle": "2022-12-21T10:48:54.767773Z",
          "shell.execute_reply": "2022-12-21T10:48:54.766549Z"
        },
        "papermill": {
          "duration": 1.114492,
          "end_time": "2022-12-21T10:48:54.770774",
          "exception": false,
          "start_time": "2022-12-21T10:48:53.656282",
          "status": "completed"
        },
        "tags": [],
        "id": "83fbddeb"
      },
      "outputs": [],
      "source": [
        "#Load packages\n",
        "import matplotlib\n",
        "import matplotlib.pyplot as plt\n",
        "import numpy as np\n",
        "import pandas as pd\n",
        "import seaborn as sns\n"
      ]
    },
    {
      "cell_type": "markdown",
      "id": "cb8716bc",
      "metadata": {
        "papermill": {
          "duration": 0.008644,
          "end_time": "2022-12-21T10:48:54.788576",
          "exception": false,
          "start_time": "2022-12-21T10:48:54.779932",
          "status": "completed"
        },
        "tags": [],
        "id": "cb8716bc"
      },
      "source": [
        "#  Read and understand data\n",
        "\n",
        "Major Column Descriptors:\n",
        "\n",
        "generic_name:\n",
        "The chemical name of the drug (not brand name)\n",
        "drug_classes:\n",
        "The drug belongs to which drug class, i.e a drug class is a set of medications and other compounds that have a similar chemical structure, the same mechanism of action (i.e. binding to the same biological target), a related mode of action, and/or are used to treat the same disease.\n",
        "brand_names:\n",
        "brand names in which the drugs are being sold or available in the market.\n",
        "activity:\n",
        "Activity is based on recent site visitor activity relative to other medications in the list. Data was gathered from https://www.drugs.com\n",
        "rx_otc:\n",
        "Rx-to-OTC switch is the transfer of proven prescription drugs to nonprescription, where\n",
        "OTC (Over-the-counter) = Medication that can be purchased without a medical prescription\n",
        "Rx = Prescription Needed\n",
        "Rx/OTC = Prescription or Over-the-counter.\n",
        "\n",
        "pregnancy_category:\n",
        "A = Adequate and well-controlled studies have failed to demonstrate a risk to the fetus in the first trimester of pregnancy (and there is no evidence of risk in later trimesters).\n",
        "B = Animal reproduction studies have failed to demonstrate a risk to the fetus and there are no adequate and well-controlled studies in pregnant women.\n",
        "C = Animal reproduction studies have shown an adverse effect on the fetus and there are no adequate and well-controlled studies in humans, but potential benefits may warrant use in pregnant women despite potential risks.\n",
        "D = There is positive evidence of human fetal risk based on adverse reaction data from investigational or marketing experience or studies in humans, but potential benefits may warrant use in pregnant women despite potential risks.\n",
        "X = Studies in animals or humans have demonstrated fetal abnormalities and/or there is positive evidence of human fetal risk based on adverse reaction data from investigational or marketing experience, and the risks involved in use in pregnant women clearly outweigh potential benefits.\n",
        "N = FDA has not classified the drug.\n",
        "\n",
        "csa:\n",
        "\n",
        "Controlled Substances Act (CSA) Schedule\n",
        "M = The drug has multiple schedules. The schedule may depend on the exact dosage form or strength of the medication.\n",
        "U = CSA Schedule is unknown.\n",
        "N = Is not subject to the Controlled Substances Act.\n",
        "1 = Has a high potential for abuse. Has no currently accepted medical use in treatment in the United States. There is a lack of accepted safety for use under medical supervision.\n",
        "2 = Has a high potential for abuse. Has a currently accepted medical use in treatment in the United States or a currently accepted medical use with severe restrictions. Abuse may lead to severe psychological or physical dependence.\n",
        "3 = Has a potential for abuse less than those in schedules 1 and 2. Has a currently accepted medical use in treatment in the United States. Abuse may lead to moderate or low physical dependence or high psychological dependence.\n",
        "4 = Has a low potential for abuse relative to those in schedule 3. It has a currently accepted medical use in treatment in the United States. Abuse may lead to limited physical dependence or psychological dependence relative to those in schedule 3.\n",
        "5 = Has a low potential for abuse relative to those in schedule 4. Has a currently accepted medical use in treatment in the United States. Abuse may lead to limited physical dependence or psychological dependence relative to those in schedule 4.\n",
        "\n",
        "alcohol:\n",
        "X = Interacts with Alcohol.\n",
        "\n",
        "rating:\n",
        "For ratings, users were asked how effective they found the medicine while considering positive/adverse effects and ease of use (1 = not effective, 10 = most effective)."
      ]
    },
    {
      "cell_type": "code",
      "source": [
        "import kagglehub\n",
        "\n",
        "# Download latest version\n",
        "path = kagglehub.dataset_download(\"jithinanievarghese/drugs-side-effects-and-medical-condition\")\n",
        "\n",
        "print(\"Path to dataset files:\", path)"
      ],
      "metadata": {
        "colab": {
          "base_uri": "https://localhost:8080/"
        },
        "id": "inmyrmQgwTwc",
        "outputId": "527f196a-bc76-41b8-b299-cf028365ccb3"
      },
      "id": "inmyrmQgwTwc",
      "execution_count": 3,
      "outputs": [
        {
          "output_type": "stream",
          "name": "stdout",
          "text": [
            "Downloading from https://www.kaggle.com/api/v1/datasets/download/jithinanievarghese/drugs-side-effects-and-medical-condition?dataset_version_number=1...\n"
          ]
        },
        {
          "output_type": "stream",
          "name": "stderr",
          "text": [
            "100%|██████████| 1.17M/1.17M [00:00<00:00, 63.3MB/s]"
          ]
        },
        {
          "output_type": "stream",
          "name": "stdout",
          "text": [
            "Extracting files...\n",
            "Path to dataset files: /root/.cache/kagglehub/datasets/jithinanievarghese/drugs-side-effects-and-medical-condition/versions/1\n"
          ]
        },
        {
          "output_type": "stream",
          "name": "stderr",
          "text": [
            "\n"
          ]
        }
      ]
    },
    {
      "cell_type": "code",
      "execution_count": 4,
      "id": "befaf01d",
      "metadata": {
        "execution": {
          "iopub.execute_input": "2022-12-21T10:48:54.808643Z",
          "iopub.status.busy": "2022-12-21T10:48:54.808171Z",
          "iopub.status.idle": "2022-12-21T10:48:55.171199Z",
          "shell.execute_reply": "2022-12-21T10:48:55.170198Z"
        },
        "papermill": {
          "duration": 0.37619,
          "end_time": "2022-12-21T10:48:55.173856",
          "exception": false,
          "start_time": "2022-12-21T10:48:54.797666",
          "status": "completed"
        },
        "tags": [],
        "colab": {
          "base_uri": "https://localhost:8080/",
          "height": 417
        },
        "id": "befaf01d",
        "outputId": "c4ff4978-8d27-4abe-cf64-e67c360be955"
      },
      "outputs": [
        {
          "output_type": "execute_result",
          "data": {
            "text/plain": [
              "                    drug_name medical_condition  \\\n",
              "521                   Lexapro           Anxiety   \n",
              "1110  aclidinium / formoterol              COPD   \n",
              "2402                  Dazidox              Pain   \n",
              "2833                 Roweepra          Seizures   \n",
              "1752                Ru-Hist D          Hayfever   \n",
              "\n",
              "                                           side_effects  \\\n",
              "521   skin rash or hives ; difficulty breathing; swe...   \n",
              "1110  hives ; difficult breathing; swelling of your ...   \n",
              "2402  Along with its needed effects, a medicine may ...   \n",
              "2833  WARNING/CAUTION: Even though it may be rare, s...   \n",
              "1752  hives ; difficulty breathing; swelling of your...   \n",
              "\n",
              "                           generic_name  \\\n",
              "521                        escitalopram   \n",
              "1110          aclidinium and formoterol   \n",
              "2402             oxycodone (oral route)   \n",
              "2833              Levetiracetam Tablets   \n",
              "1752  brompheniramine and phenylephrine   \n",
              "\n",
              "                                 drug_classes       brand_names activity  \\\n",
              "521   Selective serotonin reuptake inhibitors               NaN      42%   \n",
              "1110              Bronchodilator combinations  Duaklir Pressair       0%   \n",
              "2402            Opioids (narcotic analgesics)               NaN       2%   \n",
              "2833              Pyrrolidine anticonvulsants            Keppra       4%   \n",
              "1752           Upper respiratory combinations               NaN       0%   \n",
              "\n",
              "      rx_otc pregnancy_category csa alcohol  \\\n",
              "521       Rx                  C   N       X   \n",
              "1110      Rx                NaN   N     NaN   \n",
              "2402      Rx                  N   2       X   \n",
              "2833      Rx                  C   N       X   \n",
              "1752  Rx/OTC                  C   N       X   \n",
              "\n",
              "                                          related_drugs  \\\n",
              "521                                                 NaN   \n",
              "1110                                                NaN   \n",
              "2402                                                NaN   \n",
              "2833  gabapentin: https://www.drugs.com/gabapentin.h...   \n",
              "1752  amoxicillin: https://www.drugs.com/amoxicillin...   \n",
              "\n",
              "                          medical_condition_description  rating  \\\n",
              "521   Anxiety Other names: Anxiety States; Nerves; N...     7.5   \n",
              "1110  COPD Other names: Bronchitis with Airway Obstr...     NaN   \n",
              "2402  Pain An unpleasant sensory and emotional exper...     NaN   \n",
              "2833  Seizures (Convulsions) Other names: Absence Se...     NaN   \n",
              "1752  Allergic Rhinitis Other names: Hay Fever; Nasa...     NaN   \n",
              "\n",
              "      no_of_reviews                                          drug_link  \\\n",
              "521           899.0                 https://www.drugs.com/lexapro.html   \n",
              "1110            NaN  https://www.drugs.com/mtm/aclidinium-and-formo...   \n",
              "2402            NaN            https://www.drugs.com/cons/dazidox.html   \n",
              "2833            NaN            https://www.drugs.com/cdi/roweepra.html   \n",
              "1752            NaN           https://www.drugs.com/mtm/ru-hist-d.html   \n",
              "\n",
              "                                  medical_condition_url  \n",
              "521        https://www.drugs.com/condition/anxiety.html  \n",
              "1110  https://www.drugs.com/condition/chronic-obstru...  \n",
              "2402          https://www.drugs.com/condition/pain.html  \n",
              "2833      https://www.drugs.com/condition/seizures.html  \n",
              "1752  https://www.drugs.com/condition/allergic-rhini...  "
            ],
            "text/html": [
              "\n",
              "  <div id=\"df-626a5c73-72ad-435a-8b0a-0cfc5e3717a6\" class=\"colab-df-container\">\n",
              "    <div>\n",
              "<style scoped>\n",
              "    .dataframe tbody tr th:only-of-type {\n",
              "        vertical-align: middle;\n",
              "    }\n",
              "\n",
              "    .dataframe tbody tr th {\n",
              "        vertical-align: top;\n",
              "    }\n",
              "\n",
              "    .dataframe thead th {\n",
              "        text-align: right;\n",
              "    }\n",
              "</style>\n",
              "<table border=\"1\" class=\"dataframe\">\n",
              "  <thead>\n",
              "    <tr style=\"text-align: right;\">\n",
              "      <th></th>\n",
              "      <th>drug_name</th>\n",
              "      <th>medical_condition</th>\n",
              "      <th>side_effects</th>\n",
              "      <th>generic_name</th>\n",
              "      <th>drug_classes</th>\n",
              "      <th>brand_names</th>\n",
              "      <th>activity</th>\n",
              "      <th>rx_otc</th>\n",
              "      <th>pregnancy_category</th>\n",
              "      <th>csa</th>\n",
              "      <th>alcohol</th>\n",
              "      <th>related_drugs</th>\n",
              "      <th>medical_condition_description</th>\n",
              "      <th>rating</th>\n",
              "      <th>no_of_reviews</th>\n",
              "      <th>drug_link</th>\n",
              "      <th>medical_condition_url</th>\n",
              "    </tr>\n",
              "  </thead>\n",
              "  <tbody>\n",
              "    <tr>\n",
              "      <th>521</th>\n",
              "      <td>Lexapro</td>\n",
              "      <td>Anxiety</td>\n",
              "      <td>skin rash or hives ; difficulty breathing; swe...</td>\n",
              "      <td>escitalopram</td>\n",
              "      <td>Selective serotonin reuptake inhibitors</td>\n",
              "      <td>NaN</td>\n",
              "      <td>42%</td>\n",
              "      <td>Rx</td>\n",
              "      <td>C</td>\n",
              "      <td>N</td>\n",
              "      <td>X</td>\n",
              "      <td>NaN</td>\n",
              "      <td>Anxiety Other names: Anxiety States; Nerves; N...</td>\n",
              "      <td>7.5</td>\n",
              "      <td>899.0</td>\n",
              "      <td>https://www.drugs.com/lexapro.html</td>\n",
              "      <td>https://www.drugs.com/condition/anxiety.html</td>\n",
              "    </tr>\n",
              "    <tr>\n",
              "      <th>1110</th>\n",
              "      <td>aclidinium / formoterol</td>\n",
              "      <td>COPD</td>\n",
              "      <td>hives ; difficult breathing; swelling of your ...</td>\n",
              "      <td>aclidinium and formoterol</td>\n",
              "      <td>Bronchodilator combinations</td>\n",
              "      <td>Duaklir Pressair</td>\n",
              "      <td>0%</td>\n",
              "      <td>Rx</td>\n",
              "      <td>NaN</td>\n",
              "      <td>N</td>\n",
              "      <td>NaN</td>\n",
              "      <td>NaN</td>\n",
              "      <td>COPD Other names: Bronchitis with Airway Obstr...</td>\n",
              "      <td>NaN</td>\n",
              "      <td>NaN</td>\n",
              "      <td>https://www.drugs.com/mtm/aclidinium-and-formo...</td>\n",
              "      <td>https://www.drugs.com/condition/chronic-obstru...</td>\n",
              "    </tr>\n",
              "    <tr>\n",
              "      <th>2402</th>\n",
              "      <td>Dazidox</td>\n",
              "      <td>Pain</td>\n",
              "      <td>Along with its needed effects, a medicine may ...</td>\n",
              "      <td>oxycodone (oral route)</td>\n",
              "      <td>Opioids (narcotic analgesics)</td>\n",
              "      <td>NaN</td>\n",
              "      <td>2%</td>\n",
              "      <td>Rx</td>\n",
              "      <td>N</td>\n",
              "      <td>2</td>\n",
              "      <td>X</td>\n",
              "      <td>NaN</td>\n",
              "      <td>Pain An unpleasant sensory and emotional exper...</td>\n",
              "      <td>NaN</td>\n",
              "      <td>NaN</td>\n",
              "      <td>https://www.drugs.com/cons/dazidox.html</td>\n",
              "      <td>https://www.drugs.com/condition/pain.html</td>\n",
              "    </tr>\n",
              "    <tr>\n",
              "      <th>2833</th>\n",
              "      <td>Roweepra</td>\n",
              "      <td>Seizures</td>\n",
              "      <td>WARNING/CAUTION: Even though it may be rare, s...</td>\n",
              "      <td>Levetiracetam Tablets</td>\n",
              "      <td>Pyrrolidine anticonvulsants</td>\n",
              "      <td>Keppra</td>\n",
              "      <td>4%</td>\n",
              "      <td>Rx</td>\n",
              "      <td>C</td>\n",
              "      <td>N</td>\n",
              "      <td>X</td>\n",
              "      <td>gabapentin: https://www.drugs.com/gabapentin.h...</td>\n",
              "      <td>Seizures (Convulsions) Other names: Absence Se...</td>\n",
              "      <td>NaN</td>\n",
              "      <td>NaN</td>\n",
              "      <td>https://www.drugs.com/cdi/roweepra.html</td>\n",
              "      <td>https://www.drugs.com/condition/seizures.html</td>\n",
              "    </tr>\n",
              "    <tr>\n",
              "      <th>1752</th>\n",
              "      <td>Ru-Hist D</td>\n",
              "      <td>Hayfever</td>\n",
              "      <td>hives ; difficulty breathing; swelling of your...</td>\n",
              "      <td>brompheniramine and phenylephrine</td>\n",
              "      <td>Upper respiratory combinations</td>\n",
              "      <td>NaN</td>\n",
              "      <td>0%</td>\n",
              "      <td>Rx/OTC</td>\n",
              "      <td>C</td>\n",
              "      <td>N</td>\n",
              "      <td>X</td>\n",
              "      <td>amoxicillin: https://www.drugs.com/amoxicillin...</td>\n",
              "      <td>Allergic Rhinitis Other names: Hay Fever; Nasa...</td>\n",
              "      <td>NaN</td>\n",
              "      <td>NaN</td>\n",
              "      <td>https://www.drugs.com/mtm/ru-hist-d.html</td>\n",
              "      <td>https://www.drugs.com/condition/allergic-rhini...</td>\n",
              "    </tr>\n",
              "  </tbody>\n",
              "</table>\n",
              "</div>\n",
              "    <div class=\"colab-df-buttons\">\n",
              "\n",
              "  <div class=\"colab-df-container\">\n",
              "    <button class=\"colab-df-convert\" onclick=\"convertToInteractive('df-626a5c73-72ad-435a-8b0a-0cfc5e3717a6')\"\n",
              "            title=\"Convert this dataframe to an interactive table.\"\n",
              "            style=\"display:none;\">\n",
              "\n",
              "  <svg xmlns=\"http://www.w3.org/2000/svg\" height=\"24px\" viewBox=\"0 -960 960 960\">\n",
              "    <path d=\"M120-120v-720h720v720H120Zm60-500h600v-160H180v160Zm220 220h160v-160H400v160Zm0 220h160v-160H400v160ZM180-400h160v-160H180v160Zm440 0h160v-160H620v160ZM180-180h160v-160H180v160Zm440 0h160v-160H620v160Z\"/>\n",
              "  </svg>\n",
              "    </button>\n",
              "\n",
              "  <style>\n",
              "    .colab-df-container {\n",
              "      display:flex;\n",
              "      gap: 12px;\n",
              "    }\n",
              "\n",
              "    .colab-df-convert {\n",
              "      background-color: #E8F0FE;\n",
              "      border: none;\n",
              "      border-radius: 50%;\n",
              "      cursor: pointer;\n",
              "      display: none;\n",
              "      fill: #1967D2;\n",
              "      height: 32px;\n",
              "      padding: 0 0 0 0;\n",
              "      width: 32px;\n",
              "    }\n",
              "\n",
              "    .colab-df-convert:hover {\n",
              "      background-color: #E2EBFA;\n",
              "      box-shadow: 0px 1px 2px rgba(60, 64, 67, 0.3), 0px 1px 3px 1px rgba(60, 64, 67, 0.15);\n",
              "      fill: #174EA6;\n",
              "    }\n",
              "\n",
              "    .colab-df-buttons div {\n",
              "      margin-bottom: 4px;\n",
              "    }\n",
              "\n",
              "    [theme=dark] .colab-df-convert {\n",
              "      background-color: #3B4455;\n",
              "      fill: #D2E3FC;\n",
              "    }\n",
              "\n",
              "    [theme=dark] .colab-df-convert:hover {\n",
              "      background-color: #434B5C;\n",
              "      box-shadow: 0px 1px 3px 1px rgba(0, 0, 0, 0.15);\n",
              "      filter: drop-shadow(0px 1px 2px rgba(0, 0, 0, 0.3));\n",
              "      fill: #FFFFFF;\n",
              "    }\n",
              "  </style>\n",
              "\n",
              "    <script>\n",
              "      const buttonEl =\n",
              "        document.querySelector('#df-626a5c73-72ad-435a-8b0a-0cfc5e3717a6 button.colab-df-convert');\n",
              "      buttonEl.style.display =\n",
              "        google.colab.kernel.accessAllowed ? 'block' : 'none';\n",
              "\n",
              "      async function convertToInteractive(key) {\n",
              "        const element = document.querySelector('#df-626a5c73-72ad-435a-8b0a-0cfc5e3717a6');\n",
              "        const dataTable =\n",
              "          await google.colab.kernel.invokeFunction('convertToInteractive',\n",
              "                                                    [key], {});\n",
              "        if (!dataTable) return;\n",
              "\n",
              "        const docLinkHtml = 'Like what you see? Visit the ' +\n",
              "          '<a target=\"_blank\" href=https://colab.research.google.com/notebooks/data_table.ipynb>data table notebook</a>'\n",
              "          + ' to learn more about interactive tables.';\n",
              "        element.innerHTML = '';\n",
              "        dataTable['output_type'] = 'display_data';\n",
              "        await google.colab.output.renderOutput(dataTable, element);\n",
              "        const docLink = document.createElement('div');\n",
              "        docLink.innerHTML = docLinkHtml;\n",
              "        element.appendChild(docLink);\n",
              "      }\n",
              "    </script>\n",
              "  </div>\n",
              "\n",
              "\n",
              "    <div id=\"df-a1115b07-b810-48ce-a98c-d7672f00ed1d\">\n",
              "      <button class=\"colab-df-quickchart\" onclick=\"quickchart('df-a1115b07-b810-48ce-a98c-d7672f00ed1d')\"\n",
              "                title=\"Suggest charts\"\n",
              "                style=\"display:none;\">\n",
              "\n",
              "<svg xmlns=\"http://www.w3.org/2000/svg\" height=\"24px\"viewBox=\"0 0 24 24\"\n",
              "     width=\"24px\">\n",
              "    <g>\n",
              "        <path d=\"M19 3H5c-1.1 0-2 .9-2 2v14c0 1.1.9 2 2 2h14c1.1 0 2-.9 2-2V5c0-1.1-.9-2-2-2zM9 17H7v-7h2v7zm4 0h-2V7h2v10zm4 0h-2v-4h2v4z\"/>\n",
              "    </g>\n",
              "</svg>\n",
              "      </button>\n",
              "\n",
              "<style>\n",
              "  .colab-df-quickchart {\n",
              "      --bg-color: #E8F0FE;\n",
              "      --fill-color: #1967D2;\n",
              "      --hover-bg-color: #E2EBFA;\n",
              "      --hover-fill-color: #174EA6;\n",
              "      --disabled-fill-color: #AAA;\n",
              "      --disabled-bg-color: #DDD;\n",
              "  }\n",
              "\n",
              "  [theme=dark] .colab-df-quickchart {\n",
              "      --bg-color: #3B4455;\n",
              "      --fill-color: #D2E3FC;\n",
              "      --hover-bg-color: #434B5C;\n",
              "      --hover-fill-color: #FFFFFF;\n",
              "      --disabled-bg-color: #3B4455;\n",
              "      --disabled-fill-color: #666;\n",
              "  }\n",
              "\n",
              "  .colab-df-quickchart {\n",
              "    background-color: var(--bg-color);\n",
              "    border: none;\n",
              "    border-radius: 50%;\n",
              "    cursor: pointer;\n",
              "    display: none;\n",
              "    fill: var(--fill-color);\n",
              "    height: 32px;\n",
              "    padding: 0;\n",
              "    width: 32px;\n",
              "  }\n",
              "\n",
              "  .colab-df-quickchart:hover {\n",
              "    background-color: var(--hover-bg-color);\n",
              "    box-shadow: 0 1px 2px rgba(60, 64, 67, 0.3), 0 1px 3px 1px rgba(60, 64, 67, 0.15);\n",
              "    fill: var(--button-hover-fill-color);\n",
              "  }\n",
              "\n",
              "  .colab-df-quickchart-complete:disabled,\n",
              "  .colab-df-quickchart-complete:disabled:hover {\n",
              "    background-color: var(--disabled-bg-color);\n",
              "    fill: var(--disabled-fill-color);\n",
              "    box-shadow: none;\n",
              "  }\n",
              "\n",
              "  .colab-df-spinner {\n",
              "    border: 2px solid var(--fill-color);\n",
              "    border-color: transparent;\n",
              "    border-bottom-color: var(--fill-color);\n",
              "    animation:\n",
              "      spin 1s steps(1) infinite;\n",
              "  }\n",
              "\n",
              "  @keyframes spin {\n",
              "    0% {\n",
              "      border-color: transparent;\n",
              "      border-bottom-color: var(--fill-color);\n",
              "      border-left-color: var(--fill-color);\n",
              "    }\n",
              "    20% {\n",
              "      border-color: transparent;\n",
              "      border-left-color: var(--fill-color);\n",
              "      border-top-color: var(--fill-color);\n",
              "    }\n",
              "    30% {\n",
              "      border-color: transparent;\n",
              "      border-left-color: var(--fill-color);\n",
              "      border-top-color: var(--fill-color);\n",
              "      border-right-color: var(--fill-color);\n",
              "    }\n",
              "    40% {\n",
              "      border-color: transparent;\n",
              "      border-right-color: var(--fill-color);\n",
              "      border-top-color: var(--fill-color);\n",
              "    }\n",
              "    60% {\n",
              "      border-color: transparent;\n",
              "      border-right-color: var(--fill-color);\n",
              "    }\n",
              "    80% {\n",
              "      border-color: transparent;\n",
              "      border-right-color: var(--fill-color);\n",
              "      border-bottom-color: var(--fill-color);\n",
              "    }\n",
              "    90% {\n",
              "      border-color: transparent;\n",
              "      border-bottom-color: var(--fill-color);\n",
              "    }\n",
              "  }\n",
              "</style>\n",
              "\n",
              "      <script>\n",
              "        async function quickchart(key) {\n",
              "          const quickchartButtonEl =\n",
              "            document.querySelector('#' + key + ' button');\n",
              "          quickchartButtonEl.disabled = true;  // To prevent multiple clicks.\n",
              "          quickchartButtonEl.classList.add('colab-df-spinner');\n",
              "          try {\n",
              "            const charts = await google.colab.kernel.invokeFunction(\n",
              "                'suggestCharts', [key], {});\n",
              "          } catch (error) {\n",
              "            console.error('Error during call to suggestCharts:', error);\n",
              "          }\n",
              "          quickchartButtonEl.classList.remove('colab-df-spinner');\n",
              "          quickchartButtonEl.classList.add('colab-df-quickchart-complete');\n",
              "        }\n",
              "        (() => {\n",
              "          let quickchartButtonEl =\n",
              "            document.querySelector('#df-a1115b07-b810-48ce-a98c-d7672f00ed1d button');\n",
              "          quickchartButtonEl.style.display =\n",
              "            google.colab.kernel.accessAllowed ? 'block' : 'none';\n",
              "        })();\n",
              "      </script>\n",
              "    </div>\n",
              "\n",
              "    </div>\n",
              "  </div>\n"
            ],
            "application/vnd.google.colaboratory.intrinsic+json": {
              "type": "dataframe",
              "summary": "{\n  \"name\": \"df\",\n  \"rows\": 5,\n  \"fields\": [\n    {\n      \"column\": \"drug_name\",\n      \"properties\": {\n        \"dtype\": \"string\",\n        \"num_unique_values\": 5,\n        \"samples\": [\n          \"aclidinium / formoterol\",\n          \"Ru-Hist D\",\n          \"Dazidox\"\n        ],\n        \"semantic_type\": \"\",\n        \"description\": \"\"\n      }\n    },\n    {\n      \"column\": \"medical_condition\",\n      \"properties\": {\n        \"dtype\": \"string\",\n        \"num_unique_values\": 5,\n        \"samples\": [\n          \"COPD\",\n          \"Hayfever\",\n          \"Pain\"\n        ],\n        \"semantic_type\": \"\",\n        \"description\": \"\"\n      }\n    },\n    {\n      \"column\": \"side_effects\",\n      \"properties\": {\n        \"dtype\": \"string\",\n        \"num_unique_values\": 5,\n        \"samples\": [\n          \"hives ; difficult breathing; swelling of your face, lips, tongue, or throat. Aclidinium and formoterol may cause serious side effects. Call your doctor at once if you have: wheezing, choking, or other breathing problems after using aclidinium and formoterol; worsening breathing problems; tremors, nervousness , chest pain, fast or pounding heartbeats; severe headache, pounding in your neck or ears; painful or difficult urination, or urinating more often; blurred vision, tunnel vision, eye pain or redness, or seeing halos around lights; high blood sugar--increased thirst or urination, hunger, dry mouth, fruity breath odor; or low potassium level--leg cramps, constipation , irregular heartbeats, fluttering in your chest, numbness or tingling, muscle weakness or limp feeling. Common side effects of aclidinium and formoterol may include: headache; back pain ; or cold symptoms such as stuffy nose, sneezing, sore throat .\",\n          \"hives ; difficulty breathing; swelling of your face, lips, tongue, or throat. This medicine may cause serious side effects. Stop using this medicine and call your doctor at once if you have: nervousness , dizziness , or sleeplessness ; chest pain, fast or uneven heart rate; little or no urinating; dangerously high blood pressure (severe headache , buzzing in your ears, anxiety , shortness of breath); if your symptoms do not improve after 7 days of treatment, or if you have a fever; or if new symptoms occur. Less serious side effects may be more likely, and you may have none at all.\",\n          \"Along with its needed effects, a medicine may cause some unwanted effects. Although not all of these side effects may occur, if they do occur they may need medical attention. Check with your doctor immediately if any of the following side effects occur: Less common Chills cold sweats confusion difficult or labored breathing dizziness, faintness, or lightheadedness when getting up suddenly from a lying or sitting position fever tightness in the chest twitching Rare Bloating or swelling of the face, arms, hands, lower legs, or feet blood in the urine burning while urinating burning, crawling, itching, numbness, prickling, \\\"pins and needles\\\", or tingling feelings chest pain cough decrease in the frequency of urination decreased urine output difficult or painful urination difficulty in passing urine (dribbling) difficulty with swallowing dizziness dry mouth fainting fast, irregular, pounding, or racing heartbeat or pulse feeling of warmth or heat flushing or redness of the skin, especially on the face and neck frequent urination headache hives, itching, or skin rash increase in heart rate increased thirst increased volume of pale, dilute urine lightheadedness muscle pain or cramps nausea puffiness or swelling of the eyelids or around the eyes, face, lips, or tongue rapid breathing rapid weight gain seizures severe constipation severe vomiting stomach pain sunken eyes sweating swollen, painful, or tender lymph glands in the neck, armpit, or groin thirst trembling or shaking of the hands or feet unusual tiredness or weakness unusual weight gain or loss vomiting wrinkled skin Incidence not known Blurred vision choking clay-colored stools cold, clammy skin dark urine darkening of the skin diarrhea fast, weak pulse gagging irregular, fast, slow, or shallow breathing loss of appetite loss of consciousness pale or blue lips, fingernails, or skin unpleasant breath odor very slow heartbeat yellow eyes or skin Symptoms of overdose Change in consciousness chest pain or discomfort cold, clammy skin constricted, pinpoint, or small pupils (black part of the eye) coughing that sometimes produces a pink frothy sputum decreased awareness or responsiveness increased sweating irregular, fast, or slow, or shallow breathing loss of consciousness no muscle tone or movement pale or blue lips, fingernails, or skin sleepiness or unusual drowsiness slow or irregular heartbeat swelling in the legs and ankles, Some side effects may occur that usually do not need medical attention. These side effects may go away during treatment as your body adjusts to the medicine. Also, your health care professional may be able to tell you about ways to prevent or reduce some of these side effects. Check with your health care professional if any of the following side effects continue or are bothersome or if you have any questions about them: More common Difficulty having a bowel movement drowsiness lack or loss of strength relaxed and calm feeling Less common Abnormal dreams anxiety belching burning feeling in the chest or stomach false or unusual sense of well-being heartburn hiccups indigestion stomach discomfort or upset tenderness in the stomach area trouble sleeping weight loss Rare Absent, missed, or irregular menstrual periods bad, unusual or unpleasant (after) taste bloated or full feeling body aches or pain change in taste change in walking and balance changes in vision clumsiness or unsteadiness continuous ringing or buzzing or other unexplained noise in the ears crying decreased interest in sexual intercourse deep or fast breathing with dizziness delusions of persecution, mistrust, suspiciousness, or combativeness dental caries or tooth decay depression difficulty with speaking dry skin dryness or soreness of the throat excess air or gas in the stomach or bowels excessive muscle tone feeling of constant movement of self or surroundings feeling of unreality general feeling of discomfort or illness headache, severe and throbbing hearing loss hoarseness inability to have or keep an erection increase in body movements increased appetite increased cough irritability loss in sexual ability, desire, drive, or performance loss of heat from the body loss of memory loss of strength or energy muscle stiffness, tension, tightness, pain, or weakness neck pain numbness of the feet, hands, and around the mouth passing of gas problems with memory quick to react or overreact emotionally rapidly changing moods red, swollen skin restlessness runny nose scaly skin sensation of spinning sense of detachment from self or body swelling or inflammation of the mouth voice changes Other side effects not listed may also occur in some patients. If you notice any other effects, check with your healthcare professional. Call your doctor for medical advice about side effects. You may report side effects to the FDA at 1-800-FDA-1088. Dazidox side effects\"\n        ],\n        \"semantic_type\": \"\",\n        \"description\": \"\"\n      }\n    },\n    {\n      \"column\": \"generic_name\",\n      \"properties\": {\n        \"dtype\": \"string\",\n        \"num_unique_values\": 5,\n        \"samples\": [\n          \"aclidinium and formoterol\",\n          \"brompheniramine and phenylephrine\",\n          \"oxycodone (oral route)\"\n        ],\n        \"semantic_type\": \"\",\n        \"description\": \"\"\n      }\n    },\n    {\n      \"column\": \"drug_classes\",\n      \"properties\": {\n        \"dtype\": \"string\",\n        \"num_unique_values\": 5,\n        \"samples\": [\n          \"Bronchodilator combinations\",\n          \"Upper respiratory combinations\",\n          \"Opioids (narcotic analgesics)\"\n        ],\n        \"semantic_type\": \"\",\n        \"description\": \"\"\n      }\n    },\n    {\n      \"column\": \"brand_names\",\n      \"properties\": {\n        \"dtype\": \"category\",\n        \"num_unique_values\": 2,\n        \"samples\": [\n          \"Keppra\",\n          \"Duaklir Pressair\"\n        ],\n        \"semantic_type\": \"\",\n        \"description\": \"\"\n      }\n    },\n    {\n      \"column\": \"activity\",\n      \"properties\": {\n        \"dtype\": \"string\",\n        \"num_unique_values\": 4,\n        \"samples\": [\n          \"0%\",\n          \"4%\"\n        ],\n        \"semantic_type\": \"\",\n        \"description\": \"\"\n      }\n    },\n    {\n      \"column\": \"rx_otc\",\n      \"properties\": {\n        \"dtype\": \"category\",\n        \"num_unique_values\": 2,\n        \"samples\": [\n          \"Rx/OTC\",\n          \"Rx\"\n        ],\n        \"semantic_type\": \"\",\n        \"description\": \"\"\n      }\n    },\n    {\n      \"column\": \"pregnancy_category\",\n      \"properties\": {\n        \"dtype\": \"category\",\n        \"num_unique_values\": 2,\n        \"samples\": [\n          \"N\",\n          \"C\"\n        ],\n        \"semantic_type\": \"\",\n        \"description\": \"\"\n      }\n    },\n    {\n      \"column\": \"csa\",\n      \"properties\": {\n        \"dtype\": \"category\",\n        \"num_unique_values\": 2,\n        \"samples\": [\n          \"2\",\n          \"N\"\n        ],\n        \"semantic_type\": \"\",\n        \"description\": \"\"\n      }\n    },\n    {\n      \"column\": \"alcohol\",\n      \"properties\": {\n        \"dtype\": \"category\",\n        \"num_unique_values\": 1,\n        \"samples\": [\n          \"X\"\n        ],\n        \"semantic_type\": \"\",\n        \"description\": \"\"\n      }\n    },\n    {\n      \"column\": \"related_drugs\",\n      \"properties\": {\n        \"dtype\": \"category\",\n        \"num_unique_values\": 2,\n        \"samples\": [\n          \"amoxicillin: https://www.drugs.com/amoxicillin.html | prednisone: https://www.drugs.com/prednisone.html | hydroxyzine: https://www.drugs.com/hydroxyzine.html | ciprofloxacin: https://www.drugs.com/ciprofloxacin.html | azithromycin: https://www.drugs.com/azithromycin.html | fluticasone nasal: https://www.drugs.com/mtm/fluticasone-nasal.html | montelukast: https://www.drugs.com/montelukast.html | cetirizine: https://www.drugs.com/cetirizine-hcl.html | loratadine: https://www.drugs.com/loratadine.html | clindamycin: https://www.drugs.com/clindamycin.html\"\n        ],\n        \"semantic_type\": \"\",\n        \"description\": \"\"\n      }\n    },\n    {\n      \"column\": \"medical_condition_description\",\n      \"properties\": {\n        \"dtype\": \"string\",\n        \"num_unique_values\": 5,\n        \"samples\": [\n          \"COPD Other names: Bronchitis with Airway Obstruction; Bronchitis, Chronic; Chronic Bronchitis; Chronic Obstructive Airway Disease; Chronic Obstructive Lung Disease; Chronic Obstructive Pulmonary Disease; Emphysema A group of lung diseases characterized by limited airflow with variable degrees of air sack enlargement and lung tissue destruction. Emphysema and chronic bronchitis are the most common forms of chronic obstructive pulmonary disease.\"\n        ],\n        \"semantic_type\": \"\",\n        \"description\": \"\"\n      }\n    },\n    {\n      \"column\": \"rating\",\n      \"properties\": {\n        \"dtype\": \"number\",\n        \"std\": null,\n        \"min\": 7.5,\n        \"max\": 7.5,\n        \"num_unique_values\": 1,\n        \"samples\": [\n          7.5\n        ],\n        \"semantic_type\": \"\",\n        \"description\": \"\"\n      }\n    },\n    {\n      \"column\": \"no_of_reviews\",\n      \"properties\": {\n        \"dtype\": \"number\",\n        \"std\": null,\n        \"min\": 899.0,\n        \"max\": 899.0,\n        \"num_unique_values\": 1,\n        \"samples\": [\n          899.0\n        ],\n        \"semantic_type\": \"\",\n        \"description\": \"\"\n      }\n    },\n    {\n      \"column\": \"drug_link\",\n      \"properties\": {\n        \"dtype\": \"string\",\n        \"num_unique_values\": 5,\n        \"samples\": [\n          \"https://www.drugs.com/mtm/aclidinium-and-formoterol.html\"\n        ],\n        \"semantic_type\": \"\",\n        \"description\": \"\"\n      }\n    },\n    {\n      \"column\": \"medical_condition_url\",\n      \"properties\": {\n        \"dtype\": \"string\",\n        \"num_unique_values\": 5,\n        \"samples\": [\n          \"https://www.drugs.com/condition/chronic-obstructive-pulmonary-disease.html\"\n        ],\n        \"semantic_type\": \"\",\n        \"description\": \"\"\n      }\n    }\n  ]\n}"
            }
          },
          "metadata": {},
          "execution_count": 4
        }
      ],
      "source": [
        "df = pd.read_csv(\"/root/.cache/kagglehub/datasets/jithinanievarghese/drugs-side-effects-and-medical-condition/versions/1/drugs_side_effects_drugs_com.csv\")\n",
        "df.sample(5)\n"
      ]
    },
    {
      "cell_type": "markdown",
      "id": "fe17daec",
      "metadata": {
        "papermill": {
          "duration": 0.009362,
          "end_time": "2022-12-21T10:48:55.195155",
          "exception": false,
          "start_time": "2022-12-21T10:48:55.185793",
          "status": "completed"
        },
        "tags": [],
        "id": "fe17daec"
      },
      "source": [
        "# 2. Data Content"
      ]
    },
    {
      "cell_type": "code",
      "execution_count": null,
      "id": "0c2d984c",
      "metadata": {
        "execution": {
          "iopub.execute_input": "2022-12-21T10:48:55.216154Z",
          "iopub.status.busy": "2022-12-21T10:48:55.215759Z",
          "iopub.status.idle": "2022-12-21T10:48:55.682357Z",
          "shell.execute_reply": "2022-12-21T10:48:55.681232Z"
        },
        "papermill": {
          "duration": 0.47973,
          "end_time": "2022-12-21T10:48:55.684566",
          "exception": false,
          "start_time": "2022-12-21T10:48:55.204836",
          "status": "completed"
        },
        "tags": [],
        "id": "0c2d984c"
      },
      "outputs": [],
      "source": [
        "df.info()\n",
        "# calculate duplicates\n",
        "dups = df.duplicated()\n",
        "# report if there are any duplicates\n",
        "print(df.any())\n",
        "# list all duplicate rows\n",
        "\n",
        "print(\"Duplicate Rows\",df[dups])\n",
        "#Cardinality\n",
        "df.nunique() # To determine the maximum and minimum number of variations in each column of the dataset\n",
        "#Lets now check for null fields\n",
        "import seaborn as sns\n",
        "plt.figure(figsize=(10,12))\n",
        "sns.heatmap(df.isnull(),yticklabels=False,cbar=False,cmap='viridis')\n",
        "df.isnull().sum()\n"
      ]
    },
    {
      "cell_type": "markdown",
      "id": "ffd6ad60",
      "metadata": {
        "papermill": {
          "duration": 0.010095,
          "end_time": "2022-12-21T10:48:55.705699",
          "exception": false,
          "start_time": "2022-12-21T10:48:55.695604",
          "status": "completed"
        },
        "tags": [],
        "id": "ffd6ad60"
      },
      "source": [
        "****Obseravation - Missing value are repeated as NaN and some columns need to remove****"
      ]
    },
    {
      "cell_type": "markdown",
      "id": "9e7c4c93",
      "metadata": {
        "papermill": {
          "duration": 0.010034,
          "end_time": "2022-12-21T10:48:55.726308",
          "exception": false,
          "start_time": "2022-12-21T10:48:55.716274",
          "status": "completed"
        },
        "tags": [],
        "id": "9e7c4c93"
      },
      "source": [
        "# 3. Data Preparation"
      ]
    },
    {
      "cell_type": "markdown",
      "id": "8d935ddc",
      "metadata": {
        "papermill": {
          "duration": 0.010062,
          "end_time": "2022-12-21T10:48:55.747060",
          "exception": false,
          "start_time": "2022-12-21T10:48:55.736998",
          "status": "completed"
        },
        "tags": [],
        "id": "8d935ddc"
      },
      "source": [
        "**** Drop unwanted columns(not relevant for our model)****"
      ]
    },
    {
      "cell_type": "code",
      "execution_count": null,
      "id": "c66be331",
      "metadata": {
        "execution": {
          "iopub.execute_input": "2022-12-21T10:48:55.770079Z",
          "iopub.status.busy": "2022-12-21T10:48:55.769197Z",
          "iopub.status.idle": "2022-12-21T10:48:55.779277Z",
          "shell.execute_reply": "2022-12-21T10:48:55.778242Z"
        },
        "papermill": {
          "duration": 0.023936,
          "end_time": "2022-12-21T10:48:55.781422",
          "exception": false,
          "start_time": "2022-12-21T10:48:55.757486",
          "status": "completed"
        },
        "tags": [],
        "id": "c66be331"
      },
      "outputs": [],
      "source": [
        "# Data Cleaning¶\n",
        "# Drop unwanted columns(not relevant for our model)\n",
        "df = df.drop(['no_of_reviews', 'drug_link','medical_condition_url',\"related_drugs\"], axis = 1)\n",
        "df.shape\n"
      ]
    },
    {
      "cell_type": "code",
      "execution_count": null,
      "id": "f624785d",
      "metadata": {
        "execution": {
          "iopub.execute_input": "2022-12-21T10:48:55.804506Z",
          "iopub.status.busy": "2022-12-21T10:48:55.804096Z",
          "iopub.status.idle": "2022-12-21T10:48:55.898832Z",
          "shell.execute_reply": "2022-12-21T10:48:55.897339Z"
        },
        "papermill": {
          "duration": 0.109613,
          "end_time": "2022-12-21T10:48:55.901619",
          "exception": false,
          "start_time": "2022-12-21T10:48:55.792006",
          "status": "completed"
        },
        "tags": [],
        "id": "f624785d"
      },
      "outputs": [],
      "source": [
        "df.describe().T.style.bar(subset=['mean'], color='#205ff2')\\\n",
        "                            .background_gradient(subset=['std'], cmap='Reds')\\\n",
        "                            .background_gradient(subset=['50%'], cmap='coolwarm')\n",
        ""
      ]
    },
    {
      "cell_type": "markdown",
      "id": "f2b747b7",
      "metadata": {
        "papermill": {
          "duration": 0.010414,
          "end_time": "2022-12-21T10:48:55.923319",
          "exception": false,
          "start_time": "2022-12-21T10:48:55.912905",
          "status": "completed"
        },
        "tags": [],
        "id": "f2b747b7"
      },
      "source": [
        "**** Changing NaN to unknown ****"
      ]
    },
    {
      "cell_type": "code",
      "execution_count": null,
      "id": "4940be7b",
      "metadata": {
        "execution": {
          "iopub.execute_input": "2022-12-21T10:48:55.946566Z",
          "iopub.status.busy": "2022-12-21T10:48:55.946184Z",
          "iopub.status.idle": "2022-12-21T10:48:55.974769Z",
          "shell.execute_reply": "2022-12-21T10:48:55.973772Z"
        },
        "papermill": {
          "duration": 0.043247,
          "end_time": "2022-12-21T10:48:55.977393",
          "exception": false,
          "start_time": "2022-12-21T10:48:55.934146",
          "status": "completed"
        },
        "tags": [],
        "id": "4940be7b"
      },
      "outputs": [],
      "source": [
        "# 1) Duplicates\n",
        "dupli = df.duplicated()\n",
        "df[dupli].shape\n",
        "# Changing NaN to unknown\n",
        "df['side_effects'] = df['side_effects'].fillna(value='Unknown') #  Changing the NaN values to unknown\n",
        "#df['side_effects'].isnull().sum()\n",
        "df['generic_name'] = df['generic_name'].fillna(value='Unknown') #  Changing the NaN values to unknown\n",
        "#df['generic_name'].isnull().sum()\n",
        "df['drug_classes'] = df['drug_classes'].fillna(value='Unknown') #  Changing the NaN values to unknown\n",
        "#df['drug_classes'].isnull().sum()\n",
        "df['brand_names'] = df['brand_names'].fillna(value='Unknown') #  Changing the NaN values to unknown\n",
        "#df['brand_names'].isnull().sum()\n",
        "df['pregnancy_category'] = df['pregnancy_category'].fillna(value='Unknown') #  Changing the NaN values to unknown\n",
        "#df['pregnancy_category'].isnull().sum()\n",
        "df['alcohol'] = df['alcohol'].fillna(value='Unknown') #  Changing the NaN values to unknown\n",
        "#df['alcohol'].isnull().sum()\n",
        "df['medical_condition_description'] = df['medical_condition_description'].fillna(value='Unknown') #  Changing the NaN values to unknown\n",
        "#df['medical_condition_description'].isnull().sum()\n",
        "\n",
        "#df"
      ]
    },
    {
      "cell_type": "markdown",
      "id": "d8b15978",
      "metadata": {
        "papermill": {
          "duration": 0.010861,
          "end_time": "2022-12-21T10:48:55.999182",
          "exception": false,
          "start_time": "2022-12-21T10:48:55.988321",
          "status": "completed"
        },
        "tags": [],
        "id": "d8b15978"
      },
      "source": [
        "# 4. Exploratory Data Analysis (EDA) 📊¶\n"
      ]
    },
    {
      "cell_type": "markdown",
      "id": "155194c3",
      "metadata": {
        "papermill": {
          "duration": 0.010501,
          "end_time": "2022-12-21T10:48:56.020695",
          "exception": false,
          "start_time": "2022-12-21T10:48:56.010194",
          "status": "completed"
        },
        "tags": [],
        "id": "155194c3"
      },
      "source": [
        "**** A ****\n",
        "\n",
        "****1) Target distribution on pregnancy_category column.****\n",
        "\n",
        "A = Adequate and well-controlled studies have failed to demonstrate a risk to the fetus in the first trimester of pregnancy (and there is no evidence of risk in later trimesters).\n",
        "\n",
        "B = Animal reproduction studies have failed to demonstrate a risk to the fetus and there are no adequate and well-controlled studies in pregnant women.\n",
        "\n",
        "C = Animal reproduction studies have shown an adverse effect on the fetus and there are no adequate and well-controlled studies in humans, but potential benefits may warrant use in pregnant women despite potential risks.\n",
        "\n",
        "D = There is positive evidence of human fetal risk based on adverse reaction data from investigational or marketing experience or studies in humans, but potential benefits may warrant use in pregnant women despite potential risks.\n",
        "\n",
        "X = Studies in animals or humans have demonstrated fetal abnormalities and/or there is positive evidence of human fetal risk based on adverse reaction data from investigational or marketing experience, and the risks involved in use in pregnant women clearly outweigh potential benefits.\n",
        "\n",
        "N = FDA has not classified the drug.****"
      ]
    },
    {
      "cell_type": "code",
      "execution_count": null,
      "id": "b289ee53",
      "metadata": {
        "execution": {
          "iopub.execute_input": "2022-12-21T10:48:56.044614Z",
          "iopub.status.busy": "2022-12-21T10:48:56.044177Z",
          "iopub.status.idle": "2022-12-21T10:48:56.238791Z",
          "shell.execute_reply": "2022-12-21T10:48:56.237277Z"
        },
        "papermill": {
          "duration": 0.210301,
          "end_time": "2022-12-21T10:48:56.242040",
          "exception": false,
          "start_time": "2022-12-21T10:48:56.031739",
          "status": "completed"
        },
        "tags": [],
        "id": "b289ee53"
      },
      "outputs": [],
      "source": [
        "# Figure size\n",
        "sns.set_context('poster', font_scale=0.5)\n",
        "plt.figure(figsize=(5,5))\n",
        "# Pie plot\n",
        "df['pregnancy_category'].value_counts().plot.pie(autopct='%1.1f%%', textprops={'fontsize':12}).set_title(\"Target distribution on pregnancy_category\")\n",
        "df['pregnancy_category'].value_counts()\n"
      ]
    },
    {
      "cell_type": "markdown",
      "id": "b753734d",
      "metadata": {
        "papermill": {
          "duration": 0.017959,
          "end_time": "2022-12-21T10:48:56.278716",
          "exception": false,
          "start_time": "2022-12-21T10:48:56.260757",
          "status": "completed"
        },
        "tags": [],
        "id": "b753734d"
      },
      "source": [
        "**** 2) Target distribution on Controlled Substances Act (CSA) Schedule****\n",
        "\n",
        "M = The drug has multiple schedules. The schedule may depend on the exact dosage form or strength of the medication.\n",
        "\n",
        "U = CSA Schedule is unknown.\n",
        "N = Is not subject to the Controlled Substances Act.\n",
        "\n",
        "1 = Has a high potential for abuse. Has no currently accepted medical use in treatment in the United States. There is a lack of accepted safety for use under medical supervision\n",
        "\n",
        "2 = Has a high potential for abuse. Has a currently accepted medical use in treatment in the United States or a currently accepted medical use with severe restrictions. Abuse may lead to severe psychological or physical dependence.\n",
        "\n",
        "3 = Has a potential for abuse less than those in schedules 1 and 2. Has a currently accepted medical use in treatment in the United States. Abuse may lead to moderate or low physical dependence or high psychological dependence.\n",
        "\n",
        "4 = Has a low potential for abuse relative to those in schedule 3. It has a currently accepted medical use in treatment in the United States. Abuse may lead to limited physical dependence or psychological dependence relative to those in schedule 3.\n",
        "\n",
        "5 = Has a low potential for abuse relative to those in schedule 4. Has a currently accepted medical use in treatment in the United States. Abuse may lead to limited physical dependence or psychological dependence relative to those in schedule 4.\n"
      ]
    },
    {
      "cell_type": "code",
      "execution_count": null,
      "id": "e0120727",
      "metadata": {
        "execution": {
          "iopub.execute_input": "2022-12-21T10:48:56.312522Z",
          "iopub.status.busy": "2022-12-21T10:48:56.311854Z",
          "iopub.status.idle": "2022-12-21T10:48:56.481678Z",
          "shell.execute_reply": "2022-12-21T10:48:56.480456Z"
        },
        "papermill": {
          "duration": 0.187845,
          "end_time": "2022-12-21T10:48:56.484877",
          "exception": false,
          "start_time": "2022-12-21T10:48:56.297032",
          "status": "completed"
        },
        "tags": [],
        "id": "e0120727"
      },
      "outputs": [],
      "source": [
        "# Figure size\n",
        "sns.set_context('poster', font_scale=0.5)\n",
        "plt.figure(figsize=(6,6))\n",
        "# Pie plot\n",
        "df['csa'].value_counts().plot.pie(autopct='%1.1f%%', textprops={'fontsize':12}).set_title(\"Target distribution on csa\")\n",
        "df['csa'].value_counts()"
      ]
    },
    {
      "cell_type": "code",
      "execution_count": null,
      "id": "b573ea16",
      "metadata": {
        "execution": {
          "iopub.execute_input": "2022-12-21T10:48:56.526846Z",
          "iopub.status.busy": "2022-12-21T10:48:56.525816Z",
          "iopub.status.idle": "2022-12-21T10:48:56.730384Z",
          "shell.execute_reply": "2022-12-21T10:48:56.729262Z"
        },
        "papermill": {
          "duration": 0.22806,
          "end_time": "2022-12-21T10:48:56.732677",
          "exception": false,
          "start_time": "2022-12-21T10:48:56.504617",
          "status": "completed"
        },
        "tags": [],
        "id": "b573ea16"
      },
      "outputs": [],
      "source": [
        "# Examining the variable's goal csa\n",
        "plt.figure(figsize=(5,5))\n",
        "sns.countplot(data=df,x = 'csa',palette='plasma')\n"
      ]
    },
    {
      "cell_type": "markdown",
      "id": "442f68b4",
      "metadata": {
        "papermill": {
          "duration": 0.01176,
          "end_time": "2022-12-21T10:48:56.756740",
          "exception": false,
          "start_time": "2022-12-21T10:48:56.744980",
          "status": "completed"
        },
        "tags": [],
        "id": "442f68b4"
      },
      "source": [
        "**** 3) Target distribution on medical condition****\n"
      ]
    },
    {
      "cell_type": "code",
      "execution_count": null,
      "id": "df49b088",
      "metadata": {
        "execution": {
          "iopub.execute_input": "2022-12-21T10:48:56.782562Z",
          "iopub.status.busy": "2022-12-21T10:48:56.782130Z",
          "iopub.status.idle": "2022-12-21T10:48:57.789529Z",
          "shell.execute_reply": "2022-12-21T10:48:57.788299Z"
        },
        "papermill": {
          "duration": 1.026422,
          "end_time": "2022-12-21T10:48:57.795280",
          "exception": false,
          "start_time": "2022-12-21T10:48:56.768858",
          "status": "completed"
        },
        "tags": [],
        "id": "df49b088"
      },
      "outputs": [],
      "source": [
        "# Figure size\n",
        "sns.set_context('poster', font_scale=0.5)\n",
        "plt.figure(figsize=(20,20))\n",
        "# Pie plot\n",
        "df['medical_condition'].value_counts().plot.pie(autopct='%1.1f%%', textprops={'fontsize':12}).set_title(\"Target distribution on medical_condition \")\n",
        "df['medical_condition'].value_counts()\n"
      ]
    },
    {
      "cell_type": "markdown",
      "id": "f5a9e91f",
      "metadata": {
        "papermill": {
          "duration": 0.018628,
          "end_time": "2022-12-21T10:48:57.832956",
          "exception": false,
          "start_time": "2022-12-21T10:48:57.814328",
          "status": "completed"
        },
        "tags": [],
        "id": "f5a9e91f"
      },
      "source": [
        "**** 4) Target distribution on rx_otc****\n",
        "\n",
        "Rx-to-OTC switch is the transfer of proven prescription drugs to nonprescription, where\n",
        "OTC (Over-the-counter) = Medication that can be purchased without a medical prescription\n",
        "\n",
        "Rx = Prescription Needed\n",
        "\n",
        "Rx/OTC = Prescription or Over-the-counter.\n",
        "\n"
      ]
    },
    {
      "cell_type": "code",
      "execution_count": null,
      "id": "2ccc656d",
      "metadata": {
        "execution": {
          "iopub.execute_input": "2022-12-21T10:48:57.872490Z",
          "iopub.status.busy": "2022-12-21T10:48:57.872068Z",
          "iopub.status.idle": "2022-12-21T10:48:57.999873Z",
          "shell.execute_reply": "2022-12-21T10:48:57.998647Z"
        },
        "papermill": {
          "duration": 0.151342,
          "end_time": "2022-12-21T10:48:58.003103",
          "exception": false,
          "start_time": "2022-12-21T10:48:57.851761",
          "status": "completed"
        },
        "tags": [],
        "id": "2ccc656d"
      },
      "outputs": [],
      "source": [
        "# Figure size\n",
        "sns.set_context('poster', font_scale=0.5)\n",
        "plt.figure(figsize=(5,5))\n",
        "# Pie plot\n",
        "df['rx_otc'].value_counts().plot.pie(autopct='%1.1f%%', textprops={'fontsize':12}).set_title(\"Target distribution on rx_otc\")\n",
        "\n",
        "df['rx_otc'].value_counts()\n"
      ]
    },
    {
      "cell_type": "code",
      "execution_count": null,
      "id": "17823bb3",
      "metadata": {
        "execution": {
          "iopub.execute_input": "2022-12-21T10:48:58.067673Z",
          "iopub.status.busy": "2022-12-21T10:48:58.067286Z",
          "iopub.status.idle": "2022-12-21T10:48:58.212152Z",
          "shell.execute_reply": "2022-12-21T10:48:58.210922Z"
        },
        "papermill": {
          "duration": 0.180075,
          "end_time": "2022-12-21T10:48:58.214750",
          "exception": false,
          "start_time": "2022-12-21T10:48:58.034675",
          "status": "completed"
        },
        "tags": [],
        "id": "17823bb3"
      },
      "outputs": [],
      "source": [
        "# Examining the variable's goal rx_otc\n",
        "plt.figure(figsize=(5,5))\n",
        "sns.countplot(data=df,x = 'rx_otc',palette='plasma')"
      ]
    },
    {
      "cell_type": "markdown",
      "id": "96ac889b",
      "metadata": {
        "papermill": {
          "duration": 0.019858,
          "end_time": "2022-12-21T10:48:58.254236",
          "exception": false,
          "start_time": "2022-12-21T10:48:58.234378",
          "status": "completed"
        },
        "tags": [],
        "id": "96ac889b"
      },
      "source": [
        "**** 5) Target distribution on alcohol ****\n",
        "\n",
        "X = Interacts with Alcohol."
      ]
    },
    {
      "cell_type": "code",
      "execution_count": null,
      "id": "9a88e408",
      "metadata": {
        "execution": {
          "iopub.execute_input": "2022-12-21T10:48:58.296016Z",
          "iopub.status.busy": "2022-12-21T10:48:58.294924Z",
          "iopub.status.idle": "2022-12-21T10:48:58.395844Z",
          "shell.execute_reply": "2022-12-21T10:48:58.394471Z"
        },
        "papermill": {
          "duration": 0.125377,
          "end_time": "2022-12-21T10:48:58.399337",
          "exception": false,
          "start_time": "2022-12-21T10:48:58.273960",
          "status": "completed"
        },
        "tags": [],
        "id": "9a88e408"
      },
      "outputs": [],
      "source": [
        "# Figure size\n",
        "sns.set_context('poster', font_scale=0.5)\n",
        "plt.figure(figsize=(5,5))\n",
        "# Pie plot\n",
        "df['alcohol'].value_counts().plot.pie(autopct='%1.1f%%', textprops={'fontsize':12}).set_title(\"Target distribution on alcohol\")\n",
        "df['alcohol'].value_counts()\n"
      ]
    },
    {
      "cell_type": "markdown",
      "id": "58e354bb",
      "metadata": {
        "papermill": {
          "duration": 0.020696,
          "end_time": "2022-12-21T10:48:58.440713",
          "exception": false,
          "start_time": "2022-12-21T10:48:58.420017",
          "status": "completed"
        },
        "tags": [],
        "id": "58e354bb"
      },
      "source": [
        "**** 5) Target distribution on rating****"
      ]
    },
    {
      "cell_type": "code",
      "execution_count": null,
      "id": "c4f467b7",
      "metadata": {
        "execution": {
          "iopub.execute_input": "2022-12-21T10:48:58.483231Z",
          "iopub.status.busy": "2022-12-21T10:48:58.482699Z",
          "iopub.status.idle": "2022-12-21T10:48:59.714335Z",
          "shell.execute_reply": "2022-12-21T10:48:59.712939Z"
        },
        "papermill": {
          "duration": 1.259338,
          "end_time": "2022-12-21T10:48:59.720257",
          "exception": false,
          "start_time": "2022-12-21T10:48:58.460919",
          "status": "completed"
        },
        "tags": [],
        "id": "c4f467b7"
      },
      "outputs": [],
      "source": [
        "# Figure size\n",
        "sns.set_context('poster', font_scale=0.5)\n",
        "plt.figure(figsize=(12,12))\n",
        "# Pie plot\n",
        "df['rating'].value_counts().plot.pie(autopct='%1.1f%%', textprops={'fontsize':12}).set_title(\"Target distribution on rating\")\n",
        "df['rating'].value_counts()\n"
      ]
    },
    {
      "cell_type": "code",
      "execution_count": null,
      "id": "41aa3eb4",
      "metadata": {
        "execution": {
          "iopub.execute_input": "2022-12-21T10:48:59.773906Z",
          "iopub.status.busy": "2022-12-21T10:48:59.773490Z",
          "iopub.status.idle": "2022-12-21T10:49:01.113907Z",
          "shell.execute_reply": "2022-12-21T10:49:01.112723Z"
        },
        "papermill": {
          "duration": 1.369454,
          "end_time": "2022-12-21T10:49:01.116586",
          "exception": false,
          "start_time": "2022-12-21T10:48:59.747132",
          "status": "completed"
        },
        "tags": [],
        "id": "41aa3eb4"
      },
      "outputs": [],
      "source": [
        "# Examining the variable's goal rating\n",
        "sns.set_context('poster', font_scale=0.8)\n",
        "plt.figure(figsize=(35,5))\n",
        "sns.countplot(data=df,x = 'rating',palette='plasma')\n"
      ]
    },
    {
      "cell_type": "markdown",
      "id": "9873c7de",
      "metadata": {
        "papermill": {
          "duration": 0.025968,
          "end_time": "2022-12-21T10:49:01.169308",
          "exception": false,
          "start_time": "2022-12-21T10:49:01.143340",
          "status": "completed"
        },
        "tags": [],
        "id": "9873c7de"
      },
      "source": [
        "**** B ****\n",
        "\n",
        "****Average nomber of time Medical Condition Apear****"
      ]
    },
    {
      "cell_type": "code",
      "execution_count": null,
      "id": "bb104cdd",
      "metadata": {
        "execution": {
          "iopub.execute_input": "2022-12-21T10:49:01.223380Z",
          "iopub.status.busy": "2022-12-21T10:49:01.222978Z",
          "iopub.status.idle": "2022-12-21T10:49:01.812247Z",
          "shell.execute_reply": "2022-12-21T10:49:01.810959Z"
        },
        "papermill": {
          "duration": 0.619668,
          "end_time": "2022-12-21T10:49:01.815596",
          "exception": false,
          "start_time": "2022-12-21T10:49:01.195928",
          "status": "completed"
        },
        "tags": [],
        "id": "bb104cdd"
      },
      "outputs": [],
      "source": [
        "# data visualisation on medical_condition apears\n",
        "sns.set_context('poster', font_scale=0.8)\n",
        "df.groupby('medical_condition').mean().plot(kind='bar', figsize=(18,3))\n",
        "plt.xlabel('Medical Condition ')\n",
        "plt.ylabel('Mean count')\n",
        "plt.title('Average nomber of time Medical Condition Apear ')\n",
        "plt.show()\n"
      ]
    },
    {
      "cell_type": "markdown",
      "id": "ec685198",
      "metadata": {
        "papermill": {
          "duration": 0.026523,
          "end_time": "2022-12-21T10:49:01.869608",
          "exception": false,
          "start_time": "2022-12-21T10:49:01.843085",
          "status": "completed"
        },
        "tags": [],
        "id": "ec685198"
      },
      "source": [
        "**** C****\n",
        "\n",
        "****Comparison of two columns to display a relevant message****"
      ]
    },
    {
      "cell_type": "code",
      "execution_count": null,
      "id": "d2e43362",
      "metadata": {
        "execution": {
          "iopub.execute_input": "2022-12-21T10:49:01.926447Z",
          "iopub.status.busy": "2022-12-21T10:49:01.925354Z",
          "iopub.status.idle": "2022-12-21T10:49:03.080609Z",
          "shell.execute_reply": "2022-12-21T10:49:03.079321Z"
        },
        "papermill": {
          "duration": 1.18696,
          "end_time": "2022-12-21T10:49:03.083654",
          "exception": false,
          "start_time": "2022-12-21T10:49:01.896694",
          "status": "completed"
        },
        "tags": [],
        "id": "d2e43362"
      },
      "outputs": [],
      "source": [
        "import plotly\n",
        "import plotly.express as ex\n"
      ]
    },
    {
      "cell_type": "markdown",
      "id": "64e5682f",
      "metadata": {
        "papermill": {
          "duration": 0.026675,
          "end_time": "2022-12-21T10:49:03.138434",
          "exception": false,
          "start_time": "2022-12-21T10:49:03.111759",
          "status": "completed"
        },
        "tags": [],
        "id": "64e5682f"
      },
      "source": [
        "**** 1) Comparing rx_otc and medical_condition****"
      ]
    },
    {
      "cell_type": "code",
      "execution_count": null,
      "id": "773b1b7d",
      "metadata": {
        "execution": {
          "iopub.execute_input": "2022-12-21T10:49:03.195498Z",
          "iopub.status.busy": "2022-12-21T10:49:03.194752Z",
          "iopub.status.idle": "2022-12-21T10:49:04.527935Z",
          "shell.execute_reply": "2022-12-21T10:49:04.526633Z"
        },
        "papermill": {
          "duration": 1.366303,
          "end_time": "2022-12-21T10:49:04.531972",
          "exception": false,
          "start_time": "2022-12-21T10:49:03.165669",
          "status": "completed"
        },
        "tags": [],
        "id": "773b1b7d"
      },
      "outputs": [],
      "source": [
        "ex.box(x = 'rx_otc', y = 'medical_condition',data_frame = df, template='seaborn',\n",
        "       notched=True, width=800, height=500)\n"
      ]
    },
    {
      "cell_type": "markdown",
      "id": "220e45b7",
      "metadata": {
        "papermill": {
          "duration": 0.028132,
          "end_time": "2022-12-21T10:49:04.590371",
          "exception": false,
          "start_time": "2022-12-21T10:49:04.562239",
          "status": "completed"
        },
        "tags": [],
        "id": "220e45b7"
      },
      "source": [
        "**** 2) Comparing alcohol and medical_condition****"
      ]
    },
    {
      "cell_type": "code",
      "execution_count": null,
      "id": "7280bb1d",
      "metadata": {
        "execution": {
          "iopub.execute_input": "2022-12-21T10:49:04.649695Z",
          "iopub.status.busy": "2022-12-21T10:49:04.649300Z",
          "iopub.status.idle": "2022-12-21T10:49:04.738400Z",
          "shell.execute_reply": "2022-12-21T10:49:04.737125Z"
        },
        "papermill": {
          "duration": 0.122683,
          "end_time": "2022-12-21T10:49:04.741596",
          "exception": false,
          "start_time": "2022-12-21T10:49:04.618913",
          "status": "completed"
        },
        "tags": [],
        "id": "7280bb1d"
      },
      "outputs": [],
      "source": [
        "ex.box(x = 'alcohol', y = 'medical_condition',data_frame = df, template='seaborn',\n",
        "       notched=True, width=800, height=400)\n"
      ]
    },
    {
      "cell_type": "markdown",
      "id": "06153f70",
      "metadata": {
        "papermill": {
          "duration": 0.031307,
          "end_time": "2022-12-21T10:49:04.804956",
          "exception": false,
          "start_time": "2022-12-21T10:49:04.773649",
          "status": "completed"
        },
        "tags": [],
        "id": "06153f70"
      },
      "source": [
        "**** 3) Comparing drug_classes and medical_condition****"
      ]
    },
    {
      "cell_type": "code",
      "execution_count": null,
      "id": "c0575d94",
      "metadata": {
        "execution": {
          "iopub.execute_input": "2022-12-21T10:49:04.869135Z",
          "iopub.status.busy": "2022-12-21T10:49:04.868747Z",
          "iopub.status.idle": "2022-12-21T10:49:04.955381Z",
          "shell.execute_reply": "2022-12-21T10:49:04.954224Z"
        },
        "papermill": {
          "duration": 0.123702,
          "end_time": "2022-12-21T10:49:04.959435",
          "exception": false,
          "start_time": "2022-12-21T10:49:04.835733",
          "status": "completed"
        },
        "tags": [],
        "id": "c0575d94"
      },
      "outputs": [],
      "source": [
        "ex.box(x = 'medical_condition', y = 'drug_classes',data_frame = df, template='seaborn',\n",
        "       notched=True, width=1200, height=600)\n"
      ]
    },
    {
      "cell_type": "markdown",
      "id": "38460f5f",
      "metadata": {
        "papermill": {
          "duration": 0.032859,
          "end_time": "2022-12-21T10:49:05.025978",
          "exception": false,
          "start_time": "2022-12-21T10:49:04.993119",
          "status": "completed"
        },
        "tags": [],
        "id": "38460f5f"
      },
      "source": [
        "****4) Comparing drug_classes and drug activity****"
      ]
    },
    {
      "cell_type": "code",
      "execution_count": null,
      "id": "3c5b73c6",
      "metadata": {
        "execution": {
          "iopub.execute_input": "2022-12-21T10:49:05.095297Z",
          "iopub.status.busy": "2022-12-21T10:49:05.094044Z",
          "iopub.status.idle": "2022-12-21T10:49:05.181471Z",
          "shell.execute_reply": "2022-12-21T10:49:05.180298Z"
        },
        "papermill": {
          "duration": 0.125946,
          "end_time": "2022-12-21T10:49:05.185319",
          "exception": false,
          "start_time": "2022-12-21T10:49:05.059373",
          "status": "completed"
        },
        "tags": [],
        "id": "3c5b73c6"
      },
      "outputs": [],
      "source": [
        "ex.box(x = 'drug_classes', y = 'activity',data_frame = df, template='seaborn',\n",
        "       notched=True, width=1200, height=1000)\n"
      ]
    },
    {
      "cell_type": "markdown",
      "id": "e52f7954",
      "metadata": {
        "papermill": {
          "duration": 0.034166,
          "end_time": "2022-12-21T10:49:05.254792",
          "exception": false,
          "start_time": "2022-12-21T10:49:05.220626",
          "status": "completed"
        },
        "tags": [],
        "id": "e52f7954"
      },
      "source": [
        "****4) Comparing medical_condition and pregnancy_category****"
      ]
    },
    {
      "cell_type": "code",
      "execution_count": null,
      "id": "f15eaded",
      "metadata": {
        "execution": {
          "iopub.execute_input": "2022-12-21T10:49:05.327252Z",
          "iopub.status.busy": "2022-12-21T10:49:05.326460Z",
          "iopub.status.idle": "2022-12-21T10:49:05.415341Z",
          "shell.execute_reply": "2022-12-21T10:49:05.414001Z"
        },
        "papermill": {
          "duration": 0.128028,
          "end_time": "2022-12-21T10:49:05.418010",
          "exception": false,
          "start_time": "2022-12-21T10:49:05.289982",
          "status": "completed"
        },
        "tags": [],
        "id": "f15eaded"
      },
      "outputs": [],
      "source": [
        "ex.box(x = 'medical_condition', y = 'pregnancy_category',data_frame = df, template='seaborn',\n",
        "       notched=True, width=1200, height=600)\n"
      ]
    }
  ],
  "metadata": {
    "kernelspec": {
      "display_name": "Python 3",
      "language": "python",
      "name": "python3"
    },
    "language_info": {
      "codemirror_mode": {
        "name": "ipython",
        "version": 3
      },
      "file_extension": ".py",
      "mimetype": "text/x-python",
      "name": "python",
      "nbconvert_exporter": "python",
      "pygments_lexer": "ipython3",
      "version": "3.7.12"
    },
    "papermill": {
      "default_parameters": {},
      "duration": 21.498,
      "end_time": "2022-12-21T10:49:06.277404",
      "environment_variables": {},
      "exception": null,
      "input_path": "__notebook__.ipynb",
      "output_path": "__notebook__.ipynb",
      "parameters": {},
      "start_time": "2022-12-21T10:48:44.779404",
      "version": "2.3.4"
    },
    "colab": {
      "provenance": [],
      "include_colab_link": true
    }
  },
  "nbformat": 4,
  "nbformat_minor": 5
}