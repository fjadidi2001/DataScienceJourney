{
 "cells": [
  {
   "cell_type": "markdown",
   "metadata": {
    "colab_type": "text",
    "id": "view-in-github"
   },
   "source": [
    "<a href=\"https://colab.research.google.com/github/fjadidi2001/Artificial_Intelligence_Learning/blob/master/Copy_of_Copy_of_telematics_syn.ipynb\" target=\"_parent\"><img src=\"https://colab.research.google.com/assets/colab-badge.svg\" alt=\"Open In Colab\"/></a>"
   ]
  },
  {
   "cell_type": "markdown",
   "metadata": {
    "id": "ac_RBikYk_NY"
   },
   "source": [
    "# Upload the dataset to Google Colab"
   ]
  },
  {
   "cell_type": "code",
   "execution_count": null,
   "metadata": {
    "colab": {
     "base_uri": "https://localhost:8080/",
     "height": 71
    },
    "id": "ZSiPXKBnivBl",
    "outputId": "8c8497c9-67aa-4c15-8138-c4ebde0b9204"
   },
   "outputs": [
    {
     "data": {
      "text/html": [
       "\n",
       "     <input type=\"file\" id=\"files-97733fb0-b834-4c3d-b48b-178d7931365f\" name=\"files[]\" multiple disabled\n",
       "        style=\"border:none\" />\n",
       "     <output id=\"result-97733fb0-b834-4c3d-b48b-178d7931365f\">\n",
       "      Upload widget is only available when the cell has been executed in the\n",
       "      current browser session. Please rerun this cell to enable.\n",
       "      </output>\n",
       "      <script>// Copyright 2017 Google LLC\n",
       "//\n",
       "// Licensed under the Apache License, Version 2.0 (the \"License\");\n",
       "// you may not use this file except in compliance with the License.\n",
       "// You may obtain a copy of the License at\n",
       "//\n",
       "//      http://www.apache.org/licenses/LICENSE-2.0\n",
       "//\n",
       "// Unless required by applicable law or agreed to in writing, software\n",
       "// distributed under the License is distributed on an \"AS IS\" BASIS,\n",
       "// WITHOUT WARRANTIES OR CONDITIONS OF ANY KIND, either express or implied.\n",
       "// See the License for the specific language governing permissions and\n",
       "// limitations under the License.\n",
       "\n",
       "/**\n",
       " * @fileoverview Helpers for google.colab Python module.\n",
       " */\n",
       "(function(scope) {\n",
       "function span(text, styleAttributes = {}) {\n",
       "  const element = document.createElement('span');\n",
       "  element.textContent = text;\n",
       "  for (const key of Object.keys(styleAttributes)) {\n",
       "    element.style[key] = styleAttributes[key];\n",
       "  }\n",
       "  return element;\n",
       "}\n",
       "\n",
       "// Max number of bytes which will be uploaded at a time.\n",
       "const MAX_PAYLOAD_SIZE = 100 * 1024;\n",
       "\n",
       "function _uploadFiles(inputId, outputId) {\n",
       "  const steps = uploadFilesStep(inputId, outputId);\n",
       "  const outputElement = document.getElementById(outputId);\n",
       "  // Cache steps on the outputElement to make it available for the next call\n",
       "  // to uploadFilesContinue from Python.\n",
       "  outputElement.steps = steps;\n",
       "\n",
       "  return _uploadFilesContinue(outputId);\n",
       "}\n",
       "\n",
       "// This is roughly an async generator (not supported in the browser yet),\n",
       "// where there are multiple asynchronous steps and the Python side is going\n",
       "// to poll for completion of each step.\n",
       "// This uses a Promise to block the python side on completion of each step,\n",
       "// then passes the result of the previous step as the input to the next step.\n",
       "function _uploadFilesContinue(outputId) {\n",
       "  const outputElement = document.getElementById(outputId);\n",
       "  const steps = outputElement.steps;\n",
       "\n",
       "  const next = steps.next(outputElement.lastPromiseValue);\n",
       "  return Promise.resolve(next.value.promise).then((value) => {\n",
       "    // Cache the last promise value to make it available to the next\n",
       "    // step of the generator.\n",
       "    outputElement.lastPromiseValue = value;\n",
       "    return next.value.response;\n",
       "  });\n",
       "}\n",
       "\n",
       "/**\n",
       " * Generator function which is called between each async step of the upload\n",
       " * process.\n",
       " * @param {string} inputId Element ID of the input file picker element.\n",
       " * @param {string} outputId Element ID of the output display.\n",
       " * @return {!Iterable<!Object>} Iterable of next steps.\n",
       " */\n",
       "function* uploadFilesStep(inputId, outputId) {\n",
       "  const inputElement = document.getElementById(inputId);\n",
       "  inputElement.disabled = false;\n",
       "\n",
       "  const outputElement = document.getElementById(outputId);\n",
       "  outputElement.innerHTML = '';\n",
       "\n",
       "  const pickedPromise = new Promise((resolve) => {\n",
       "    inputElement.addEventListener('change', (e) => {\n",
       "      resolve(e.target.files);\n",
       "    });\n",
       "  });\n",
       "\n",
       "  const cancel = document.createElement('button');\n",
       "  inputElement.parentElement.appendChild(cancel);\n",
       "  cancel.textContent = 'Cancel upload';\n",
       "  const cancelPromise = new Promise((resolve) => {\n",
       "    cancel.onclick = () => {\n",
       "      resolve(null);\n",
       "    };\n",
       "  });\n",
       "\n",
       "  // Wait for the user to pick the files.\n",
       "  const files = yield {\n",
       "    promise: Promise.race([pickedPromise, cancelPromise]),\n",
       "    response: {\n",
       "      action: 'starting',\n",
       "    }\n",
       "  };\n",
       "\n",
       "  cancel.remove();\n",
       "\n",
       "  // Disable the input element since further picks are not allowed.\n",
       "  inputElement.disabled = true;\n",
       "\n",
       "  if (!files) {\n",
       "    return {\n",
       "      response: {\n",
       "        action: 'complete',\n",
       "      }\n",
       "    };\n",
       "  }\n",
       "\n",
       "  for (const file of files) {\n",
       "    const li = document.createElement('li');\n",
       "    li.append(span(file.name, {fontWeight: 'bold'}));\n",
       "    li.append(span(\n",
       "        `(${file.type || 'n/a'}) - ${file.size} bytes, ` +\n",
       "        `last modified: ${\n",
       "            file.lastModifiedDate ? file.lastModifiedDate.toLocaleDateString() :\n",
       "                                    'n/a'} - `));\n",
       "    const percent = span('0% done');\n",
       "    li.appendChild(percent);\n",
       "\n",
       "    outputElement.appendChild(li);\n",
       "\n",
       "    const fileDataPromise = new Promise((resolve) => {\n",
       "      const reader = new FileReader();\n",
       "      reader.onload = (e) => {\n",
       "        resolve(e.target.result);\n",
       "      };\n",
       "      reader.readAsArrayBuffer(file);\n",
       "    });\n",
       "    // Wait for the data to be ready.\n",
       "    let fileData = yield {\n",
       "      promise: fileDataPromise,\n",
       "      response: {\n",
       "        action: 'continue',\n",
       "      }\n",
       "    };\n",
       "\n",
       "    // Use a chunked sending to avoid message size limits. See b/62115660.\n",
       "    let position = 0;\n",
       "    do {\n",
       "      const length = Math.min(fileData.byteLength - position, MAX_PAYLOAD_SIZE);\n",
       "      const chunk = new Uint8Array(fileData, position, length);\n",
       "      position += length;\n",
       "\n",
       "      const base64 = btoa(String.fromCharCode.apply(null, chunk));\n",
       "      yield {\n",
       "        response: {\n",
       "          action: 'append',\n",
       "          file: file.name,\n",
       "          data: base64,\n",
       "        },\n",
       "      };\n",
       "\n",
       "      let percentDone = fileData.byteLength === 0 ?\n",
       "          100 :\n",
       "          Math.round((position / fileData.byteLength) * 100);\n",
       "      percent.textContent = `${percentDone}% done`;\n",
       "\n",
       "    } while (position < fileData.byteLength);\n",
       "  }\n",
       "\n",
       "  // All done.\n",
       "  yield {\n",
       "    response: {\n",
       "      action: 'complete',\n",
       "    }\n",
       "  };\n",
       "}\n",
       "\n",
       "scope.google = scope.google || {};\n",
       "scope.google.colab = scope.google.colab || {};\n",
       "scope.google.colab._files = {\n",
       "  _uploadFiles,\n",
       "  _uploadFilesContinue,\n",
       "};\n",
       "})(self);\n",
       "</script> "
      ],
      "text/plain": [
       "<IPython.core.display.HTML object>"
      ]
     },
     "metadata": {},
     "output_type": "display_data"
    },
    {
     "name": "stdout",
     "output_type": "stream",
     "text": [
      "Saving telematics_syn.csv to telematics_syn.csv\n"
     ]
    }
   ],
   "source": [
    "from google.colab import files\n",
    "\n",
    "# Upload the file\n",
    "uploaded = files.upload()"
   ]
  },
  {
   "cell_type": "code",
   "execution_count": null,
   "metadata": {
    "id": "vKRQ78dBY61H"
   },
   "outputs": [],
   "source": [
    "import pandas as pd\n",
    "import numpy as np\n",
    "from sklearn.preprocessing import StandardScaler, OneHotEncoder\n",
    "from sklearn.compose import ColumnTransformer\n",
    "from sklearn.pipeline import Pipeline"
   ]
  },
  {
   "cell_type": "markdown",
   "metadata": {
    "id": "-8AaKfUzlFHq"
   },
   "source": [
    "## Read the uploaded CSV file"
   ]
  },
  {
   "cell_type": "code",
   "execution_count": null,
   "metadata": {
    "id": "xs7yXH1PkNhi"
   },
   "outputs": [],
   "source": [
    "# Read the CSV file\n",
    "df = pd.read_csv('telematics_syn.csv')"
   ]
  },
  {
   "cell_type": "code",
   "execution_count": null,
   "metadata": {
    "id": "9LysgLC5aYcf"
   },
   "outputs": [],
   "source": [
    "categorical_cols = ['Insured.sex', 'Marital', 'Car.use', 'Region', 'Territory']"
   ]
  },
  {
   "cell_type": "code",
   "execution_count": null,
   "metadata": {
    "id": "YtSYF8zsaZ0G"
   },
   "outputs": [],
   "source": [
    "preprocessor = ColumnTransformer(\n",
    "    transformers=[\n",
    "        ('cat', OneHotEncoder(), categorical_cols)\n",
    "    ],\n",
    "    remainder='passthrough'\n",
    ")"
   ]
  },
  {
   "cell_type": "code",
   "execution_count": null,
   "metadata": {
    "id": "63ZxraiEacjq"
   },
   "outputs": [],
   "source": [
    "numerical_cols = df.select_dtypes(include=['int64', 'float64']).columns\n",
    "numerical_cols = numerical_cols.drop(['NB_Claim', 'AMT_Claim'])  # Exclude target columns"
   ]
  },
  {
   "cell_type": "code",
   "execution_count": null,
   "metadata": {
    "id": "LkDITgIFaiGS"
   },
   "outputs": [],
   "source": [
    "preprocessor = ColumnTransformer(\n",
    "    transformers=[\n",
    "        ('num', StandardScaler(), numerical_cols),\n",
    "        ('cat', OneHotEncoder(), categorical_cols)\n",
    "    ])"
   ]
  },
  {
   "cell_type": "code",
   "execution_count": null,
   "metadata": {
    "id": "HKOm8TGUalTY"
   },
   "outputs": [],
   "source": [
    "pipeline = Pipeline(steps=[('preprocessor', preprocessor)])"
   ]
  },
  {
   "cell_type": "code",
   "execution_count": null,
   "metadata": {
    "id": "U6oqo7FAaodE"
   },
   "outputs": [],
   "source": [
    "X = df.drop(columns=['NB_Claim', 'AMT_Claim'])\n",
    "X_preprocessed = pipeline.fit_transform(X)"
   ]
  },
  {
   "cell_type": "code",
   "execution_count": null,
   "metadata": {
    "id": "h5jXlqsja7Ic"
   },
   "outputs": [],
   "source": [
    "y_nb_claim = df['NB_Claim']\n",
    "y_amt_claim = df['AMT_Claim']"
   ]
  },
  {
   "cell_type": "code",
   "execution_count": null,
   "metadata": {
    "colab": {
     "base_uri": "https://localhost:8080/"
    },
    "id": "mpw_IAaJa8t8",
    "outputId": "0dc05d58-081f-4daf-a0ad-0baabaf333a9"
   },
   "outputs": [
    {
     "name": "stdout",
     "output_type": "stream",
     "text": [
      "Training set: 70000 samples\n",
      "Validation set: 15000 samples\n",
      "Test set: 15000 samples\n"
     ]
    }
   ],
   "source": [
    "from sklearn.model_selection import train_test_split\n",
    "\n",
    "# Assuming X_preprocessed is your preprocessed feature matrix and y_nb_claim and y_amt_claim are your target variables\n",
    "\n",
    "# First, split the data into training and a temporary set (which will be further split into validation and test sets)\n",
    "X_train, X_temp, y_nb_train, y_nb_temp, y_amt_train, y_amt_temp = train_test_split(\n",
    "    X_preprocessed, y_nb_claim, y_amt_claim, test_size=0.3, random_state=42\n",
    ")\n",
    "\n",
    "# Now, split the temporary set into validation and test sets\n",
    "X_val, X_test, y_nb_val, y_nb_test, y_amt_val, y_amt_test = train_test_split(\n",
    "    X_temp, y_nb_temp, y_amt_temp, test_size=0.5, random_state=42\n",
    ")\n",
    "\n",
    "# Print the sizes of the resulting sets\n",
    "print(f\"Training set: {X_train.shape[0]} samples\")\n",
    "print(f\"Validation set: {X_val.shape[0]} samples\")\n",
    "print(f\"Test set: {X_test.shape[0]} samples\")"
   ]
  },
  {
   "cell_type": "code",
   "execution_count": null,
   "metadata": {
    "colab": {
     "base_uri": "https://localhost:8080/",
     "height": 1000
    },
    "id": "vZUuUSq2cJ1s",
    "outputId": "42ed5b4e-f718-4a97-cd4c-cb849034f9a5"
   },
   "outputs": [
    {
     "name": "stdout",
     "output_type": "stream",
     "text": [
      "X_train shape: (70000, 111), y_nb_train shape: (70000,)\n",
      "X_val shape: (15000, 111), y_nb_val shape: (15000,)\n",
      "X_test shape: (15000, 111), y_nb_test shape: (15000,)\n",
      "Epoch 1/100\n",
      "2188/2188 [==============================] - 8s 3ms/step - loss: 0.1583 - accuracy: 0.9575 - val_loss: 0.1556 - val_accuracy: 0.9595\n",
      "Epoch 2/100\n",
      "2188/2188 [==============================] - 6s 3ms/step - loss: 0.1468 - accuracy: 0.9580 - val_loss: 0.1458 - val_accuracy: 0.9597\n",
      "Epoch 3/100\n",
      "2188/2188 [==============================] - 7s 3ms/step - loss: 0.1393 - accuracy: 0.9583 - val_loss: 0.1421 - val_accuracy: 0.9589\n",
      "Epoch 4/100\n",
      "2188/2188 [==============================] - 6s 3ms/step - loss: 0.1281 - accuracy: 0.9591 - val_loss: 0.1391 - val_accuracy: 0.9588\n",
      "Epoch 5/100\n",
      "2188/2188 [==============================] - 7s 3ms/step - loss: 0.1112 - accuracy: 0.9595 - val_loss: 0.1445 - val_accuracy: 0.9587\n",
      "Epoch 6/100\n",
      "2188/2188 [==============================] - 7s 3ms/step - loss: 0.0536 - accuracy: 0.9592 - val_loss: 0.1163 - val_accuracy: 0.9591\n",
      "Epoch 7/100\n",
      "2188/2188 [==============================] - 7s 3ms/step - loss: -0.1568 - accuracy: 0.9584 - val_loss: -0.0083 - val_accuracy: 0.9590\n",
      "Epoch 8/100\n",
      "2188/2188 [==============================] - 6s 3ms/step - loss: -0.6869 - accuracy: 0.9584 - val_loss: -0.0329 - val_accuracy: 0.9592\n",
      "Epoch 9/100\n",
      "2188/2188 [==============================] - 7s 3ms/step - loss: -1.9065 - accuracy: 0.9581 - val_loss: 0.7550 - val_accuracy: 0.9581\n",
      "Epoch 10/100\n",
      "2188/2188 [==============================] - 7s 3ms/step - loss: -4.3005 - accuracy: 0.9581 - val_loss: -1.5586 - val_accuracy: 0.9594\n",
      "Epoch 11/100\n",
      "2188/2188 [==============================] - 6s 3ms/step - loss: -8.7936 - accuracy: 0.9583 - val_loss: -2.4334 - val_accuracy: 0.9589\n",
      "Epoch 12/100\n",
      "2188/2188 [==============================] - 7s 3ms/step - loss: -16.4173 - accuracy: 0.9580 - val_loss: -2.7065 - val_accuracy: 0.9588\n",
      "Epoch 13/100\n",
      "2188/2188 [==============================] - 6s 3ms/step - loss: -28.6247 - accuracy: 0.9581 - val_loss: -7.1175 - val_accuracy: 0.9592\n",
      "Epoch 14/100\n",
      "2188/2188 [==============================] - 7s 3ms/step - loss: -44.0551 - accuracy: 0.9582 - val_loss: -8.6715 - val_accuracy: 0.9591\n",
      "Epoch 15/100\n",
      "2188/2188 [==============================] - 6s 3ms/step - loss: -73.4314 - accuracy: 0.9580 - val_loss: -19.2872 - val_accuracy: 0.9591\n",
      "Epoch 16/100\n",
      "2188/2188 [==============================] - 7s 3ms/step - loss: -105.9850 - accuracy: 0.9581 - val_loss: -9.4630 - val_accuracy: 0.9587\n",
      "Epoch 17/100\n",
      "2188/2188 [==============================] - 6s 3ms/step - loss: -150.7410 - accuracy: 0.9583 - val_loss: -38.8247 - val_accuracy: 0.9589\n",
      "Epoch 18/100\n",
      "2188/2188 [==============================] - 7s 3ms/step - loss: -209.3126 - accuracy: 0.9583 - val_loss: -59.4118 - val_accuracy: 0.9591\n",
      "Epoch 19/100\n",
      "2188/2188 [==============================] - 6s 3ms/step - loss: -286.7060 - accuracy: 0.9584 - val_loss: -60.2353 - val_accuracy: 0.9585\n",
      "Epoch 20/100\n",
      "2188/2188 [==============================] - 8s 4ms/step - loss: -392.3952 - accuracy: 0.9583 - val_loss: -34.5828 - val_accuracy: 0.9583\n",
      "Epoch 21/100\n",
      "2188/2188 [==============================] - 6s 3ms/step - loss: -536.8410 - accuracy: 0.9584 - val_loss: -90.3465 - val_accuracy: 0.9585\n",
      "Epoch 22/100\n",
      "2188/2188 [==============================] - 7s 3ms/step - loss: -707.7062 - accuracy: 0.9585 - val_loss: -176.5826 - val_accuracy: 0.9593\n",
      "Epoch 23/100\n",
      "2188/2188 [==============================] - 6s 3ms/step - loss: -898.3747 - accuracy: 0.9584 - val_loss: -147.8259 - val_accuracy: 0.9587\n",
      "Epoch 24/100\n",
      "2188/2188 [==============================] - 8s 4ms/step - loss: -1152.3142 - accuracy: 0.9584 - val_loss: -226.9498 - val_accuracy: 0.9590\n",
      "Epoch 25/100\n",
      "2188/2188 [==============================] - 6s 3ms/step - loss: -1416.4100 - accuracy: 0.9584 - val_loss: -203.2514 - val_accuracy: 0.9587\n",
      "Epoch 26/100\n",
      "2188/2188 [==============================] - 7s 3ms/step - loss: -1813.9679 - accuracy: 0.9585 - val_loss: -63.3290 - val_accuracy: 0.9585\n",
      "Epoch 27/100\n",
      "2188/2188 [==============================] - 6s 3ms/step - loss: -2240.2153 - accuracy: 0.9584 - val_loss: -314.0882 - val_accuracy: 0.9588\n",
      "Epoch 28/100\n",
      "2188/2188 [==============================] - 7s 3ms/step - loss: -2781.4771 - accuracy: 0.9586 - val_loss: -147.8190 - val_accuracy: 0.9586\n",
      "Epoch 29/100\n",
      "2188/2188 [==============================] - 6s 3ms/step - loss: -3409.3594 - accuracy: 0.9585 - val_loss: -591.2427 - val_accuracy: 0.9589\n",
      "Epoch 30/100\n",
      "2188/2188 [==============================] - 7s 3ms/step - loss: -4121.4434 - accuracy: 0.9585 - val_loss: -350.6197 - val_accuracy: 0.9586\n",
      "Epoch 31/100\n",
      "2188/2188 [==============================] - 6s 3ms/step - loss: -4952.6274 - accuracy: 0.9586 - val_loss: -106.0767 - val_accuracy: 0.9571\n",
      "Epoch 32/100\n",
      "2188/2188 [==============================] - 7s 3ms/step - loss: -6002.3945 - accuracy: 0.9584 - val_loss: -1050.9625 - val_accuracy: 0.9589\n",
      "Epoch 33/100\n",
      "2188/2188 [==============================] - 6s 3ms/step - loss: -7019.2651 - accuracy: 0.9585 - val_loss: -273.2688 - val_accuracy: 0.9577\n",
      "Epoch 34/100\n",
      "2188/2188 [==============================] - 7s 3ms/step - loss: -8123.1943 - accuracy: 0.9585 - val_loss: -745.4711 - val_accuracy: 0.9586\n",
      "Epoch 35/100\n",
      "2188/2188 [==============================] - 6s 3ms/step - loss: -9451.1768 - accuracy: 0.9585 - val_loss: -778.2787 - val_accuracy: 0.9585\n",
      "Epoch 36/100\n",
      "2188/2188 [==============================] - 7s 3ms/step - loss: -10937.9727 - accuracy: 0.9585 - val_loss: -1816.4254 - val_accuracy: 0.9587\n",
      "Epoch 37/100\n",
      "2188/2188 [==============================] - 6s 3ms/step - loss: -12662.9971 - accuracy: 0.9586 - val_loss: -810.4334 - val_accuracy: 0.9583\n",
      "Epoch 38/100\n",
      "2188/2188 [==============================] - 7s 3ms/step - loss: -14671.4238 - accuracy: 0.9585 - val_loss: -2158.7122 - val_accuracy: 0.9587\n",
      "Epoch 39/100\n",
      "2188/2188 [==============================] - 7s 3ms/step - loss: -16778.8672 - accuracy: 0.9585 - val_loss: -253.0134 - val_accuracy: 0.9579\n",
      "Epoch 40/100\n",
      "2188/2188 [==============================] - 7s 3ms/step - loss: -18994.1641 - accuracy: 0.9584 - val_loss: -1993.4252 - val_accuracy: 0.9587\n",
      "Epoch 41/100\n",
      "2188/2188 [==============================] - 6s 3ms/step - loss: -21561.1016 - accuracy: 0.9586 - val_loss: -939.3351 - val_accuracy: 0.9581\n",
      "Epoch 42/100\n",
      "2188/2188 [==============================] - 6s 3ms/step - loss: -24324.9590 - accuracy: 0.9586 - val_loss: -2845.9590 - val_accuracy: 0.9585\n",
      "Epoch 43/100\n",
      "2188/2188 [==============================] - 6s 3ms/step - loss: -27669.0352 - accuracy: 0.9587 - val_loss: -421.6739 - val_accuracy: 0.9579\n",
      "Epoch 44/100\n",
      "2188/2188 [==============================] - 7s 3ms/step - loss: -30812.1777 - accuracy: 0.9585 - val_loss: -3407.9087 - val_accuracy: 0.9589\n",
      "Epoch 45/100\n",
      "2188/2188 [==============================] - 7s 3ms/step - loss: -34815.9453 - accuracy: 0.9586 - val_loss: -2605.8970 - val_accuracy: 0.9585\n",
      "Epoch 46/100\n",
      "2188/2188 [==============================] - 6s 3ms/step - loss: -38835.0117 - accuracy: 0.9586 - val_loss: -4616.8145 - val_accuracy: 0.9588\n",
      "Epoch 47/100\n",
      "2188/2188 [==============================] - 7s 3ms/step - loss: -43135.8125 - accuracy: 0.9586 - val_loss: -1188.3612 - val_accuracy: 0.9583\n",
      "Epoch 48/100\n",
      "2188/2188 [==============================] - 6s 3ms/step - loss: -48441.0117 - accuracy: 0.9586 - val_loss: -3485.9968 - val_accuracy: 0.9587\n",
      "Epoch 49/100\n",
      "2188/2188 [==============================] - 7s 3ms/step - loss: -53876.9219 - accuracy: 0.9585 - val_loss: -4057.8555 - val_accuracy: 0.9587\n",
      "Epoch 50/100\n",
      "2188/2188 [==============================] - 6s 3ms/step - loss: -59523.4453 - accuracy: 0.9587 - val_loss: -5473.3242 - val_accuracy: 0.9588\n",
      "Epoch 51/100\n",
      "2188/2188 [==============================] - 7s 3ms/step - loss: -66115.4609 - accuracy: 0.9586 - val_loss: -157.7935 - val_accuracy: 0.9578\n",
      "Epoch 52/100\n",
      "2188/2188 [==============================] - 6s 3ms/step - loss: -72631.0234 - accuracy: 0.9586 - val_loss: -3756.3735 - val_accuracy: 0.9583\n",
      "Epoch 53/100\n",
      "2188/2188 [==============================] - 7s 3ms/step - loss: -79286.5156 - accuracy: 0.9586 - val_loss: -6757.4409 - val_accuracy: 0.9585\n",
      "Epoch 54/100\n",
      "2188/2188 [==============================] - 6s 3ms/step - loss: -86598.9531 - accuracy: 0.9586 - val_loss: -8455.4502 - val_accuracy: 0.9587\n",
      "Epoch 55/100\n",
      "2188/2188 [==============================] - 7s 3ms/step - loss: -94386.9531 - accuracy: 0.9587 - val_loss: -4121.0034 - val_accuracy: 0.9583\n",
      "Epoch 56/100\n",
      "2188/2188 [==============================] - 6s 3ms/step - loss: -102775.5469 - accuracy: 0.9587 - val_loss: -6381.1372 - val_accuracy: 0.9584\n",
      "Epoch 57/100\n",
      "2188/2188 [==============================] - 7s 3ms/step - loss: -112569.9844 - accuracy: 0.9586 - val_loss: -7773.3462 - val_accuracy: 0.9586\n",
      "Epoch 58/100\n",
      "2188/2188 [==============================] - 6s 3ms/step - loss: -122829.3828 - accuracy: 0.9587 - val_loss: -9900.1670 - val_accuracy: 0.9587\n",
      "Epoch 59/100\n",
      "2188/2188 [==============================] - 7s 3ms/step - loss: -131639.5312 - accuracy: 0.9587 - val_loss: 1165.7632 - val_accuracy: 0.9579\n",
      "Epoch 60/100\n",
      "2188/2188 [==============================] - 6s 3ms/step - loss: -142870.3750 - accuracy: 0.9586 - val_loss: 7912.4292 - val_accuracy: 0.9573\n",
      "Epoch 61/100\n",
      "2188/2188 [==============================] - 6s 3ms/step - loss: -153824.2656 - accuracy: 0.9586 - val_loss: -4863.9814 - val_accuracy: 0.9581\n",
      "Epoch 62/100\n",
      "2188/2188 [==============================] - 7s 3ms/step - loss: -167676.3750 - accuracy: 0.9587 - val_loss: -9277.6367 - val_accuracy: 0.9583\n",
      "Epoch 63/100\n",
      "2188/2188 [==============================] - 6s 3ms/step - loss: -181989.8281 - accuracy: 0.9587 - val_loss: 17696.9688 - val_accuracy: 0.9571\n",
      "Epoch 64/100\n",
      "2188/2188 [==============================] - 7s 3ms/step - loss: -195331.5781 - accuracy: 0.9586 - val_loss: -6501.3838 - val_accuracy: 0.9583\n",
      "Epoch 65/100\n",
      "2188/2188 [==============================] - 6s 3ms/step - loss: -211378.5625 - accuracy: 0.9586 - val_loss: -16596.6191 - val_accuracy: 0.9583\n",
      "Epoch 66/100\n",
      "2188/2188 [==============================] - 7s 3ms/step - loss: -226450.4688 - accuracy: 0.9587 - val_loss: -12090.9980 - val_accuracy: 0.9583\n",
      "Epoch 67/100\n",
      "2188/2188 [==============================] - 7s 3ms/step - loss: -243495.6562 - accuracy: 0.9586 - val_loss: -14739.0879 - val_accuracy: 0.9583\n",
      "Epoch 68/100\n",
      "2188/2188 [==============================] - 7s 3ms/step - loss: -262669.3125 - accuracy: 0.9587 - val_loss: -27530.3867 - val_accuracy: 0.9585\n",
      "Epoch 69/100\n",
      "2188/2188 [==============================] - 6s 3ms/step - loss: -279318.2500 - accuracy: 0.9587 - val_loss: -11144.4707 - val_accuracy: 0.9582\n",
      "Epoch 70/100\n",
      "2188/2188 [==============================] - 7s 3ms/step - loss: -296985.0000 - accuracy: 0.9586 - val_loss: -14049.8613 - val_accuracy: 0.9584\n",
      "Epoch 71/100\n",
      "2188/2188 [==============================] - 7s 3ms/step - loss: -317216.6875 - accuracy: 0.9587 - val_loss: -28696.8301 - val_accuracy: 0.9585\n",
      "Epoch 72/100\n",
      "2188/2188 [==============================] - 7s 3ms/step - loss: -340331.3750 - accuracy: 0.9586 - val_loss: -9521.6182 - val_accuracy: 0.9582\n",
      "Epoch 73/100\n",
      "2188/2188 [==============================] - 7s 3ms/step - loss: -364245.5312 - accuracy: 0.9587 - val_loss: -34785.7930 - val_accuracy: 0.9585\n",
      "Epoch 74/100\n",
      "2188/2188 [==============================] - 6s 3ms/step - loss: -388184.5938 - accuracy: 0.9586 - val_loss: -14256.2480 - val_accuracy: 0.9580\n",
      "Epoch 75/100\n",
      "2188/2188 [==============================] - 7s 3ms/step - loss: -412831.4688 - accuracy: 0.9587 - val_loss: -23181.0723 - val_accuracy: 0.9582\n",
      "Epoch 76/100\n",
      "2188/2188 [==============================] - 6s 3ms/step - loss: -440094.4375 - accuracy: 0.9587 - val_loss: 5834.2705 - val_accuracy: 0.9575\n",
      "Epoch 77/100\n",
      "2188/2188 [==============================] - 7s 3ms/step - loss: -469587.8750 - accuracy: 0.9586 - val_loss: -16753.8906 - val_accuracy: 0.9582\n",
      "Epoch 78/100\n",
      "2188/2188 [==============================] - 7s 3ms/step - loss: -496726.3750 - accuracy: 0.9587 - val_loss: -37975.4727 - val_accuracy: 0.9584\n",
      "Epoch 79/100\n",
      "2188/2188 [==============================] - 7s 3ms/step - loss: -521936.1250 - accuracy: 0.9587 - val_loss: -16712.3672 - val_accuracy: 0.9581\n",
      "Epoch 80/100\n",
      "2188/2188 [==============================] - 6s 3ms/step - loss: -550643.6250 - accuracy: 0.9587 - val_loss: -47974.5820 - val_accuracy: 0.9585\n",
      "Epoch 81/100\n",
      "2188/2188 [==============================] - 8s 3ms/step - loss: -585751.0625 - accuracy: 0.9587 - val_loss: -24507.7637 - val_accuracy: 0.9581\n",
      "Epoch 82/100\n",
      "2188/2188 [==============================] - 6s 3ms/step - loss: -619726.0625 - accuracy: 0.9587 - val_loss: 7817.6016 - val_accuracy: 0.9577\n",
      "Epoch 83/100\n",
      "2188/2188 [==============================] - 8s 4ms/step - loss: -655251.3750 - accuracy: 0.9586 - val_loss: -17244.5762 - val_accuracy: 0.9579\n",
      "Epoch 84/100\n",
      "2188/2188 [==============================] - 7s 3ms/step - loss: -694472.5000 - accuracy: 0.9586 - val_loss: -23238.6328 - val_accuracy: 0.9580\n",
      "Epoch 85/100\n",
      "2188/2188 [==============================] - 8s 4ms/step - loss: -731485.0000 - accuracy: 0.9586 - val_loss: -46682.9414 - val_accuracy: 0.9583\n",
      "Epoch 86/100\n",
      "2188/2188 [==============================] - 6s 3ms/step - loss: -773773.0000 - accuracy: 0.9587 - val_loss: -68852.3047 - val_accuracy: 0.9583\n",
      "Epoch 87/100\n",
      "2188/2188 [==============================] - 8s 4ms/step - loss: -814071.1250 - accuracy: 0.9587 - val_loss: -7107.5205 - val_accuracy: 0.9575\n",
      "Epoch 88/100\n",
      "2188/2188 [==============================] - 6s 3ms/step - loss: -860456.1875 - accuracy: 0.9587 - val_loss: 25951.1973 - val_accuracy: 0.9574\n",
      "Epoch 89/100\n",
      "2188/2188 [==============================] - 8s 4ms/step - loss: -904651.3125 - accuracy: 0.9587 - val_loss: -51883.3750 - val_accuracy: 0.9579\n",
      "Epoch 90/100\n",
      "2188/2188 [==============================] - 6s 3ms/step - loss: -952430.6250 - accuracy: 0.9587 - val_loss: -19265.1777 - val_accuracy: 0.9578\n",
      "Epoch 91/100\n",
      "2188/2188 [==============================] - 8s 4ms/step - loss: -998188.1875 - accuracy: 0.9586 - val_loss: -77806.2500 - val_accuracy: 0.9582\n",
      "Epoch 92/100\n",
      "2188/2188 [==============================] - 7s 3ms/step - loss: -1045872.3125 - accuracy: 0.9587 - val_loss: -74246.0469 - val_accuracy: 0.9581\n",
      "Epoch 93/100\n",
      "2188/2188 [==============================] - 8s 3ms/step - loss: -1096651.0000 - accuracy: 0.9587 - val_loss: -10235.2529 - val_accuracy: 0.9576\n",
      "Epoch 94/100\n",
      "2188/2188 [==============================] - 6s 3ms/step - loss: -1156336.2500 - accuracy: 0.9586 - val_loss: -18540.7891 - val_accuracy: 0.9577\n",
      "Epoch 95/100\n",
      "2188/2188 [==============================] - 8s 3ms/step - loss: -1213872.8750 - accuracy: 0.9587 - val_loss: -27278.1094 - val_accuracy: 0.9578\n",
      "Epoch 96/100\n",
      "2188/2188 [==============================] - 6s 3ms/step - loss: -1274594.6250 - accuracy: 0.9586 - val_loss: -25792.2070 - val_accuracy: 0.9577\n",
      "Epoch 97/100\n",
      "2188/2188 [==============================] - 8s 3ms/step - loss: -1333237.2500 - accuracy: 0.9587 - val_loss: -85330.3203 - val_accuracy: 0.9581\n",
      "Epoch 98/100\n",
      "2188/2188 [==============================] - 6s 3ms/step - loss: -1403325.0000 - accuracy: 0.9587 - val_loss: -109426.9922 - val_accuracy: 0.9580\n",
      "Epoch 99/100\n",
      "2188/2188 [==============================] - 8s 4ms/step - loss: -1463938.6250 - accuracy: 0.9587 - val_loss: -42036.3672 - val_accuracy: 0.9576\n",
      "Epoch 100/100\n",
      "2188/2188 [==============================] - 7s 3ms/step - loss: -1538414.7500 - accuracy: 0.9587 - val_loss: -55460.4297 - val_accuracy: 0.9581\n",
      "Test Loss: -494074.0938\n",
      "Test Accuracy: 0.9527\n"
     ]
    },
    {
     "data": {
      "image/png": "[encoded data removed]",
      "text/plain": [
       "<Figure size 1200x400 with 2 Axes>"
      ]
     },
     "metadata": {},
     "output_type": "display_data"
    }
   ],
   "source": [
    "import tensorflow as tf\n",
    "from tensorflow.keras.models import Sequential\n",
    "from tensorflow.keras.layers import Dense\n",
    "from tensorflow.keras.optimizers import Adam\n",
    "import matplotlib.pyplot as plt\n",
    "\n",
    "# Define the neural network model\n",
    "def create_model(input_dim):\n",
    "    model = Sequential([\n",
    "        Dense(128, activation='relu', input_dim=input_dim),\n",
    "        Dense(64, activation='relu'),\n",
    "        Dense(32, activation='relu'),\n",
    "        Dense(1, activation='sigmoid')  # Assuming binary classification for 'NB_Claim'\n",
    "    ])\n",
    "    model.compile(optimizer=Adam(learning_rate=0.001), loss='binary_crossentropy', metrics=['accuracy'])\n",
    "    return model\n",
    "\n",
    "# Check data shapes and types\n",
    "print(f\"X_train shape: {X_train.shape}, y_nb_train shape: {y_nb_train.shape}\")\n",
    "print(f\"X_val shape: {X_val.shape}, y_nb_val shape: {y_nb_val.shape}\")\n",
    "print(f\"X_test shape: {X_test.shape}, y_nb_test shape: {y_nb_test.shape}\")\n",
    "\n",
    "# Train the model\n",
    "input_dim = X_train.shape[1]\n",
    "model = create_model(input_dim)\n",
    "\n",
    "history = model.fit(\n",
    "    X_train, y_nb_train,\n",
    "    epochs=100,\n",
    "    batch_size=32,\n",
    "    validation_data=(X_val, y_nb_val),\n",
    "    verbose=1\n",
    ")\n",
    "\n",
    "# Evaluate the model on the test set\n",
    "test_loss, test_accuracy = model.evaluate(X_test, y_nb_test, verbose=0)\n",
    "print(f\"Test Loss: {test_loss:.4f}\")\n",
    "print(f\"Test Accuracy: {test_accuracy:.4f}\")\n",
    "\n",
    "# Plot training & validation accuracy values\n",
    "plt.figure(figsize=(12, 4))\n",
    "plt.subplot(1, 2, 1)\n",
    "plt.plot(history.history['accuracy'])\n",
    "plt.plot(history.history['val_accuracy'])\n",
    "plt.title('Model accuracy')\n",
    "plt.ylabel('Accuracy')\n",
    "plt.xlabel('Epoch')\n",
    "plt.legend(['Train', 'Validation'], loc='upper left')\n",
    "\n",
    "# Plot training & validation loss values\n",
    "plt.subplot(1, 2, 2)\n",
    "plt.plot(history.history['loss'])\n",
    "plt.plot(history.history['val_loss'])\n",
    "plt.title('Model loss')\n",
    "plt.ylabel('Loss')\n",
    "plt.xlabel('Epoch')\n",
    "plt.legend(['Train', 'Validation'], loc='upper left')\n",
    "\n",
    "plt.show()"
   ]
  },
  {
   "cell_type": "code",
   "execution_count": null,
   "metadata": {
    "colab": {
     "base_uri": "https://localhost:8080/"
    },
    "id": "EcgX86XciqEx",
    "outputId": "5602d975-7350-4116-e364-953acf6547e8"
   },
   "outputs": [
    {
     "name": "stdout",
     "output_type": "stream",
     "text": [
      "Collecting pytorch_tabnet\n",
      "  Downloading pytorch_tabnet-4.1.0-py3-none-any.whl (44 kB)\n",
      "\u001b[?25l     \u001b[90m━━━━━━━━━━━━━━━━━━━━━━━━━━━━━━━━━━━━━━━━\u001b[0m \u001b[32m0.0/44.5 kB\u001b[0m \u001b[31m?\u001b[0m eta \u001b[36m-:--:--\u001b[0m\r",
      "\u001b[2K     \u001b[90m━━━━━━━━━━━━━━━━━━━━━━━━━━━━━━━━━━━━━━━━\u001b[0m \u001b[32m44.5/44.5 kB\u001b[0m \u001b[31m1.9 MB/s\u001b[0m eta \u001b[36m0:00:00\u001b[0m\n",
      "\u001b[?25hRequirement already satisfied: numpy>=1.17 in /usr/local/lib/python3.10/dist-packages (from pytorch_tabnet) (1.25.2)\n",
      "Requirement already satisfied: scikit_learn>0.21 in /usr/local/lib/python3.10/dist-packages (from pytorch_tabnet) (1.2.2)\n",
      "Requirement already satisfied: scipy>1.4 in /usr/local/lib/python3.10/dist-packages (from pytorch_tabnet) (1.11.4)\n",
      "Requirement already satisfied: torch>=1.3 in /usr/local/lib/python3.10/dist-packages (from pytorch_tabnet) (2.3.1+cu121)\n",
      "Requirement already satisfied: tqdm>=4.36 in /usr/local/lib/python3.10/dist-packages (from pytorch_tabnet) (4.66.4)\n",
      "Requirement already satisfied: joblib>=1.1.1 in /usr/local/lib/python3.10/dist-packages (from scikit_learn>0.21->pytorch_tabnet) (1.4.2)\n",
      "Requirement already satisfied: threadpoolctl>=2.0.0 in /usr/local/lib/python3.10/dist-packages (from scikit_learn>0.21->pytorch_tabnet) (3.5.0)\n",
      "Requirement already satisfied: filelock in /usr/local/lib/python3.10/dist-packages (from torch>=1.3->pytorch_tabnet) (3.15.4)\n",
      "Requirement already satisfied: typing-extensions>=4.8.0 in /usr/local/lib/python3.10/dist-packages (from torch>=1.3->pytorch_tabnet) (4.12.2)\n",
      "Requirement already satisfied: sympy in /usr/local/lib/python3.10/dist-packages (from torch>=1.3->pytorch_tabnet) (1.13.0)\n",
      "Requirement already satisfied: networkx in /usr/local/lib/python3.10/dist-packages (from torch>=1.3->pytorch_tabnet) (3.3)\n",
      "Requirement already satisfied: jinja2 in /usr/local/lib/python3.10/dist-packages (from torch>=1.3->pytorch_tabnet) (3.1.4)\n",
      "Requirement already satisfied: fsspec in /usr/local/lib/python3.10/dist-packages (from torch>=1.3->pytorch_tabnet) (2023.6.0)\n",
      "Collecting nvidia-cuda-nvrtc-cu12==12.1.105 (from torch>=1.3->pytorch_tabnet)\n",
      "  Using cached nvidia_cuda_nvrtc_cu12-12.1.105-py3-none-manylinux1_x86_64.whl (23.7 MB)\n",
      "Collecting nvidia-cuda-runtime-cu12==12.1.105 (from torch>=1.3->pytorch_tabnet)\n",
      "  Using cached nvidia_cuda_runtime_cu12-12.1.105-py3-none-manylinux1_x86_64.whl (823 kB)\n",
      "Collecting nvidia-cuda-cupti-cu12==12.1.105 (from torch>=1.3->pytorch_tabnet)\n",
      "  Using cached nvidia_cuda_cupti_cu12-12.1.105-py3-none-manylinux1_x86_64.whl (14.1 MB)\n",
      "Collecting nvidia-cudnn-cu12==8.9.2.26 (from torch>=1.3->pytorch_tabnet)\n",
      "  Using cached nvidia_cudnn_cu12-8.9.2.26-py3-none-manylinux1_x86_64.whl (731.7 MB)\n",
      "Collecting nvidia-cublas-cu12==12.1.3.1 (from torch>=1.3->pytorch_tabnet)\n",
      "  Using cached nvidia_cublas_cu12-12.1.3.1-py3-none-manylinux1_x86_64.whl (410.6 MB)\n",
      "Collecting nvidia-cufft-cu12==11.0.2.54 (from torch>=1.3->pytorch_tabnet)\n",
      "  Using cached nvidia_cufft_cu12-11.0.2.54-py3-none-manylinux1_x86_64.whl (121.6 MB)\n",
      "Collecting nvidia-curand-cu12==10.3.2.106 (from torch>=1.3->pytorch_tabnet)\n",
      "  Using cached nvidia_curand_cu12-10.3.2.106-py3-none-manylinux1_x86_64.whl (56.5 MB)\n",
      "Collecting nvidia-cusolver-cu12==11.4.5.107 (from torch>=1.3->pytorch_tabnet)\n",
      "  Using cached nvidia_cusolver_cu12-11.4.5.107-py3-none-manylinux1_x86_64.whl (124.2 MB)\n",
      "Collecting nvidia-cusparse-cu12==12.1.0.106 (from torch>=1.3->pytorch_tabnet)\n",
      "  Using cached nvidia_cusparse_cu12-12.1.0.106-py3-none-manylinux1_x86_64.whl (196.0 MB)\n",
      "Collecting nvidia-nccl-cu12==2.20.5 (from torch>=1.3->pytorch_tabnet)\n",
      "  Using cached nvidia_nccl_cu12-2.20.5-py3-none-manylinux2014_x86_64.whl (176.2 MB)\n",
      "Collecting nvidia-nvtx-cu12==12.1.105 (from torch>=1.3->pytorch_tabnet)\n",
      "  Using cached nvidia_nvtx_cu12-12.1.105-py3-none-manylinux1_x86_64.whl (99 kB)\n",
      "Requirement already satisfied: triton==2.3.1 in /usr/local/lib/python3.10/dist-packages (from torch>=1.3->pytorch_tabnet) (2.3.1)\n",
      "Collecting nvidia-nvjitlink-cu12 (from nvidia-cusolver-cu12==11.4.5.107->torch>=1.3->pytorch_tabnet)\n",
      "  Downloading nvidia_nvjitlink_cu12-12.5.82-py3-none-manylinux2014_x86_64.whl (21.3 MB)\n",
      "\u001b[2K     \u001b[90m━━━━━━━━━━━━━━━━━━━━━━━━━━━━━━━━━━━━━━━━\u001b[0m \u001b[32m21.3/21.3 MB\u001b[0m \u001b[31m51.4 MB/s\u001b[0m eta \u001b[36m0:00:00\u001b[0m\n",
      "\u001b[?25hRequirement already satisfied: MarkupSafe>=2.0 in /usr/local/lib/python3.10/dist-packages (from jinja2->torch>=1.3->pytorch_tabnet) (2.1.5)\n",
      "Requirement already satisfied: mpmath<1.4,>=1.1.0 in /usr/local/lib/python3.10/dist-packages (from sympy->torch>=1.3->pytorch_tabnet) (1.3.0)\n",
      "Installing collected packages: nvidia-nvtx-cu12, nvidia-nvjitlink-cu12, nvidia-nccl-cu12, nvidia-curand-cu12, nvidia-cufft-cu12, nvidia-cuda-runtime-cu12, nvidia-cuda-nvrtc-cu12, nvidia-cuda-cupti-cu12, nvidia-cublas-cu12, nvidia-cusparse-cu12, nvidia-cudnn-cu12, nvidia-cusolver-cu12, pytorch_tabnet\n",
      "Successfully installed nvidia-cublas-cu12-12.1.3.1 nvidia-cuda-cupti-cu12-12.1.105 nvidia-cuda-nvrtc-cu12-12.1.105 nvidia-cuda-runtime-cu12-12.1.105 nvidia-cudnn-cu12-8.9.2.26 nvidia-cufft-cu12-11.0.2.54 nvidia-curand-cu12-10.3.2.106 nvidia-cusolver-cu12-11.4.5.107 nvidia-cusparse-cu12-12.1.0.106 nvidia-nccl-cu12-2.20.5 nvidia-nvjitlink-cu12-12.5.82 nvidia-nvtx-cu12-12.1.105 pytorch_tabnet-4.1.0\n"
     ]
    }
   ],
   "source": [
    "!pip install pytorch_tabnet"
   ]
  },
  {
   "cell_type": "code",
   "execution_count": 34,
   "metadata": {
    "colab": {
     "base_uri": "https://localhost:8080/",
     "height": 541
    },
    "id": "hXslfP0IlMxY",
    "outputId": "6cb76d3b-cb02-4484-e941-455256a4e87f"
   },
   "outputs": [
    {
     "name": "stderr",
     "output_type": "stream",
     "text": [
      "/usr/local/lib/python3.10/dist-packages/pytorch_tabnet/abstract_model.py:82: UserWarning: Device used : cpu\n",
      "  warnings.warn(f\"Device used : {self.device}\")\n"
     ]
    },
    {
     "name": "stdout",
     "output_type": "stream",
     "text": [
      "epoch 0  | loss: 0.2922  | val_0_accuracy: 0.9592  |  0:00:06s\n",
      "epoch 1  | loss: 0.18019 | val_0_accuracy: 0.9592  |  0:00:14s\n",
      "epoch 2  | loss: 0.17732 | val_0_accuracy: 0.95927 |  0:00:21s\n",
      "epoch 3  | loss: 0.1742  | val_0_accuracy: 0.95927 |  0:00:29s\n",
      "epoch 4  | loss: 0.17214 | val_0_accuracy: 0.95927 |  0:00:35s\n",
      "epoch 5  | loss: 0.17184 | val_0_accuracy: 0.95927 |  0:00:43s\n",
      "epoch 6  | loss: 0.17048 | val_0_accuracy: 0.95927 |  0:00:50s\n",
      "epoch 7  | loss: 0.16877 | val_0_accuracy: 0.95927 |  0:00:58s\n",
      "epoch 8  | loss: 0.16789 | val_0_accuracy: 0.95927 |  0:01:05s\n",
      "epoch 9  | loss: 0.16703 | val_0_accuracy: 0.95927 |  0:01:12s\n",
      "epoch 10 | loss: 0.16603 | val_0_accuracy: 0.95927 |  0:01:19s\n",
      "epoch 11 | loss: 0.16462 | val_0_accuracy: 0.95927 |  0:01:27s\n",
      "epoch 12 | loss: 0.16393 | val_0_accuracy: 0.95927 |  0:01:34s\n",
      "\n",
      "Early stopping occurred at epoch 12 with best_epoch = 2 and best_val_0_accuracy = 0.95927\n"
     ]
    },
    {
     "name": "stderr",
     "output_type": "stream",
     "text": [
      "/usr/local/lib/python3.10/dist-packages/pytorch_tabnet/callbacks.py:172: UserWarning: Best weights from best epoch are automatically used!\n",
      "  warnings.warn(wrn_msg)\n"
     ]
    },
    {
     "ename": "AttributeError",
     "evalue": "'NoneType' object has no attribute 'history'",
     "output_type": "error",
     "traceback": [
      "\u001b[0;31m---------------------------------------------------------------------------\u001b[0m",
      "\u001b[0;31mAttributeError\u001b[0m                            Traceback (most recent call last)",
      "\u001b[0;32m<ipython-input-34-5edfcc6ece3d>\u001b[0m in \u001b[0;36m<cell line: 37>\u001b[0;34m()\u001b[0m\n\u001b[1;32m     35\u001b[0m \u001b[0;34m\u001b[0m\u001b[0m\n\u001b[1;32m     36\u001b[0m \u001b[0;31m# Extract training history\u001b[0m\u001b[0;34m\u001b[0m\u001b[0;34m\u001b[0m\u001b[0m\n\u001b[0;32m---> 37\u001b[0;31m \u001b[0mtrain_losses\u001b[0m \u001b[0;34m=\u001b[0m \u001b[0mhistory\u001b[0m\u001b[0;34m.\u001b[0m\u001b[0mhistory\u001b[0m\u001b[0;34m[\u001b[0m\u001b[0;34m'loss'\u001b[0m\u001b[0;34m]\u001b[0m\u001b[0;34m\u001b[0m\u001b[0;34m\u001b[0m\u001b[0m\n\u001b[0m\u001b[1;32m     38\u001b[0m \u001b[0mval_accuracies\u001b[0m \u001b[0;34m=\u001b[0m \u001b[0mhistory\u001b[0m\u001b[0;34m.\u001b[0m\u001b[0mhistory\u001b[0m\u001b[0;34m[\u001b[0m\u001b[0;34m'val_accuracy'\u001b[0m\u001b[0;34m]\u001b[0m\u001b[0;34m\u001b[0m\u001b[0;34m\u001b[0m\u001b[0m\n\u001b[1;32m     39\u001b[0m \u001b[0;34m\u001b[0m\u001b[0m\n",
      "\u001b[0;31mAttributeError\u001b[0m: 'NoneType' object has no attribute 'history'"
     ]
    }
   ],
   "source": [
    "import numpy as np\n",
    "import pandas as pd\n",
    "from sklearn.metrics import accuracy_score\n",
    "from pytorch_tabnet.tab_model import TabNetClassifier\n",
    "import matplotlib.pyplot as plt\n",
    "\n",
    "# Ensure your data is in numpy array format\n",
    "X_train_np = X_train.values if isinstance(X_train, pd.DataFrame) else X_train\n",
    "X_val_np = X_val.values if isinstance(X_val, pd.DataFrame) else X_val\n",
    "X_test_np = X_test.values if isinstance(X_test, pd.DataFrame) else X_test\n",
    "\n",
    "y_nb_train_np = y_nb_train.values if isinstance(y_nb_train, pd.Series) else y_nb_train\n",
    "y_nb_val_np = y_nb_val.values if isinstance(y_nb_val, pd.Series) else y_nb_val\n",
    "y_nb_test_np = y_nb_test.values if isinstance(y_nb_test, pd.Series) else y_nb_test\n",
    "\n",
    "# Initialize the TabNet model\n",
    "tabnet_model = TabNetClassifier()\n",
    "\n",
    "# Train the model\n",
    "history = tabnet_model.fit(\n",
    "    X_train=X_train_np, y_train=y_nb_train_np,\n",
    "    eval_set=[(X_val_np, y_nb_val_np)],\n",
    "    eval_metric=['accuracy'],\n",
    "    max_epochs=100,\n",
    "    patience=10,\n",
    "    batch_size=1024,\n",
    "    virtual_batch_size=128,\n",
    "    num_workers=0,\n",
    "    drop_last=False\n",
    ")\n",
    "\n",
    "# Evaluate the model on the test set\n",
    "test_preds = tabnet_model.predict(X_test_np)\n",
    "test_accuracy = accuracy_score(y_nb_test_np, test_preds)\n",
    "\n",
    "# Extract training history\n",
    "train_losses = history.history['loss']\n",
    "val_accuracies = history.history['val_accuracy']\n",
    "\n",
    "test_loss = train_losses[-1]  # Assuming the last epoch's loss is the test loss\n",
    "\n",
    "print(f\"Test Loss: {test_loss:.4f}\")\n",
    "print(f\"Test Accuracy: {test_accuracy:.4f}\")\n",
    "\n",
    "# Plot training & validation accuracy values\n",
    "plt.figure(figsize=(12, 4))\n",
    "plt.subplot(1, 2, 1)\n",
    "plt.plot(train_losses)\n",
    "plt.title('Training Loss')\n",
    "plt.ylabel('Loss')\n",
    "plt.xlabel('Epoch')\n",
    "\n",
    "plt.subplot(1, 2, 2)\n",
    "plt.plot(val_accuracies)\n",
    "plt.title('Validation Accuracy')\n",
    "plt.ylabel('Accuracy')\n",
    "plt.xlabel('Epoch')\n",
    "\n",
    "plt.show()\n"
   ]
  },
  {
   "cell_type": "code",
   "execution_count": null,
   "metadata": {
    "id": "M8uAmItns1mC"
   },
   "outputs": [],
   "source": []
  }
 ],
 "metadata": {
  "colab": {
   "authorship_tag": "ABX9TyM730Tw1NqreaI8woT0QlOJ",
   "include_colab_link": true,
   "provenance": []
  },
  "kernelspec": {
   "display_name": "Python 3 (ipykernel)",
   "language": "python",
   "name": "python3"
  },
  "language_info": {
   "codemirror_mode": {
    "name": "ipython",
    "version": 3
   },
   "file_extension": ".py",
   "mimetype": "text/x-python",
   "name": "python",
   "nbconvert_exporter": "python",
   "pygments_lexer": "ipython3",
   "version": "3.10.12"
  }
 },
 "nbformat": 4,
 "nbformat_minor": 4
}
