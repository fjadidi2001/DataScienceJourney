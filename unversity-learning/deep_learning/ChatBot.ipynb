{
  "nbformat": 4,
  "nbformat_minor": 0,
  "metadata": {
    "colab": {
      "provenance": [],
      "authorship_tag": "ABX9TyOwif/kg72x7SU9MEnC8r2H",
      "include_colab_link": true
    },
    "kernelspec": {
      "name": "python3",
      "display_name": "Python 3"
    },
    "language_info": {
      "name": "python"
    }
  },
  "cells": [
    {
      "cell_type": "markdown",
      "metadata": {
        "id": "view-in-github",
        "colab_type": "text"
      },
      "source": [
        "<a href=\"https://colab.research.google.com/github/fjadidi2001/Artificial_Intelligence_Learning/blob/master/ChatBot.ipynb\" target=\"_parent\"><img src=\"https://colab.research.google.com/assets/colab-badge.svg\" alt=\"Open In Colab\"/></a>"
      ]
    },
    {
      "cell_type": "markdown",
      "source": [
        "# Connecting with Google Drive Files and Folders"
      ],
      "metadata": {
        "id": "18k8UnSm63fV"
      }
    },
    {
      "cell_type": "code",
      "execution_count": 1,
      "metadata": {
        "colab": {
          "base_uri": "https://localhost:8080/"
        },
        "id": "wAR5VmbI4tT1",
        "outputId": "ccc064fe-2443-4e68-a3d5-deaf704de73b"
      },
      "outputs": [
        {
          "output_type": "stream",
          "name": "stdout",
          "text": [
            "Mounted at /content/drive\n"
          ]
        }
      ],
      "source": [
        "#mounting the google drive\n",
        "from google.colab import drive\n",
        "drive.mount('/content/drive')\n",
        "data_root='/content/drive/My Drive/Deep learning/ChatBot'"
      ]
    },
    {
      "cell_type": "markdown",
      "source": [
        "# Importing Relevant Libraries"
      ],
      "metadata": {
        "id": "MP1AzSMN6881"
      }
    },
    {
      "cell_type": "code",
      "source": [
        "import json\n",
        "import random\n",
        "import string\n",
        "import nltk\n",
        "import numpy as np\n",
        "from nltk.stem import WordNetLemmatizer\n",
        "import tensorflow as tf\n",
        "from tensorflow.keras import Sequential\n",
        "from tensorflow.keras.layers import Dense, Dropout\n",
        "nltk.download(\"punkt\")\n",
        "nltk.download(\"wordnet\")\n"
      ],
      "metadata": {
        "colab": {
          "base_uri": "https://localhost:8080/"
        },
        "id": "yZc9QFCq60ya",
        "outputId": "5cfb7fda-d4fc-49ca-f038-2fde4446299f"
      },
      "execution_count": 2,
      "outputs": [
        {
          "output_type": "stream",
          "name": "stderr",
          "text": [
            "[nltk_data] Downloading package punkt to /root/nltk_data...\n",
            "[nltk_data]   Unzipping tokenizers/punkt.zip.\n",
            "[nltk_data] Downloading package wordnet to /root/nltk_data...\n"
          ]
        },
        {
          "output_type": "execute_result",
          "data": {
            "text/plain": [
              "True"
            ]
          },
          "metadata": {},
          "execution_count": 2
        }
      ]
    },
    {
      "cell_type": "markdown",
      "source": [
        " the **punkt tokenizer** resource from the Natural Language Toolkit (NLTK) library. The punkt tokenizer is used for tokenizing text, which means breaking it down into individual words or sentences. This resource is commonly used in NLP tasks to help process text data effectively.\n",
        " <br><br>\n",
        "**WordNet** is a lexical database of the English language that is used for various linguistic purposes, such as synonymy, hyponymy, and meronymy. The wordnet resource provides access to a vast collection of words and their relationships, which can be helpful in NLP tasks like word sense disambiguation, semantic analysis, and more."
      ],
      "metadata": {
        "id": "r4JWW82P8w9v"
      }
    },
    {
      "cell_type": "markdown",
      "source": [
        "# Reading the JSON file"
      ],
      "metadata": {
        "id": "Q4agKX5A81V9"
      }
    },
    {
      "cell_type": "code",
      "source": [
        "data_file = open(data_root+'/intents.json').read()\n",
        "data = json.loads(data_file)"
      ],
      "metadata": {
        "id": "vCF8hSVw75yk"
      },
      "execution_count": 3,
      "outputs": []
    },
    {
      "cell_type": "markdown",
      "source": [
        "# Identifying Feature and Target for the NLP Model\n",
        "\n",
        "- The words have been stored in data_X and the corresponding tag to it has been stored in data_Y.\n",
        "- Two more lists: words and classes containing all tokens and corresponding tags have also been created.\n",
        "- For the list words, the punctuations have not been added by using a simple conditional statement and the words have been converted into their root words using NLTK's WordNetLemmatizer().\n",
        "-  At last, both the lists have been sorted and these functions have been used to remove any duplicates.\n"
      ],
      "metadata": {
        "id": "I3JciFFH_Cyw"
      }
    },
    {
      "cell_type": "code",
      "source": [
        "# creating data_X and data_Y\n",
        "words = [] # vocab for pattern\n",
        "classes = [] # vocab for tags\n",
        "data_X = [] # for storing each pattern\n",
        "data_Y = [] # for storing tag corresponding to each pattern in data_X\n",
        "\n",
        "# iterate overall the intents\n",
        "for intent in data[\"intents\"]:\n",
        "  for pattern in intent[\"patterns\"]:\n",
        "    tokens = nltk.word_tokenize(pattern) # tokenize each pattern\n",
        "    words.extend(tokens) # append tokens to word\n",
        "    data_X.append(pattern) # appending pattern to data_X\n",
        "    data_Y.append(intent[\"tag\"]) # appending the associated tag to each pattern\n",
        "\n",
        "\n",
        "    # adding the tag to the classes if it's not there alredy\n",
        "    if intent[\"tag\"] not in classes:\n",
        "      classes.append(intent[\"tag\"])\n",
        "# init lemmatizer to get stem of the words\n",
        "lemmatizer = WordNetLemmatizer()\n",
        "\n",
        "words = [lemmatizer.lemmatize(word.lower()) for word in words if word not in string.punctuation]\n",
        "# sorte alphabetical and sure no duplicated\n",
        "words = sorted(set(words))\n",
        "classes = sorted(set(classes))"
      ],
      "metadata": {
        "id": "rde8i8hq9Umb"
      },
      "execution_count": 8,
      "outputs": []
    },
    {
      "cell_type": "markdown",
      "source": [
        "# Making the data Machine-friendly"
      ],
      "metadata": {
        "id": "nfWIsA-x2MOd"
      }
    },
    {
      "cell_type": "markdown",
      "source": [
        "> we will convert our text into numbers using the bag-of-words (bow) model. Those who are aware of this must-have now understood the significance of the listed words and classes.\n",
        "\n",
        "<br>\n",
        "\n",
        "> The two lists words and classes act as a vocabulary for patterns and tags respectively. We’ll use them to create an array of numbers of size the same as the length of vocabulary lists. The array will have values 1 if the word is present in the pattern/tag being read (from data_X) and 0 if it is absent.\n",
        "The data has thus been converted into numbers and stored in two arrays: train_X and train_Y where the former represents features and the latter represents target variables.\n",
        "\n"
      ],
      "metadata": {
        "id": "lXZ02mJv2XqT"
      }
    },
    {
      "cell_type": "code",
      "source": [
        "# text to number\n",
        "training = []\n",
        "out_empty = [0]*len(classes)\n",
        "# creating the bag of wotds modle\n",
        "\n",
        "for idx, doc in enumerate(data_x):\n",
        "  bow = []\n",
        "  text = lemmatizer.lemmatize(doc.lower())\n",
        "  for word in words:\n",
        "    bow.append(1) if word in text else bow.append(0)\n",
        "    # mark the index of class that the current pattern associated\n",
        "    output_row = list(out_empty)\n",
        "    output_row[classes.index(data_y[idx])] = 1\n",
        "    training.append([bow,output_row])\n",
        "\n",
        "random.shuffle(training)\n",
        "training = np.array(training, dtype=object)\n",
        "# split the features and target labels\n",
        "train_X = np.array(list(training[:,0]))\n",
        "train_Y = np.array(list(training[:,1]))"
      ],
      "metadata": {
        "id": "u74w9t5U10Gt"
      },
      "execution_count": 5,
      "outputs": []
    },
    {
      "cell_type": "markdown",
      "source": [
        "# Building the Neural Network Model"
      ],
      "metadata": {
        "id": "INreNXxKFEx0"
      }
    },
    {
      "cell_type": "code",
      "source": [
        "#6 The Neural Network Model\n",
        "\n",
        "model = Sequential()\n",
        "\n",
        "model.add(Dense(128, input_shape=(len(train_X[0]),), activation=\"relu\"))\n",
        "\n",
        "model.add(Dropout(0.5))\n",
        "\n",
        "model.add(Dense (64, activation=\"relu\"))\n",
        "\n",
        "model.add(Dropout(0.5))\n",
        "\n",
        "model.add(Dense(len(train_Y[0]), activation = \"softmax\"))\n",
        "\n",
        "adam = tf.keras.optimizers.Adam(learning_rate = 0.01, weight_decay= 1e-6)\n",
        "\n",
        "model.compile(loss='categorical_crossentropy',\n",
        "\n",
        "                optimizer = adam,\n",
        "\n",
        "                metrics=[\"accuracy\"])\n",
        "\n",
        "print(model.summary())\n",
        "\n",
        "model.fit(x=train_X, y=train_Y, epochs=150, verbose=1)"
      ],
      "metadata": {
        "colab": {
          "base_uri": "https://localhost:8080/"
        },
        "id": "JtnS3phgCQmz",
        "outputId": "29fcd6db-c7a4-4de8-afae-512486788796"
      },
      "execution_count": 6,
      "outputs": [
        {
          "output_type": "stream",
          "name": "stdout",
          "text": [
            "Model: \"sequential\"\n",
            "_________________________________________________________________\n",
            " Layer (type)                Output Shape              Param #   \n",
            "=================================================================\n",
            " dense (Dense)               (None, 128)               7552      \n",
            "                                                                 \n",
            " dropout (Dropout)           (None, 128)               0         \n",
            "                                                                 \n",
            " dense_1 (Dense)             (None, 64)                8256      \n",
            "                                                                 \n",
            " dropout_1 (Dropout)         (None, 64)                0         \n",
            "                                                                 \n",
            " dense_2 (Dense)             (None, 15)                975       \n",
            "                                                                 \n",
            "=================================================================\n",
            "Total params: 16783 (65.56 KB)\n",
            "Trainable params: 16783 (65.56 KB)\n",
            "Non-trainable params: 0 (0.00 Byte)\n",
            "_________________________________________________________________\n",
            "None\n",
            "Epoch 1/150\n",
            "75/75 [==============================] - 2s 5ms/step - loss: 0.8235 - accuracy: 0.7473\n",
            "Epoch 2/150\n",
            "75/75 [==============================] - 0s 4ms/step - loss: 0.1290 - accuracy: 0.9546\n",
            "Epoch 3/150\n",
            "75/75 [==============================] - 0s 4ms/step - loss: 0.0884 - accuracy: 0.9617\n",
            "Epoch 4/150\n",
            "75/75 [==============================] - 0s 5ms/step - loss: 0.0826 - accuracy: 0.9613\n",
            "Epoch 5/150\n",
            "75/75 [==============================] - 0s 3ms/step - loss: 0.0661 - accuracy: 0.9685\n",
            "Epoch 6/150\n",
            "75/75 [==============================] - 0s 3ms/step - loss: 0.0736 - accuracy: 0.9609\n",
            "Epoch 7/150\n",
            "75/75 [==============================] - 0s 2ms/step - loss: 0.0709 - accuracy: 0.9617\n",
            "Epoch 8/150\n",
            "75/75 [==============================] - 0s 2ms/step - loss: 0.0915 - accuracy: 0.9605\n",
            "Epoch 9/150\n",
            "75/75 [==============================] - 0s 2ms/step - loss: 0.0763 - accuracy: 0.9655\n",
            "Epoch 10/150\n",
            "75/75 [==============================] - 0s 2ms/step - loss: 0.0735 - accuracy: 0.9672\n",
            "Epoch 11/150\n",
            "75/75 [==============================] - 0s 2ms/step - loss: 0.0761 - accuracy: 0.9584\n",
            "Epoch 12/150\n",
            "75/75 [==============================] - 0s 3ms/step - loss: 0.0659 - accuracy: 0.9655\n",
            "Epoch 13/150\n",
            "75/75 [==============================] - 0s 3ms/step - loss: 0.0652 - accuracy: 0.9672\n",
            "Epoch 14/150\n",
            "75/75 [==============================] - 0s 2ms/step - loss: 0.0805 - accuracy: 0.9634\n",
            "Epoch 15/150\n",
            "75/75 [==============================] - 0s 2ms/step - loss: 0.1005 - accuracy: 0.9647\n",
            "Epoch 16/150\n",
            "75/75 [==============================] - 0s 3ms/step - loss: 0.0908 - accuracy: 0.9609\n",
            "Epoch 17/150\n",
            "75/75 [==============================] - 0s 3ms/step - loss: 0.0748 - accuracy: 0.9701\n",
            "Epoch 18/150\n",
            "75/75 [==============================] - 0s 3ms/step - loss: 0.0762 - accuracy: 0.9554\n",
            "Epoch 19/150\n",
            "75/75 [==============================] - 0s 3ms/step - loss: 0.0844 - accuracy: 0.9659\n",
            "Epoch 20/150\n",
            "75/75 [==============================] - 0s 3ms/step - loss: 0.0499 - accuracy: 0.9680\n",
            "Epoch 21/150\n",
            "75/75 [==============================] - 0s 3ms/step - loss: 0.0723 - accuracy: 0.9689\n",
            "Epoch 22/150\n",
            "75/75 [==============================] - 0s 3ms/step - loss: 0.0613 - accuracy: 0.9739\n",
            "Epoch 23/150\n",
            "75/75 [==============================] - 0s 3ms/step - loss: 0.0904 - accuracy: 0.9655\n",
            "Epoch 24/150\n",
            "75/75 [==============================] - 0s 3ms/step - loss: 0.1291 - accuracy: 0.9537\n",
            "Epoch 25/150\n",
            "75/75 [==============================] - 0s 3ms/step - loss: 0.1328 - accuracy: 0.9592\n",
            "Epoch 26/150\n",
            "75/75 [==============================] - 0s 3ms/step - loss: 0.0925 - accuracy: 0.9655\n",
            "Epoch 27/150\n",
            "75/75 [==============================] - 0s 3ms/step - loss: 0.0760 - accuracy: 0.9693\n",
            "Epoch 28/150\n",
            "75/75 [==============================] - 0s 3ms/step - loss: 0.0932 - accuracy: 0.9638\n",
            "Epoch 29/150\n",
            "75/75 [==============================] - 0s 3ms/step - loss: 0.0836 - accuracy: 0.9676\n",
            "Epoch 30/150\n",
            "75/75 [==============================] - 0s 2ms/step - loss: 0.0941 - accuracy: 0.9643\n",
            "Epoch 31/150\n",
            "75/75 [==============================] - 0s 2ms/step - loss: 0.0939 - accuracy: 0.9697\n",
            "Epoch 32/150\n",
            "75/75 [==============================] - 0s 3ms/step - loss: 0.0680 - accuracy: 0.9668\n",
            "Epoch 33/150\n",
            "75/75 [==============================] - 0s 2ms/step - loss: 0.0765 - accuracy: 0.9659\n",
            "Epoch 34/150\n",
            "75/75 [==============================] - 0s 2ms/step - loss: 0.0649 - accuracy: 0.9693\n",
            "Epoch 35/150\n",
            "75/75 [==============================] - 0s 2ms/step - loss: 0.0738 - accuracy: 0.9630\n",
            "Epoch 36/150\n",
            "75/75 [==============================] - 0s 2ms/step - loss: 0.0575 - accuracy: 0.9697\n",
            "Epoch 37/150\n",
            "75/75 [==============================] - 0s 2ms/step - loss: 0.0919 - accuracy: 0.9668\n",
            "Epoch 38/150\n",
            "75/75 [==============================] - 0s 2ms/step - loss: 0.0722 - accuracy: 0.9651\n",
            "Epoch 39/150\n",
            "75/75 [==============================] - 0s 2ms/step - loss: 0.0931 - accuracy: 0.9634\n",
            "Epoch 40/150\n",
            "75/75 [==============================] - 0s 2ms/step - loss: 0.0906 - accuracy: 0.9672\n",
            "Epoch 41/150\n",
            "75/75 [==============================] - 0s 2ms/step - loss: 0.0826 - accuracy: 0.9643\n",
            "Epoch 42/150\n",
            "75/75 [==============================] - 0s 3ms/step - loss: 0.0816 - accuracy: 0.9643\n",
            "Epoch 43/150\n",
            "75/75 [==============================] - 0s 3ms/step - loss: 0.0875 - accuracy: 0.9676\n",
            "Epoch 44/150\n",
            "75/75 [==============================] - 0s 3ms/step - loss: 0.0940 - accuracy: 0.9664\n",
            "Epoch 45/150\n",
            "75/75 [==============================] - 0s 2ms/step - loss: 0.0838 - accuracy: 0.9706\n",
            "Epoch 46/150\n",
            "75/75 [==============================] - 0s 2ms/step - loss: 0.1032 - accuracy: 0.9676\n",
            "Epoch 47/150\n",
            "75/75 [==============================] - 0s 2ms/step - loss: 0.0616 - accuracy: 0.9668\n",
            "Epoch 48/150\n",
            "75/75 [==============================] - 0s 3ms/step - loss: 0.0690 - accuracy: 0.9760\n",
            "Epoch 49/150\n",
            "75/75 [==============================] - 0s 2ms/step - loss: 0.0737 - accuracy: 0.9617\n",
            "Epoch 50/150\n",
            "75/75 [==============================] - 0s 2ms/step - loss: 0.0757 - accuracy: 0.9655\n",
            "Epoch 51/150\n",
            "75/75 [==============================] - 0s 3ms/step - loss: 0.0608 - accuracy: 0.9706\n",
            "Epoch 52/150\n",
            "75/75 [==============================] - 0s 2ms/step - loss: 0.0686 - accuracy: 0.9685\n",
            "Epoch 53/150\n",
            "75/75 [==============================] - 0s 3ms/step - loss: 0.0860 - accuracy: 0.9689\n",
            "Epoch 54/150\n",
            "75/75 [==============================] - 0s 3ms/step - loss: 0.0687 - accuracy: 0.9701\n",
            "Epoch 55/150\n",
            "75/75 [==============================] - 0s 2ms/step - loss: 0.0724 - accuracy: 0.9676\n",
            "Epoch 56/150\n",
            "75/75 [==============================] - 0s 4ms/step - loss: 0.0804 - accuracy: 0.9659\n",
            "Epoch 57/150\n",
            "75/75 [==============================] - 0s 4ms/step - loss: 0.1137 - accuracy: 0.9689\n",
            "Epoch 58/150\n",
            "75/75 [==============================] - 0s 4ms/step - loss: 0.0777 - accuracy: 0.9672\n",
            "Epoch 59/150\n",
            "75/75 [==============================] - 0s 4ms/step - loss: 0.0736 - accuracy: 0.9685\n",
            "Epoch 60/150\n",
            "75/75 [==============================] - 0s 4ms/step - loss: 0.0633 - accuracy: 0.9722\n",
            "Epoch 61/150\n",
            "75/75 [==============================] - 0s 4ms/step - loss: 0.0633 - accuracy: 0.9727\n",
            "Epoch 62/150\n",
            "75/75 [==============================] - 0s 4ms/step - loss: 0.1017 - accuracy: 0.9701\n",
            "Epoch 63/150\n",
            "75/75 [==============================] - 0s 4ms/step - loss: 0.0839 - accuracy: 0.9706\n",
            "Epoch 64/150\n",
            "75/75 [==============================] - 0s 4ms/step - loss: 0.0653 - accuracy: 0.9659\n",
            "Epoch 65/150\n",
            "75/75 [==============================] - 0s 4ms/step - loss: 0.0527 - accuracy: 0.9701\n",
            "Epoch 66/150\n",
            "75/75 [==============================] - 0s 4ms/step - loss: 0.0787 - accuracy: 0.9689\n",
            "Epoch 67/150\n",
            "75/75 [==============================] - 0s 4ms/step - loss: 0.0899 - accuracy: 0.9643\n",
            "Epoch 68/150\n",
            "75/75 [==============================] - 0s 4ms/step - loss: 0.0603 - accuracy: 0.9701\n",
            "Epoch 69/150\n",
            "75/75 [==============================] - 0s 4ms/step - loss: 0.0863 - accuracy: 0.9659\n",
            "Epoch 70/150\n",
            "75/75 [==============================] - 0s 4ms/step - loss: 0.0983 - accuracy: 0.9685\n",
            "Epoch 71/150\n",
            "75/75 [==============================] - 0s 5ms/step - loss: 0.0853 - accuracy: 0.9676\n",
            "Epoch 72/150\n",
            "75/75 [==============================] - 0s 4ms/step - loss: 0.0842 - accuracy: 0.9672\n",
            "Epoch 73/150\n",
            "75/75 [==============================] - 0s 2ms/step - loss: 0.0664 - accuracy: 0.9718\n",
            "Epoch 74/150\n",
            "75/75 [==============================] - 0s 3ms/step - loss: 0.0868 - accuracy: 0.9664\n",
            "Epoch 75/150\n",
            "75/75 [==============================] - 0s 2ms/step - loss: 0.0797 - accuracy: 0.9697\n",
            "Epoch 76/150\n",
            "75/75 [==============================] - 0s 3ms/step - loss: 0.0441 - accuracy: 0.9706\n",
            "Epoch 77/150\n",
            "75/75 [==============================] - 0s 2ms/step - loss: 0.0656 - accuracy: 0.9710\n",
            "Epoch 78/150\n",
            "75/75 [==============================] - 0s 2ms/step - loss: 0.1051 - accuracy: 0.9655\n",
            "Epoch 79/150\n",
            "75/75 [==============================] - 0s 3ms/step - loss: 0.0844 - accuracy: 0.9676\n",
            "Epoch 80/150\n",
            "75/75 [==============================] - 0s 2ms/step - loss: 0.0751 - accuracy: 0.9693\n",
            "Epoch 81/150\n",
            "75/75 [==============================] - 0s 3ms/step - loss: 0.0961 - accuracy: 0.9693\n",
            "Epoch 82/150\n",
            "75/75 [==============================] - 0s 3ms/step - loss: 0.0960 - accuracy: 0.9672\n",
            "Epoch 83/150\n",
            "75/75 [==============================] - 0s 3ms/step - loss: 0.0697 - accuracy: 0.9701\n",
            "Epoch 84/150\n",
            "75/75 [==============================] - 0s 2ms/step - loss: 0.0865 - accuracy: 0.9647\n",
            "Epoch 85/150\n",
            "75/75 [==============================] - 0s 2ms/step - loss: 0.0861 - accuracy: 0.9634\n",
            "Epoch 86/150\n",
            "75/75 [==============================] - 0s 3ms/step - loss: 0.1035 - accuracy: 0.9680\n",
            "Epoch 87/150\n",
            "75/75 [==============================] - 0s 2ms/step - loss: 0.0761 - accuracy: 0.9693\n",
            "Epoch 88/150\n",
            "75/75 [==============================] - 0s 2ms/step - loss: 0.0772 - accuracy: 0.9701\n",
            "Epoch 89/150\n",
            "75/75 [==============================] - 0s 2ms/step - loss: 0.0941 - accuracy: 0.9680\n",
            "Epoch 90/150\n",
            "75/75 [==============================] - 0s 2ms/step - loss: 0.0777 - accuracy: 0.9722\n",
            "Epoch 91/150\n",
            "75/75 [==============================] - 0s 3ms/step - loss: 0.0630 - accuracy: 0.9659\n",
            "Epoch 92/150\n",
            "75/75 [==============================] - 0s 3ms/step - loss: 0.0898 - accuracy: 0.9664\n",
            "Epoch 93/150\n",
            "75/75 [==============================] - 0s 2ms/step - loss: 0.0809 - accuracy: 0.9701\n",
            "Epoch 94/150\n",
            "75/75 [==============================] - 0s 2ms/step - loss: 0.0634 - accuracy: 0.9697\n",
            "Epoch 95/150\n",
            "75/75 [==============================] - 0s 3ms/step - loss: 0.0735 - accuracy: 0.9685\n",
            "Epoch 96/150\n",
            "75/75 [==============================] - 0s 2ms/step - loss: 0.0926 - accuracy: 0.9664\n",
            "Epoch 97/150\n",
            "75/75 [==============================] - 0s 3ms/step - loss: 0.0737 - accuracy: 0.9672\n",
            "Epoch 98/150\n",
            "75/75 [==============================] - 0s 2ms/step - loss: 0.1027 - accuracy: 0.9664\n",
            "Epoch 99/150\n",
            "75/75 [==============================] - 0s 3ms/step - loss: 0.0834 - accuracy: 0.9689\n",
            "Epoch 100/150\n",
            "75/75 [==============================] - 0s 2ms/step - loss: 0.0866 - accuracy: 0.9722\n",
            "Epoch 101/150\n",
            "75/75 [==============================] - 0s 2ms/step - loss: 0.0859 - accuracy: 0.9701\n",
            "Epoch 102/150\n",
            "75/75 [==============================] - 0s 3ms/step - loss: 0.0706 - accuracy: 0.9701\n",
            "Epoch 103/150\n",
            "75/75 [==============================] - 0s 2ms/step - loss: 0.0775 - accuracy: 0.9685\n",
            "Epoch 104/150\n",
            "75/75 [==============================] - 0s 2ms/step - loss: 0.0831 - accuracy: 0.9689\n",
            "Epoch 105/150\n",
            "75/75 [==============================] - 0s 3ms/step - loss: 0.1000 - accuracy: 0.9659\n",
            "Epoch 106/150\n",
            "75/75 [==============================] - 0s 3ms/step - loss: 0.0828 - accuracy: 0.9659\n",
            "Epoch 107/150\n",
            "75/75 [==============================] - 0s 3ms/step - loss: 0.0687 - accuracy: 0.9701\n",
            "Epoch 108/150\n",
            "75/75 [==============================] - 0s 3ms/step - loss: 0.0615 - accuracy: 0.9701\n",
            "Epoch 109/150\n",
            "75/75 [==============================] - 0s 3ms/step - loss: 0.0812 - accuracy: 0.9697\n",
            "Epoch 110/150\n",
            "75/75 [==============================] - 0s 2ms/step - loss: 0.0663 - accuracy: 0.9706\n",
            "Epoch 111/150\n",
            "75/75 [==============================] - 0s 2ms/step - loss: 0.0868 - accuracy: 0.9735\n",
            "Epoch 112/150\n",
            "75/75 [==============================] - 0s 2ms/step - loss: 0.0671 - accuracy: 0.9659\n",
            "Epoch 113/150\n",
            "75/75 [==============================] - 0s 3ms/step - loss: 0.0669 - accuracy: 0.9697\n",
            "Epoch 114/150\n",
            "75/75 [==============================] - 0s 2ms/step - loss: 0.1104 - accuracy: 0.9676\n",
            "Epoch 115/150\n",
            "75/75 [==============================] - 0s 3ms/step - loss: 0.0991 - accuracy: 0.9689\n",
            "Epoch 116/150\n",
            "75/75 [==============================] - 0s 3ms/step - loss: 0.0808 - accuracy: 0.9718\n",
            "Epoch 117/150\n",
            "75/75 [==============================] - 0s 2ms/step - loss: 0.0513 - accuracy: 0.9693\n",
            "Epoch 118/150\n",
            "75/75 [==============================] - 0s 3ms/step - loss: 0.0753 - accuracy: 0.9689\n",
            "Epoch 119/150\n",
            "75/75 [==============================] - 0s 2ms/step - loss: 0.1014 - accuracy: 0.9685\n",
            "Epoch 120/150\n",
            "75/75 [==============================] - 0s 2ms/step - loss: 0.1112 - accuracy: 0.9685\n",
            "Epoch 121/150\n",
            "75/75 [==============================] - 0s 2ms/step - loss: 0.0841 - accuracy: 0.9672\n",
            "Epoch 122/150\n",
            "75/75 [==============================] - 0s 3ms/step - loss: 0.0861 - accuracy: 0.9731\n",
            "Epoch 123/150\n",
            "75/75 [==============================] - 0s 3ms/step - loss: 0.0680 - accuracy: 0.9697\n",
            "Epoch 124/150\n",
            "75/75 [==============================] - 0s 4ms/step - loss: 0.0633 - accuracy: 0.9664\n",
            "Epoch 125/150\n",
            "75/75 [==============================] - 0s 4ms/step - loss: 0.0659 - accuracy: 0.9693\n",
            "Epoch 126/150\n",
            "75/75 [==============================] - 0s 4ms/step - loss: 0.0760 - accuracy: 0.9735\n",
            "Epoch 127/150\n",
            "75/75 [==============================] - 0s 4ms/step - loss: 0.0638 - accuracy: 0.9722\n",
            "Epoch 128/150\n",
            "75/75 [==============================] - 0s 4ms/step - loss: 0.0636 - accuracy: 0.9706\n",
            "Epoch 129/150\n",
            "75/75 [==============================] - 0s 4ms/step - loss: 0.0859 - accuracy: 0.9676\n",
            "Epoch 130/150\n",
            "75/75 [==============================] - 0s 4ms/step - loss: 0.0614 - accuracy: 0.9680\n",
            "Epoch 131/150\n",
            "75/75 [==============================] - 0s 4ms/step - loss: 0.0833 - accuracy: 0.9706\n",
            "Epoch 132/150\n",
            "75/75 [==============================] - 0s 4ms/step - loss: 0.0811 - accuracy: 0.9668\n",
            "Epoch 133/150\n",
            "75/75 [==============================] - 0s 4ms/step - loss: 0.0627 - accuracy: 0.9701\n",
            "Epoch 134/150\n",
            "75/75 [==============================] - 0s 4ms/step - loss: 0.0901 - accuracy: 0.9693\n",
            "Epoch 135/150\n",
            "75/75 [==============================] - 0s 4ms/step - loss: 0.0619 - accuracy: 0.9760\n",
            "Epoch 136/150\n",
            "75/75 [==============================] - 0s 4ms/step - loss: 0.0683 - accuracy: 0.9685\n",
            "Epoch 137/150\n",
            "75/75 [==============================] - 0s 5ms/step - loss: 0.0893 - accuracy: 0.9693\n",
            "Epoch 138/150\n",
            "75/75 [==============================] - 0s 4ms/step - loss: 0.1077 - accuracy: 0.9655\n",
            "Epoch 139/150\n",
            "75/75 [==============================] - 0s 4ms/step - loss: 0.1077 - accuracy: 0.9638\n",
            "Epoch 140/150\n",
            "75/75 [==============================] - 0s 4ms/step - loss: 0.0883 - accuracy: 0.9672\n",
            "Epoch 141/150\n",
            "75/75 [==============================] - 0s 4ms/step - loss: 0.0999 - accuracy: 0.9689\n",
            "Epoch 142/150\n",
            "75/75 [==============================] - 0s 4ms/step - loss: 0.0693 - accuracy: 0.9693\n",
            "Epoch 143/150\n",
            "75/75 [==============================] - 0s 3ms/step - loss: 0.1490 - accuracy: 0.9655\n",
            "Epoch 144/150\n",
            "75/75 [==============================] - 0s 2ms/step - loss: 0.0593 - accuracy: 0.9693\n",
            "Epoch 145/150\n",
            "75/75 [==============================] - 0s 3ms/step - loss: 0.0885 - accuracy: 0.9727\n",
            "Epoch 146/150\n",
            "75/75 [==============================] - 0s 2ms/step - loss: 0.0970 - accuracy: 0.9689\n",
            "Epoch 147/150\n",
            "75/75 [==============================] - 0s 2ms/step - loss: 0.0635 - accuracy: 0.9701\n",
            "Epoch 148/150\n",
            "75/75 [==============================] - 0s 2ms/step - loss: 0.0751 - accuracy: 0.9689\n",
            "Epoch 149/150\n",
            "75/75 [==============================] - 0s 2ms/step - loss: 0.1322 - accuracy: 0.9655\n",
            "Epoch 150/150\n",
            "75/75 [==============================] - 0s 3ms/step - loss: 0.0896 - accuracy: 0.9685\n"
          ]
        },
        {
          "output_type": "execute_result",
          "data": {
            "text/plain": [
              "<keras.src.callbacks.History at 0x79aa204aab30>"
            ]
          },
          "metadata": {},
          "execution_count": 6
        }
      ]
    },
    {
      "cell_type": "code",
      "source": [
        "#7 Preprocessing the Input\n",
        "\n",
        "def clean text(text):\n",
        "\n",
        "  tokens nitk.word tokenize(text)\n",
        "\n",
        "  tokens [lemmatizer.lemmatize(word) for word in tokens]\n",
        "\n",
        "  return tokens\n",
        "\n",
        "def bag of words(text, vocab):\n",
        "\n",
        "tokens clean text(text)\n",
        "\n",
        "bow [e] len(vocab)\n",
        "\n",
        "for win tokens:\n",
        "\n",
        "for idx, word in enumerate (vocab):\n",
        "\n",
        "if word\n",
        "\n",
        "bow[idx]-1\n",
        "\n",
        "return np.array (Dow)\n",
        "\n",
        "def pred class(text, vocab, labels):\n",
        "\n",
        "bowbag of words (text, vocab)\n",
        "\n",
        "result model.predict(np.array([bow]))[0] Extracting probabilities\n",
        "\n",
        "thresh 8.5\n",
        "\n",
        "y pred [[Indx, res] for inax, res in enumerate(result) if res> thresh]\n",
        "\n",
        "ypred.sort(key-lamuda xx[1], reverse true) sorting by values of probability in decreasing order\n",
        "\n",
        "return list[]\n",
        "\n",
        "for in pred\n",
        "\n",
        "return list,spend(lanels[r[0]]) Contains labels (tags) for highest probability\n",
        "\n",
        "return return list\n",
        "\n",
        "der get response intents, list, Intents son):\n",
        "\n",
        "Len(intents list)\n",
        "\n",
        "result \"Sorry don't understand.\n",
        "\n",
        "tag Intents_list[0]\n",
        "\n",
        "List of Intents Intents json[\"intents\"!\n",
        "\n",
        "foniin listjef, Intents:\n",
        "\n",
        "result-ranson.choice(\"responses13)\n",
        "\n",
        "return result\n",
        "\n"
      ],
      "metadata": {
        "id": "IfaEPpxUCVSA",
        "colab": {
          "base_uri": "https://localhost:8080/",
          "height": 106
        },
        "outputId": "8dffe504-f7c3-43a8-b8eb-b7730c7fa508"
      },
      "execution_count": 7,
      "outputs": [
        {
          "output_type": "error",
          "ename": "SyntaxError",
          "evalue": "unmatched ')' (<ipython-input-7-84e7f71f7cf8>, line 47)",
          "traceback": [
            "\u001b[0;36m  File \u001b[0;32m\"<ipython-input-7-84e7f71f7cf8>\"\u001b[0;36m, line \u001b[0;32m47\u001b[0m\n\u001b[0;31m    der get response intents, list, Intents son):\u001b[0m\n\u001b[0m                                               ^\u001b[0m\n\u001b[0;31mSyntaxError\u001b[0m\u001b[0;31m:\u001b[0m unmatched ')'\n"
          ]
        }
      ]
    },
    {
      "cell_type": "code",
      "source": [
        "\n",
        "def clean_text(text):\n",
        "    tokens = nltk.word_tokenize(text)\n",
        "    tokens = [lemmatizer.lemmatize(word) for word in tokens]\n",
        "    return tokens\n",
        "\n",
        "def bag_of_words(text, vocab):\n",
        "    tokens = clean_text(text)\n",
        "    bow = [0] * len(vocab)\n",
        "    for w in tokens:\n",
        "        for idx, word in enumerate(vocab):\n",
        "            if word == w:\n",
        "                bow[idx] = 1\n",
        "    return np.array(bow)\n",
        "\n",
        "def pred_class(text, vocab, labels):\n",
        "    bow = bag_of_words(text, vocab)\n",
        "    result = model.predict(np.array([bow]))[0]\n",
        "    thresh = 0.85\n",
        "    y_pred = [[idx, res] for idx, res in enumerate(result) if res > thresh]\n",
        "    y_pred.sort(key=lambda x: x[1], reverse=True)\n",
        "    return_list = []\n",
        "    for r in y_pred:\n",
        "        return_list.append(labels[r[0]])\n",
        "    return return_list\n",
        "\n",
        "def get_response(intents_list, intents_json):\n",
        "    tag = intents_list[0]\n",
        "    list_of_intents = intents_json['intents']\n",
        "    for i in list_of_intents:\n",
        "        if i['tag'] == tag:\n",
        "            result = random.choice(i['responses'])\n",
        "            break\n",
        "    else:\n",
        "        result = \"Sorry, I didn't understand.\"\n",
        "    return result"
      ],
      "metadata": {
        "id": "ukAOBG8ZHMlO"
      },
      "execution_count": null,
      "outputs": []
    },
    {
      "cell_type": "code",
      "source": [
        "#8 Interacting with the chatbot\n",
        "\n",
        "print(\"Press O if you don't want to chat with our ChatBot.\")\n",
        "\n",
        "while True:\n",
        "\n",
        "  message = input(\"\")\n",
        "\n",
        "  if message == \"0\":\n",
        "\n",
        "    break\n",
        "\n",
        "intents = pred_class(message, words, classes)\n",
        "\n",
        "result = get_response(intents, data)\n",
        "\n",
        "print(result)"
      ],
      "metadata": {
        "id": "trkJnDaTCWze"
      },
      "execution_count": null,
      "outputs": []
    }
  ]
}