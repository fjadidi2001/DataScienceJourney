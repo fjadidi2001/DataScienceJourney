{
  "nbformat": 4,
  "nbformat_minor": 0,
  "metadata": {
    "colab": {
      "provenance": [],
      "authorship_tag": "ABX9TyNmHpB+h8Ua73JTC8IP/RTK",
      "include_colab_link": true
    },
    "kernelspec": {
      "name": "python3",
      "display_name": "Python 3"
    },
    "language_info": {
      "name": "python"
    }
  },
  "cells": [
    {
      "cell_type": "markdown",
      "metadata": {
        "id": "view-in-github",
        "colab_type": "text"
      },
      "source": [
        "<a href=\"https://colab.research.google.com/github/fjadidi2001/Artificial_Intelligence_Learning/blob/master/Mnist.ipynb\" target=\"_parent\"><img src=\"https://colab.research.google.com/assets/colab-badge.svg\" alt=\"Open In Colab\"/></a>"
      ]
    },
    {
      "cell_type": "code",
      "execution_count": 1,
      "metadata": {
        "colab": {
          "base_uri": "https://localhost:8080/"
        },
        "id": "USEnZVPMdMzj",
        "outputId": "e6b9e703-52d8-4b3d-8b15-165bd237e9c7"
      },
      "outputs": [
        {
          "output_type": "stream",
          "name": "stdout",
          "text": [
            "Downloading http://yann.lecun.com/exdb/mnist/train-images-idx3-ubyte.gz\n",
            "Downloading http://yann.lecun.com/exdb/mnist/train-images-idx3-ubyte.gz to ./mnist/MNIST/raw/train-images-idx3-ubyte.gz\n"
          ]
        },
        {
          "output_type": "stream",
          "name": "stderr",
          "text": [
            "100%|██████████| 9912422/9912422 [00:00<00:00, 77148497.87it/s]\n"
          ]
        },
        {
          "output_type": "stream",
          "name": "stdout",
          "text": [
            "Extracting ./mnist/MNIST/raw/train-images-idx3-ubyte.gz to ./mnist/MNIST/raw\n",
            "\n",
            "Downloading http://yann.lecun.com/exdb/mnist/train-labels-idx1-ubyte.gz\n",
            "Downloading http://yann.lecun.com/exdb/mnist/train-labels-idx1-ubyte.gz to ./mnist/MNIST/raw/train-labels-idx1-ubyte.gz\n"
          ]
        },
        {
          "output_type": "stream",
          "name": "stderr",
          "text": [
            "100%|██████████| 28881/28881 [00:00<00:00, 5209913.29it/s]"
          ]
        },
        {
          "output_type": "stream",
          "name": "stdout",
          "text": [
            "Extracting ./mnist/MNIST/raw/train-labels-idx1-ubyte.gz to ./mnist/MNIST/raw\n",
            "\n",
            "Downloading http://yann.lecun.com/exdb/mnist/t10k-images-idx3-ubyte.gz\n",
            "Downloading http://yann.lecun.com/exdb/mnist/t10k-images-idx3-ubyte.gz to ./mnist/MNIST/raw/t10k-images-idx3-ubyte.gz\n"
          ]
        },
        {
          "output_type": "stream",
          "name": "stderr",
          "text": [
            "\n",
            "100%|██████████| 1648877/1648877 [00:00<00:00, 27471266.72it/s]\n"
          ]
        },
        {
          "output_type": "stream",
          "name": "stdout",
          "text": [
            "Extracting ./mnist/MNIST/raw/t10k-images-idx3-ubyte.gz to ./mnist/MNIST/raw\n",
            "\n",
            "Downloading http://yann.lecun.com/exdb/mnist/t10k-labels-idx1-ubyte.gz\n",
            "Downloading http://yann.lecun.com/exdb/mnist/t10k-labels-idx1-ubyte.gz to ./mnist/MNIST/raw/t10k-labels-idx1-ubyte.gz\n"
          ]
        },
        {
          "output_type": "stream",
          "name": "stderr",
          "text": [
            "100%|██████████| 4542/4542 [00:00<00:00, 1049037.93it/s]\n"
          ]
        },
        {
          "output_type": "stream",
          "name": "stdout",
          "text": [
            "Extracting ./mnist/MNIST/raw/t10k-labels-idx1-ubyte.gz to ./mnist/MNIST/raw\n",
            "\n"
          ]
        },
        {
          "output_type": "stream",
          "name": "stderr",
          "text": [
            "/usr/local/lib/python3.10/dist-packages/torchvision/datasets/mnist.py:75: UserWarning: train_data has been renamed data\n",
            "  warnings.warn(\"train_data has been renamed data\")\n",
            "/usr/local/lib/python3.10/dist-packages/torchvision/datasets/mnist.py:65: UserWarning: train_labels has been renamed targets\n",
            "  warnings.warn(\"train_labels has been renamed targets\")\n",
            "/usr/local/lib/python3.10/dist-packages/torchvision/datasets/mnist.py:80: UserWarning: test_data has been renamed data\n",
            "  warnings.warn(\"test_data has been renamed data\")\n",
            "/usr/local/lib/python3.10/dist-packages/torchvision/datasets/mnist.py:70: UserWarning: test_labels has been renamed targets\n",
            "  warnings.warn(\"test_labels has been renamed targets\")\n"
          ]
        },
        {
          "output_type": "stream",
          "name": "stdout",
          "text": [
            "torch.Size([60000, 28, 28])\n",
            "torch.Size([60000])\n",
            "CNN(\n",
            "  (conv1): Sequential(\n",
            "    (0): Conv2d(1, 16, kernel_size=(5, 5), stride=(1, 1), padding=(2, 2))\n",
            "    (1): ReLU()\n",
            "    (2): MaxPool2d(kernel_size=2, stride=2, padding=0, dilation=1, ceil_mode=False)\n",
            "  )\n",
            "  (conv2): Sequential(\n",
            "    (0): Conv2d(16, 32, kernel_size=(5, 5), stride=(1, 1), padding=(2, 2))\n",
            "    (1): ReLU()\n",
            "    (2): MaxPool2d(kernel_size=2, stride=2, padding=0, dilation=1, ceil_mode=False)\n",
            "  )\n",
            "  (out): Linear(in_features=1568, out_features=10, bias=True)\n",
            ")\n",
            "Epoch:  0 | train loss: 2.2920 | test accuracy: 0.12\n",
            "Epoch:  0 | train loss: 0.4739 | test accuracy: 0.83\n",
            "Epoch:  0 | train loss: 0.4022 | test accuracy: 0.89\n",
            "Epoch:  0 | train loss: 0.1800 | test accuracy: 0.92\n",
            "Epoch:  0 | train loss: 0.4011 | test accuracy: 0.92\n",
            "Epoch:  0 | train loss: 0.2381 | test accuracy: 0.95\n",
            "Epoch:  0 | train loss: 0.1284 | test accuracy: 0.95\n",
            "Epoch:  0 | train loss: 0.3919 | test accuracy: 0.95\n",
            "Epoch:  0 | train loss: 0.0378 | test accuracy: 0.96\n",
            "Epoch:  0 | train loss: 0.1743 | test accuracy: 0.96\n",
            "Epoch:  0 | train loss: 0.0805 | test accuracy: 0.96\n",
            "Epoch:  0 | train loss: 0.0618 | test accuracy: 0.97\n",
            "Epoch:  0 | train loss: 0.1201 | test accuracy: 0.96\n",
            "Epoch:  0 | train loss: 0.0407 | test accuracy: 0.96\n",
            "Epoch:  0 | train loss: 0.0489 | test accuracy: 0.97\n",
            "Epoch:  0 | train loss: 0.0896 | test accuracy: 0.97\n",
            "Epoch:  0 | train loss: 0.0363 | test accuracy: 0.96\n",
            "Epoch:  0 | train loss: 0.0451 | test accuracy: 0.98\n",
            "Epoch:  0 | train loss: 0.0339 | test accuracy: 0.97\n",
            "Epoch:  0 | train loss: 0.0256 | test accuracy: 0.97\n",
            "Epoch:  0 | train loss: 0.1198 | test accuracy: 0.97\n",
            "Epoch:  0 | train loss: 0.0762 | test accuracy: 0.97\n",
            "Epoch:  0 | train loss: 0.0547 | test accuracy: 0.97\n",
            "Epoch:  0 | train loss: 0.0575 | test accuracy: 0.98\n",
            "[7 2 1 0 4 1 4 9 5 9] prediction number\n",
            "[7 2 1 0 4 1 4 9 5 9] real number\n"
          ]
        }
      ],
      "source": [
        "\n",
        "# library\n",
        "# standard library\n",
        "import os\n",
        "\n",
        "# third-party library\n",
        "import torch\n",
        "import torch.nn as nn\n",
        "import torch.utils.data as Data\n",
        "import torchvision\n",
        "# import matplotlib.pyplot as plt\n",
        "\n",
        "# torch.manual_seed(1)    # reproducible\n",
        "\n",
        "# Hyper Parameters\n",
        "EPOCH = 1               # train the training data n times, to save time, we just train 1 epoch\n",
        "BATCH_SIZE = 50\n",
        "LR = 0.001              # learning rate\n",
        "DOWNLOAD_MNIST = False\n",
        "\n",
        "\n",
        "# Mnist digits dataset\n",
        "if not(os.path.exists('./mnist/')) or not os.listdir('./mnist/'):\n",
        "    # not mnist dir or mnist is empyt dir\n",
        "    DOWNLOAD_MNIST = True\n",
        "\n",
        "train_data = torchvision.datasets.MNIST(\n",
        "    root='./mnist/',\n",
        "    train=True,                                     # this is training data\n",
        "    transform=torchvision.transforms.ToTensor(),    # Converts a PIL.Image or numpy.ndarray to\n",
        "                                                    # torch.FloatTensor of shape (C x H x W) and normalize in the range [0.0, 1.0]\n",
        "    download=DOWNLOAD_MNIST,\n",
        ")\n",
        "\n",
        "# plot one example\n",
        "print(train_data.train_data.size())                 # (60000, 28, 28)\n",
        "print(train_data.train_labels.size())               # (60000)\n",
        "# plt.imshow(train_data.train_data[0].numpy(), cmap='gray')\n",
        "# plt.title('%i' % train_data.train_labels[0])\n",
        "# plt.show()\n",
        "\n",
        "# Data Loader for easy mini-batch return in training, the image batch shape will be (50, 1, 28, 28)\n",
        "train_loader = Data.DataLoader(dataset=train_data, batch_size=BATCH_SIZE, shuffle=True)\n",
        "\n",
        "# pick 2000 samples to speed up testing\n",
        "test_data = torchvision.datasets.MNIST(root='./mnist/', train=False)\n",
        "test_x = torch.unsqueeze(test_data.test_data, dim=1).type(torch.FloatTensor)[:2000]/255.   # shape from (2000, 28, 28) to (2000, 1, 28, 28), value in range(0,1)\n",
        "test_y = test_data.test_labels[:2000]\n",
        "\n",
        "\n",
        "class CNN(nn.Module):\n",
        "    def __init__(self):\n",
        "        super(CNN, self).__init__()\n",
        "        self.conv1 = nn.Sequential(         # input shape (1, 28, 28)\n",
        "            nn.Conv2d(\n",
        "                in_channels=1,              # input height\n",
        "                out_channels=16,            # n_filters\n",
        "                kernel_size=5,              # filter size\n",
        "                stride=1,                   # filter movement/step\n",
        "                padding=2,                  # if want same width and length of this image after Conv2d, padding=(kernel_size-1)/2 if stride=1\n",
        "            ),                              # output shape (16, 28, 28)\n",
        "            nn.ReLU(),                      # activation\n",
        "            nn.MaxPool2d(kernel_size=2),    # choose max value in 2x2 area, output shape (16, 14, 14)\n",
        "        )\n",
        "        self.conv2 = nn.Sequential(         # input shape (16, 14, 14)\n",
        "            nn.Conv2d(16, 32, 5, 1, 2),     # output shape (32, 14, 14)\n",
        "            nn.ReLU(),                      # activation\n",
        "            nn.MaxPool2d(2),                # output shape (32, 7, 7)\n",
        "        )\n",
        "        self.out = nn.Linear(32 * 7 * 7, 10)   # fully connected layer, output 10 classes\n",
        "\n",
        "    def forward(self, x):\n",
        "        x = self.conv1(x)\n",
        "        x = self.conv2(x)\n",
        "        x = x.view(x.size(0), -1)           # flatten the output of conv2 to (batch_size, 32 * 7 * 7)\n",
        "        output = self.out(x)\n",
        "        return output, x    # return x for visualization\n",
        "\n",
        "\n",
        "cnn = CNN()\n",
        "print(cnn)  # net architecture\n",
        "\n",
        "optimizer = torch.optim.Adam(cnn.parameters(), lr=LR)   # optimize all cnn parameters\n",
        "loss_func = nn.CrossEntropyLoss()                       # the target label is not one-hotted\n",
        "\n",
        "# following function (plot_with_labels) is for visualization, can be ignored if not interested\n",
        "# from matplotlib import cm\n",
        "# try: from sklearn.manifold import TSNE; HAS_SK = True\n",
        "# except: HAS_SK = False; print('Please install sklearn for layer visualization')\n",
        "# def plot_with_labels(lowDWeights, labels):\n",
        "#     plt.cla()\n",
        "#     X, Y = lowDWeights[:, 0], lowDWeights[:, 1]\n",
        "#     for x, y, s in zip(X, Y, labels):\n",
        "#         c = cm.rainbow(int(255 * s / 9)); plt.text(x, y, s, backgroundcolor=c, fontsize=9)\n",
        "#     plt.xlim(X.min(), X.max()); plt.ylim(Y.min(), Y.max()); plt.title('Visualize last layer'); plt.show(); plt.pause(0.01)\n",
        "\n",
        "# plt.ion()\n",
        "# training and testing\n",
        "for epoch in range(EPOCH):\n",
        "    for step, (b_x, b_y) in enumerate(train_loader):   # gives batch data, normalize x when iterate train_loader\n",
        "\n",
        "        output = cnn(b_x)[0]               # cnn output\n",
        "        loss = loss_func(output, b_y)   # cross entropy loss\n",
        "        optimizer.zero_grad()           # clear gradients for this training step\n",
        "        loss.backward()                 # backpropagation, compute gradients\n",
        "        optimizer.step()                # apply gradients\n",
        "\n",
        "        if step % 50 == 0:\n",
        "            test_output, last_layer = cnn(test_x)\n",
        "            pred_y = torch.max(test_output, 1)[1].data.numpy()\n",
        "            accuracy = float((pred_y == test_y.data.numpy()).astype(int).sum()) / float(test_y.size(0))\n",
        "            print('Epoch: ', epoch, '| train loss: %.4f' % loss.data.numpy(), '| test accuracy: %.2f' % accuracy)\n",
        "            # if HAS_SK:\n",
        "            #     # Visualization of trained flatten layer (T-SNE)\n",
        "            #     tsne = TSNE(perplexity=30, n_components=2, init='pca', n_iter=5000)\n",
        "            #     plot_only = 500\n",
        "            #     low_dim_embs = tsne.fit_transform(last_layer.data.numpy()[:plot_only, :])\n",
        "            #     labels = test_y.numpy()[:plot_only]\n",
        "            #     plot_with_labels(low_dim_embs, labels)\n",
        "# plt.ioff()\n",
        "\n",
        "# print 10 predictions from test data\n",
        "test_output, _ = cnn(test_x[:10])\n",
        "pred_y = torch.max(test_output, 1)[1].data.numpy()\n",
        "print(pred_y, 'prediction number')\n",
        "print(test_y[:10].numpy(), 'real number')"
      ]
    }
  ]
}