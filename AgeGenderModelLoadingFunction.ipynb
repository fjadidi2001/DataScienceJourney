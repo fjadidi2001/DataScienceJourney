{
  "nbformat": 4,
  "nbformat_minor": 0,
  "metadata": {
    "colab": {
      "provenance": [],
      "gpuType": "T4",
      "authorship_tag": "ABX9TyN6Oq9wS8e3tHaBjbQQXVrd",
      "include_colab_link": true
    },
    "kernelspec": {
      "name": "python3",
      "display_name": "Python 3"
    },
    "language_info": {
      "name": "python"
    },
    "accelerator": "GPU"
  },
  "cells": [
    {
      "cell_type": "markdown",
      "metadata": {
        "id": "view-in-github",
        "colab_type": "text"
      },
      "source": [
        "<a href=\"https://colab.research.google.com/github/fjadidi2001/DataScienceJourney/blob/master/AgeGenderModelLoadingFunction.ipynb\" target=\"_parent\"><img src=\"https://colab.research.google.com/assets/colab-badge.svg\" alt=\"Open In Colab\"/></a>"
      ]
    },
    {
      "cell_type": "code",
      "source": [
        "def load_age_gender_models():\n",
        "    \"\"\"Download and load the pre-trained age and gender models using direct URLs\"\"\"\n",
        "    import os\n",
        "\n",
        "    # Define more reliable direct URLs for the model files\n",
        "    age_proto_url = \"https://raw.githubusercontent.com/opencv/opencv/master/samples/dnn/face_detector/deploy.prototxt\"\n",
        "    age_model_url = \"https://github.com/GilLevi/AgeGenderDeepLearning/raw/master/models/age_net.caffemodel\"\n",
        "    gender_proto_url = \"https://raw.githubusercontent.com/opencv/opencv/master/samples/dnn/face_detector/deploy.prototxt\"\n",
        "    gender_model_url = \"https://github.com/GilLevi/AgeGenderDeepLearning/raw/master/models/gender_net.caffemodel\"\n",
        "\n",
        "    # Define filenames\n",
        "    age_proto_file = \"age_deploy.prototxt\"\n",
        "    age_model_file = \"age_net.caffemodel\"\n",
        "    gender_proto_file = \"gender_deploy.prototxt\"\n",
        "    gender_model_file = \"gender_net.caffemodel\"\n",
        "\n",
        "    # Use wget for more reliable downloads (with progress indicators)\n",
        "    print(\"Downloading model files...\")\n",
        "    !wget -O {age_proto_file} {age_proto_url} --no-check-certificate\n",
        "    !wget -O {age_model_file} {age_model_url} --no-check-certificate\n",
        "    !wget -O {gender_proto_file} {gender_proto_url} --no-check-certificate\n",
        "    !wget -O {gender_model_file} {gender_model_url} --no-check-certificate\n",
        "\n",
        "    # Verify the files exist and have contents\n",
        "    for file in [age_proto_file, age_model_file, gender_proto_file, gender_model_file]:\n",
        "        if not os.path.exists(file) or os.path.getsize(file) == 0:\n",
        "            raise FileNotFoundError(f\"Failed to download or empty file: {file}\")\n",
        "        print(f\"Successfully downloaded {file} ({os.path.getsize(file)} bytes)\")\n",
        "\n",
        "    # Load the models\n",
        "    print(\"Loading models into OpenCV...\")\n",
        "    age_net = cv2.dnn.readNet(age_model_file, age_proto_file)\n",
        "    gender_net = cv2.dnn.readNet(gender_model_file, gender_proto_file)\n",
        "\n",
        "    print(\"Age and gender models loaded successfully\")\n",
        "    return age_net, gender_net"
      ],
      "metadata": {
        "id": "5njcN4-zO1wd"
      },
      "execution_count": 1,
      "outputs": []
    },
    {
      "cell_type": "markdown",
      "source": [
        "### Step 1: Import Libraries and Set Up Environment\n"
      ],
      "metadata": {
        "id": "LDkb1ynxOaj9"
      }
    },
    {
      "cell_type": "code",
      "execution_count": null,
      "metadata": {
        "id": "ccGls0MtOG_Q"
      },
      "outputs": [],
      "source": [
        "# Import required libraries\n",
        "import cv2\n",
        "import numpy as np\n",
        "import matplotlib.pyplot as plt\n",
        "from ultralytics import YOLO\n",
        "from roboflow import Roboflow\n",
        "import os\n",
        "\n",
        "# Handle encoding\n",
        "os.environ[\"PYTHONIOENCODING\"] = \"utf-8\""
      ]
    }
  ]
}