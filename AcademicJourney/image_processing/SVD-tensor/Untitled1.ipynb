{
 "cells": [
  {
   "cell_type": "code",
   "execution_count": 1,
   "metadata": {
    "id": "3qpQBDnilbmt"
   },
   "outputs": [],
   "source": [
    "import numpy as np\n",
    "from skimage import io, color\n",
    "from skimage.util import view_as_windows\n",
    "import matplotlib.pyplot as plt\n",
    "from sklearn.decomposition import PCA\n",
    "import cv2\n"
   ]
  },
  {
   "cell_type": "code",
   "execution_count": 2,
   "metadata": {
    "id": "q5M-F212lqZm"
   },
   "outputs": [],
   "source": [
    "# Function to read an image from a file path\n",
    "def read_image(image_path):\n",
    "    return io.imread(image_path)\n",
    "\n",
    "# Function to convert an image to grayscale\n",
    "def convert_to_grayscale(image):\n",
    "    if len(image.shape) == 2 or (len(image.shape) == 3 and image.shape[2] == 1):\n",
    "        return image\n",
    "    return color.rgb2gray(image)\n",
    "\n",
    "# Function to create a mask based on given coordinates\n",
    "def create_mask(image_shape, mask_coords):\n",
    "    mask = np.zeros(image_shape, dtype=bool)\n",
    "    for (x, y, w, h) in mask_coords:\n",
    "        mask[y:y+h, x:x+w] = True\n",
    "    return mask\n",
    "\n",
    "# Function to extract patches of a given size from the image\n",
    "def extract_patches(image, patch_size):\n",
    "    patches = view_as_windows(image, (patch_size, patch_size), step=patch_size)\n",
    "    patches = patches.reshape(-1, patch_size, patch_size)\n",
    "    return patches\n"
   ]
  },
  {
   "cell_type": "code",
   "execution_count": 3,
   "metadata": {
    "id": "yeJ3Nt2Glsbi"
   },
   "outputs": [],
   "source": [
    "# Function to perform Singular Value Decomposition (SVD) on patches\n",
    "def perform_svd(patches):\n",
    "    U_list, S_list, Vt_list = [], [], []\n",
    "    for patch in patches:\n",
    "        U, S, Vt = np.linalg.svd(patch, full_matrices=False)\n",
    "        U_list.append(U)\n",
    "        S_list.append(S)\n",
    "        Vt_list.append(Vt)\n",
    "    return U_list, S_list, Vt_list\n",
    "\n",
    "# Function to perform Principal Component Analysis (PCA) on patches\n",
    "def perform_pca(patches, n_components):\n",
    "    pca = PCA(n_components=n_components)\n",
    "    patches_flat = patches.reshape(patches.shape[0], -1)\n",
    "    pca.fit(patches_flat)\n",
    "    return pca.components_, pca.mean_, pca\n"
   ]
  },
  {
   "cell_type": "code",
   "execution_count": 4,
   "metadata": {
    "id": "9Q9fMNqAlvfI"
   },
   "outputs": [],
   "source": [
    "# Function to reconstruct patches using SVD with the top k singular values\n",
    "def reconstruct_patches_svd(U_list, S_list, Vt_list, k):\n",
    "    reconstructed_patches = []\n",
    "    for U, S, Vt in zip(U_list, S_list, Vt_list):\n",
    "        S_k = np.zeros_like(S)\n",
    "        S_k[:k] = S[:k]\n",
    "        reconstructed_patch = np.dot(U, np.dot(np.diag(S_k), Vt))\n",
    "        reconstructed_patches.append(reconstructed_patch)\n",
    "    return np.array(reconstructed_patches)\n",
    "\n",
    "# Function to reconstruct patches using PCA\n",
    "def reconstruct_patches_pca(patches, components, mean, pca):\n",
    "    patches_flat = patches.reshape(patches.shape[0], -1)\n",
    "    patches_reconstructed_flat = pca.inverse_transform(pca.transform(patches_flat))\n",
    "    return patches_reconstructed_flat.reshape(patches.shape)\n"
   ]
  },
  {
   "cell_type": "code",
   "execution_count": 5,
   "metadata": {
    "id": "Wz_fLNiylzzb"
   },
   "outputs": [],
   "source": [
    "# Function to compute priority for the Criminisi inpainting\n",
    "def compute_priority(mask, confidence, patch_size):\n",
    "    edge = cv2.Canny(mask.astype(np.uint8) * 255, 100, 200)\n",
    "    edge_coords = np.column_stack(np.where(edge > 0))\n",
    "    priority = np.zeros_like(confidence)\n",
    "    for y, x in edge_coords:\n",
    "        patch = mask[y:y+patch_size, x:x+patch_size]\n",
    "        if patch.shape[0] != patch_size or patch.shape[1] != patch_size:\n",
    "            continue\n",
    "        priority[y, x] = confidence[y, x]\n",
    "    return priority, edge_coords\n",
    "\n",
    "# Function to find the best matching patch in the image to fill the target patch\n",
    "def find_best_patch(image, mask, target_patch, patch_size):\n",
    "    best_patch = None\n",
    "    best_ssd = float('inf')\n",
    "    for y in range(0, image.shape[0] - patch_size + 1):\n",
    "        for x in range(0, image.shape[1] - patch_size + 1):\n",
    "            patch = image[y:y+patch_size, x:x+patch_size]\n",
    "            if not mask[y:y+patch_size, x:x+patch_size].any():\n",
    "                ssd = np.sum((patch - target_patch) ** 2)\n",
    "                if ssd < best_ssd:\n",
    "                    best_ssd = ssd\n",
    "                    best_patch = (y, x)\n",
    "    return best_patch\n",
    "\n",
    "# Function to perform inpainting using the Criminisi algorithm\n",
    "def inpaint_criminisi(image, mask, patch_size, k, method='svd'):\n",
    "    patches = extract_patches(image, patch_size)\n",
    "    if method == 'svd':\n",
    "        U_list, S_list, Vt_list = perform_svd(patches)\n",
    "        reconstructed_patches = reconstruct_patches_svd(U_list, S_list, Vt_list, k)\n",
    "    elif method == 'pca':\n",
    "        components, mean, pca = perform_pca(patches, k)\n",
    "        reconstructed_patches = reconstruct_patches_pca(patches, components, mean, pca)\n",
    "    else:\n",
    "        raise ValueError(\"Unsupported method. Use 'svd' or 'pca'.\")\n",
    "\n",
    "    confidence = 1.0 - mask.astype(np.float32)\n",
    "    while mask.any():\n",
    "        priority, edge_coords = compute_priority(mask, confidence, patch_size)\n",
    "        y, x = edge_coords[np.argmax(priority[edge_coords[:, 0], edge_coords[:, 1]])]\n",
    "        target_patch = image[y:y+patch_size, x:x+patch_size]\n",
    "        best_y, best_x = find_best_patch(image, mask, target_patch, patch_size)\n",
    "        if best_y is None or best_x is None:\n",
    "            break\n",
    "        best_patch = image[best_y:best_y+patch_size, best_x:best_x+patch_size]\n",
    "        mask[y:y+patch_size, x:x+patch_size] = False\n",
    "        image[y:y+patch_size, x:x+patch_size] = best_patch\n",
    "        confidence[y:y+patch_size, x:x+patch_size] = 1.0\n",
    "    return image\n"
   ]
  },
  {
   "cell_type": "code",
   "execution_count": 6,
   "metadata": {
    "id": "q5prFa-7l21L"
   },
   "outputs": [],
   "source": [
    "# Function to display the original, masked, and inpainted images, along with some patches\n",
    "def display_images(original_image, masked_image, inpainted_image, patches):\n",
    "    fig, axs = plt.subplots(2, 3, figsize=(18, 12))\n",
    "    axs[0, 0].imshow(original_image, cmap='gray')\n",
    "    axs[0, 0].set_title('Original Image')\n",
    "    axs[0, 0].axis('off')\n",
    "\n",
    "    axs[0, 1].imshow(masked_image, cmap='gray')\n",
    "    axs[0, 1].set_title('Masked Image')\n",
    "    axs[0, 1].axis('off')\n",
    "\n",
    "    axs[0, 2].imshow(inpainted_image, cmap='gray')\n",
    "    axs[0, 2].set_title('Inpainted Image')\n",
    "    axs[0, 2].axis('off')\n",
    "\n",
    "    for idx, patch in enumerate(patches[:3]):\n",
    "        axs[1, idx].imshow(patch, cmap='gray')\n",
    "        axs[1, idx].set_title(f'Patch {idx+1}')\n",
    "        axs[1, idx].axis('off')\n",
    "\n",
    "    plt.show()\n"
   ]
  },
  {
   "cell_type": "code",
   "execution_count": 7,
   "metadata": {
    "id": "7GU6iSAel4Lg"
   },
   "outputs": [],
   "source": [
    "# Main function to execute the inpainting process\n",
    "def main(image_path, mask_coords, patch_size, k, method='svd'):\n",
    "    original_image = read_image(image_path)\n",
    "    grayscale_image = convert_to_grayscale(original_image)\n",
    "    mask = create_mask(grayscale_image.shape, mask_coords)\n",
    "    masked_image = np.copy(grayscale_image)\n",
    "    masked_image[mask] = 0\n",
    "    inpainted_image = inpaint_criminisi(grayscale_image, mask, patch_size, k, method)\n",
    "    patches = extract_patches(grayscale_image, patch_size)\n",
    "    display_images(original_image, masked_image, inpainted_image, patches)\n"
   ]
  },
  {
   "cell_type": "code",
   "execution_count": null,
   "metadata": {
    "id": "YSCqwx8tl61Q"
   },
   "outputs": [],
   "source": [
    "# Example Usage\n",
    "image_path = '22.png'\n",
    "mask_coords = [(300, 55, 100, 200)]  # Example coordinates (x, y, width, height)\n",
    "patch_size = 9  # Example patch size\n",
    "k = 50  # Top k% singular values to keep for SVD or top k principal components for PCA\n",
    "method = 'svd'  # or 'pca'\n",
    "main(image_path, mask_coords, patch_size, k, method)\n"
   ]
  }
 ],
 "metadata": {
  "colab": {
   "provenance": []
  },
  "kernelspec": {
   "display_name": "Python 3 (ipykernel)",
   "language": "python",
   "name": "python3"
  },
  "language_info": {
   "codemirror_mode": {
    "name": "ipython",
    "version": 3
   },
   "file_extension": ".py",
   "mimetype": "text/x-python",
   "name": "python",
   "nbconvert_exporter": "python",
   "pygments_lexer": "ipython3",
   "version": "3.10.12"
  }
 },
 "nbformat": 4,
 "nbformat_minor": 4
}
