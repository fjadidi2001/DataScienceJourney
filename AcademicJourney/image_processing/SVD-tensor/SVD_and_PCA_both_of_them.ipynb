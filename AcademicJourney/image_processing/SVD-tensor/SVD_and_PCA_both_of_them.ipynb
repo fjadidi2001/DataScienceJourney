{
 "cells": [
  {
   "cell_type": "code",
   "execution_count": null,
   "metadata": {
    "id": "3qpQBDnilbmt"
   },
   "outputs": [],
   "source": [
    "import numpy as np\n",
    "from skimage import io, color\n",
    "from skimage.util import view_as_windows\n",
    "import matplotlib.pyplot as plt\n",
    "from sklearn.decomposition import PCA\n",
    "import cv2\n"
   ]
  },
  {
   "cell_type": "code",
   "execution_count": null,
   "metadata": {
    "id": "q5M-F212lqZm"
   },
   "outputs": [],
   "source": [
    "# Function to read an image from a file path\n",
    "def read_image(image_path):\n",
    "    return io.imread(image_path)\n",
    "\n",
    "# Function to convert an image to grayscale\n",
    "def convert_to_grayscale(image):\n",
    "    if len(image.shape) == 2 or (len(image.shape) == 3 and image.shape[2] == 1):\n",
    "        return image\n",
    "    return color.rgb2gray(image)\n",
    "\n",
    "# Function to create a mask based on given coordinates\n",
    "def create_mask(image_shape, mask_coords):\n",
    "    mask = np.zeros(image_shape, dtype=bool)\n",
    "    for (x, y, w, h) in mask_coords:\n",
    "        mask[y:y+h, x:x+w] = True\n",
    "    return mask\n",
    "\n",
    "# Function to extract patches of a given size from the image\n",
    "def extract_patches(image, patch_size):\n",
    "    patches = view_as_windows(image, (patch_size, patch_size), step=patch_size)\n",
    "    patches = patches.reshape(-1, patch_size, patch_size)\n",
    "    return patches\n"
   ]
  },
  {
   "cell_type": "code",
   "execution_count": null,
   "metadata": {
    "id": "yeJ3Nt2Glsbi"
   },
   "outputs": [],
   "source": [
    "# Function to perform Singular Value Decomposition (SVD) on patches\n",
    "def perform_svd(patches):\n",
    "    U_list, S_list, Vt_list = [], [], []\n",
    "    for patch in patches:\n",
    "        U, S, Vt = np.linalg.svd(patch, full_matrices=False)\n",
    "        U_list.append(U)\n",
    "        S_list.append(S)\n",
    "        Vt_list.append(Vt)\n",
    "    return U_list, S_list, Vt_list\n",
    "\n",
    "# Function to perform Principal Component Analysis (PCA) on patches\n",
    "def perform_pca(patches, n_components):\n",
    "    pca = PCA(n_components=n_components)\n",
    "    patches_flat = patches.reshape(patches.shape[0], -1)\n",
    "    pca.fit(patches_flat)\n",
    "    return pca.components_, pca.mean_, pca\n"
   ]
  },
  {
   "cell_type": "code",
   "execution_count": null,
   "metadata": {
    "id": "9Q9fMNqAlvfI"
   },
   "outputs": [],
   "source": [
    "# Function to reconstruct patches using SVD with the top k singular values\n",
    "def reconstruct_patches_svd(U_list, S_list, Vt_list, k):\n",
    "    reconstructed_patches = []\n",
    "    for U, S, Vt in zip(U_list, S_list, Vt_list):\n",
    "        S_k = np.zeros_like(S)\n",
    "        S_k[:k] = S[:k]\n",
    "        reconstructed_patch = np.dot(U, np.dot(np.diag(S_k), Vt))\n",
    "        reconstructed_patches.append(reconstructed_patch)\n",
    "    return np.array(reconstructed_patches)\n",
    "\n",
    "# Function to reconstruct patches using PCA\n",
    "def reconstruct_patches_pca(patches, components, mean, pca):\n",
    "    patches_flat = patches.reshape(patches.shape[0], -1)\n",
    "    patches_reconstructed_flat = pca.inverse_transform(pca.transform(patches_flat))\n",
    "    return patches_reconstructed_flat.reshape(patches.shape)\n"
   ]
  },
  {
   "cell_type": "code",
   "execution_count": null,
   "metadata": {
    "id": "Wz_fLNiylzzb"
   },
   "outputs": [],
   "source": [
    "# Function to compute priority for the Criminisi inpainting\n",
    "def compute_priority(mask, confidence, patch_size):\n",
    "    edge = cv2.Canny(mask.astype(np.uint8) * 255, 100, 200)\n",
    "    edge_coords = np.column_stack(np.where(edge > 0))\n",
    "    priority = np.zeros_like(confidence)\n",
    "    for y, x in edge_coords:\n",
    "        patch = mask[y:y+patch_size, x:x+patch_size]\n",
    "        if patch.shape[0] != patch_size or patch.shape[1] != patch_size:\n",
    "            continue\n",
    "        priority[y, x] = confidence[y, x]\n",
    "    return priority, edge_coords\n",
    "\n",
    "# Function to find the best matching patch in the image to fill the target patch\n",
    "def find_best_patch(image, mask, target_patch, patch_size):\n",
    "    best_patch = None\n",
    "    best_ssd = float('inf')\n",
    "    for y in range(0, image.shape[0] - patch_size + 1):\n",
    "        for x in range(0, image.shape[1] - patch_size + 1):\n",
    "            patch = image[y:y+patch_size, x:x+patch_size]\n",
    "            if not mask[y:y+patch_size, x:x+patch_size].any():\n",
    "                ssd = np.sum((patch - target_patch) ** 2)\n",
    "                if ssd < best_ssd:\n",
    "                    best_ssd = ssd\n",
    "                    best_patch = (y, x)\n",
    "    return best_patch\n",
    "\n",
    "# Function to perform inpainting using the Criminisi algorithm\n",
    "def inpaint_criminisi(image, mask, patch_size, k, method='svd'):\n",
    "    patches = extract_patches(image, patch_size)\n",
    "    if method == 'svd':\n",
    "        U_list, S_list, Vt_list = perform_svd(patches)\n",
    "        reconstructed_patches = reconstruct_patches_svd(U_list, S_list, Vt_list, k)\n",
    "    elif method == 'pca':\n",
    "        components, mean, pca = perform_pca(patches, k)\n",
    "        reconstructed_patches = reconstruct_patches_pca(patches, components, mean, pca)\n",
    "    else:\n",
    "        raise ValueError(\"Unsupported method. Use 'svd' or 'pca'.\")\n",
    "\n",
    "    confidence = 1.0 - mask.astype(np.float32)\n",
    "    while mask.any():\n",
    "        priority, edge_coords = compute_priority(mask, confidence, patch_size)\n",
    "        y, x = edge_coords[np.argmax(priority[edge_coords[:, 0], edge_coords[:, 1]])]\n",
    "        target_patch = image[y:y+patch_size, x:x+patch_size]\n",
    "        best_y, best_x = find_best_patch(image, mask, target_patch, patch_size)\n",
    "        if best_y is None or best_x is None:\n",
    "            break\n",
    "        best_patch = image[best_y:best_y+patch_size, best_x:best_x+patch_size]\n",
    "        mask[y:y+patch_size, x:x+patch_size] = False\n",
    "        image[y:y+patch_size, x:x+patch_size] = best_patch\n",
    "        confidence[y:y+patch_size, x:x+patch_size] = 1.0\n",
    "    return image\n"
   ]
  },
  {
   "cell_type": "code",
   "execution_count": null,
   "metadata": {
    "id": "q5prFa-7l21L"
   },
   "outputs": [],
   "source": [
    "# Function to display the original, masked, and inpainted images, along with some patches\n",
    "def display_images(original_image, masked_image, inpainted_image, patches):\n",
    "    fig, axs = plt.subplots(2, 3, figsize=(18, 12))\n",
    "    axs[0, 0].imshow(original_image, cmap='gray')\n",
    "    axs[0, 0].set_title('Original Image')\n",
    "    axs[0, 0].axis('off')\n",
    "\n",
    "    axs[0, 1].imshow(masked_image, cmap='gray')\n",
    "    axs[0, 1].set_title('Masked Image')\n",
    "    axs[0, 1].axis('off')\n",
    "\n",
    "    axs[0, 2].imshow(inpainted_image, cmap='gray')\n",
    "    axs[0, 2].set_title('Inpainted Image')\n",
    "    axs[0, 2].axis('off')\n",
    "\n",
    "    for idx, patch in enumerate(patches[:3]):\n",
    "        axs[1, idx].imshow(patch, cmap='gray')\n",
    "        axs[1, idx].set_title(f'Patch {idx+1}')\n",
    "        axs[1, idx].axis('off')\n",
    "\n",
    "    plt.show()\n"
   ]
  },
  {
   "cell_type": "code",
   "execution_count": null,
   "metadata": {
    "id": "7GU6iSAel4Lg"
   },
   "outputs": [],
   "source": [
    "# Main function to execute the inpainting process\n",
    "def main(image_path, mask_coords, patch_size, k, method='svd'):\n",
    "    original_image = read_image(image_path)\n",
    "    grayscale_image = convert_to_grayscale(original_image)\n",
    "    mask = create_mask(grayscale_image.shape, mask_coords)\n",
    "    masked_image = np.copy(grayscale_image)\n",
    "    masked_image[mask] = 0\n",
    "    inpainted_image = inpaint_criminisi(grayscale_image, mask, patch_size, k, method)\n",
    "    patches = extract_patches(grayscale_image, patch_size)\n",
    "    display_images(original_image, masked_image, inpainted_image, patches)\n"
   ]
  },
  {
   "cell_type": "code",
   "execution_count": null,
   "metadata": {
    "id": "YSCqwx8tl61Q"
   },
   "outputs": [],
   "source": [
    "# Example Usage\n",
    "image_path = '22.png'\n",
    "mask_coords = [(300, 55, 100, 200)]  # Example coordinates (x, y, width, height)\n",
    "patch_size = 9  # Example patch size\n",
    "k = 50  # Top k% singular values to keep for SVD or top k principal components for PCA\n",
    "method = 'svd'  # or 'pca'\n",
    "main(image_path, mask_coords, patch_size, k, method)\n"
   ]
  },
  {
   "cell_type": "code",
   "execution_count": null,
   "metadata": {
    "id": "vTsxpv_wp4g-"
   },
   "outputs": [],
   "source": [
    "import numpy as np\n",
    "from skimage import io, color\n",
    "from skimage.util import view_as_windows\n",
    "import matplotlib.pyplot as plt\n",
    "from sklearn.decomposition import PCA\n",
    "import cv2\n"
   ]
  },
  {
   "cell_type": "code",
   "execution_count": null,
   "metadata": {
    "id": "Fl13aY0Hp6mk"
   },
   "outputs": [],
   "source": [
    "# Function to convert an image to grayscale\n",
    "def convert_to_grayscale(image):\n",
    "    if len(image.shape) == 2 or (len(image.shape) == 3 and image.shape[2] == 1):\n",
    "        return image\n",
    "    return color.rgb2gray(image)\n"
   ]
  },
  {
   "cell_type": "code",
   "execution_count": null,
   "metadata": {
    "id": "iltKy3Vbp8as"
   },
   "outputs": [],
   "source": [
    "# Function to perform Singular Value Decomposition (SVD) on patches\n",
    "def perform_svd(patches):\n",
    "    U_list, S_list, Vt_list = [], [], []\n",
    "    for patch in patches:\n",
    "        U, S, Vt = np.linalg.svd(patch, full_matrices=False)\n",
    "        U_list.append(U)\n",
    "        S_list.append(S)\n",
    "        Vt_list.append(Vt)\n",
    "    return U_list, S_list, Vt_list\n",
    "\n",
    "# Function to perform Principal Component Analysis (PCA) on patches\n",
    "def perform_pca(patches, n_components):\n",
    "    pca = PCA(n_components=n_components)\n",
    "    patches_flat = patches.reshape(patches.shape[0], -1)\n",
    "    pca.fit(patches_flat)\n",
    "    return pca.components_, pca.mean_, pca\n"
   ]
  },
  {
   "cell_type": "code",
   "execution_count": null,
   "metadata": {
    "id": "I1JxpeJwp-Bg"
   },
   "outputs": [],
   "source": [
    "# Function to create a mask based on given coordinates\n",
    "def create_mask(image_shape, mask_coords):\n",
    "    mask = np.zeros(image_shape, dtype=bool)\n",
    "    for (x, y, w, h) in mask_coords:\n",
    "        mask[y:y+h, x:x+w] = True\n",
    "    return mask\n"
   ]
  },
  {
   "cell_type": "code",
   "execution_count": null,
   "metadata": {
    "id": "eQULCKi9p_gN"
   },
   "outputs": [],
   "source": [
    "# Function to compute priority for the Criminisi inpainting\n",
    "def compute_priority(mask, confidence, patch_size):\n",
    "    edge = cv2.Canny(mask.astype(np.uint8) * 255, 100, 200)\n",
    "    edge_coords = np.column_stack(np.where(edge > 0))\n",
    "    priority = np.zeros_like(confidence)\n",
    "    for y, x in edge_coords:\n",
    "        patch = mask[y:y+patch_size, x:x+patch_size]\n",
    "        if patch.shape[0] != patch_size or patch.shape[1] != patch_size:\n",
    "            continue\n",
    "        priority[y, x] = confidence[y, x]\n",
    "    return priority, edge_coords\n",
    "\n",
    "# Function to find the best matching patch in the image to fill the target patch\n",
    "def find_best_patch(image, mask, target_patch, patch_size):\n",
    "    best_patch = None\n",
    "    best_ssd = float('inf')\n",
    "    for y in range(0, image.shape[0] - patch_size + 1):\n",
    "        for x in range(0, image.shape[1] - patch_size + 1):\n",
    "            patch = image[y:y+patch_size, x:x+patch_size]\n",
    "            if not mask[y:y+patch_size, x:x+patch_size].any():\n",
    "                ssd = np.sum((patch - target_patch) ** 2)\n",
    "                if ssd < best_ssd:\n",
    "                    best_ssd = ssd\n",
    "                    best_patch = (y, x)\n",
    "    return best_patch\n",
    "\n",
    "# Function to perform inpainting using the Criminisi algorithm\n",
    "def inpaint_criminisi(image, mask, patch_size, k, method='svd'):\n",
    "    patches = view_as_windows(image, (patch_size, patch_size), step=patch_size)\n",
    "    patches = patches.reshape(-1, patch_size, patch_size)\n",
    "\n",
    "    if method == 'svd':\n",
    "        U_list, S_list, Vt_list = perform_svd(patches)\n",
    "        reconstructed_patches = []\n",
    "        for U, S, Vt in zip(U_list, S_list, Vt_list):\n",
    "            S_k = np.zeros_like(S)\n",
    "            S_k[:k] = S[:k]\n",
    "            reconstructed_patch = np.dot(U, np.dot(np.diag(S_k), Vt))\n",
    "            reconstructed_patches.append(reconstructed_patch)\n",
    "        reconstructed_patches = np.array(reconstructed_patches)\n",
    "\n",
    "    elif method == 'pca':\n",
    "        components, mean, pca = perform_pca(patches, k)\n",
    "        patches_flat = patches.reshape(patches.shape[0], -1)\n",
    "        patches_reconstructed_flat = pca.inverse_transform(pca.transform(patches_flat))\n",
    "        reconstructed_patches = patches_reconstructed_flat.reshape(patches.shape)\n",
    "    else:\n",
    "        raise ValueError(\"Unsupported method. Use 'svd' or 'pca'.\")\n",
    "\n",
    "    confidence = 1.0 - mask.astype(np.float32)\n",
    "    while mask.any():\n",
    "        priority, edge_coords = compute_priority(mask, confidence, patch_size)\n",
    "        y, x = edge_coords[np.argmax(priority[edge_coords[:, 0], edge_coords[:, 1]])]\n",
    "        target_patch = image[y:y+patch_size, x:x+patch_size]\n",
    "        best_y, best_x = find_best_patch(image, mask, target_patch, patch_size)\n",
    "        if best_y is None or best_x is None:\n",
    "            break\n",
    "        best_patch = image[best_y:best_y+patch_size, best_x:best_x+patch_size]\n",
    "        mask[y:y+patch_size, x:x+patch_size] = False\n",
    "        image[y:y+patch_size, x:x+patch_size] = best_patch\n",
    "        confidence[y:y+patch_size, x:x+patch_size] = 1.0\n",
    "\n",
    "    return image\n"
   ]
  },
  {
   "cell_type": "code",
   "execution_count": null,
   "metadata": {
    "id": "2NjAdeaOqBSK"
   },
   "outputs": [],
   "source": [
    "# Main function to execute the inpainting process\n",
    "def main(image_path, mask_coords, patch_size, k, method='svd'):\n",
    "    original_image = io.imread(image_path)\n",
    "    grayscale_image = convert_to_grayscale(original_image)\n",
    "    mask = create_mask(grayscale_image.shape, mask_coords)\n",
    "    inpainted_image = inpaint_criminisi(grayscale_image, mask, patch_size, k, method)\n",
    "\n",
    "    # Display results (optional)\n",
    "    plt.figure(figsize=(12, 6))\n",
    "    plt.subplot(1, 2, 1)\n",
    "    plt.imshow(grayscale_image, cmap='gray')\n",
    "    plt.title('Original Image')\n",
    "    plt.axis('off')\n",
    "\n",
    "    plt.subplot(1, 2, 2)\n",
    "    plt.imshow(inpainted_image, cmap='gray')\n",
    "    plt.title('Inpainted Image')\n",
    "    plt.axis('off')\n",
    "\n",
    "    plt.tight_layout()\n",
    "    plt.show()\n",
    "\n",
    "# Example Usage\n",
    "image_path = '53.png'  # Replace with your image path\n",
    "mask_coords = [(100, 100, 150, 200)]  # Example coordinates (x, y, width, height)\n",
    "patch_size = 10  # Example patch size\n",
    "k = 50  # Top k singular values for SVD or principal components for PCA\n",
    "method = 'svd'  # Method: 'svd' or 'pca'\n",
    "main(image_path, mask_coords, patch_size, k, method)\n"
   ]
  },
  {
   "cell_type": "markdown",
   "metadata": {
    "id": "uymr-eKJqI86"
   },
   "source": [
    "Explanation\n",
    "Step 1: Imports necessary libraries and functions for image processing, SVD, PCA, and visualization.\n",
    "Step 2: convert_to_grayscale function converts an RGB image to grayscale if necessary.\n",
    "Step 3: perform_svd and perform_pca functions compute SVD and PCA on image patches respectively.\n",
    "Step 4: create_mask function generates a binary mask based on given coordinates.\n",
    "Step 5: inpaint_criminisi function implements the Criminisi algorithm for inpainting using either SVD or PCA for patch reconstruction.\n",
    "Step 6: main function orchestrates the entire process: reading the image, converting to grayscale, creating a mask, performing inpainting, and displaying results.\n",
    "Make sure to replace 'example.png' with the actual path to your image file and adjust mask_coords, patch_size, k, and method according to your specific requirements.\n",
    "\n",
    "This structured approach ensures each step aligns with your project requirements, allowing for effective implementation of the Criminisi inpainting method using both SVD and PCA for patch reconstruction."
   ]
  },
  {
   "cell_type": "code",
   "execution_count": null,
   "metadata": {
    "id": "o30FYB3LOjRF"
   },
   "outputs": [],
   "source": [
    "# Main function to execute the inpainting process\n",
    "def main(image_path, mask_coords, patch_size, k, method='pca'):\n",
    "    original_image = io.imread(image_path)\n",
    "    grayscale_image = convert_to_grayscale(original_image)\n",
    "    mask = create_mask(grayscale_image.shape, mask_coords)\n",
    "    inpainted_image = inpaint_criminisi(grayscale_image, mask, patch_size, k, method)\n",
    "\n",
    "    # Display results (optional)\n",
    "    plt.figure(figsize=(12, 6))\n",
    "    plt.subplot(1, 2, 1)\n",
    "    plt.imshow(grayscale_image, cmap='gray')\n",
    "    plt.title('Original Image')\n",
    "    plt.axis('off')\n",
    "\n",
    "    plt.subplot(1, 2, 2)\n",
    "    plt.imshow(inpainted_image, cmap='gray')\n",
    "    plt.title('Inpainted Image')\n",
    "    plt.axis('off')\n",
    "\n",
    "    plt.tight_layout()\n",
    "    plt.show()\n",
    "\n",
    "# Example Usage\n",
    "image_path = '22.png'  # Replace with your image path\n",
    "mask_coords = [(100, 100, 150, 200)]  # Example coordinates (x, y, width, height)\n",
    "patch_size = 10  # Example patch size\n",
    "k = 50  # Top k singular values for SVD or principal components for PCA\n",
    "method = 'pca'  # Method: 'svd' or 'pca'\n",
    "main(image_path, mask_coords, patch_size, k, method)\n"
   ]
  },
  {
   "cell_type": "markdown",
   "metadata": {
    "id": "0YOdq-Evbi9L"
   },
   "source": [
    "# new"
   ]
  },
  {
   "cell_type": "code",
   "execution_count": null,
   "metadata": {
    "id": "Bv7bxQ3_ZjFx"
   },
   "outputs": [],
   "source": [
    "import numpy as np\n",
    "from skimage import io, color\n",
    "from skimage.util import view_as_windows\n",
    "import matplotlib.pyplot as plt\n",
    "from sklearn.decomposition import PCA\n",
    "import cv2\n"
   ]
  },
  {
   "cell_type": "code",
   "execution_count": null,
   "metadata": {
    "id": "I_dMVhT1ZjxK"
   },
   "outputs": [],
   "source": [
    "def read_image(image_path):\n",
    "    return io.imread(image_path)\n",
    "\n",
    "def convert_to_grayscale(image):\n",
    "    if len(image.shape) == 2 or (len(image.shape) == 3 and image.shape[2] == 1):\n",
    "        return image\n",
    "    return color.rgb2gray(image)\n"
   ]
  },
  {
   "cell_type": "code",
   "execution_count": null,
   "metadata": {
    "id": "IniFAqfhZnUt"
   },
   "outputs": [],
   "source": [
    "def create_mask(image_shape, mask_coords):\n",
    "    mask = np.zeros(image_shape, dtype=bool)\n",
    "    for (x, y, w, h) in mask_coords:\n",
    "        mask[y:y+h, x:x+w] = True\n",
    "    return mask\n",
    "\n",
    "def extract_patches(image, patch_size):\n",
    "    patches = view_as_windows(image, (patch_size, patch_size), step=1)\n",
    "    return patches\n"
   ]
  },
  {
   "cell_type": "code",
   "execution_count": null,
   "metadata": {
    "id": "amTgYA4Jb4tg"
   },
   "outputs": [],
   "source": [
    "def find_similar_patches(patches, goal_patch, patch_size):\n",
    "    similarities = []\n",
    "    for patch in patches:\n",
    "        if not np.isnan(patch).any():\n",
    "            similarity = np.linalg.norm(goal_patch - patch)\n",
    "            similarities.append((similarity, patch))\n",
    "    similarities.sort(key=lambda x: x[0])\n",
    "    return [patch for _, patch in similarities[:10]]  # Return top 10 similar patches\n",
    "\n",
    "def replace_patch(image, patch, mask, x, y, patch_size):\n",
    "    valid_mask = ~mask[y:y+patch_size, x:x+patch_size]\n",
    "    image[y:y+patch_size, x:x+patch_size][valid_mask] = patch[valid_mask]\n"
   ]
  },
  {
   "cell_type": "code",
   "execution_count": null,
   "metadata": {
    "id": "DY6XA2iFb722"
   },
   "outputs": [],
   "source": [
    "def inpaint_image(image, mask, patch_size):\n",
    "    image = image.copy()\n",
    "    patches = extract_patches(image, patch_size)\n",
    "    mask_patches = extract_patches(mask.astype(float), patch_size)\n",
    "\n",
    "    while np.any(mask):\n",
    "        # Find the most confident patch (minimum number of masked pixels)\n",
    "        mask_sums = mask_patches.sum(axis=(2, 3))\n",
    "        target_idx = np.argmin(mask_sums)\n",
    "        target_y, target_x = np.unravel_index(target_idx, mask_sums.shape)\n",
    "        target_patch = patches[target_y, target_x]\n",
    "\n",
    "        similar_patches = find_similar_patches(patches.reshape(-1, patch_size, patch_size), target_patch, patch_size)\n",
    "        best_patch = np.mean(similar_patches, axis=0)\n",
    "\n",
    "        replace_patch(image, best_patch, mask, target_x, target_y, patch_size)\n",
    "        mask[target_y:target_y+patch_size, target_x:target_x+patch_size] = False\n",
    "        patches = extract_patches(image, patch_size)\n",
    "        mask_patches = extract_patches(mask.astype(float), patch_size)\n",
    "\n",
    "    return image\n"
   ]
  },
  {
   "cell_type": "code",
   "execution_count": null,
   "metadata": {
    "id": "feBNzvymb-y4"
   },
   "outputs": [],
   "source": [
    "def main(image_path, mask_coords, patch_size):\n",
    "    image = read_image(image_path)\n",
    "    grayscale_image = convert_to_grayscale(image)\n",
    "    mask = create_mask(grayscale_image.shape, mask_coords)\n",
    "    inpainted_image = inpaint_image(grayscale_image, mask, patch_size)\n",
    "\n",
    "    plt.figure(figsize=(12, 6))\n",
    "    plt.subplot(1, 2, 1)\n",
    "    plt.title(\"Original Image\")\n",
    "    plt.imshow(grayscale_image, cmap='gray')\n",
    "    plt.subplot(1, 2, 2)\n",
    "    plt.title(\"Inpainted Image\")\n",
    "    plt.imshow(inpainted_image, cmap='gray')\n",
    "    plt.show()\n",
    "\n",
    "# Example Usage\n",
    "image_path = '22.png'\n",
    "mask_coords = [(300, 55, 100, 200)]  # Example coordinates (x, y, width, height)\n",
    "patch_size = 9  # Example patch size\n",
    "main(image_path, mask_coords, patch_size)\n"
   ]
  },
  {
   "cell_type": "code",
   "execution_count": null,
   "metadata": {
    "id": "Cx5Y7EmcZpLQ"
   },
   "outputs": [],
   "source": [
    "def perform_svd(patches):\n",
    "    U_list, S_list, Vt_list = [], [], []\n",
    "    for patch in patches:\n",
    "        U, S, Vt = np.linalg.svd(patch, full_matrices=False)\n",
    "        U_list.append(U)\n",
    "        S_list.append(S)\n",
    "        Vt_list.append(Vt)\n",
    "    return U_list, S_list, Vt_list\n",
    "\n",
    "def perform_pca(patches, n_components):\n",
    "    pca = PCA(n_components=n_components)\n",
    "    patches_flat = patches.reshape(patches.shape[0], -1)\n",
    "    pca.fit(patches_flat)\n",
    "    return pca.components_, pca.mean_, pca\n"
   ]
  },
  {
   "cell_type": "code",
   "execution_count": null,
   "metadata": {
    "id": "MZqEFuuDZqvl"
   },
   "outputs": [],
   "source": [
    "def inpaint_image(image, mask, patch_size, k, method):\n",
    "    masked_image = image.copy()\n",
    "    masked_image[mask] = np.nan\n",
    "\n",
    "    patches = extract_patches(masked_image, patch_size)\n",
    "    if method == 'svd':\n",
    "        U_list, S_list, Vt_list = perform_svd(patches)\n",
    "        # Retain only the top k% singular values\n",
    "        for i in range(len(S_list)):\n",
    "            k_singular = int(len(S_list[i]) * k / 100)\n",
    "            S_list[i][k_singular:] = 0\n",
    "            patches[i] = U_list[i] @ np.diag(S_list[i]) @ Vt_list[i]\n",
    "    elif method == 'pca':\n",
    "        components, mean, pca = perform_pca(patches, k)\n",
    "        patches = pca.inverse_transform(pca.transform(patches.reshape(patches.shape[0], -1))).reshape(patches.shape)\n",
    "\n",
    "    reconstructed_image = np.zeros_like(image)\n",
    "    patch_count = np.zeros_like(image, dtype=float)\n",
    "\n",
    "    idx = 0\n",
    "    for i in range(0, image.shape[0] - patch_size + 1, patch_size):\n",
    "        for j in range(0, image.shape[1] - patch_size + 1, patch_size):\n",
    "            reconstructed_image[i:i+patch_size, j:j+patch_size] += patches[idx]\n",
    "            patch_count[i:i+patch_size, j:j+patch_size] += 1\n",
    "            idx += 1\n",
    "\n",
    "    reconstructed_image /= patch_count\n",
    "    return reconstructed_image\n"
   ]
  },
  {
   "cell_type": "code",
   "execution_count": null,
   "metadata": {
    "id": "e_US-83Se4XU"
   },
   "outputs": [],
   "source": [
    "import numpy as np\n",
    "from skimage import io, color\n",
    "from skimage.util import view_as_windows\n",
    "import matplotlib.pyplot as plt\n",
    "from sklearn.decomposition import PCA\n",
    "import cv2\n",
    "\n",
    "def read_image(image_path):\n",
    "    return io.imread(image_path)\n",
    "\n",
    "def convert_to_grayscale(image):\n",
    "    if len(image.shape) == 2 or (len(image.shape) == 3 and image.shape[2] == 1):\n",
    "        return image\n",
    "    return color.rgb2gray(image)\n",
    "\n",
    "def create_mask(image_shape, mask_coords):\n",
    "    mask = np.zeros(image_shape, dtype=bool)\n",
    "    for (x, y, w, h) in mask_coords:\n",
    "        mask[y:y+h, x:x+w] = True\n",
    "    return mask\n",
    "\n",
    "def extract_patches(image, patch_size):\n",
    "    patches = view_as_windows(image, (patch_size, patch_size), step=1)\n",
    "    return patches\n",
    "\n",
    "def perform_svd(patches):\n",
    "    U_list, S_list, Vt_list = [], [], []\n",
    "    for patch in patches:\n",
    "        try:\n",
    "            U, S, Vt = np.linalg.svd(patch, full_matrices=False)\n",
    "            U_list.append(U)\n",
    "            S_list.append(S)\n",
    "            Vt_list.append(Vt)\n",
    "        except np.linalg.LinAlgError:\n",
    "            U_list.append(None)\n",
    "            S_list.append(None)\n",
    "            Vt_list.append(None)\n",
    "    return U_list, S_list, Vt_list\n",
    "\n",
    "def perform_pca(patches, n_components):\n",
    "    patches_flat = patches.reshape(patches.shape[0], -1)\n",
    "    pca = PCA(n_components=n_components)\n",
    "    pca.fit(patches_flat)\n",
    "    transformed = pca.transform(patches_flat)\n",
    "    reconstructed = pca.inverse_transform(transformed)\n",
    "    return transformed, reconstructed.reshape(patches.shape), pca.components_\n",
    "\n",
    "def find_similar_patches(patches, goal_patch, patch_size):\n",
    "    similarities = []\n",
    "    for patch in patches:\n",
    "        if not np.isnan(patch).any():\n",
    "            similarity = np.linalg.norm(goal_patch - patch)\n",
    "            similarities.append((similarity, patch))\n",
    "    similarities.sort(key=lambda x: x[0])\n",
    "    return [patch for _, patch in similarities[:10]]  # Return top 10 similar patches\n",
    "\n",
    "def replace_patch(image, patch, mask, x, y, patch_size):\n",
    "    valid_mask = ~mask[y:y+patch_size, x:x+patch_size]\n",
    "    image[y:y+patch_size, x:x+patch_size][valid_mask] = patch[valid_mask]\n",
    "\n",
    "def inpaint_image(image, mask, patch_size):\n",
    "    image = image.copy()\n",
    "    patches = extract_patches(image, patch_size)\n",
    "    mask_patches = extract_patches(mask.astype(float), patch_size)\n",
    "\n",
    "    while np.any(mask):\n",
    "        mask_sums = mask_patches.sum(axis=(2, 3))\n",
    "        target_idx = np.argmin(mask_sums)\n",
    "        target_y, target_x = np.unravel_index(target_idx, mask_sums.shape)\n",
    "        target_patch = patches[target_y, target_x]\n",
    "\n",
    "        similar_patches = find_similar_patches(patches.reshape(-1, patch_size, patch_size), target_patch, patch_size)\n",
    "        best_patch = np.mean(similar_patches, axis=0)\n",
    "\n",
    "        replace_patch(image, best_patch, mask, target_x, target_y, patch_size)\n",
    "        mask[target_y:target_y+patch_size, target_x:target_x+patch_size] = False\n",
    "        patches = extract_patches(image, patch_size)\n",
    "        mask_patches = extract_patches(mask.astype(float), patch_size)\n",
    "\n",
    "    return image\n",
    "\n",
    "def main(image_path, mask_coords, patch_size, k):\n",
    "    image = read_image(image_path)\n",
    "    grayscale_image = convert_to_grayscale(image)\n",
    "    mask = create_mask(grayscale_image.shape, mask_coords)\n",
    "\n",
    "    # SVD and PCA processing\n",
    "    patches = extract_patches(grayscale_image, patch_size).reshape(-1, patch_size, patch_size)\n",
    "    U_list, S_list, Vt_list = perform_svd(patches)\n",
    "    transformed, reconstructed_pca, components_pca = perform_pca(patches, k)\n",
    "\n",
    "    # Display SVD and PCA results\n",
    "    plt.figure(figsize=(18, 9))\n",
    "    plt.subplot(2, 3, 1)\n",
    "    plt.title(\"Original Image\")\n",
    "    plt.imshow(grayscale_image, cmap='gray')\n",
    "    plt.subplot(2, 3, 2)\n",
    "    plt.title(\"SVD U Matrix\")\n",
    "    plt.imshow(U_list[0], cmap='gray')\n",
    "    plt.subplot(2, 3, 3)\n",
    "    plt.title(\"SVD S Values\")\n",
    "    plt.plot(S_list[0])\n",
    "    plt.subplot(2, 3, 4)\n",
    "    plt.title(\"SVD Vt Matrix\")\n",
    "    plt.imshow(Vt_list[0], cmap='gray')\n",
    "    plt.subplot(2, 3, 5)\n",
    "    plt.title(\"PCA Low Rank\")\n",
    "    plt.imshow(components_pca[0].reshape(patch_size, patch_size), cmap='gray')\n",
    "    plt.subplot(2, 3, 6)\n",
    "    plt.title(\"PCA Sparse\")\n",
    "    plt.imshow(reconstructed_pca[0], cmap='gray')\n",
    "    plt.show()\n",
    "\n",
    "    # Inpainting\n",
    "    inpainted_image = inpaint_image(grayscale_image, mask, patch_size)\n",
    "\n",
    "    plt.figure(figsize=(18, 6))\n",
    "    plt.subplot(1, 3, 1)\n",
    "    plt.title(\"Original Image\")\n",
    "    plt.imshow(grayscale_image, cmap='gray')\n",
    "    plt.subplot(1, 3, 2)\n",
    "    plt.title(\"Mask\")\n",
    "    plt.imshow(mask, cmap='gray')\n",
    "    plt.subplot(1, 3, 3)\n",
    "    plt.title(\"Inpainted Image\")\n",
    "    plt.imshow(inpainted_image, cmap='gray')\n",
    "    plt.show()\n"
   ]
  },
  {
   "cell_type": "code",
   "execution_count": null,
   "metadata": {
    "id": "_WWjlVtAd12O"
   },
   "outputs": [],
   "source": [
    "\n",
    "# Example Usage\n",
    "image_path = '22.png'\n",
    "mask_coords = [(300, 55, 100, 200)]  # Example coordinates (x, y, width, height)\n",
    "patch_size = 9  # Example patch size\n",
    "k = 50  # Top k% singular values to keep for SVD or top k principal components for PCA\n",
    "main(image_path, mask_coords, patch_size, k)\n"
   ]
  }
 ],
 "metadata": {
  "colab": {
   "provenance": []
  },
  "kernelspec": {
   "display_name": "Python 3 (ipykernel)",
   "language": "python",
   "name": "python3"
  },
  "language_info": {
   "codemirror_mode": {
    "name": "ipython",
    "version": 3
   },
   "file_extension": ".py",
   "mimetype": "text/x-python",
   "name": "python",
   "nbconvert_exporter": "python",
   "pygments_lexer": "ipython3",
   "version": "3.10.12"
  }
 },
 "nbformat": 4,
 "nbformat_minor": 4
}
