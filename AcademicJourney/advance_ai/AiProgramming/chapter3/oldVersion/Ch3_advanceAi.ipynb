{
  "nbformat": 4,
  "nbformat_minor": 0,
  "metadata": {
    "colab": {
      "provenance": [],
      "authorship_tag": "ABX9TyNIUX8p15+lCS0JfvaBvQau",
      "include_colab_link": true
    },
    "kernelspec": {
      "name": "python3",
      "display_name": "Python 3"
    },
    "language_info": {
      "name": "python"
    }
  },
  "cells": [
    {
      "cell_type": "markdown",
      "metadata": {
        "id": "view-in-github",
        "colab_type": "text"
      },
      "source": [
        "<a href=\"https://colab.research.google.com/github/fjadidi2001/Artificial_Intelligence_Learning/blob/master/Ch3_advanceAi.ipynb\" target=\"_parent\"><img src=\"https://colab.research.google.com/assets/colab-badge.svg\" alt=\"Open In Colab\"/></a>"
      ]
    },
    {
      "cell_type": "code",
      "source": [
        "#Example 3.1 Python SVM Classifications\n",
        "from sklearn import svm\n",
        "X = [[170, 70, 10], [180, 80,12], [170, 65, 8],[160, 55, 7]]\n",
        "#Height[cm], Weight[kg], Shoesize[UK]\n",
        "y = [0, 0, 1, 1]\n",
        "#Gender, 0: Male, 1: Female\n",
        "clf = svm.SVC()\n",
        "clf.fit(X, y)\n",
        "#Predict\n",
        "p = clf.predict([[160, 60, 7]])\n",
        "print(p)"
      ],
      "metadata": {
        "colab": {
          "base_uri": "https://localhost:8080/"
        },
        "id": "UX9P1UMP5sVE",
        "outputId": "849f8703-9608-432c-b503-44a7b33db7d7"
      },
      "execution_count": 2,
      "outputs": [
        {
          "output_type": "stream",
          "name": "stdout",
          "text": [
            "[1]\n"
          ]
        }
      ]
    },
    {
      "cell_type": "code",
      "source": [
        "#EXERCISE 3.1 Python SVM Classifications\n",
        "from sklearn import svm\n",
        "X = [[170, 70, 10], [180, 80,12], [170, 65, 8],[160, 55, 7],[179, 53, 11],[150, 47, 8], [185 , 52, 9]]\n",
        "#Height[cm], Weight[kg], Shoesize[UK]\n",
        "y = [0, 0, 1, 1, 0, 1, 1]\n",
        "#Gender, 0: Male, 1: Female\n",
        "clf = svm.SVC()\n",
        "clf.fit(X, y)\n",
        "#Predict\n",
        "p = clf.predict([[160, 60, 7]])\n",
        "print(p)"
      ],
      "metadata": {
        "colab": {
          "base_uri": "https://localhost:8080/"
        },
        "id": "67RPboOa6GNZ",
        "outputId": "0b41cb3b-c871-4377-cf1b-7e2ab9cebde3"
      },
      "execution_count": 4,
      "outputs": [
        {
          "output_type": "stream",
          "name": "stdout",
          "text": [
            "[1]\n"
          ]
        }
      ]
    }
  ]
}