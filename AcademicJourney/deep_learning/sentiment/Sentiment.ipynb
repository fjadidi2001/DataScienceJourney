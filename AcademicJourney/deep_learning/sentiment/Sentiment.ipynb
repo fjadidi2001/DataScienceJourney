{
  "nbformat": 4,
  "nbformat_minor": 0,
  "metadata": {
    "colab": {
      "provenance": [],
      "gpuType": "T4"
    },
    "kernelspec": {
      "name": "python3",
      "display_name": "Python 3"
    },
    "language_info": {
      "name": "python"
    },
    "widgets": {
      "application/vnd.jupyter.widget-state+json": {
        "60fdb6e294af45a0bb8c3cb1bad57994": {
          "model_module": "@jupyter-widgets/controls",
          "model_name": "HBoxModel",
          "model_module_version": "1.5.0",
          "state": {
            "_dom_classes": [],
            "_model_module": "@jupyter-widgets/controls",
            "_model_module_version": "1.5.0",
            "_model_name": "HBoxModel",
            "_view_count": null,
            "_view_module": "@jupyter-widgets/controls",
            "_view_module_version": "1.5.0",
            "_view_name": "HBoxView",
            "box_style": "",
            "children": [
              "IPY_MODEL_4c5a38a152fb424ab9632cb40caeedb0",
              "IPY_MODEL_6d60ad629cd54cde95a09a6aeef396cb",
              "IPY_MODEL_db575ca609a24b2d946b23d75a3d9693"
            ],
            "layout": "IPY_MODEL_ae072655a48147feb1a3ed6bd7bd24de"
          }
        },
        "4c5a38a152fb424ab9632cb40caeedb0": {
          "model_module": "@jupyter-widgets/controls",
          "model_name": "HTMLModel",
          "model_module_version": "1.5.0",
          "state": {
            "_dom_classes": [],
            "_model_module": "@jupyter-widgets/controls",
            "_model_module_version": "1.5.0",
            "_model_name": "HTMLModel",
            "_view_count": null,
            "_view_module": "@jupyter-widgets/controls",
            "_view_module_version": "1.5.0",
            "_view_name": "HTMLView",
            "description": "",
            "description_tooltip": null,
            "layout": "IPY_MODEL_ca40b017dff449b0975ac5dc21019dab",
            "placeholder": "​",
            "style": "IPY_MODEL_4564030164f94f739f82cce4f5b22c81",
            "value": "config.json: 100%"
          }
        },
        "6d60ad629cd54cde95a09a6aeef396cb": {
          "model_module": "@jupyter-widgets/controls",
          "model_name": "FloatProgressModel",
          "model_module_version": "1.5.0",
          "state": {
            "_dom_classes": [],
            "_model_module": "@jupyter-widgets/controls",
            "_model_module_version": "1.5.0",
            "_model_name": "FloatProgressModel",
            "_view_count": null,
            "_view_module": "@jupyter-widgets/controls",
            "_view_module_version": "1.5.0",
            "_view_name": "ProgressView",
            "bar_style": "success",
            "description": "",
            "description_tooltip": null,
            "layout": "IPY_MODEL_7d1bb673f323431dbd2f4ad8c63d187d",
            "max": 434,
            "min": 0,
            "orientation": "horizontal",
            "style": "IPY_MODEL_24ad4cf9011e43b9a87647d4d83737b5",
            "value": 434
          }
        },
        "db575ca609a24b2d946b23d75a3d9693": {
          "model_module": "@jupyter-widgets/controls",
          "model_name": "HTMLModel",
          "model_module_version": "1.5.0",
          "state": {
            "_dom_classes": [],
            "_model_module": "@jupyter-widgets/controls",
            "_model_module_version": "1.5.0",
            "_model_name": "HTMLModel",
            "_view_count": null,
            "_view_module": "@jupyter-widgets/controls",
            "_view_module_version": "1.5.0",
            "_view_name": "HTMLView",
            "description": "",
            "description_tooltip": null,
            "layout": "IPY_MODEL_83cbc306e8c84770848a03abad65a395",
            "placeholder": "​",
            "style": "IPY_MODEL_8946b040e5974e0d9a998556e533635d",
            "value": " 434/434 [00:00&lt;00:00, 31.5kB/s]"
          }
        },
        "ae072655a48147feb1a3ed6bd7bd24de": {
          "model_module": "@jupyter-widgets/base",
          "model_name": "LayoutModel",
          "model_module_version": "1.2.0",
          "state": {
            "_model_module": "@jupyter-widgets/base",
            "_model_module_version": "1.2.0",
            "_model_name": "LayoutModel",
            "_view_count": null,
            "_view_module": "@jupyter-widgets/base",
            "_view_module_version": "1.2.0",
            "_view_name": "LayoutView",
            "align_content": null,
            "align_items": null,
            "align_self": null,
            "border": null,
            "bottom": null,
            "display": null,
            "flex": null,
            "flex_flow": null,
            "grid_area": null,
            "grid_auto_columns": null,
            "grid_auto_flow": null,
            "grid_auto_rows": null,
            "grid_column": null,
            "grid_gap": null,
            "grid_row": null,
            "grid_template_areas": null,
            "grid_template_columns": null,
            "grid_template_rows": null,
            "height": null,
            "justify_content": null,
            "justify_items": null,
            "left": null,
            "margin": null,
            "max_height": null,
            "max_width": null,
            "min_height": null,
            "min_width": null,
            "object_fit": null,
            "object_position": null,
            "order": null,
            "overflow": null,
            "overflow_x": null,
            "overflow_y": null,
            "padding": null,
            "right": null,
            "top": null,
            "visibility": null,
            "width": null
          }
        },
        "ca40b017dff449b0975ac5dc21019dab": {
          "model_module": "@jupyter-widgets/base",
          "model_name": "LayoutModel",
          "model_module_version": "1.2.0",
          "state": {
            "_model_module": "@jupyter-widgets/base",
            "_model_module_version": "1.2.0",
            "_model_name": "LayoutModel",
            "_view_count": null,
            "_view_module": "@jupyter-widgets/base",
            "_view_module_version": "1.2.0",
            "_view_name": "LayoutView",
            "align_content": null,
            "align_items": null,
            "align_self": null,
            "border": null,
            "bottom": null,
            "display": null,
            "flex": null,
            "flex_flow": null,
            "grid_area": null,
            "grid_auto_columns": null,
            "grid_auto_flow": null,
            "grid_auto_rows": null,
            "grid_column": null,
            "grid_gap": null,
            "grid_row": null,
            "grid_template_areas": null,
            "grid_template_columns": null,
            "grid_template_rows": null,
            "height": null,
            "justify_content": null,
            "justify_items": null,
            "left": null,
            "margin": null,
            "max_height": null,
            "max_width": null,
            "min_height": null,
            "min_width": null,
            "object_fit": null,
            "object_position": null,
            "order": null,
            "overflow": null,
            "overflow_x": null,
            "overflow_y": null,
            "padding": null,
            "right": null,
            "top": null,
            "visibility": null,
            "width": null
          }
        },
        "4564030164f94f739f82cce4f5b22c81": {
          "model_module": "@jupyter-widgets/controls",
          "model_name": "DescriptionStyleModel",
          "model_module_version": "1.5.0",
          "state": {
            "_model_module": "@jupyter-widgets/controls",
            "_model_module_version": "1.5.0",
            "_model_name": "DescriptionStyleModel",
            "_view_count": null,
            "_view_module": "@jupyter-widgets/base",
            "_view_module_version": "1.2.0",
            "_view_name": "StyleView",
            "description_width": ""
          }
        },
        "7d1bb673f323431dbd2f4ad8c63d187d": {
          "model_module": "@jupyter-widgets/base",
          "model_name": "LayoutModel",
          "model_module_version": "1.2.0",
          "state": {
            "_model_module": "@jupyter-widgets/base",
            "_model_module_version": "1.2.0",
            "_model_name": "LayoutModel",
            "_view_count": null,
            "_view_module": "@jupyter-widgets/base",
            "_view_module_version": "1.2.0",
            "_view_name": "LayoutView",
            "align_content": null,
            "align_items": null,
            "align_self": null,
            "border": null,
            "bottom": null,
            "display": null,
            "flex": null,
            "flex_flow": null,
            "grid_area": null,
            "grid_auto_columns": null,
            "grid_auto_flow": null,
            "grid_auto_rows": null,
            "grid_column": null,
            "grid_gap": null,
            "grid_row": null,
            "grid_template_areas": null,
            "grid_template_columns": null,
            "grid_template_rows": null,
            "height": null,
            "justify_content": null,
            "justify_items": null,
            "left": null,
            "margin": null,
            "max_height": null,
            "max_width": null,
            "min_height": null,
            "min_width": null,
            "object_fit": null,
            "object_position": null,
            "order": null,
            "overflow": null,
            "overflow_x": null,
            "overflow_y": null,
            "padding": null,
            "right": null,
            "top": null,
            "visibility": null,
            "width": null
          }
        },
        "24ad4cf9011e43b9a87647d4d83737b5": {
          "model_module": "@jupyter-widgets/controls",
          "model_name": "ProgressStyleModel",
          "model_module_version": "1.5.0",
          "state": {
            "_model_module": "@jupyter-widgets/controls",
            "_model_module_version": "1.5.0",
            "_model_name": "ProgressStyleModel",
            "_view_count": null,
            "_view_module": "@jupyter-widgets/base",
            "_view_module_version": "1.2.0",
            "_view_name": "StyleView",
            "bar_color": null,
            "description_width": ""
          }
        },
        "83cbc306e8c84770848a03abad65a395": {
          "model_module": "@jupyter-widgets/base",
          "model_name": "LayoutModel",
          "model_module_version": "1.2.0",
          "state": {
            "_model_module": "@jupyter-widgets/base",
            "_model_module_version": "1.2.0",
            "_model_name": "LayoutModel",
            "_view_count": null,
            "_view_module": "@jupyter-widgets/base",
            "_view_module_version": "1.2.0",
            "_view_name": "LayoutView",
            "align_content": null,
            "align_items": null,
            "align_self": null,
            "border": null,
            "bottom": null,
            "display": null,
            "flex": null,
            "flex_flow": null,
            "grid_area": null,
            "grid_auto_columns": null,
            "grid_auto_flow": null,
            "grid_auto_rows": null,
            "grid_column": null,
            "grid_gap": null,
            "grid_row": null,
            "grid_template_areas": null,
            "grid_template_columns": null,
            "grid_template_rows": null,
            "height": null,
            "justify_content": null,
            "justify_items": null,
            "left": null,
            "margin": null,
            "max_height": null,
            "max_width": null,
            "min_height": null,
            "min_width": null,
            "object_fit": null,
            "object_position": null,
            "order": null,
            "overflow": null,
            "overflow_x": null,
            "overflow_y": null,
            "padding": null,
            "right": null,
            "top": null,
            "visibility": null,
            "width": null
          }
        },
        "8946b040e5974e0d9a998556e533635d": {
          "model_module": "@jupyter-widgets/controls",
          "model_name": "DescriptionStyleModel",
          "model_module_version": "1.5.0",
          "state": {
            "_model_module": "@jupyter-widgets/controls",
            "_model_module_version": "1.5.0",
            "_model_name": "DescriptionStyleModel",
            "_view_count": null,
            "_view_module": "@jupyter-widgets/base",
            "_view_module_version": "1.2.0",
            "_view_name": "StyleView",
            "description_width": ""
          }
        },
        "a3ef28a702b64712b0873d6db4b5edfa": {
          "model_module": "@jupyter-widgets/controls",
          "model_name": "HBoxModel",
          "model_module_version": "1.5.0",
          "state": {
            "_dom_classes": [],
            "_model_module": "@jupyter-widgets/controls",
            "_model_module_version": "1.5.0",
            "_model_name": "HBoxModel",
            "_view_count": null,
            "_view_module": "@jupyter-widgets/controls",
            "_view_module_version": "1.5.0",
            "_view_name": "HBoxView",
            "box_style": "",
            "children": [
              "IPY_MODEL_e1bbcb6ebe3c4cfab6f32be997a94885",
              "IPY_MODEL_9a35957f4f0442e78903e94f8bbc3c41",
              "IPY_MODEL_b227686a1ab044bea68b286bdae87eb6"
            ],
            "layout": "IPY_MODEL_6d11f5e1d1544a73b357ba9f19226bf0"
          }
        },
        "e1bbcb6ebe3c4cfab6f32be997a94885": {
          "model_module": "@jupyter-widgets/controls",
          "model_name": "HTMLModel",
          "model_module_version": "1.5.0",
          "state": {
            "_dom_classes": [],
            "_model_module": "@jupyter-widgets/controls",
            "_model_module_version": "1.5.0",
            "_model_name": "HTMLModel",
            "_view_count": null,
            "_view_module": "@jupyter-widgets/controls",
            "_view_module_version": "1.5.0",
            "_view_name": "HTMLView",
            "description": "",
            "description_tooltip": null,
            "layout": "IPY_MODEL_e99317e1dcd7460ebd4863ce2f91c37d",
            "placeholder": "​",
            "style": "IPY_MODEL_b5049e29127b459e8d948bdf2bdeeabf",
            "value": "vocab.txt: 100%"
          }
        },
        "9a35957f4f0442e78903e94f8bbc3c41": {
          "model_module": "@jupyter-widgets/controls",
          "model_name": "FloatProgressModel",
          "model_module_version": "1.5.0",
          "state": {
            "_dom_classes": [],
            "_model_module": "@jupyter-widgets/controls",
            "_model_module_version": "1.5.0",
            "_model_name": "FloatProgressModel",
            "_view_count": null,
            "_view_module": "@jupyter-widgets/controls",
            "_view_module_version": "1.5.0",
            "_view_name": "ProgressView",
            "bar_style": "success",
            "description": "",
            "description_tooltip": null,
            "layout": "IPY_MODEL_11b8952960fc47dfa9dcfe9a3e75d8ae",
            "max": 1215509,
            "min": 0,
            "orientation": "horizontal",
            "style": "IPY_MODEL_2ea905ce2bf443dd83de5e22ccee952b",
            "value": 1215509
          }
        },
        "b227686a1ab044bea68b286bdae87eb6": {
          "model_module": "@jupyter-widgets/controls",
          "model_name": "HTMLModel",
          "model_module_version": "1.5.0",
          "state": {
            "_dom_classes": [],
            "_model_module": "@jupyter-widgets/controls",
            "_model_module_version": "1.5.0",
            "_model_name": "HTMLModel",
            "_view_count": null,
            "_view_module": "@jupyter-widgets/controls",
            "_view_module_version": "1.5.0",
            "_view_name": "HTMLView",
            "description": "",
            "description_tooltip": null,
            "layout": "IPY_MODEL_12dd554a8d664a7ba3f41a8d0ce1ab21",
            "placeholder": "​",
            "style": "IPY_MODEL_75b422c257514e45a7f094e3431741e7",
            "value": " 1.22M/1.22M [00:00&lt;00:00, 4.64MB/s]"
          }
        },
        "6d11f5e1d1544a73b357ba9f19226bf0": {
          "model_module": "@jupyter-widgets/base",
          "model_name": "LayoutModel",
          "model_module_version": "1.2.0",
          "state": {
            "_model_module": "@jupyter-widgets/base",
            "_model_module_version": "1.2.0",
            "_model_name": "LayoutModel",
            "_view_count": null,
            "_view_module": "@jupyter-widgets/base",
            "_view_module_version": "1.2.0",
            "_view_name": "LayoutView",
            "align_content": null,
            "align_items": null,
            "align_self": null,
            "border": null,
            "bottom": null,
            "display": null,
            "flex": null,
            "flex_flow": null,
            "grid_area": null,
            "grid_auto_columns": null,
            "grid_auto_flow": null,
            "grid_auto_rows": null,
            "grid_column": null,
            "grid_gap": null,
            "grid_row": null,
            "grid_template_areas": null,
            "grid_template_columns": null,
            "grid_template_rows": null,
            "height": null,
            "justify_content": null,
            "justify_items": null,
            "left": null,
            "margin": null,
            "max_height": null,
            "max_width": null,
            "min_height": null,
            "min_width": null,
            "object_fit": null,
            "object_position": null,
            "order": null,
            "overflow": null,
            "overflow_x": null,
            "overflow_y": null,
            "padding": null,
            "right": null,
            "top": null,
            "visibility": null,
            "width": null
          }
        },
        "e99317e1dcd7460ebd4863ce2f91c37d": {
          "model_module": "@jupyter-widgets/base",
          "model_name": "LayoutModel",
          "model_module_version": "1.2.0",
          "state": {
            "_model_module": "@jupyter-widgets/base",
            "_model_module_version": "1.2.0",
            "_model_name": "LayoutModel",
            "_view_count": null,
            "_view_module": "@jupyter-widgets/base",
            "_view_module_version": "1.2.0",
            "_view_name": "LayoutView",
            "align_content": null,
            "align_items": null,
            "align_self": null,
            "border": null,
            "bottom": null,
            "display": null,
            "flex": null,
            "flex_flow": null,
            "grid_area": null,
            "grid_auto_columns": null,
            "grid_auto_flow": null,
            "grid_auto_rows": null,
            "grid_column": null,
            "grid_gap": null,
            "grid_row": null,
            "grid_template_areas": null,
            "grid_template_columns": null,
            "grid_template_rows": null,
            "height": null,
            "justify_content": null,
            "justify_items": null,
            "left": null,
            "margin": null,
            "max_height": null,
            "max_width": null,
            "min_height": null,
            "min_width": null,
            "object_fit": null,
            "object_position": null,
            "order": null,
            "overflow": null,
            "overflow_x": null,
            "overflow_y": null,
            "padding": null,
            "right": null,
            "top": null,
            "visibility": null,
            "width": null
          }
        },
        "b5049e29127b459e8d948bdf2bdeeabf": {
          "model_module": "@jupyter-widgets/controls",
          "model_name": "DescriptionStyleModel",
          "model_module_version": "1.5.0",
          "state": {
            "_model_module": "@jupyter-widgets/controls",
            "_model_module_version": "1.5.0",
            "_model_name": "DescriptionStyleModel",
            "_view_count": null,
            "_view_module": "@jupyter-widgets/base",
            "_view_module_version": "1.2.0",
            "_view_name": "StyleView",
            "description_width": ""
          }
        },
        "11b8952960fc47dfa9dcfe9a3e75d8ae": {
          "model_module": "@jupyter-widgets/base",
          "model_name": "LayoutModel",
          "model_module_version": "1.2.0",
          "state": {
            "_model_module": "@jupyter-widgets/base",
            "_model_module_version": "1.2.0",
            "_model_name": "LayoutModel",
            "_view_count": null,
            "_view_module": "@jupyter-widgets/base",
            "_view_module_version": "1.2.0",
            "_view_name": "LayoutView",
            "align_content": null,
            "align_items": null,
            "align_self": null,
            "border": null,
            "bottom": null,
            "display": null,
            "flex": null,
            "flex_flow": null,
            "grid_area": null,
            "grid_auto_columns": null,
            "grid_auto_flow": null,
            "grid_auto_rows": null,
            "grid_column": null,
            "grid_gap": null,
            "grid_row": null,
            "grid_template_areas": null,
            "grid_template_columns": null,
            "grid_template_rows": null,
            "height": null,
            "justify_content": null,
            "justify_items": null,
            "left": null,
            "margin": null,
            "max_height": null,
            "max_width": null,
            "min_height": null,
            "min_width": null,
            "object_fit": null,
            "object_position": null,
            "order": null,
            "overflow": null,
            "overflow_x": null,
            "overflow_y": null,
            "padding": null,
            "right": null,
            "top": null,
            "visibility": null,
            "width": null
          }
        },
        "2ea905ce2bf443dd83de5e22ccee952b": {
          "model_module": "@jupyter-widgets/controls",
          "model_name": "ProgressStyleModel",
          "model_module_version": "1.5.0",
          "state": {
            "_model_module": "@jupyter-widgets/controls",
            "_model_module_version": "1.5.0",
            "_model_name": "ProgressStyleModel",
            "_view_count": null,
            "_view_module": "@jupyter-widgets/base",
            "_view_module_version": "1.2.0",
            "_view_name": "StyleView",
            "bar_color": null,
            "description_width": ""
          }
        },
        "12dd554a8d664a7ba3f41a8d0ce1ab21": {
          "model_module": "@jupyter-widgets/base",
          "model_name": "LayoutModel",
          "model_module_version": "1.2.0",
          "state": {
            "_model_module": "@jupyter-widgets/base",
            "_model_module_version": "1.2.0",
            "_model_name": "LayoutModel",
            "_view_count": null,
            "_view_module": "@jupyter-widgets/base",
            "_view_module_version": "1.2.0",
            "_view_name": "LayoutView",
            "align_content": null,
            "align_items": null,
            "align_self": null,
            "border": null,
            "bottom": null,
            "display": null,
            "flex": null,
            "flex_flow": null,
            "grid_area": null,
            "grid_auto_columns": null,
            "grid_auto_flow": null,
            "grid_auto_rows": null,
            "grid_column": null,
            "grid_gap": null,
            "grid_row": null,
            "grid_template_areas": null,
            "grid_template_columns": null,
            "grid_template_rows": null,
            "height": null,
            "justify_content": null,
            "justify_items": null,
            "left": null,
            "margin": null,
            "max_height": null,
            "max_width": null,
            "min_height": null,
            "min_width": null,
            "object_fit": null,
            "object_position": null,
            "order": null,
            "overflow": null,
            "overflow_x": null,
            "overflow_y": null,
            "padding": null,
            "right": null,
            "top": null,
            "visibility": null,
            "width": null
          }
        },
        "75b422c257514e45a7f094e3431741e7": {
          "model_module": "@jupyter-widgets/controls",
          "model_name": "DescriptionStyleModel",
          "model_module_version": "1.5.0",
          "state": {
            "_model_module": "@jupyter-widgets/controls",
            "_model_module_version": "1.5.0",
            "_model_name": "DescriptionStyleModel",
            "_view_count": null,
            "_view_module": "@jupyter-widgets/base",
            "_view_module_version": "1.2.0",
            "_view_name": "StyleView",
            "description_width": ""
          }
        },
        "4efbbb815daa4d2d8cb6a71f8c7cc4fb": {
          "model_module": "@jupyter-widgets/controls",
          "model_name": "HBoxModel",
          "model_module_version": "1.5.0",
          "state": {
            "_dom_classes": [],
            "_model_module": "@jupyter-widgets/controls",
            "_model_module_version": "1.5.0",
            "_model_name": "HBoxModel",
            "_view_count": null,
            "_view_module": "@jupyter-widgets/controls",
            "_view_module_version": "1.5.0",
            "_view_name": "HBoxView",
            "box_style": "",
            "children": [
              "IPY_MODEL_779cee8b9c8547f28bf76f88cbd90c81",
              "IPY_MODEL_026aaa1edbe6488d9973c32d6ac10b41",
              "IPY_MODEL_e0033b4bd6db408aac15210e02b5d3f6"
            ],
            "layout": "IPY_MODEL_aabdd7c2cacd48d6a38fd8cc311c2a71"
          }
        },
        "779cee8b9c8547f28bf76f88cbd90c81": {
          "model_module": "@jupyter-widgets/controls",
          "model_name": "HTMLModel",
          "model_module_version": "1.5.0",
          "state": {
            "_dom_classes": [],
            "_model_module": "@jupyter-widgets/controls",
            "_model_module_version": "1.5.0",
            "_model_name": "HTMLModel",
            "_view_count": null,
            "_view_module": "@jupyter-widgets/controls",
            "_view_module_version": "1.5.0",
            "_view_name": "HTMLView",
            "description": "",
            "description_tooltip": null,
            "layout": "IPY_MODEL_f93a8b78573b469685f3b76cce296bb6",
            "placeholder": "​",
            "style": "IPY_MODEL_e359c8c9be224543b46921789447c929",
            "value": "tf_model.h5: 100%"
          }
        },
        "026aaa1edbe6488d9973c32d6ac10b41": {
          "model_module": "@jupyter-widgets/controls",
          "model_name": "FloatProgressModel",
          "model_module_version": "1.5.0",
          "state": {
            "_dom_classes": [],
            "_model_module": "@jupyter-widgets/controls",
            "_model_module_version": "1.5.0",
            "_model_name": "FloatProgressModel",
            "_view_count": null,
            "_view_module": "@jupyter-widgets/controls",
            "_view_module_version": "1.5.0",
            "_view_name": "ProgressView",
            "bar_style": "success",
            "description": "",
            "description_tooltip": null,
            "layout": "IPY_MODEL_05b6e9fb155e4d229de286ee09230aa2",
            "max": 963211760,
            "min": 0,
            "orientation": "horizontal",
            "style": "IPY_MODEL_befc36105b4b4625824db41b954cc765",
            "value": 963211760
          }
        },
        "e0033b4bd6db408aac15210e02b5d3f6": {
          "model_module": "@jupyter-widgets/controls",
          "model_name": "HTMLModel",
          "model_module_version": "1.5.0",
          "state": {
            "_dom_classes": [],
            "_model_module": "@jupyter-widgets/controls",
            "_model_module_version": "1.5.0",
            "_model_name": "HTMLModel",
            "_view_count": null,
            "_view_module": "@jupyter-widgets/controls",
            "_view_module_version": "1.5.0",
            "_view_name": "HTMLView",
            "description": "",
            "description_tooltip": null,
            "layout": "IPY_MODEL_5839dfc66e2d419ea321c1f4df22c9e5",
            "placeholder": "​",
            "style": "IPY_MODEL_3b3181591c0645b79bdab61656ff5695",
            "value": " 963M/963M [00:09&lt;00:00, 214MB/s]"
          }
        },
        "aabdd7c2cacd48d6a38fd8cc311c2a71": {
          "model_module": "@jupyter-widgets/base",
          "model_name": "LayoutModel",
          "model_module_version": "1.2.0",
          "state": {
            "_model_module": "@jupyter-widgets/base",
            "_model_module_version": "1.2.0",
            "_model_name": "LayoutModel",
            "_view_count": null,
            "_view_module": "@jupyter-widgets/base",
            "_view_module_version": "1.2.0",
            "_view_name": "LayoutView",
            "align_content": null,
            "align_items": null,
            "align_self": null,
            "border": null,
            "bottom": null,
            "display": null,
            "flex": null,
            "flex_flow": null,
            "grid_area": null,
            "grid_auto_columns": null,
            "grid_auto_flow": null,
            "grid_auto_rows": null,
            "grid_column": null,
            "grid_gap": null,
            "grid_row": null,
            "grid_template_areas": null,
            "grid_template_columns": null,
            "grid_template_rows": null,
            "height": null,
            "justify_content": null,
            "justify_items": null,
            "left": null,
            "margin": null,
            "max_height": null,
            "max_width": null,
            "min_height": null,
            "min_width": null,
            "object_fit": null,
            "object_position": null,
            "order": null,
            "overflow": null,
            "overflow_x": null,
            "overflow_y": null,
            "padding": null,
            "right": null,
            "top": null,
            "visibility": null,
            "width": null
          }
        },
        "f93a8b78573b469685f3b76cce296bb6": {
          "model_module": "@jupyter-widgets/base",
          "model_name": "LayoutModel",
          "model_module_version": "1.2.0",
          "state": {
            "_model_module": "@jupyter-widgets/base",
            "_model_module_version": "1.2.0",
            "_model_name": "LayoutModel",
            "_view_count": null,
            "_view_module": "@jupyter-widgets/base",
            "_view_module_version": "1.2.0",
            "_view_name": "LayoutView",
            "align_content": null,
            "align_items": null,
            "align_self": null,
            "border": null,
            "bottom": null,
            "display": null,
            "flex": null,
            "flex_flow": null,
            "grid_area": null,
            "grid_auto_columns": null,
            "grid_auto_flow": null,
            "grid_auto_rows": null,
            "grid_column": null,
            "grid_gap": null,
            "grid_row": null,
            "grid_template_areas": null,
            "grid_template_columns": null,
            "grid_template_rows": null,
            "height": null,
            "justify_content": null,
            "justify_items": null,
            "left": null,
            "margin": null,
            "max_height": null,
            "max_width": null,
            "min_height": null,
            "min_width": null,
            "object_fit": null,
            "object_position": null,
            "order": null,
            "overflow": null,
            "overflow_x": null,
            "overflow_y": null,
            "padding": null,
            "right": null,
            "top": null,
            "visibility": null,
            "width": null
          }
        },
        "e359c8c9be224543b46921789447c929": {
          "model_module": "@jupyter-widgets/controls",
          "model_name": "DescriptionStyleModel",
          "model_module_version": "1.5.0",
          "state": {
            "_model_module": "@jupyter-widgets/controls",
            "_model_module_version": "1.5.0",
            "_model_name": "DescriptionStyleModel",
            "_view_count": null,
            "_view_module": "@jupyter-widgets/base",
            "_view_module_version": "1.2.0",
            "_view_name": "StyleView",
            "description_width": ""
          }
        },
        "05b6e9fb155e4d229de286ee09230aa2": {
          "model_module": "@jupyter-widgets/base",
          "model_name": "LayoutModel",
          "model_module_version": "1.2.0",
          "state": {
            "_model_module": "@jupyter-widgets/base",
            "_model_module_version": "1.2.0",
            "_model_name": "LayoutModel",
            "_view_count": null,
            "_view_module": "@jupyter-widgets/base",
            "_view_module_version": "1.2.0",
            "_view_name": "LayoutView",
            "align_content": null,
            "align_items": null,
            "align_self": null,
            "border": null,
            "bottom": null,
            "display": null,
            "flex": null,
            "flex_flow": null,
            "grid_area": null,
            "grid_auto_columns": null,
            "grid_auto_flow": null,
            "grid_auto_rows": null,
            "grid_column": null,
            "grid_gap": null,
            "grid_row": null,
            "grid_template_areas": null,
            "grid_template_columns": null,
            "grid_template_rows": null,
            "height": null,
            "justify_content": null,
            "justify_items": null,
            "left": null,
            "margin": null,
            "max_height": null,
            "max_width": null,
            "min_height": null,
            "min_width": null,
            "object_fit": null,
            "object_position": null,
            "order": null,
            "overflow": null,
            "overflow_x": null,
            "overflow_y": null,
            "padding": null,
            "right": null,
            "top": null,
            "visibility": null,
            "width": null
          }
        },
        "befc36105b4b4625824db41b954cc765": {
          "model_module": "@jupyter-widgets/controls",
          "model_name": "ProgressStyleModel",
          "model_module_version": "1.5.0",
          "state": {
            "_model_module": "@jupyter-widgets/controls",
            "_model_module_version": "1.5.0",
            "_model_name": "ProgressStyleModel",
            "_view_count": null,
            "_view_module": "@jupyter-widgets/base",
            "_view_module_version": "1.2.0",
            "_view_name": "StyleView",
            "bar_color": null,
            "description_width": ""
          }
        },
        "5839dfc66e2d419ea321c1f4df22c9e5": {
          "model_module": "@jupyter-widgets/base",
          "model_name": "LayoutModel",
          "model_module_version": "1.2.0",
          "state": {
            "_model_module": "@jupyter-widgets/base",
            "_model_module_version": "1.2.0",
            "_model_name": "LayoutModel",
            "_view_count": null,
            "_view_module": "@jupyter-widgets/base",
            "_view_module_version": "1.2.0",
            "_view_name": "LayoutView",
            "align_content": null,
            "align_items": null,
            "align_self": null,
            "border": null,
            "bottom": null,
            "display": null,
            "flex": null,
            "flex_flow": null,
            "grid_area": null,
            "grid_auto_columns": null,
            "grid_auto_flow": null,
            "grid_auto_rows": null,
            "grid_column": null,
            "grid_gap": null,
            "grid_row": null,
            "grid_template_areas": null,
            "grid_template_columns": null,
            "grid_template_rows": null,
            "height": null,
            "justify_content": null,
            "justify_items": null,
            "left": null,
            "margin": null,
            "max_height": null,
            "max_width": null,
            "min_height": null,
            "min_width": null,
            "object_fit": null,
            "object_position": null,
            "order": null,
            "overflow": null,
            "overflow_x": null,
            "overflow_y": null,
            "padding": null,
            "right": null,
            "top": null,
            "visibility": null,
            "width": null
          }
        },
        "3b3181591c0645b79bdab61656ff5695": {
          "model_module": "@jupyter-widgets/controls",
          "model_name": "DescriptionStyleModel",
          "model_module_version": "1.5.0",
          "state": {
            "_model_module": "@jupyter-widgets/controls",
            "_model_module_version": "1.5.0",
            "_model_name": "DescriptionStyleModel",
            "_view_count": null,
            "_view_module": "@jupyter-widgets/base",
            "_view_module_version": "1.2.0",
            "_view_name": "StyleView",
            "description_width": ""
          }
        }
      }
    },
    "accelerator": "GPU"
  },
  "cells": [
    {
      "cell_type": "code",
      "source": [
        "!pip install hazm\n",
        "!pip install bs4\n",
        "!pip install parsivar\n",
        "!pip install emoji\n",
        "!pip install transformers==4.37.2"
      ],
      "metadata": {
        "colab": {
          "base_uri": "https://localhost:8080/"
        },
        "id": "tani4bqRGGoC",
        "outputId": "3901f3f3-3341-4998-f7c6-aeb78811946f",
        "collapsed": true
      },
      "execution_count": null,
      "outputs": [
        {
          "output_type": "stream",
          "name": "stdout",
          "text": [
            "Requirement already satisfied: hazm in /usr/local/lib/python3.10/dist-packages (0.10.0)\n",
            "Requirement already satisfied: fasttext-wheel<0.10.0,>=0.9.2 in /usr/local/lib/python3.10/dist-packages (from hazm) (0.9.2)\n",
            "Requirement already satisfied: flashtext<3.0,>=2.7 in /usr/local/lib/python3.10/dist-packages (from hazm) (2.7)\n",
            "Requirement already satisfied: gensim<5.0.0,>=4.3.1 in /usr/local/lib/python3.10/dist-packages (from hazm) (4.3.2)\n",
            "Requirement already satisfied: nltk<4.0.0,>=3.8.1 in /usr/local/lib/python3.10/dist-packages (from hazm) (3.8.1)\n",
            "Requirement already satisfied: numpy==1.24.3 in /usr/local/lib/python3.10/dist-packages (from hazm) (1.24.3)\n",
            "Requirement already satisfied: python-crfsuite<0.10.0,>=0.9.9 in /usr/local/lib/python3.10/dist-packages (from hazm) (0.9.10)\n",
            "Requirement already satisfied: scikit-learn<2.0.0,>=1.2.2 in /usr/local/lib/python3.10/dist-packages (from hazm) (1.2.2)\n",
            "Requirement already satisfied: pybind11>=2.2 in /usr/local/lib/python3.10/dist-packages (from fasttext-wheel<0.10.0,>=0.9.2->hazm) (2.13.1)\n",
            "Requirement already satisfied: setuptools>=0.7.0 in /usr/local/lib/python3.10/dist-packages (from fasttext-wheel<0.10.0,>=0.9.2->hazm) (67.7.2)\n",
            "Requirement already satisfied: scipy>=1.7.0 in /usr/local/lib/python3.10/dist-packages (from gensim<5.0.0,>=4.3.1->hazm) (1.11.4)\n",
            "Requirement already satisfied: smart-open>=1.8.1 in /usr/local/lib/python3.10/dist-packages (from gensim<5.0.0,>=4.3.1->hazm) (7.0.4)\n",
            "Requirement already satisfied: click in /usr/local/lib/python3.10/dist-packages (from nltk<4.0.0,>=3.8.1->hazm) (8.1.7)\n",
            "Requirement already satisfied: joblib in /usr/local/lib/python3.10/dist-packages (from nltk<4.0.0,>=3.8.1->hazm) (1.4.2)\n",
            "Requirement already satisfied: regex>=2021.8.3 in /usr/local/lib/python3.10/dist-packages (from nltk<4.0.0,>=3.8.1->hazm) (2024.5.15)\n",
            "Requirement already satisfied: tqdm in /usr/local/lib/python3.10/dist-packages (from nltk<4.0.0,>=3.8.1->hazm) (4.66.4)\n",
            "Requirement already satisfied: threadpoolctl>=2.0.0 in /usr/local/lib/python3.10/dist-packages (from scikit-learn<2.0.0,>=1.2.2->hazm) (3.5.0)\n",
            "Requirement already satisfied: wrapt in /usr/local/lib/python3.10/dist-packages (from smart-open>=1.8.1->gensim<5.0.0,>=4.3.1->hazm) (1.14.1)\n",
            "Requirement already satisfied: bs4 in /usr/local/lib/python3.10/dist-packages (0.0.2)\n",
            "Requirement already satisfied: beautifulsoup4 in /usr/local/lib/python3.10/dist-packages (from bs4) (4.12.3)\n",
            "Requirement already satisfied: soupsieve>1.2 in /usr/local/lib/python3.10/dist-packages (from beautifulsoup4->bs4) (2.5)\n",
            "Collecting parsivar\n",
            "  Using cached parsivar-0.2.3.1-py3-none-any.whl (18.0 MB)\n",
            "Requirement already satisfied: nltk>=3.6.6 in /usr/local/lib/python3.10/dist-packages (from parsivar) (3.8.1)\n",
            "Requirement already satisfied: click in /usr/local/lib/python3.10/dist-packages (from nltk>=3.6.6->parsivar) (8.1.7)\n",
            "Requirement already satisfied: joblib in /usr/local/lib/python3.10/dist-packages (from nltk>=3.6.6->parsivar) (1.4.2)\n",
            "Requirement already satisfied: regex>=2021.8.3 in /usr/local/lib/python3.10/dist-packages (from nltk>=3.6.6->parsivar) (2024.5.15)\n",
            "Requirement already satisfied: tqdm in /usr/local/lib/python3.10/dist-packages (from nltk>=3.6.6->parsivar) (4.66.4)\n",
            "Installing collected packages: parsivar\n",
            "Successfully installed parsivar-0.2.3.1\n",
            "Requirement already satisfied: emoji in /usr/local/lib/python3.10/dist-packages (2.12.1)\n",
            "Requirement already satisfied: typing-extensions>=4.7.0 in /usr/local/lib/python3.10/dist-packages (from emoji) (4.12.2)\n",
            "Collecting transformers==4.37.2\n",
            "  Downloading transformers-4.37.2-py3-none-any.whl (8.4 MB)\n",
            "\u001b[2K     \u001b[90m━━━━━━━━━━━━━━━━━━━━━━━━━━━━━━━━━━━━━━━━\u001b[0m \u001b[32m8.4/8.4 MB\u001b[0m \u001b[31m26.2 MB/s\u001b[0m eta \u001b[36m0:00:00\u001b[0m\n",
            "\u001b[?25hRequirement already satisfied: filelock in /usr/local/lib/python3.10/dist-packages (from transformers==4.37.2) (3.15.3)\n",
            "Requirement already satisfied: huggingface-hub<1.0,>=0.19.3 in /usr/local/lib/python3.10/dist-packages (from transformers==4.37.2) (0.23.4)\n",
            "Requirement already satisfied: numpy>=1.17 in /usr/local/lib/python3.10/dist-packages (from transformers==4.37.2) (1.24.3)\n",
            "Requirement already satisfied: packaging>=20.0 in /usr/local/lib/python3.10/dist-packages (from transformers==4.37.2) (24.1)\n",
            "Requirement already satisfied: pyyaml>=5.1 in /usr/local/lib/python3.10/dist-packages (from transformers==4.37.2) (6.0.1)\n",
            "Requirement already satisfied: regex!=2019.12.17 in /usr/local/lib/python3.10/dist-packages (from transformers==4.37.2) (2024.5.15)\n",
            "Requirement already satisfied: requests in /usr/local/lib/python3.10/dist-packages (from transformers==4.37.2) (2.31.0)\n",
            "Collecting tokenizers<0.19,>=0.14 (from transformers==4.37.2)\n",
            "  Downloading tokenizers-0.15.2-cp310-cp310-manylinux_2_17_x86_64.manylinux2014_x86_64.whl (3.6 MB)\n",
            "\u001b[2K     \u001b[90m━━━━━━━━━━━━━━━━━━━━━━━━━━━━━━━━━━━━━━━━\u001b[0m \u001b[32m3.6/3.6 MB\u001b[0m \u001b[31m59.6 MB/s\u001b[0m eta \u001b[36m0:00:00\u001b[0m\n",
            "\u001b[?25hRequirement already satisfied: safetensors>=0.4.1 in /usr/local/lib/python3.10/dist-packages (from transformers==4.37.2) (0.4.3)\n",
            "Requirement already satisfied: tqdm>=4.27 in /usr/local/lib/python3.10/dist-packages (from transformers==4.37.2) (4.66.4)\n",
            "Requirement already satisfied: fsspec>=2023.5.0 in /usr/local/lib/python3.10/dist-packages (from huggingface-hub<1.0,>=0.19.3->transformers==4.37.2) (2023.6.0)\n",
            "Requirement already satisfied: typing-extensions>=3.7.4.3 in /usr/local/lib/python3.10/dist-packages (from huggingface-hub<1.0,>=0.19.3->transformers==4.37.2) (4.12.2)\n",
            "Requirement already satisfied: charset-normalizer<4,>=2 in /usr/local/lib/python3.10/dist-packages (from requests->transformers==4.37.2) (3.3.2)\n",
            "Requirement already satisfied: idna<4,>=2.5 in /usr/local/lib/python3.10/dist-packages (from requests->transformers==4.37.2) (3.7)\n",
            "Requirement already satisfied: urllib3<3,>=1.21.1 in /usr/local/lib/python3.10/dist-packages (from requests->transformers==4.37.2) (2.0.7)\n",
            "Requirement already satisfied: certifi>=2017.4.17 in /usr/local/lib/python3.10/dist-packages (from requests->transformers==4.37.2) (2024.6.2)\n",
            "Installing collected packages: tokenizers, transformers\n",
            "  Attempting uninstall: tokenizers\n",
            "    Found existing installation: tokenizers 0.19.1\n",
            "    Uninstalling tokenizers-0.19.1:\n",
            "      Successfully uninstalled tokenizers-0.19.1\n",
            "  Attempting uninstall: transformers\n",
            "    Found existing installation: transformers 4.41.2\n",
            "    Uninstalling transformers-4.41.2:\n",
            "      Successfully uninstalled transformers-4.41.2\n",
            "Successfully installed tokenizers-0.15.2 transformers-4.37.2\n",
            "Requirement already satisfied: hazm in /usr/local/lib/python3.10/dist-packages (0.10.0)\n",
            "Requirement already satisfied: fasttext-wheel<0.10.0,>=0.9.2 in /usr/local/lib/python3.10/dist-packages (from hazm) (0.9.2)\n",
            "Requirement already satisfied: flashtext<3.0,>=2.7 in /usr/local/lib/python3.10/dist-packages (from hazm) (2.7)\n",
            "Requirement already satisfied: gensim<5.0.0,>=4.3.1 in /usr/local/lib/python3.10/dist-packages (from hazm) (4.3.2)\n",
            "Requirement already satisfied: nltk<4.0.0,>=3.8.1 in /usr/local/lib/python3.10/dist-packages (from hazm) (3.8.1)\n",
            "Requirement already satisfied: numpy==1.24.3 in /usr/local/lib/python3.10/dist-packages (from hazm) (1.24.3)\n",
            "Requirement already satisfied: python-crfsuite<0.10.0,>=0.9.9 in /usr/local/lib/python3.10/dist-packages (from hazm) (0.9.10)\n",
            "Requirement already satisfied: scikit-learn<2.0.0,>=1.2.2 in /usr/local/lib/python3.10/dist-packages (from hazm) (1.2.2)\n",
            "Requirement already satisfied: pybind11>=2.2 in /usr/local/lib/python3.10/dist-packages (from fasttext-wheel<0.10.0,>=0.9.2->hazm) (2.13.1)\n",
            "Requirement already satisfied: setuptools>=0.7.0 in /usr/local/lib/python3.10/dist-packages (from fasttext-wheel<0.10.0,>=0.9.2->hazm) (67.7.2)\n",
            "Requirement already satisfied: scipy>=1.7.0 in /usr/local/lib/python3.10/dist-packages (from gensim<5.0.0,>=4.3.1->hazm) (1.11.4)\n",
            "Requirement already satisfied: smart-open>=1.8.1 in /usr/local/lib/python3.10/dist-packages (from gensim<5.0.0,>=4.3.1->hazm) (7.0.4)\n",
            "Requirement already satisfied: click in /usr/local/lib/python3.10/dist-packages (from nltk<4.0.0,>=3.8.1->hazm) (8.1.7)\n",
            "Requirement already satisfied: joblib in /usr/local/lib/python3.10/dist-packages (from nltk<4.0.0,>=3.8.1->hazm) (1.4.2)\n",
            "Requirement already satisfied: regex>=2021.8.3 in /usr/local/lib/python3.10/dist-packages (from nltk<4.0.0,>=3.8.1->hazm) (2024.5.15)\n",
            "Requirement already satisfied: tqdm in /usr/local/lib/python3.10/dist-packages (from nltk<4.0.0,>=3.8.1->hazm) (4.66.4)\n",
            "Requirement already satisfied: threadpoolctl>=2.0.0 in /usr/local/lib/python3.10/dist-packages (from scikit-learn<2.0.0,>=1.2.2->hazm) (3.5.0)\n",
            "Requirement already satisfied: wrapt in /usr/local/lib/python3.10/dist-packages (from smart-open>=1.8.1->gensim<5.0.0,>=4.3.1->hazm) (1.14.1)\n",
            "Requirement already satisfied: bs4 in /usr/local/lib/python3.10/dist-packages (0.0.2)\n",
            "Requirement already satisfied: beautifulsoup4 in /usr/local/lib/python3.10/dist-packages (from bs4) (4.12.3)\n",
            "Requirement already satisfied: soupsieve>1.2 in /usr/local/lib/python3.10/dist-packages (from beautifulsoup4->bs4) (2.5)\n",
            "Requirement already satisfied: parsivar in /usr/local/lib/python3.10/dist-packages (0.2.3.1)\n",
            "Requirement already satisfied: nltk>=3.6.6 in /usr/local/lib/python3.10/dist-packages (from parsivar) (3.8.1)\n",
            "Requirement already satisfied: click in /usr/local/lib/python3.10/dist-packages (from nltk>=3.6.6->parsivar) (8.1.7)\n",
            "Requirement already satisfied: joblib in /usr/local/lib/python3.10/dist-packages (from nltk>=3.6.6->parsivar) (1.4.2)\n",
            "Requirement already satisfied: regex>=2021.8.3 in /usr/local/lib/python3.10/dist-packages (from nltk>=3.6.6->parsivar) (2024.5.15)\n",
            "Requirement already satisfied: tqdm in /usr/local/lib/python3.10/dist-packages (from nltk>=3.6.6->parsivar) (4.66.4)\n",
            "Requirement already satisfied: emoji in /usr/local/lib/python3.10/dist-packages (2.12.1)\n",
            "Requirement already satisfied: typing-extensions>=4.7.0 in /usr/local/lib/python3.10/dist-packages (from emoji) (4.12.2)\n",
            "Requirement already satisfied: transformers==4.37.2 in /usr/local/lib/python3.10/dist-packages (4.37.2)\n",
            "Requirement already satisfied: filelock in /usr/local/lib/python3.10/dist-packages (from transformers==4.37.2) (3.15.3)\n",
            "Requirement already satisfied: huggingface-hub<1.0,>=0.19.3 in /usr/local/lib/python3.10/dist-packages (from transformers==4.37.2) (0.23.4)\n",
            "Requirement already satisfied: numpy>=1.17 in /usr/local/lib/python3.10/dist-packages (from transformers==4.37.2) (1.24.3)\n",
            "Requirement already satisfied: packaging>=20.0 in /usr/local/lib/python3.10/dist-packages (from transformers==4.37.2) (24.1)\n",
            "Requirement already satisfied: pyyaml>=5.1 in /usr/local/lib/python3.10/dist-packages (from transformers==4.37.2) (6.0.1)\n",
            "Requirement already satisfied: regex!=2019.12.17 in /usr/local/lib/python3.10/dist-packages (from transformers==4.37.2) (2024.5.15)\n",
            "Requirement already satisfied: requests in /usr/local/lib/python3.10/dist-packages (from transformers==4.37.2) (2.31.0)\n",
            "Requirement already satisfied: tokenizers<0.19,>=0.14 in /usr/local/lib/python3.10/dist-packages (from transformers==4.37.2) (0.15.2)\n",
            "Requirement already satisfied: safetensors>=0.4.1 in /usr/local/lib/python3.10/dist-packages (from transformers==4.37.2) (0.4.3)\n",
            "Requirement already satisfied: tqdm>=4.27 in /usr/local/lib/python3.10/dist-packages (from transformers==4.37.2) (4.66.4)\n",
            "Requirement already satisfied: fsspec>=2023.5.0 in /usr/local/lib/python3.10/dist-packages (from huggingface-hub<1.0,>=0.19.3->transformers==4.37.2) (2023.6.0)\n",
            "Requirement already satisfied: typing-extensions>=3.7.4.3 in /usr/local/lib/python3.10/dist-packages (from huggingface-hub<1.0,>=0.19.3->transformers==4.37.2) (4.12.2)\n",
            "Requirement already satisfied: charset-normalizer<4,>=2 in /usr/local/lib/python3.10/dist-packages (from requests->transformers==4.37.2) (3.3.2)\n",
            "Requirement already satisfied: idna<4,>=2.5 in /usr/local/lib/python3.10/dist-packages (from requests->transformers==4.37.2) (3.7)\n",
            "Requirement already satisfied: urllib3<3,>=1.21.1 in /usr/local/lib/python3.10/dist-packages (from requests->transformers==4.37.2) (2.0.7)\n",
            "Requirement already satisfied: certifi>=2017.4.17 in /usr/local/lib/python3.10/dist-packages (from requests->transformers==4.37.2) (2024.6.2)\n"
          ]
        }
      ]
    },
    {
      "cell_type": "code",
      "source": [
        "from google.colab import drive\n",
        "drive.mount('/content/drive')"
      ],
      "metadata": {
        "colab": {
          "base_uri": "https://localhost:8080/"
        },
        "id": "hneU6ZaHHqe8",
        "outputId": "8d6bc719-126d-4463-fccf-d03514937875"
      },
      "execution_count": null,
      "outputs": [
        {
          "output_type": "stream",
          "name": "stdout",
          "text": [
            "Mounted at /content/drive\n"
          ]
        }
      ]
    },
    {
      "cell_type": "code",
      "source": [
        "!unzip '/content/drive/MyDrive/persian-tweets-emotional-dataset.zip'"
      ],
      "metadata": {
        "colab": {
          "base_uri": "https://localhost:8080/"
        },
        "id": "gffwow4HfuE_",
        "outputId": "cc5eac0f-f33e-4aa3-b9b7-b5ec9051c936"
      },
      "execution_count": null,
      "outputs": [
        {
          "output_type": "stream",
          "name": "stdout",
          "text": [
            "Archive:  /content/drive/MyDrive/persian-tweets-emotional-dataset.zip\n",
            "  inflating: anger.csv               \n",
            "  inflating: disgust.csv             \n",
            "  inflating: fear.csv                \n",
            "  inflating: joy.csv                 \n",
            "  inflating: sad.csv                 \n",
            "  inflating: surprise.csv            \n"
          ]
        }
      ]
    },
    {
      "cell_type": "code",
      "source": [
        "import re\n",
        "import pandas as pd\n",
        "from glob import glob\n",
        "from sklearn.model_selection import train_test_split\n",
        "from sklearn.feature_extraction.text import CountVectorizer\n",
        "from sklearn.naive_bayes import GaussianNB\n",
        "from sklearn.ensemble import GradientBoostingClassifier, RandomForestClassifier\n",
        "from sklearn.linear_model import LogisticRegression\n",
        "from sklearn.tree import DecisionTreeClassifier\n",
        "from sklearn.metrics import accuracy_score, precision_score, recall_score, f1_score\n",
        "from transformers import AutoTokenizer, TFAutoModel, TFBertModel\n",
        "import tensorflow as tf\n",
        "from tensorflow.keras.layers import Input, Conv1D, MaxPooling1D, LSTM, Dropout, Dense, GlobalMaxPooling1D\n",
        "from tensorflow.keras.models import Model\n",
        "from tensorflow.keras.optimizers import Adam, SGD\n",
        "import matplotlib.pyplot as plt"
      ],
      "metadata": {
        "id": "3JVMQ2oZeTJO"
      },
      "execution_count": null,
      "outputs": []
    },
    {
      "cell_type": "markdown",
      "source": [
        "# 1.1 Dataset"
      ],
      "metadata": {
        "id": "tjpj_7wF4Cug"
      }
    },
    {
      "cell_type": "code",
      "source": [
        "# Load your dataset from multiple CSV files\n",
        "csv_files = glob('./*.csv')  # Replace with the actual path to your CSV files\n",
        "dfs = []\n",
        "#read and append df\n",
        "for file in csv_files:\n",
        "    df = pd.read_csv(file, usecols=['tweet', 'emotion'])\n",
        "    dfs.append(df)\n",
        "\n",
        "df = pd.concat(dfs, ignore_index=True)\n",
        "print(df.head())\n",
        "# Display bar chart of class distribution\n",
        "emotion_counts = df['emotion'].value_counts()\n",
        "emotion_counts.plot(kind='bar', figsize=(10, 6), color='skyblue')\n",
        "plt.title('Class Distribution in Emotion Column')\n",
        "plt.xlabel('Emotion')\n",
        "plt.ylabel('Number of Samples')\n",
        "plt.show()"
      ],
      "metadata": {
        "colab": {
          "base_uri": "https://localhost:8080/",
          "height": 710
        },
        "id": "4hTUsTeSfYo8",
        "outputId": "6ace3170-ec5d-4f96-9bd4-104548cbc0a2"
      },
      "execution_count": null,
      "outputs": [
        {
          "output_type": "stream",
          "name": "stdout",
          "text": [
            "                                               tweet emotion\n",
            "0  در دلم چیزی ویران شده، چیزی که نمی‌دانم چیست و...    fear\n",
            "1  هرگز نباید در پی حذف اضطراب باشیم. تشویش هموار...    fear\n",
            "2  احساسات به افراد لطمه نمی زنند، دفاع ها لطمه م...    fear\n",
            "3   اتفاقاً اونا از اضطراب و ترس قهرمانی #پرسپولی...    fear\n",
            "4  ❤️در دلم چیزی ویران شده،\\n چیزی که نمی‌دانم چی...    fear\n"
          ]
        },
        {
          "output_type": "display_data",
          "data": {
            "text/plain": [
              "<Figure size 1000x600 with 1 Axes>"
            ],
            "image/png": "[encoded data removed]"
          },
          "metadata": {}
        }
      ]
    },
    {
      "cell_type": "markdown",
      "source": [
        "# 1.2 Data Preprocessing"
      ],
      "metadata": {
        "id": "MxQOrbW14MpW"
      }
    },
    {
      "cell_type": "code",
      "source": [
        "import re\n",
        "from bs4 import BeautifulSoup\n",
        "from hazm import Normalizer, word_tokenize, Stemmer, stopwords_list\n",
        "from parsivar import Normalizer as ParsivarNormalizer\n",
        "from parsivar import SpellCheck\n",
        "import emoji\n",
        "\n",
        "def remove_html_and_urls(text):\n",
        "    # Remove HTML tags\n",
        "    text = BeautifulSoup(text, \"html.parser\").get_text()\n",
        "    # Remove URLs\n",
        "    text = re.sub(r'http\\S+|www\\S+|https\\S+', '', text, flags=re.MULTILINE)\n",
        "    return text\n",
        "\n",
        "def remove_repetitive_characters(text):\n",
        "    text = re.sub(r'(.)\\1{2,}', r'\\1', text)\n",
        "    return text\n",
        "\n",
        "def remove_stopwords(text):\n",
        "    stopwords = stopwords_list()\n",
        "    words = word_tokenize(text)\n",
        "    filtered_words = [word for word in words if word not in stopwords]\n",
        "    return ' '.join(filtered_words)\n",
        "\n",
        "def stemming(text):\n",
        "    stemmer = Stemmer()\n",
        "    words = word_tokenize(text)\n",
        "    stemmed_words = [stemmer.stem(word) for word in words]\n",
        "    return ' '.join(stemmed_words)\n",
        "\n",
        "def replace_emojis(text):\n",
        "    return emoji.demojize(text, language=\"fa\")\n",
        "\n",
        "def preprocess_tweet(tweet):\n",
        "    tweet = remove_html_and_urls(tweet)\n",
        "    tweet = remove_repetitive_characters(tweet)\n",
        "    tweet = remove_stopwords(tweet)\n",
        "    tweet = replace_emojis(tweet)\n",
        "    tweet = stemming(tweet)\n",
        "    #tweet = correct_spelling(tweet)\n",
        "    return tweet\n",
        "\n",
        "df['processed_tweet'] = df['tweet'].apply(preprocess_tweet)"
      ],
      "metadata": {
        "id": "sDpF6x14eX5o",
        "colab": {
          "base_uri": "https://localhost:8080/"
        },
        "outputId": "ee4e5cec-6c45-4fe3-8448-098d25871edb"
      },
      "execution_count": null,
      "outputs": [
        {
          "output_type": "stream",
          "name": "stderr",
          "text": [
            "<ipython-input-7-853b9a9285d6>:10: MarkupResemblesLocatorWarning: The input looks more like a filename than markup. You may want to open this file and pass the filehandle into Beautiful Soup.\n",
            "  text = BeautifulSoup(text, \"html.parser\").get_text()\n"
          ]
        }
      ]
    },
    {
      "cell_type": "code",
      "source": [
        "def preprocess_tweet(tweet):\n",
        "    print(tweet)\n",
        "    print('-------------------------')\n",
        "    tweet = remove_html_and_urls(tweet)\n",
        "    print(tweet)\n",
        "    print('-------------------------')\n",
        "    tweet = remove_repetitive_characters(tweet)\n",
        "    print(tweet)\n",
        "    print('-------------------------')\n",
        "    tweet = remove_stopwords(tweet)\n",
        "    print(tweet)\n",
        "    print('-------------------------')\n",
        "    tweet = replace_emojis(tweet)\n",
        "    print(tweet)\n",
        "    print('-------------------------')\n",
        "    tweet = stemming(tweet)\n",
        "    print(tweet)\n",
        "    #print('-------------------------')\n",
        "    #tweet = correct_spelling(tweet)\n",
        "    return tweet\n",
        "\n",
        "# Preprocess a sample tweet for demonstration\n",
        "sample_tweet = df['tweet'].iloc[0]\n",
        "preprocessed_sample_tweet = preprocess_tweet(sample_tweet)"
      ],
      "metadata": {
        "colab": {
          "base_uri": "https://localhost:8080/"
        },
        "id": "rJUU9EzVKRZT",
        "outputId": "c396c66a-fd2d-4ad8-9aee-fff3642c849b"
      },
      "execution_count": null,
      "outputs": [
        {
          "output_type": "stream",
          "name": "stdout",
          "text": [
            " نمیدونم چی قبول شدی ولی اییییییوللللللل فاااایتیییینگ من بهت افتخار میکنم مونببه گوگولی🥳🥳\n",
            " #monstax\n",
            "-------------------------\n",
            " نمیدونم چی قبول شدی ولی اییییییوللللللل فاااایتیییینگ من بهت افتخار میکنم مونببه گوگولی🥳🥳\n",
            " #monstax\n",
            "-------------------------\n",
            " نمیدونم چی قبول شدی ولی ایول فایتینگ من بهت افتخار میکنم مونببه گوگولی🥳🥳\n",
            " #monstax\n",
            "-------------------------\n",
            "نمیدونم چی قبول شدی ایول فایتینگ بهت افتخار میکنم مونببه گوگولی🥳🥳 #monstax\n",
            "-------------------------\n",
            "نمیدونم چی قبول شدی ایول فایتینگ بهت افتخار میکنم مونببه گوگولی:جشن_و_سور::جشن_و_سور: #monstax\n",
            "-------------------------\n",
            "نمیدون چ قبول شد ایول فایتینگ به افتخار میکن مونببه گوگول : جشن_و_سور :: جشن_و_سور : #monstax\n"
          ]
        }
      ]
    },
    {
      "cell_type": "markdown",
      "source": [
        "# 1.3 Feature Representation"
      ],
      "metadata": {
        "id": "Pyfo0tRe4d9e"
      }
    },
    {
      "cell_type": "code",
      "source": [
        "import gc\n",
        "from transformers import AutoConfig\n",
        "# Load tokenizer\n",
        "tokenizer = AutoTokenizer.from_pretrained(\"HooshvareLab/bert-base-parsbert-uncased\")\n",
        "\n",
        "# Encode tweets\n",
        "def encode_tweets(tweets):\n",
        "    return tokenizer(tweets.tolist(), padding='max_length', truncation=True, max_length=32, return_tensors=\"tf\")\n",
        "\n",
        "X = encode_tweets(df['processed_tweet'])\n",
        "\n",
        "bert_model = TFAutoModel.from_pretrained(\"HooshvareLab/bert-base-parsbert-uncased\")\n",
        "\n",
        "config = AutoConfig.from_pretrained(\"HooshvareLab/bert-base-parsbert-uncased\")\n",
        "config.hidden_size = 120\n",
        "model = TFAutoModel.from_config(config)\n",
        "model.resize_token_embeddings(len(tokenizer))\n",
        "\n",
        "# Get embeddings\n",
        "def get_embeddings(input_ids, attention_mask, batch_size=8):\n",
        "    num_samples = input_ids.shape[0]\n",
        "    all_embeddings = []\n",
        "    for i in range(0, num_samples, batch_size):\n",
        "        batch_input_ids = input_ids[i:i + batch_size]\n",
        "        batch_attention_mask = attention_mask[i:i + batch_size]\n",
        "        outputs = bert_model(batch_input_ids, attention_mask=batch_attention_mask)\n",
        "        last_hidden_state = outputs.last_hidden_state\n",
        "        all_embeddings.append(last_hidden_state)\n",
        "        gc.collect()\n",
        "        return tf.concat(all_embeddings, axis=0)\n",
        "\n",
        "# Get embeddings for the data\n",
        "x_embeddings = get_embeddings(X['input_ids'], X['attention_mask'])"
      ],
      "metadata": {
        "id": "3lzEvvxOrtOb",
        "colab": {
          "base_uri": "https://localhost:8080/",
          "height": 359,
          "referenced_widgets": [
            "60fdb6e294af45a0bb8c3cb1bad57994",
            "4c5a38a152fb424ab9632cb40caeedb0",
            "6d60ad629cd54cde95a09a6aeef396cb",
            "db575ca609a24b2d946b23d75a3d9693",
            "ae072655a48147feb1a3ed6bd7bd24de",
            "ca40b017dff449b0975ac5dc21019dab",
            "4564030164f94f739f82cce4f5b22c81",
            "7d1bb673f323431dbd2f4ad8c63d187d",
            "24ad4cf9011e43b9a87647d4d83737b5",
            "83cbc306e8c84770848a03abad65a395",
            "8946b040e5974e0d9a998556e533635d",
            "a3ef28a702b64712b0873d6db4b5edfa",
            "e1bbcb6ebe3c4cfab6f32be997a94885",
            "9a35957f4f0442e78903e94f8bbc3c41",
            "b227686a1ab044bea68b286bdae87eb6",
            "6d11f5e1d1544a73b357ba9f19226bf0",
            "e99317e1dcd7460ebd4863ce2f91c37d",
            "b5049e29127b459e8d948bdf2bdeeabf",
            "11b8952960fc47dfa9dcfe9a3e75d8ae",
            "2ea905ce2bf443dd83de5e22ccee952b",
            "12dd554a8d664a7ba3f41a8d0ce1ab21",
            "75b422c257514e45a7f094e3431741e7",
            "4efbbb815daa4d2d8cb6a71f8c7cc4fb",
            "779cee8b9c8547f28bf76f88cbd90c81",
            "026aaa1edbe6488d9973c32d6ac10b41",
            "e0033b4bd6db408aac15210e02b5d3f6",
            "aabdd7c2cacd48d6a38fd8cc311c2a71",
            "f93a8b78573b469685f3b76cce296bb6",
            "e359c8c9be224543b46921789447c929",
            "05b6e9fb155e4d229de286ee09230aa2",
            "befc36105b4b4625824db41b954cc765",
            "5839dfc66e2d419ea321c1f4df22c9e5",
            "3b3181591c0645b79bdab61656ff5695"
          ]
        },
        "outputId": "30cc0372-954d-4cd7-a695-766662bda116"
      },
      "execution_count": null,
      "outputs": [
        {
          "output_type": "stream",
          "name": "stderr",
          "text": [
            "/usr/local/lib/python3.10/dist-packages/huggingface_hub/file_download.py:1132: FutureWarning: `resume_download` is deprecated and will be removed in version 1.0.0. Downloads always resume when possible. If you want to force a new download, use `force_download=True`.\n",
            "  warnings.warn(\n",
            "/usr/local/lib/python3.10/dist-packages/huggingface_hub/utils/_token.py:89: UserWarning: \n",
            "The secret `HF_TOKEN` does not exist in your Colab secrets.\n",
            "To authenticate with the Hugging Face Hub, create a token in your settings tab (https://huggingface.co/settings/tokens), set it as secret in your Google Colab and restart your session.\n",
            "You will be able to reuse this secret in all of your notebooks.\n",
            "Please note that authentication is recommended but still optional to access public models or datasets.\n",
            "  warnings.warn(\n"
          ]
        },
        {
          "output_type": "display_data",
          "data": {
            "text/plain": [
              "config.json:   0%|          | 0.00/434 [00:00<?, ?B/s]"
            ],
            "application/vnd.jupyter.widget-view+json": {
              "version_major": 2,
              "version_minor": 0,
              "model_id": "60fdb6e294af45a0bb8c3cb1bad57994"
            }
          },
          "metadata": {}
        },
        {
          "output_type": "display_data",
          "data": {
            "text/plain": [
              "vocab.txt:   0%|          | 0.00/1.22M [00:00<?, ?B/s]"
            ],
            "application/vnd.jupyter.widget-view+json": {
              "version_major": 2,
              "version_minor": 0,
              "model_id": "a3ef28a702b64712b0873d6db4b5edfa"
            }
          },
          "metadata": {}
        },
        {
          "output_type": "display_data",
          "data": {
            "text/plain": [
              "tf_model.h5:   0%|          | 0.00/963M [00:00<?, ?B/s]"
            ],
            "application/vnd.jupyter.widget-view+json": {
              "version_major": 2,
              "version_minor": 0,
              "model_id": "4efbbb815daa4d2d8cb6a71f8c7cc4fb"
            }
          },
          "metadata": {}
        },
        {
          "output_type": "stream",
          "name": "stderr",
          "text": [
            "Some layers from the model checkpoint at HooshvareLab/bert-base-parsbert-uncased were not used when initializing TFBertModel: ['nsp___cls', 'mlm___cls']\n",
            "- This IS expected if you are initializing TFBertModel from the checkpoint of a model trained on another task or with another architecture (e.g. initializing a BertForSequenceClassification model from a BertForPreTraining model).\n",
            "- This IS NOT expected if you are initializing TFBertModel from the checkpoint of a model that you expect to be exactly identical (initializing a BertForSequenceClassification model from a BertForSequenceClassification model).\n",
            "All the layers of TFBertModel were initialized from the model checkpoint at HooshvareLab/bert-base-parsbert-uncased.\n",
            "If your task is similar to the task the model of the checkpoint was trained on, you can already use TFBertModel for predictions without further training.\n"
          ]
        }
      ]
    },
    {
      "cell_type": "markdown",
      "source": [
        "# 1.4 Model Building"
      ],
      "metadata": {
        "id": "M66aNyCL4xur"
      }
    },
    {
      "cell_type": "markdown",
      "source": [
        "## Splitting the Data"
      ],
      "metadata": {
        "id": "_rK9PlCG9Orq"
      }
    },
    {
      "cell_type": "code",
      "source": [
        " truncation=True, max_length=32, return_tensors=\"tf\")\n",
        "\n",
        "# Split dataset for CNN-LSTM, CNN, and LSTM models\n",
        "X_train, X_test, y_train, y_test = train_test_split(df['processed_tweet'], df['emotion'], test_size=0.3, random_state=42)\n",
        "X_train_bert = encode_tweets(X_train)\n",
        "X_test_bert = encode_tweets(X_test)\n",
        "\n",
        "# One-hot encode the labels for multi-class classification\n",
        "y_train_encoded = tf.keras.utils.to_categorical(y_train)\n",
        "y_test_encoded = tf.keras.utils.to_categorical(y_test)"
      ],
      "metadata": {
        "id": "MrwIRq7mOJU5"
      },
      "execution_count": null,
      "outputs": []
    },
    {
      "cell_type": "markdown",
      "source": [
        "## CNN-LSTM"
      ],
      "metadata": {
        "id": "d3kJDzek9F_S"
      }
    },
    {
      "cell_type": "code",
      "source": [
        "# Hyperparameter search space\n",
        "batch_sizes = [8, 64]\n",
        "learning_rates = [0.001, 0.0001]\n",
        "all_outputs = []\n",
        "keys = ['Model', 'Batch', 'Learning Rate', 'Optimizer', 'Accuracy', 'Precision', 'Recall', 'F1 Measure']\n",
        "outputs = {}"
      ],
      "metadata": {
        "id": "Q9Hk3B5ZqMO_"
      },
      "execution_count": null,
      "outputs": []
    },
    {
      "cell_type": "code",
      "source": [
        " for batch in batch_sizes:\n",
        "    for lr in learning_rates:\n",
        "        # CNN-LSTM model\n",
        "        input_ids = Input(shape=(32,), dtype=tf.int32, name='input_ids')\n",
        "        attention_mask = Input(shape=(32,), dtype=tf.int32, name='attention_mask')\n",
        "\n",
        "        bert_model.trainable = False\n",
        "        embeddings = bert_model({'input_ids':input_ids, 'attention_mask':attention_mask})[0]\n",
        "        conv1d = Conv1D(32, kernel_size=5, activation='relu')(embeddings)\n",
        "        max_pooling = MaxPooling1D(pool_size=2)(conv1d)\n",
        "        lstm = LSTM(32)(max_pooling)\n",
        "        dropout = Dropout(0.1)(lstm)\n",
        "        output = Dense(len(df['emotion'].unique()), activation='softmax')(dropout)\n",
        "\n",
        "        cnn_lstm_model = Model(inputs=[input_ids, attention_mask], outputs=output)\n",
        "        optimizer = Adam(learning_rate=lr)\n",
        "        cnn_lstm_model.compile(optimizer=optimizer, loss='categorical_crossentropy', metrics=['accuracy'])\n",
        "        cnn_lstm_model.fit(\n",
        "            {'input_ids': X_train_bert['input_ids'], 'attention_mask': X_train_bert['attention_mask']},\n",
        "            y_train_encoded,\n",
        "            epochs=10,\n",
        "            batch_size=batch,\n",
        "            validation_split=0.2,\n",
        "            verbose=1\n",
        "        )\n",
        "        cnn_lstm_y_pred = cnn_lstm_model.predict(\n",
        "            {'input_ids': X_test_bert['input_ids'], 'attention_mask': X_test_bert['attention_mask']}\n",
        "        )\n",
        "        cnn_lstm_y_pred_classes = tf.argmax(cnn_lstm_y_pred, axis=1).numpy()\n",
        "\n",
        "\n",
        "        cnn_lstm_accuracy = accuracy_score(y_test, cnn_lstm_y_pred_classes)\n",
        "        cnn_lstm_precision = precision_score(y_test, cnn_lstm_y_pred_classes, average='weighted')\n",
        "        cnn_lstm_recall = recall_score(y_test, cnn_lstm_y_pred_classes, average='weighted')\n",
        "        cnn_lstm_f1 = f1_score(y_test, cnn_lstm_y_pred_classes, average='weighted')\n",
        "\n",
        "        outputs.update({'Model': 'CNN-LSTM',\n",
        "                        'Batch': batch,\n",
        "                        'Learning Rate': lr,\n",
        "                        'Optimizer': 'Adam',\n",
        "                        'Accuracy': cnn_lstm_accuracy,\n",
        "                        'Precision': cnn_lstm_precision,\n",
        "                        'Recall': cnn_lstm_recall,\n",
        "                        'F1 Score': cnn_lstm_f1})\n",
        "\n",
        "        print(outputs)\n",
        "\n",
        "        all_outputs.append(outputs)"
      ],
      "metadata": {
        "id": "0vkCRw3PE3lD",
        "colab": {
          "base_uri": "https://localhost:8080/"
        },
        "outputId": "26a05cc5-6a49-417e-869c-928de15fa1bc"
      },
      "execution_count": null,
      "outputs": [
        {
          "output_type": "stream",
          "name": "stdout",
          "text": [
            "Epoch 1/10\n",
            "7968/7968 [==============================] - 213s 26ms/step - loss: 0.9361 - accuracy: 0.6559 - val_loss: 0.6291 - val_accuracy: 0.7833\n",
            "Epoch 2/10\n",
            "7968/7968 [==============================] - 206s 26ms/step - loss: 0.5841 - accuracy: 0.7994 - val_loss: 0.5309 - val_accuracy: 0.8145\n",
            "Epoch 3/10\n",
            "7968/7968 [==============================] - 206s 26ms/step - loss: 0.5195 - accuracy: 0.8197 - val_loss: 0.4979 - val_accuracy: 0.8242\n",
            "Epoch 4/10\n",
            "7968/7968 [==============================] - 206s 26ms/step - loss: 0.4901 - accuracy: 0.8291 - val_loss: 0.4845 - val_accuracy: 0.8326\n",
            "Epoch 5/10\n",
            "7968/7968 [==============================] - 205s 26ms/step - loss: 0.4714 - accuracy: 0.8361 - val_loss: 0.4717 - val_accuracy: 0.8352\n",
            "Epoch 6/10\n",
            "7968/7968 [==============================] - 201s 25ms/step - loss: 0.4552 - accuracy: 0.8421 - val_loss: 0.4674 - val_accuracy: 0.8382\n",
            "Epoch 7/10\n",
            "7968/7968 [==============================] - 205s 26ms/step - loss: 0.4437 - accuracy: 0.8445 - val_loss: 0.4587 - val_accuracy: 0.8376\n",
            "Epoch 8/10\n",
            "7968/7968 [==============================] - 206s 26ms/step - loss: 0.4341 - accuracy: 0.8489 - val_loss: 0.4437 - val_accuracy: 0.8437\n",
            "Epoch 9/10\n",
            "7968/7968 [==============================] - 205s 26ms/step - loss: 0.4248 - accuracy: 0.8509 - val_loss: 0.4518 - val_accuracy: 0.8427\n",
            "Epoch 10/10\n",
            "7968/7968 [==============================] - 205s 26ms/step - loss: 0.4194 - accuracy: 0.8527 - val_loss: 0.4474 - val_accuracy: 0.8424\n",
            "1068/1068 [==============================] - 86s 77ms/step\n",
            "{'Model': 'CNN-LSTM', 'Batch': 8, 'Learning Rate': 0.001, 'Optimizer': 'Adam', 'Accuracy': 0.5480101906351577, 'Precision': 0.56611894014022, 'Recall': 0.5480101906351577, 'F1 Score': 0.5546081898147548}\n",
            "Epoch 1/10\n",
            "7968/7968 [==============================] - 213s 26ms/step - loss: 1.1528 - accuracy: 0.5626 - val_loss: 0.9070 - val_accuracy: 0.6755\n",
            "Epoch 2/10\n",
            "7968/7968 [==============================] - 205s 26ms/step - loss: 0.8130 - accuracy: 0.7129 - val_loss: 0.6850 - val_accuracy: 0.7617\n",
            "Epoch 3/10\n",
            "7968/7968 [==============================] - 206s 26ms/step - loss: 0.6284 - accuracy: 0.7849 - val_loss: 0.5641 - val_accuracy: 0.8092\n",
            "Epoch 4/10\n",
            "7968/7968 [==============================] - 206s 26ms/step - loss: 0.5306 - accuracy: 0.8181 - val_loss: 0.5253 - val_accuracy: 0.8208\n",
            "Epoch 5/10\n",
            "7968/7968 [==============================] - 201s 25ms/step - loss: 0.4794 - accuracy: 0.8353 - val_loss: 0.4906 - val_accuracy: 0.8301\n",
            "Epoch 6/10\n",
            "7968/7968 [==============================] - 204s 26ms/step - loss: 0.4456 - accuracy: 0.8464 - val_loss: 0.4637 - val_accuracy: 0.8393\n",
            "Epoch 7/10\n",
            "7968/7968 [==============================] - 205s 26ms/step - loss: 0.4216 - accuracy: 0.8527 - val_loss: 0.4812 - val_accuracy: 0.8358\n",
            "Epoch 8/10\n",
            "7968/7968 [==============================] - 206s 26ms/step - loss: 0.4014 - accuracy: 0.8602 - val_loss: 0.4639 - val_accuracy: 0.8429\n",
            "Epoch 9/10\n",
            "7968/7968 [==============================] - 206s 26ms/step - loss: 0.3880 - accuracy: 0.8652 - val_loss: 0.4483 - val_accuracy: 0.8448\n",
            "Epoch 10/10\n",
            "7968/7968 [==============================] - 205s 26ms/step - loss: 0.3723 - accuracy: 0.8697 - val_loss: 0.4560 - val_accuracy: 0.8456\n",
            "1068/1068 [==============================] - 86s 77ms/step\n",
            "{'Model': 'CNN-LSTM', 'Batch': 8, 'Learning Rate': 0.0001, 'Optimizer': 'Adam', 'Accuracy': 0.5570002049840406, 'Precision': 0.5548673042645953, 'Recall': 0.5570002049840406, 'F1 Score': 0.5533003491332071}\n",
            "Epoch 1/10\n",
            "996/996 [==============================] - 175s 165ms/step - loss: 1.0174 - accuracy: 0.6204 - val_loss: 0.6670 - val_accuracy: 0.7690\n",
            "Epoch 2/10\n",
            "996/996 [==============================] - 162s 163ms/step - loss: 0.5935 - accuracy: 0.7969 - val_loss: 0.5234 - val_accuracy: 0.8198\n",
            "Epoch 3/10\n",
            "996/996 [==============================] - 162s 163ms/step - loss: 0.4927 - accuracy: 0.8300 - val_loss: 0.4755 - val_accuracy: 0.8344\n",
            "Epoch 4/10\n",
            "996/996 [==============================] - 172s 173ms/step - loss: 0.4511 - accuracy: 0.8435 - val_loss: 0.4539 - val_accuracy: 0.8389\n",
            "Epoch 5/10\n",
            "996/996 [==============================] - 162s 163ms/step - loss: 0.4260 - accuracy: 0.8494 - val_loss: 0.4548 - val_accuracy: 0.8410\n",
            "Epoch 6/10\n",
            "996/996 [==============================] - 172s 173ms/step - loss: 0.4076 - accuracy: 0.8565 - val_loss: 0.4417 - val_accuracy: 0.8466\n",
            "Epoch 7/10\n",
            "996/996 [==============================] - 162s 163ms/step - loss: 0.3901 - accuracy: 0.8631 - val_loss: 0.4476 - val_accuracy: 0.8434\n",
            "Epoch 8/10\n",
            "996/996 [==============================] - 162s 163ms/step - loss: 0.3811 - accuracy: 0.8641 - val_loss: 0.4324 - val_accuracy: 0.8481\n",
            "Epoch 9/10\n",
            "996/996 [==============================] - 162s 163ms/step - loss: 0.3717 - accuracy: 0.8691 - val_loss: 0.4338 - val_accuracy: 0.8498\n",
            "Epoch 10/10\n",
            "996/996 [==============================] - 172s 173ms/step - loss: 0.3614 - accuracy: 0.8714 - val_loss: 0.4307 - val_accuracy: 0.8512\n",
            "1068/1068 [==============================] - 85s 77ms/step\n",
            "{'Model': 'CNN-LSTM', 'Batch': 64, 'Learning Rate': 0.001, 'Optimizer': 'Adam', 'Accuracy': 0.5567366540747899, 'Precision': 0.5670140555212482, 'Recall': 0.5567366540747899, 'F1 Score': 0.5598332142638462}\n",
            "Epoch 1/10\n",
            "996/996 [==============================] - 173s 165ms/step - loss: 1.2753 - accuracy: 0.5062 - val_loss: 1.1007 - val_accuracy: 0.5902\n",
            "Epoch 2/10\n",
            "996/996 [==============================] - 162s 163ms/step - loss: 1.0463 - accuracy: 0.6136 - val_loss: 0.9486 - val_accuracy: 0.6542\n",
            "Epoch 3/10\n",
            "996/996 [==============================] - 172s 173ms/step - loss: 0.9138 - accuracy: 0.6675 - val_loss: 0.8266 - val_accuracy: 0.7055\n",
            "Epoch 4/10\n",
            "996/996 [==============================] - 172s 173ms/step - loss: 0.8096 - accuracy: 0.7129 - val_loss: 0.7443 - val_accuracy: 0.7384\n",
            "Epoch 5/10\n",
            "996/996 [==============================] - 162s 163ms/step - loss: 0.7281 - accuracy: 0.7447 - val_loss: 0.6866 - val_accuracy: 0.7600\n",
            "Epoch 6/10\n",
            "996/996 [==============================] - 172s 173ms/step - loss: 0.6643 - accuracy: 0.7688 - val_loss: 0.6515 - val_accuracy: 0.7758\n",
            "Epoch 7/10\n",
            "996/996 [==============================] - 173s 173ms/step - loss: 0.6133 - accuracy: 0.7879 - val_loss: 0.6024 - val_accuracy: 0.7925\n",
            "Epoch 8/10\n",
            "996/996 [==============================] - 162s 163ms/step - loss: 0.5755 - accuracy: 0.8017 - val_loss: 0.5790 - val_accuracy: 0.8038\n",
            "Epoch 9/10\n",
            "996/996 [==============================] - 162s 163ms/step - loss: 0.5400 - accuracy: 0.8151 - val_loss: 0.5562 - val_accuracy: 0.8117\n",
            "Epoch 10/10\n",
            "996/996 [==============================] - 162s 163ms/step - loss: 0.5136 - accuracy: 0.8242 - val_loss: 0.5402 - val_accuracy: 0.8183\n",
            "1068/1068 [==============================] - 87s 77ms/step\n",
            "{'Model': 'CNN-LSTM', 'Batch': 64, 'Learning Rate': 0.0001, 'Optimizer': 'Adam', 'Accuracy': 0.5403086473981669, 'Precision': 0.5430698399873312, 'Recall': 0.5403086473981669, 'F1 Score': 0.5393298733164209}\n"
          ]
        }
      ]
    },
    {
      "cell_type": "code",
      "source": [
        "\n",
        "\n",
        "for batch in batch_sizes:\n",
        "    for lr in learning_rates:\n",
        "        # CNN-LSTM model\n",
        "        input_ids = Input(shape=(32,), dtype=tf.int32, name='input_ids')\n",
        "        attention_mask = Input(shape=(32,), dtype=tf.int32, name='attention_mask')\n",
        "        bert_model.trainable = False\n",
        "        embeddings = bert_model({'input_ids':input_ids, 'attention_mask':attention_mask})[0]\n",
        "        conv1d = Conv1D(32, kernel_size=5, activation='relu')(embeddings)\n",
        "        max_pooling = MaxPooling1D(pool_size=2)(conv1d)\n",
        "        lstm = LSTM(32)(max_pooling)\n",
        "        dropout = Dropout(0.1)(lstm)\n",
        "        output = Dense(len(df['emotion'].unique()), activation='softmax')(dropout)\n",
        "\n",
        "        cnn_lstm_model = Model(inputs=[input_ids, attention_mask], outputs=output)\n",
        "        optimizer = SGD(learning_rate=lr)\n",
        "        cnn_lstm_model.compile(optimizer=optimizer, loss='categorical_crossentropy', metrics=['accuracy'])\n",
        "        cnn_lstm_model.fit(\n",
        "            {'input_ids': X_train_bert['input_ids'], 'attention_mask': X_train_bert['attention_mask']},\n",
        "            y_train_encoded,\n",
        "            epochs=10,\n",
        "            batch_size=batch,\n",
        "            validation_split=0.2,\n",
        "            verbose=1\n",
        "        )\n",
        "        cnn_lstm_y_pred = cnn_lstm_model.predict(\n",
        "            {'input_ids': X_test_bert['input_ids'], 'attention_mask': X_test_bert['attention_mask']}\n",
        "        )\n",
        "        cnn_lstm_y_pred_classes = tf.argmax(cnn_lstm_y_pred, axis=1).numpy()\n",
        "\n",
        "        y_test_classes = pd.factorize(y_test)[0]\n",
        "\n",
        "        cnn_lstm_accuracy = accuracy_score(y_test_classes, cnn_lstm_y_pred_classes)\n",
        "        cnn_lstm_precision = precision_score(y_test_classes, cnn_lstm_y_pred_classes, average='weighted')\n",
        "        cnn_lstm_recall = recall_score(y_test_classes, cnn_lstm_y_pred_classes, average='weighted')\n",
        "        cnn_lstm_f1 = f1_score(y_test_classes, cnn_lstm_y_pred_classes, average='weighted')\n",
        "\n",
        "        outputs.update({'Model': 'CNN-LSTM',\n",
        "                        'Batch': batch,\n",
        "                        'Learning Rate': lr,\n",
        "                        'Optimizer': 'SGD',\n",
        "                        'Accuracy': cnn_lstm_accuracy,\n",
        "                        'Precision': cnn_lstm_precision,\n",
        "                        'Recall': cnn_lstm_recall,\n",
        "                        'F1 Score': cnn_lstm_f1})\n",
        "        print(outputs)\n",
        "\n",
        "        all_outputs.append(outputs)"
      ],
      "metadata": {
        "id": "ycUCmSHwNQEs",
        "colab": {
          "base_uri": "https://localhost:8080/"
        },
        "outputId": "8cac8eb2-4fd6-47a6-9ca0-940d82ad3b7f"
      },
      "execution_count": null,
      "outputs": [
        {
          "output_type": "stream",
          "name": "stdout",
          "text": [
            "Epoch 1/10\n",
            "7968/7968 [==============================] - 219s 26ms/step - loss: 1.3837 - accuracy: 0.4404 - val_loss: 1.1808 - val_accuracy: 0.5601\n",
            "Epoch 2/10\n",
            "7968/7968 [==============================] - 207s 26ms/step - loss: 1.1515 - accuracy: 0.5652 - val_loss: 1.0497 - val_accuracy: 0.6153\n",
            "Epoch 3/10\n",
            "7968/7968 [==============================] - 203s 25ms/step - loss: 1.0276 - accuracy: 0.6237 - val_loss: 0.9223 - val_accuracy: 0.6711\n",
            "Epoch 4/10\n",
            "7968/7968 [==============================] - 206s 26ms/step - loss: 0.9205 - accuracy: 0.6723 - val_loss: 0.8345 - val_accuracy: 0.7074\n",
            "Epoch 5/10\n",
            "7968/7968 [==============================] - 201s 25ms/step - loss: 0.8371 - accuracy: 0.7064 - val_loss: 0.7619 - val_accuracy: 0.7362\n",
            "Epoch 6/10\n",
            "7968/7968 [==============================] - 206s 26ms/step - loss: 0.7662 - accuracy: 0.7334 - val_loss: 0.7088 - val_accuracy: 0.7543\n",
            "Epoch 7/10\n",
            "7968/7968 [==============================] - 207s 26ms/step - loss: 0.7071 - accuracy: 0.7558 - val_loss: 0.6759 - val_accuracy: 0.7650\n",
            "Epoch 8/10\n",
            "7968/7968 [==============================] - 203s 25ms/step - loss: 0.6614 - accuracy: 0.7738 - val_loss: 0.6327 - val_accuracy: 0.7819\n",
            "Epoch 9/10\n",
            "7968/7968 [==============================] - 207s 26ms/step - loss: 0.6221 - accuracy: 0.7881 - val_loss: 0.6090 - val_accuracy: 0.7876\n",
            "Epoch 10/10\n",
            "7968/7968 [==============================] - 208s 26ms/step - loss: 0.5900 - accuracy: 0.7997 - val_loss: 0.5709 - val_accuracy: 0.8034\n",
            "1068/1068 [==============================] - 87s 79ms/step\n",
            "{'Model': 'CNN-LSTM', 'Batch': 8, 'Learning Rate': 0.001, 'Optimizer': 'SGD', 'Accuracy': 0.5524027057893349, 'Precision': 0.5490068259497627, 'Recall': 0.5524027057893349, 'F1 Score': 0.5488477777893782}\n",
            "Epoch 1/10\n",
            "7968/7968 [==============================] - 213s 26ms/step - loss: 1.5932 - accuracy: 0.3373 - val_loss: 1.5322 - val_accuracy: 0.3692\n",
            "Epoch 2/10\n",
            "7968/7968 [==============================] - 201s 25ms/step - loss: 1.4993 - accuracy: 0.3871 - val_loss: 1.4263 - val_accuracy: 0.4214\n",
            "Epoch 3/10\n",
            "7968/7968 [==============================] - 206s 26ms/step - loss: 1.3946 - accuracy: 0.4447 - val_loss: 1.3251 - val_accuracy: 0.4773\n",
            "Epoch 4/10\n",
            "7968/7968 [==============================] - 206s 26ms/step - loss: 1.3153 - accuracy: 0.4840 - val_loss: 1.2541 - val_accuracy: 0.5189\n",
            "Epoch 5/10\n",
            "7968/7968 [==============================] - 203s 25ms/step - loss: 1.2620 - accuracy: 0.5163 - val_loss: 1.2044 - val_accuracy: 0.5433\n",
            "Epoch 6/10\n",
            "7968/7968 [==============================] - 206s 26ms/step - loss: 1.2219 - accuracy: 0.5360 - val_loss: 1.1705 - val_accuracy: 0.5646\n",
            "Epoch 7/10\n",
            "7968/7968 [==============================] - 206s 26ms/step - loss: 1.1939 - accuracy: 0.5509 - val_loss: 1.1438 - val_accuracy: 0.5774\n",
            "Epoch 8/10\n",
            "7968/7968 [==============================] - 201s 25ms/step - loss: 1.1658 - accuracy: 0.5668 - val_loss: 1.1311 - val_accuracy: 0.5813\n",
            "Epoch 9/10\n",
            "7968/7968 [==============================] - 202s 25ms/step - loss: 1.1475 - accuracy: 0.5744 - val_loss: 1.1014 - val_accuracy: 0.5991\n",
            "Epoch 10/10\n",
            "7968/7968 [==============================] - 207s 26ms/step - loss: 1.1276 - accuracy: 0.5843 - val_loss: 1.0973 - val_accuracy: 0.5953\n",
            "1068/1068 [==============================] - 90s 79ms/step\n"
          ]
        },
        {
          "output_type": "stream",
          "name": "stderr",
          "text": [
            "/usr/local/lib/python3.10/dist-packages/sklearn/metrics/_classification.py:1344: UndefinedMetricWarning: Precision is ill-defined and being set to 0.0 in labels with no predicted samples. Use `zero_division` parameter to control this behavior.\n",
            "  _warn_prf(average, modifier, msg_start, len(result))\n"
          ]
        },
        {
          "output_type": "stream",
          "name": "stdout",
          "text": [
            "{'Model': 'CNN-LSTM', 'Batch': 8, 'Learning Rate': 0.0001, 'Optimizer': 'SGD', 'Accuracy': 0.4460452721895224, 'Precision': 0.4311977852310884, 'Recall': 0.4460452721895224, 'F1 Score': 0.43749728764094925}\n",
            "Epoch 1/10\n",
            "996/996 [==============================] - 182s 174ms/step - loss: 1.6355 - accuracy: 0.2894 - val_loss: 1.5633 - val_accuracy: 0.3110\n",
            "Epoch 2/10\n",
            "996/996 [==============================] - 161s 161ms/step - loss: 1.5382 - accuracy: 0.3339 - val_loss: 1.4854 - val_accuracy: 0.3744\n",
            "Epoch 3/10\n",
            "996/996 [==============================] - 171s 172ms/step - loss: 1.4468 - accuracy: 0.4090 - val_loss: 1.3650 - val_accuracy: 0.4646\n",
            "Epoch 4/10\n",
            "996/996 [==============================] - 161s 161ms/step - loss: 1.3367 - accuracy: 0.4821 - val_loss: 1.2609 - val_accuracy: 0.5240\n",
            "Epoch 5/10\n",
            "996/996 [==============================] - 171s 172ms/step - loss: 1.2602 - accuracy: 0.5230 - val_loss: 1.1966 - val_accuracy: 0.5565\n",
            "Epoch 6/10\n",
            "996/996 [==============================] - 171s 172ms/step - loss: 1.2098 - accuracy: 0.5467 - val_loss: 1.1511 - val_accuracy: 0.5744\n",
            "Epoch 7/10\n",
            "996/996 [==============================] - 161s 161ms/step - loss: 1.1736 - accuracy: 0.5669 - val_loss: 1.1193 - val_accuracy: 0.5880\n",
            "Epoch 8/10\n",
            "996/996 [==============================] - 171s 172ms/step - loss: 1.1498 - accuracy: 0.5747 - val_loss: 1.1065 - val_accuracy: 0.5941\n",
            "Epoch 9/10\n",
            "996/996 [==============================] - 171s 172ms/step - loss: 1.1232 - accuracy: 0.5893 - val_loss: 1.0805 - val_accuracy: 0.6045\n",
            "Epoch 10/10\n",
            "996/996 [==============================] - 171s 172ms/step - loss: 1.1048 - accuracy: 0.5937 - val_loss: 1.0579 - val_accuracy: 0.6114\n",
            "1068/1068 [==============================] - 87s 79ms/step\n"
          ]
        },
        {
          "output_type": "stream",
          "name": "stderr",
          "text": [
            "/usr/local/lib/python3.10/dist-packages/sklearn/metrics/_classification.py:1344: UndefinedMetricWarning: Precision is ill-defined and being set to 0.0 in labels with no predicted samples. Use `zero_division` parameter to control this behavior.\n",
            "  _warn_prf(average, modifier, msg_start, len(result))\n"
          ]
        },
        {
          "output_type": "stream",
          "name": "stdout",
          "text": [
            "{'Model': 'CNN-LSTM', 'Batch': 64, 'Learning Rate': 0.001, 'Optimizer': 'SGD', 'Accuracy': 0.4470409089578026, 'Precision': 0.45490266562245263, 'Recall': 0.4470409089578026, 'F1 Score': 0.44927737613324337}\n",
            "Epoch 1/10\n",
            "996/996 [==============================] - 185s 174ms/step - loss: 1.7252 - accuracy: 0.2396 - val_loss: 1.6620 - val_accuracy: 0.2506\n",
            "Epoch 2/10\n",
            "996/996 [==============================] - 161s 161ms/step - loss: 1.6575 - accuracy: 0.2661 - val_loss: 1.6336 - val_accuracy: 0.2690\n",
            "Epoch 3/10\n",
            "996/996 [==============================] - 160s 161ms/step - loss: 1.6366 - accuracy: 0.2771 - val_loss: 1.6164 - val_accuracy: 0.2776\n",
            "Epoch 4/10\n",
            "996/996 [==============================] - 171s 172ms/step - loss: 1.6215 - accuracy: 0.2834 - val_loss: 1.6029 - val_accuracy: 0.2884\n",
            "Epoch 5/10\n",
            "996/996 [==============================] - 161s 161ms/step - loss: 1.6104 - accuracy: 0.2910 - val_loss: 1.5917 - val_accuracy: 0.3015\n",
            "Epoch 6/10\n",
            "996/996 [==============================] - 161s 161ms/step - loss: 1.5994 - accuracy: 0.2977 - val_loss: 1.5824 - val_accuracy: 0.3085\n",
            "Epoch 7/10\n",
            "996/996 [==============================] - 161s 161ms/step - loss: 1.5905 - accuracy: 0.3043 - val_loss: 1.5740 - val_accuracy: 0.3183\n",
            "Epoch 8/10\n",
            "996/996 [==============================] - 161s 161ms/step - loss: 1.5834 - accuracy: 0.3086 - val_loss: 1.5662 - val_accuracy: 0.3227\n",
            "Epoch 9/10\n",
            "996/996 [==============================] - 161s 161ms/step - loss: 1.5751 - accuracy: 0.3155 - val_loss: 1.5584 - val_accuracy: 0.3294\n",
            "Epoch 10/10\n",
            "996/996 [==============================] - 160s 161ms/step - loss: 1.5686 - accuracy: 0.3195 - val_loss: 1.5505 - val_accuracy: 0.3363\n",
            "1068/1068 [==============================] - 87s 78ms/step\n",
            "{'Model': 'CNN-LSTM', 'Batch': 64, 'Learning Rate': 0.0001, 'Optimizer': 'SGD', 'Accuracy': 0.3353831737386161, 'Precision': 0.3691538292027879, 'Recall': 0.3353831737386161, 'F1 Score': 0.24909987940364525}\n"
          ]
        },
        {
          "output_type": "stream",
          "name": "stderr",
          "text": [
            "/usr/local/lib/python3.10/dist-packages/sklearn/metrics/_classification.py:1344: UndefinedMetricWarning: Precision is ill-defined and being set to 0.0 in labels with no predicted samples. Use `zero_division` parameter to control this behavior.\n",
            "  _warn_prf(average, modifier, msg_start, len(result))\n"
          ]
        }
      ]
    },
    {
      "cell_type": "markdown",
      "source": [
        "## CNN"
      ],
      "metadata": {
        "id": "0K71gTk187Jg"
      }
    },
    {
      "cell_type": "code",
      "source": [
        "# CNN model\n",
        "input_ids = Input(shape=(32,), dtype=tf.int32)\n",
        "attention_mask = Input(shape=(32,), dtype=tf.int32)\n",
        "bert_model.trainable = False\n",
        "embeddings = bert_model({'input_ids':input_ids, 'attention_mask':attention_mask})[0]\n",
        "conv1d = Conv1D(32, kernel_size=5, activation='relu')(embeddings)\n",
        "global_max_pooling = GlobalMaxPooling1D()(conv1d)\n",
        "dropout = Dropout(0.1)(global_max_pooling)\n",
        "output = Dense(len(df['emotion'].unique()), activation='softmax')(dropout)\n",
        "\n",
        "cnn_model = Model(inputs=[input_ids, attention_mask], outputs=output)\n",
        "optimizer = Adam(learning_rate=0.001)\n",
        "cnn_model.compile(optimizer=optimizer, loss='categorical_crossentropy', metrics=['accuracy'])\n",
        "\n",
        "cnn_model.fit(\n",
        "    [X_train_bert['input_ids'], X_train_bert['attention_mask']],\n",
        "    y_train_encoded,\n",
        "    epochs=10,\n",
        "    batch_size=64,\n",
        "    validation_split=0.2,\n",
        "    verbose=1\n",
        ")\n",
        "\n",
        "cnn_y_pred = cnn_model.predict(\n",
        "    [X_test_bert['input_ids'], X_test_bert['attention_mask']]\n",
        ")\n",
        "cnn_y_pred_classes = tf.argmax(cnn_y_pred, axis=1).numpy()\n",
        "y_test_classes = pd.factorize(y_test)[0]\n",
        "cnn_accuracy = accuracy_score(y_test_classes, cnn_y_pred_classes)\n",
        "cnn_precision = precision_score(y_test_classes, cnn_y_pred_classes, average='weighted')\n",
        "cnn_recall = recall_score(y_test_classes, cnn_y_pred_classes, average='weighted')\n",
        "cnn_f1 = f1_score(y_test_classes, cnn_y_pred_classes, average='weighted')\n",
        "outputs.update({'Model': 'CNN',\n",
        "                'Batch': 64,\n",
        "                'Learning Rate': 0.001,\n",
        "                'Optimizer': 'Adam',\n",
        "                'Accuracy': cnn_accuracy,\n",
        "                'Precision': cnn_precision,\n",
        "                'Recall': cnn_recall,\n",
        "                'F1 Score': cnn_f1})\n",
        "all_outputs.append(outputs)\n",
        "print(outputs)"
      ],
      "metadata": {
        "id": "QtvcNx4E89g3",
        "colab": {
          "base_uri": "https://localhost:8080/"
        },
        "outputId": "c9e28fb0-55e3-46b0-f114-35393b125542"
      },
      "execution_count": null,
      "outputs": [
        {
          "output_type": "stream",
          "name": "stdout",
          "text": [
            "Epoch 1/10\n",
            "996/996 [==============================] - 174s 166ms/step - loss: 0.8460 - accuracy: 0.6985 - val_loss: 0.5587 - val_accuracy: 0.8108\n",
            "Epoch 2/10\n",
            "996/996 [==============================] - 162s 163ms/step - loss: 0.5864 - accuracy: 0.7997 - val_loss: 0.4995 - val_accuracy: 0.8377\n",
            "Epoch 3/10\n",
            "996/996 [==============================] - 172s 173ms/step - loss: 0.5367 - accuracy: 0.8176 - val_loss: 0.4915 - val_accuracy: 0.8373\n",
            "Epoch 4/10\n",
            "996/996 [==============================] - 163s 164ms/step - loss: 0.5054 - accuracy: 0.8282 - val_loss: 0.4748 - val_accuracy: 0.8424\n",
            "Epoch 5/10\n",
            "996/996 [==============================] - 162s 163ms/step - loss: 0.4840 - accuracy: 0.8346 - val_loss: 0.4716 - val_accuracy: 0.8439\n",
            "Epoch 6/10\n",
            "996/996 [==============================] - 172s 173ms/step - loss: 0.4686 - accuracy: 0.8404 - val_loss: 0.4685 - val_accuracy: 0.8457\n",
            "Epoch 7/10\n",
            "996/996 [==============================] - 172s 173ms/step - loss: 0.4543 - accuracy: 0.8445 - val_loss: 0.4823 - val_accuracy: 0.8429\n",
            "Epoch 8/10\n",
            "996/996 [==============================] - 172s 173ms/step - loss: 0.4448 - accuracy: 0.8479 - val_loss: 0.4755 - val_accuracy: 0.8446\n",
            "Epoch 9/10\n",
            "996/996 [==============================] - 172s 173ms/step - loss: 0.4330 - accuracy: 0.8521 - val_loss: 0.4736 - val_accuracy: 0.8478\n",
            "Epoch 10/10\n",
            "996/996 [==============================] - 172s 173ms/step - loss: 0.4229 - accuracy: 0.8548 - val_loss: 0.4860 - val_accuracy: 0.8413\n",
            "1068/1068 [==============================] - 85s 77ms/step\n",
            "{'Model': 'CNN', 'Batch': 64, 'Learning Rate': 0.001, 'Optimizer': 'Adam', 'Accuracy': 0.5781135611584527, 'Precision': 0.5553863003643833, 'Recall': 0.5781135611584527, 'F1 Score': 0.5643813172562329}\n"
          ]
        }
      ]
    },
    {
      "cell_type": "markdown",
      "source": [
        "## LSTM"
      ],
      "metadata": {
        "id": "41nWcFOJ8-Co"
      }
    },
    {
      "cell_type": "code",
      "source": [
        "# LSTM model\n",
        "input_ids = Input(shape=(32,), dtype=tf.int32)\n",
        "attention_mask = Input(shape=(32,), dtype=tf.int32)\n",
        "\n",
        "bert_model.trainable = False\n",
        "embeddings = bert_model({'input_ids':input_ids, 'attention_mask':attention_mask})[0]\n",
        "lstm = LSTM(32)(embeddings)\n",
        "dropout = Dropout(0.1)(lstm)\n",
        "output = Dense(len(df['emotion'].unique()), activation='softmax')(dropout)\n",
        "\n",
        "lstm_model = Model(inputs=[input_ids, attention_mask], outputs=output)\n",
        "optimizer = Adam(learning_rate=0.001)\n",
        "lstm_model.compile(optimizer=optimizer, loss='categorical_crossentropy', metrics=['accuracy'])\n",
        "\n",
        "lstm_model.fit(\n",
        "    [X_train_bert['input_ids'], X_train_bert['attention_mask']],\n",
        "    y_train_encoded,\n",
        "    epochs=10,\n",
        "    batch_size=64,\n",
        "    validation_split=0.2,\n",
        "    verbose=1\n",
        ")\n",
        "\n",
        "lstm_y_pred = lstm_model.predict(\n",
        "    [X_test_bert['input_ids'], X_test_bert['attention_mask']]\n",
        ")\n",
        "lstm_y_pred_classes = tf.argmax(lstm_y_pred, axis=1).numpy()\n",
        "y_test_classes = pd.factorize(y_test)[0]\n",
        "\n",
        "lstm_accuracy = accuracy_score(y_test_classes, lstm_y_pred_classes)\n",
        "lstm_precision = precision_score(y_test_classes, lstm_y_pred_classes, average='weighted')\n",
        "lstm_recall = recall_score(y_test_classes, lstm_y_pred_classes, average='weighted')\n",
        "lstm_f1 = f1_score(y_test_classes, lstm_y_pred_classes, average='weighted')\n",
        "\n",
        "outputs.update({'Model': 'LSTM',\n",
        "                'Batch': 64,\n",
        "                'Learning Rate': 0.001,\n",
        "                'Optimizer': 'Adam',\n",
        "                'Accuracy': lstm_accuracy,\n",
        "                'Precision': lstm_precision,\n",
        "                'Recall': lstm_recall,\n",
        "                'F1 Score': lstm_f1})\n",
        "print(outputs)"
      ],
      "metadata": {
        "id": "buz0b3zF8_5O",
        "colab": {
          "base_uri": "https://localhost:8080/"
        },
        "outputId": "28a8289c-5ab2-4422-8622-4b79975211e0"
      },
      "execution_count": null,
      "outputs": [
        {
          "output_type": "stream",
          "name": "stdout",
          "text": [
            "Epoch 1/10\n",
            "996/996 [==============================] - 187s 178ms/step - loss: 0.8760 - accuracy: 0.6831 - val_loss: 0.5667 - val_accuracy: 0.8077\n",
            "Epoch 2/10\n",
            "996/996 [==============================] - 165s 165ms/step - loss: 0.5298 - accuracy: 0.8220 - val_loss: 0.4772 - val_accuracy: 0.8384\n",
            "Epoch 3/10\n",
            "996/996 [==============================] - 164s 165ms/step - loss: 0.4663 - accuracy: 0.8402 - val_loss: 0.4453 - val_accuracy: 0.8462\n",
            "Epoch 4/10\n",
            "996/996 [==============================] - 164s 164ms/step - loss: 0.4328 - accuracy: 0.8517 - val_loss: 0.4232 - val_accuracy: 0.8528\n",
            "Epoch 5/10\n",
            "996/996 [==============================] - 164s 164ms/step - loss: 0.4107 - accuracy: 0.8573 - val_loss: 0.4194 - val_accuracy: 0.8544\n",
            "Epoch 6/10\n",
            "996/996 [==============================] - 174s 175ms/step - loss: 0.3998 - accuracy: 0.8605 - val_loss: 0.4123 - val_accuracy: 0.8562\n",
            "Epoch 7/10\n",
            "996/996 [==============================] - 174s 175ms/step - loss: 0.3879 - accuracy: 0.8658 - val_loss: 0.4126 - val_accuracy: 0.8580\n",
            "Epoch 8/10\n",
            "996/996 [==============================] - 164s 165ms/step - loss: 0.3724 - accuracy: 0.8688 - val_loss: 0.4069 - val_accuracy: 0.8587\n",
            "Epoch 9/10\n",
            "996/996 [==============================] - 174s 175ms/step - loss: 0.3623 - accuracy: 0.8723 - val_loss: 0.4104 - val_accuracy: 0.8611\n",
            "Epoch 10/10\n",
            "996/996 [==============================] - 164s 165ms/step - loss: 0.3565 - accuracy: 0.8755 - val_loss: 0.4127 - val_accuracy: 0.8592\n",
            "1068/1068 [==============================] - 88s 78ms/step\n",
            "{'Model': 'LSTM', 'Batch': 64, 'Learning Rate': 0.001, 'Optimizer': 'Adam', 'Accuracy': 0.581217605200738, 'Precision': 0.5815454785274787, 'Recall': 0.581217605200738, 'F1 Score': 0.5812434179172378}\n"
          ]
        }
      ]
    },
    {
      "cell_type": "markdown",
      "source": [
        "# 1.6 Extra Points"
      ],
      "metadata": {
        "id": "JyzC1jHX7jBO"
      }
    },
    {
      "cell_type": "markdown",
      "source": [
        "### Max Features = 120"
      ],
      "metadata": {
        "id": "okm-AujByZGw"
      }
    },
    {
      "cell_type": "code",
      "source": [
        "# Sample a portion of the dataset for traditional ML models\n",
        "sample_df = df.sample(frac=0.1, random_state=42)  # Use 10% of the data for this section\n",
        "sample_df['processed_tweet'] = sample_df['tweet'].apply(preprocess_tweet)\n",
        "X_sample = sample_df['processed_tweet']\n",
        "y_sample = sample_df['emotion']\n",
        "\n",
        "# Split the sampled dataset\n",
        "X_train_sample, X_test_sample, y_train_sample, y_test_sample = train_test_split(X_sample, y_sample, test_size=0.3, random_state=42)\n",
        "\n",
        "# Convert to BOW representation\n",
        "vectorizer = CountVectorizer(max_features=120)\n",
        "X_train_bow_sample = vectorizer.fit_transform(X_train_sample)#تبدیل داده‌های آموزشی به ماتریس برداری:\n",
        "\n",
        "\n",
        "X_test_bow_sample = vectorizer.transform(X_test_sample)\n",
        "\n",
        "# Traditional Machine Learning Models\n",
        "models = {\n",
        "    'GaussianNB': GaussianNB(),\n",
        "    'GradientBoosting': GradientBoostingClassifier(),\n",
        "    'LogisticRegression': LogisticRegression(max_iter=200),\n",
        "    'DecisionTree': DecisionTreeClassifier(),\n",
        "    'RandomForest': RandomForestClassifier()\n",
        "}\n",
        "\n",
        "results_ml = {'Model': [], 'Accuracy': [], 'Precision': [], 'Recall': [], 'F1 Score': []}\n",
        "\n",
        "for model_name, model in models.items():\n",
        "    model.fit(X_train_bow_sample.toarray(), y_train_sample)\n",
        "    y_pred_sample = model.predict(X_test_bow_sample.toarray())\n",
        "\n",
        "    accuracy = accuracy_score(y_test_sample, y_pred_sample)\n",
        "    precision = precision_score(y_test_sample, y_pred_sample, average='weighted')\n",
        "    recall = recall_score(y_test_sample, y_pred_sample, average='weighted')\n",
        "    f1 = f1_score(y_test_sample, y_pred_sample, average='weighted')\n",
        "\n",
        "    results_ml['Model'].append(model_name)\n",
        "    results_ml['Accuracy'].append(accuracy)\n",
        "    results_ml['Precision'].append(precision)\n",
        "    results_ml['Recall'].append(recall)\n",
        "    results_ml['F1 Score'].append(f1)\n"
      ],
      "metadata": {
        "id": "kw3_H-wl7nrp",
        "colab": {
          "base_uri": "https://localhost:8080/"
        },
        "outputId": "a8b7c775-273f-47a6-8679-7cef9fa6311f"
      },
      "execution_count": null,
      "outputs": [
        {
          "output_type": "stream",
          "name": "stderr",
          "text": [
            "<ipython-input-5-853b9a9285d6>:10: MarkupResemblesLocatorWarning: The input looks more like a filename than markup. You may want to open this file and pass the filehandle into Beautiful Soup.\n",
            "  text = BeautifulSoup(text, \"html.parser\").get_text()\n"
          ]
        }
      ]
    },
    {
      "cell_type": "code",
      "source": [
        "results_ml"
      ],
      "metadata": {
        "colab": {
          "base_uri": "https://localhost:8080/"
        },
        "id": "WRrVPlcVxn8y",
        "outputId": "00cb521d-e87a-426b-ebd3-253cb8efa348"
      },
      "execution_count": null,
      "outputs": [
        {
          "output_type": "execute_result",
          "data": {
            "text/plain": [
              "{'Model': ['GaussianNB',\n",
              "  'GradientBoosting',\n",
              "  'LogisticRegression',\n",
              "  'DecisionTree',\n",
              "  'RandomForest'],\n",
              " 'Accuracy': [0.3973645680819912,\n",
              "  0.5909224011713031,\n",
              "  0.5809663250366032,\n",
              "  0.5197657393850659,\n",
              "  0.5657393850658858],\n",
              " 'Precision': [0.6260240492003633,\n",
              "  0.6936045078024414,\n",
              "  0.6351424129378278,\n",
              "  0.5184150555644802,\n",
              "  0.5693142078441351],\n",
              " 'Recall': [0.3973645680819912,\n",
              "  0.5909224011713031,\n",
              "  0.5809663250366032,\n",
              "  0.5197657393850659,\n",
              "  0.5657393850658858],\n",
              " 'F1 Score': [0.438971110772201,\n",
              "  0.5745678624951516,\n",
              "  0.5737110681102835,\n",
              "  0.5181859100682368,\n",
              "  0.562384662188194]}"
            ]
          },
          "metadata": {},
          "execution_count": 7
        }
      ]
    },
    {
      "cell_type": "markdown",
      "source": [
        "### Max Features = 1000"
      ],
      "metadata": {
        "id": "Cyihckp4yU96"
      }
    },
    {
      "cell_type": "code",
      "source": [
        "# Convert to BOW representation\n",
        "vectorizer = CountVectorizer(max_features=1000)\n",
        "X_train_bow_sample = vectorizer.fit_transform(X_train_sample)\n",
        "X_test_bow_sample = vectorizer.transform(X_test_sample)\n",
        "\n",
        "# Traditional Machine Learning Models\n",
        "models = {\n",
        "    'GaussianNB': GaussianNB(),\n",
        "    'GradientBoosting': GradientBoostingClassifier(),\n",
        "    'LogisticRegression': LogisticRegression(max_iter=200),\n",
        "    'DecisionTree': DecisionTreeClassifier(),\n",
        "    'RandomForest': RandomForestClassifier()\n",
        "}\n",
        "\n",
        "results_ml = {'Model': [], 'Accuracy': [], 'Precision': [], 'Recall': [], 'F1 Score': []}\n",
        "\n",
        "for model_name, model in models.items():\n",
        "    model.fit(X_train_bow_sample.toarray(), y_train_sample)\n",
        "    y_pred_sample = model.predict(X_test_bow_sample.toarray())\n",
        "\n",
        "    accuracy = accuracy_score(y_test_sample, y_pred_sample)\n",
        "    precision = precision_score(y_test_sample, y_pred_sample, average='weighted')\n",
        "    recall = recall_score(y_test_sample, y_pred_sample, average='weighted')\n",
        "    f1 = f1_score(y_test_sample, y_pred_sample, average='weighted')\n",
        "\n",
        "    results_ml['Model'].append(model_name)\n",
        "    results_ml['Accuracy'].append(accuracy)\n",
        "    results_ml['Precision'].append(precision)\n",
        "    results_ml['Recall'].append(recall)\n",
        "    results_ml['F1 Score'].append(f1)\n",
        "\n",
        "results_ml"
      ],
      "metadata": {
        "colab": {
          "base_uri": "https://localhost:8080/"
        },
        "id": "fTgJRQ8TOBjz",
        "outputId": "078bcf4c-93ae-43e2-f138-f193da34de66"
      },
      "execution_count": null,
      "outputs": [
        {
          "output_type": "execute_result",
          "data": {
            "text/plain": [
              "{'Model': ['GaussianNB',\n",
              "  'GradientBoosting',\n",
              "  'LogisticRegression',\n",
              "  'DecisionTree',\n",
              "  'RandomForest'],\n",
              " 'Accuracy': [0.5625183016105417,\n",
              "  0.8500732064421669,\n",
              "  0.8383601756954612,\n",
              "  0.8234260614934115,\n",
              "  0.8541727672035139],\n",
              " 'Precision': [0.6692983671722953,\n",
              "  0.8670579695279849,\n",
              "  0.8393177721591909,\n",
              "  0.8237853011878261,\n",
              "  0.8567828844839724],\n",
              " 'Recall': [0.5625183016105417,\n",
              "  0.8500732064421669,\n",
              "  0.8383601756954612,\n",
              "  0.8234260614934115,\n",
              "  0.8541727672035139],\n",
              " 'F1 Score': [0.5684016041985177,\n",
              "  0.8517687556283515,\n",
              "  0.8382915895909199,\n",
              "  0.8233486610127702,\n",
              "  0.8542327833584417]}"
            ]
          },
          "metadata": {},
          "execution_count": 8
        }
      ]
    }
  ]
}